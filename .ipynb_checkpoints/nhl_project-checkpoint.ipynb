{
 "cells": [
  {
   "cell_type": "markdown",
   "id": "0d4adb23",
   "metadata": {},
   "source": [
    "## Some basic stuff"
   ]
  },
  {
   "cell_type": "code",
   "execution_count": 1,
   "id": "8d03b5c7",
   "metadata": {},
   "outputs": [],
   "source": [
    "import requests\n",
    "from bs4 import BeautifulSoup\n",
    "from time import sleep\n",
    "import pandas as pd\n",
    "import numpy as np\n",
    "import matplotlib.pyplot as plt \n",
    "from sklearn.model_selection import train_test_split\n",
    "from sklearn.linear_model import LogisticRegression\n",
    "from sklearn.preprocessing import StandardScaler\n",
    "from sklearn.metrics import confusion_matrix\n",
    "from sklearn.metrics import accuracy_score\n",
    "import seaborn as sns"
   ]
  },
  {
   "cell_type": "code",
   "execution_count": 2,
   "id": "c7b83777",
   "metadata": {},
   "outputs": [],
   "source": [
    "def getSoup(link):\n",
    "    sleep(0.1)\n",
    "    r = requests.get(link)\n",
    "    return BeautifulSoup(r.text,'lxml')"
   ]
  },
  {
   "cell_type": "markdown",
   "id": "79b314fa",
   "metadata": {},
   "source": [
    "### Teams and their codes"
   ]
  },
  {
   "cell_type": "markdown",
   "id": "b4a83be4",
   "metadata": {},
   "source": [
    "#### Will be useful later on i think "
   ]
  },
  {
   "cell_type": "code",
   "execution_count": 3,
   "id": "7295cfa7",
   "metadata": {},
   "outputs": [],
   "source": [
    "codes = getSoup('https://nhl.cz/sezona/tymy')"
   ]
  },
  {
   "cell_type": "code",
   "execution_count": 4,
   "id": "13879120",
   "metadata": {},
   "outputs": [
    {
     "data": {
      "text/plain": [
       "{'Anaheim Ducks': '/klub/2004',\n",
       " 'Arizona Coyotes': '/klub/2005',\n",
       " 'Boston Bruins': '/klub/1987',\n",
       " 'Buffalo Sabres': '/klub/1989',\n",
       " 'Calgary Flames': '/klub/2006',\n",
       " 'Carolina Hurricanes': '/klub/1990',\n",
       " 'Colorado Avalanche': '/klub/2008',\n",
       " 'Columbus Blue Jackets': '/klub/1991',\n",
       " 'Dallas Stars': '/klub/2009',\n",
       " 'Detroit Red Wings': '/klub/1992',\n",
       " 'Edmonton Oilers': '/klub/2010',\n",
       " 'Florida Panthers': '/klub/1993',\n",
       " 'Chicago Blackhawks': '/klub/2007',\n",
       " 'Los Angeles Kings': '/klub/2011',\n",
       " 'Minnesota Wild': '/klub/2012',\n",
       " 'Montreal Canadiens': '/klub/1994',\n",
       " 'Nashville Predators': '/klub/2013',\n",
       " 'New Jersey Devils': '/klub/1995',\n",
       " 'New York Islanders': '/klub/1996',\n",
       " 'New York Rangers': '/klub/1997',\n",
       " 'Ottawa Senators': '/klub/1998',\n",
       " 'Philadelphia Flyers': '/klub/1999',\n",
       " 'Pittsburgh Penguins': '/klub/2000',\n",
       " 'San Jose Sharks': '/klub/2014',\n",
       " 'Seattle Kraken': '/klub/2730',\n",
       " 'St. Louis Blues': '/klub/2015',\n",
       " 'Tampa Bay Lightning': '/klub/2001',\n",
       " 'Toronto Maple Leafs': '/klub/2002',\n",
       " 'Vancouver Canucks': '/klub/2016',\n",
       " 'Vegas Golden Knights': '/klub/2655',\n",
       " 'Washington Capitals': '/klub/2003',\n",
       " 'Winnipeg Jets': '/klub/2017'}"
      ]
     },
     "execution_count": 4,
     "metadata": {},
     "output_type": "execute_result"
    }
   ],
   "source": [
    "team_info_list = codes.findAll('a', {'class':'box-team__head'})\n",
    "code_list = [x[\"href\"] for x in team_info_list]\n",
    "team_list = [h2.text for h2 in codes.findAll('h2')]\n",
    "dict_team_codes = {team_list[i]: code_list[i] for i in range(len(code_list))}\n",
    "dict_team_codes"
   ]
  },
  {
   "cell_type": "code",
   "execution_count": 5,
   "id": "dfc2ebea",
   "metadata": {},
   "outputs": [],
   "source": [
    "#sezony zatim rucne neprijde mi ze by to slo od nekud vycist\n",
    "#2017 je 2017/2018 atd.\n",
    "season_codes = {'2017': '6049', '2018': '6270', '2019': '6494', '2020': '6673','2021': '6733'}\n",
    "seasons_used = ['2017', '2018', '2019', '2020','2021']"
   ]
  },
  {
   "cell_type": "code",
   "execution_count": 6,
   "id": "47fc819e",
   "metadata": {},
   "outputs": [],
   "source": [
    "distinct_teams = list(dict_team_codes.keys())"
   ]
  },
  {
   "cell_type": "markdown",
   "id": "d9c6d898",
   "metadata": {},
   "source": [
    "## How it works: one team and one season so far"
   ]
  },
  {
   "cell_type": "markdown",
   "id": "19fcfeb2",
   "metadata": {},
   "source": [
    "#### TOI = Team of Interest"
   ]
  },
  {
   "cell_type": "code",
   "execution_count": 7,
   "id": "2ff2e384",
   "metadata": {},
   "outputs": [],
   "source": [
    "team_of_interest = \"Boston Bruins\"\n",
    "code_of_interest = dict_team_codes[team_of_interest]\n",
    "season_of_interest = '2021'\n",
    "code_of_season = season_codes[season_of_interest]\n",
    "soup = getSoup(f'https://nhl.cz{code_of_interest}/zapasy?matchList-filter-season={season_of_interest}&matchList-filter-competition={code_of_season}')\n",
    "#soup"
   ]
  },
  {
   "cell_type": "code",
   "execution_count": 8,
   "id": "24aae674",
   "metadata": {},
   "outputs": [],
   "source": [
    "all_games = soup.findAll('tr')"
   ]
  },
  {
   "cell_type": "markdown",
   "id": "9c1949b6",
   "metadata": {},
   "source": [
    "### Goals in a list"
   ]
  },
  {
   "cell_type": "code",
   "execution_count": 9,
   "id": "1ba359de",
   "metadata": {},
   "outputs": [
    {
     "data": {
      "text/plain": [
       "[3, 1, 6, 3, 1]"
      ]
     },
     "execution_count": 9,
     "metadata": {},
     "output_type": "execute_result"
    }
   ],
   "source": [
    "goals = [int(td.text) for td in soup.findAll('td', {'class':'preview__score'})]\n",
    "goals[:5]"
   ]
  },
  {
   "cell_type": "markdown",
   "id": "f38f3c7e",
   "metadata": {},
   "source": [
    "### Teams in a list"
   ]
  },
  {
   "cell_type": "code",
   "execution_count": 10,
   "id": "0b33c321",
   "metadata": {},
   "outputs": [
    {
     "data": {
      "text/plain": [
       "['Boston Bruins',\n",
       " 'Dallas Stars',\n",
       " 'Philadelphia Flyers',\n",
       " 'Boston Bruins',\n",
       " 'Buffalo Sabres']"
      ]
     },
     "execution_count": 10,
     "metadata": {},
     "output_type": "execute_result"
    }
   ],
   "source": [
    "teams = [span.text for span in soup.findAll('span', {'class':'preview__name--long'})]\n",
    "teams[:5]"
   ]
  },
  {
   "cell_type": "markdown",
   "id": "198d827d",
   "metadata": {},
   "source": [
    "### Overtime or not"
   ]
  },
  {
   "cell_type": "code",
   "execution_count": 11,
   "id": "bdc8ba3b",
   "metadata": {},
   "outputs": [
    {
     "name": "stdout",
     "output_type": "stream",
     "text": [
      "[0, 0, 0, 0, 0, 0, 1]\n"
     ]
    }
   ],
   "source": [
    "OT = []\n",
    "for game in all_games:\n",
    "    ot = game.find('span', {'class':'dot dot__blue'})\n",
    "    if ot is None:\n",
    "        OT.append(0)\n",
    "    else:\n",
    "        OT.append(1)\n",
    "print(OT[:7])"
   ]
  },
  {
   "cell_type": "markdown",
   "id": "53fb2bff",
   "metadata": {},
   "source": [
    "### Game ID in a list"
   ]
  },
  {
   "cell_type": "code",
   "execution_count": 12,
   "id": "9b951b7a",
   "metadata": {},
   "outputs": [
    {
     "data": {
      "text/plain": [
       "['/zapas/2897006',\n",
       " '/zapas/2897032',\n",
       " '/zapas/2897045',\n",
       " '/zapas/2897063',\n",
       " '/zapas/2897081']"
      ]
     },
     "execution_count": 12,
     "metadata": {},
     "output_type": "execute_result"
    }
   ],
   "source": [
    "game_ids_list = soup.find_all(\"a\", href=lambda value: value and value.startswith(\"/zapas/\"))\n",
    "game_ids = [x[\"href\"] for x in game_ids_list][::2]\n",
    "game_ids[:5]"
   ]
  },
  {
   "cell_type": "markdown",
   "id": "6295636e",
   "metadata": {},
   "source": [
    "### Putting it in a dataframe"
   ]
  },
  {
   "cell_type": "code",
   "execution_count": 13,
   "id": "725cce3c",
   "metadata": {},
   "outputs": [
    {
     "data": {
      "text/html": [
       "<div>\n",
       "<style scoped>\n",
       "    .dataframe tbody tr th:only-of-type {\n",
       "        vertical-align: middle;\n",
       "    }\n",
       "\n",
       "    .dataframe tbody tr th {\n",
       "        vertical-align: top;\n",
       "    }\n",
       "\n",
       "    .dataframe thead th {\n",
       "        text-align: right;\n",
       "    }\n",
       "</style>\n",
       "<table border=\"1\" class=\"dataframe\">\n",
       "  <thead>\n",
       "    <tr style=\"text-align: right;\">\n",
       "      <th></th>\n",
       "      <th>game_id</th>\n",
       "      <th>team_home</th>\n",
       "      <th>team_away</th>\n",
       "      <th>goals_home</th>\n",
       "      <th>goals_away</th>\n",
       "      <th>OT</th>\n",
       "    </tr>\n",
       "  </thead>\n",
       "  <tbody>\n",
       "    <tr>\n",
       "      <th>0</th>\n",
       "      <td>/zapas/2897006</td>\n",
       "      <td>Boston Bruins</td>\n",
       "      <td>Dallas Stars</td>\n",
       "      <td>3</td>\n",
       "      <td>1</td>\n",
       "      <td>0</td>\n",
       "    </tr>\n",
       "    <tr>\n",
       "      <th>1</th>\n",
       "      <td>/zapas/2897032</td>\n",
       "      <td>Philadelphia Flyers</td>\n",
       "      <td>Boston Bruins</td>\n",
       "      <td>6</td>\n",
       "      <td>3</td>\n",
       "      <td>0</td>\n",
       "    </tr>\n",
       "    <tr>\n",
       "      <th>2</th>\n",
       "      <td>/zapas/2897045</td>\n",
       "      <td>Buffalo Sabres</td>\n",
       "      <td>Boston Bruins</td>\n",
       "      <td>1</td>\n",
       "      <td>4</td>\n",
       "      <td>0</td>\n",
       "    </tr>\n",
       "    <tr>\n",
       "      <th>3</th>\n",
       "      <td>/zapas/2897063</td>\n",
       "      <td>Boston Bruins</td>\n",
       "      <td>San Jose Sharks</td>\n",
       "      <td>4</td>\n",
       "      <td>3</td>\n",
       "      <td>0</td>\n",
       "    </tr>\n",
       "    <tr>\n",
       "      <th>4</th>\n",
       "      <td>/zapas/2897081</td>\n",
       "      <td>Florida Panthers</td>\n",
       "      <td>Boston Bruins</td>\n",
       "      <td>4</td>\n",
       "      <td>1</td>\n",
       "      <td>0</td>\n",
       "    </tr>\n",
       "  </tbody>\n",
       "</table>\n",
       "</div>"
      ],
      "text/plain": [
       "          game_id            team_home        team_away  goals_home  \\\n",
       "0  /zapas/2897006        Boston Bruins     Dallas Stars           3   \n",
       "1  /zapas/2897032  Philadelphia Flyers    Boston Bruins           6   \n",
       "2  /zapas/2897045       Buffalo Sabres    Boston Bruins           1   \n",
       "3  /zapas/2897063        Boston Bruins  San Jose Sharks           4   \n",
       "4  /zapas/2897081     Florida Panthers    Boston Bruins           4   \n",
       "\n",
       "   goals_away  OT  \n",
       "0           1   0  \n",
       "1           3   0  \n",
       "2           4   0  \n",
       "3           3   0  \n",
       "4           1   0  "
      ]
     },
     "execution_count": 13,
     "metadata": {},
     "output_type": "execute_result"
    }
   ],
   "source": [
    "aux_dictionary = {'game_id':game_ids, 'team_home': teams[::2], 'team_away': teams[1::2],\n",
    "    'goals_home': goals[::2], 'goals_away': goals[1::2], 'OT': OT} \n",
    "df = pd.DataFrame(aux_dictionary)\n",
    "df.head()"
   ]
  },
  {
   "cell_type": "markdown",
   "id": "1b030acf",
   "metadata": {},
   "source": [
    "### Adding some more variables that might be useful"
   ]
  },
  {
   "cell_type": "code",
   "execution_count": 14,
   "id": "8d7de290",
   "metadata": {},
   "outputs": [
    {
     "data": {
      "text/html": [
       "<div>\n",
       "<style scoped>\n",
       "    .dataframe tbody tr th:only-of-type {\n",
       "        vertical-align: middle;\n",
       "    }\n",
       "\n",
       "    .dataframe tbody tr th {\n",
       "        vertical-align: top;\n",
       "    }\n",
       "\n",
       "    .dataframe thead th {\n",
       "        text-align: right;\n",
       "    }\n",
       "</style>\n",
       "<table border=\"1\" class=\"dataframe\">\n",
       "  <thead>\n",
       "    <tr style=\"text-align: right;\">\n",
       "      <th></th>\n",
       "      <th>game_id</th>\n",
       "      <th>team_home</th>\n",
       "      <th>team_away</th>\n",
       "      <th>goals_home</th>\n",
       "      <th>goals_away</th>\n",
       "      <th>OT</th>\n",
       "      <th>points_home</th>\n",
       "      <th>points_away</th>\n",
       "    </tr>\n",
       "  </thead>\n",
       "  <tbody>\n",
       "    <tr>\n",
       "      <th>0</th>\n",
       "      <td>/zapas/2897006</td>\n",
       "      <td>Boston Bruins</td>\n",
       "      <td>Dallas Stars</td>\n",
       "      <td>3</td>\n",
       "      <td>1</td>\n",
       "      <td>0</td>\n",
       "      <td>3.0</td>\n",
       "      <td>0.0</td>\n",
       "    </tr>\n",
       "    <tr>\n",
       "      <th>1</th>\n",
       "      <td>/zapas/2897032</td>\n",
       "      <td>Philadelphia Flyers</td>\n",
       "      <td>Boston Bruins</td>\n",
       "      <td>6</td>\n",
       "      <td>3</td>\n",
       "      <td>0</td>\n",
       "      <td>3.0</td>\n",
       "      <td>0.0</td>\n",
       "    </tr>\n",
       "    <tr>\n",
       "      <th>2</th>\n",
       "      <td>/zapas/2897045</td>\n",
       "      <td>Buffalo Sabres</td>\n",
       "      <td>Boston Bruins</td>\n",
       "      <td>1</td>\n",
       "      <td>4</td>\n",
       "      <td>0</td>\n",
       "      <td>0.0</td>\n",
       "      <td>3.0</td>\n",
       "    </tr>\n",
       "    <tr>\n",
       "      <th>3</th>\n",
       "      <td>/zapas/2897063</td>\n",
       "      <td>Boston Bruins</td>\n",
       "      <td>San Jose Sharks</td>\n",
       "      <td>4</td>\n",
       "      <td>3</td>\n",
       "      <td>0</td>\n",
       "      <td>3.0</td>\n",
       "      <td>0.0</td>\n",
       "    </tr>\n",
       "    <tr>\n",
       "      <th>4</th>\n",
       "      <td>/zapas/2897081</td>\n",
       "      <td>Florida Panthers</td>\n",
       "      <td>Boston Bruins</td>\n",
       "      <td>4</td>\n",
       "      <td>1</td>\n",
       "      <td>0</td>\n",
       "      <td>3.0</td>\n",
       "      <td>0.0</td>\n",
       "    </tr>\n",
       "  </tbody>\n",
       "</table>\n",
       "</div>"
      ],
      "text/plain": [
       "          game_id            team_home        team_away  goals_home  \\\n",
       "0  /zapas/2897006        Boston Bruins     Dallas Stars           3   \n",
       "1  /zapas/2897032  Philadelphia Flyers    Boston Bruins           6   \n",
       "2  /zapas/2897045       Buffalo Sabres    Boston Bruins           1   \n",
       "3  /zapas/2897063        Boston Bruins  San Jose Sharks           4   \n",
       "4  /zapas/2897081     Florida Panthers    Boston Bruins           4   \n",
       "\n",
       "   goals_away  OT  points_home  points_away  \n",
       "0           1   0          3.0          0.0  \n",
       "1           3   0          3.0          0.0  \n",
       "2           4   0          0.0          3.0  \n",
       "3           3   0          3.0          0.0  \n",
       "4           1   0          3.0          0.0  "
      ]
     },
     "execution_count": 14,
     "metadata": {},
     "output_type": "execute_result"
    }
   ],
   "source": [
    "df.loc[(df[\"goals_home\"] > df[\"goals_away\"]) & (df[\"OT\"] == 0), 'points_home'] = 3\n",
    "df.loc[(df[\"goals_home\"] > df[\"goals_away\"]) & (df[\"OT\"] == 1), 'points_home'] = 2\n",
    "df.loc[(df[\"goals_home\"] < df[\"goals_away\"]) & (df[\"OT\"] == 1), 'points_home'] = 1\n",
    "df.loc[(df[\"goals_home\"] < df[\"goals_away\"]) & (df[\"OT\"] == 0), 'points_home'] = 0\n",
    "\n",
    "df.loc[(df[\"goals_home\"] > df[\"goals_away\"]) & (df[\"OT\"] == 0), 'points_away'] = 0\n",
    "df.loc[(df[\"goals_home\"] > df[\"goals_away\"]) & (df[\"OT\"] == 1), 'points_away'] = 1\n",
    "df.loc[(df[\"goals_home\"] < df[\"goals_away\"]) & (df[\"OT\"] == 1), 'points_away'] = 2\n",
    "df.loc[(df[\"goals_home\"] < df[\"goals_away\"]) & (df[\"OT\"] == 0), 'points_away'] = 3\n",
    "\n",
    "df.head()"
   ]
  },
  {
   "cell_type": "markdown",
   "id": "6ee245ee",
   "metadata": {},
   "source": [
    "### Adding variable whether the team of interest is a home team"
   ]
  },
  {
   "cell_type": "code",
   "execution_count": 15,
   "id": "a2c30ad0",
   "metadata": {},
   "outputs": [],
   "source": [
    "df.loc[df[\"team_home\"] == team_of_interest, 'TOI_home'] = 1\n",
    "df.loc[df[\"team_home\"] != team_of_interest, 'TOI_home'] = 0"
   ]
  },
  {
   "cell_type": "markdown",
   "id": "7b41273b",
   "metadata": {},
   "source": [
    "### Adding how many points TOI received"
   ]
  },
  {
   "cell_type": "code",
   "execution_count": 16,
   "id": "5fcef0ff",
   "metadata": {},
   "outputs": [],
   "source": [
    "df.loc[(df[\"TOI_home\"] == 1), 'TOI_points'] = df[\"points_home\"]\n",
    "df.loc[(df[\"TOI_home\"] == 0), 'TOI_points'] = df[\"points_away\"]\n",
    "\n",
    "df.loc[(df[\"TOI_home\"] == 1), 'TOI_goals_scored'] = df[\"goals_home\"]\n",
    "df.loc[(df[\"TOI_home\"] == 0), 'TOI_goals_scored'] = df[\"goals_away\"]\n",
    "df.loc[(df[\"TOI_home\"] == 1), 'TOI_goals_rec'] = df[\"goals_away\"]\n",
    "df.loc[(df[\"TOI_home\"] == 0), 'TOI_goals_rec'] = df[\"goals_home\"]"
   ]
  },
  {
   "cell_type": "markdown",
   "id": "5fa8364c",
   "metadata": {},
   "source": [
    "### Adding Output Variable: the result of our TOI"
   ]
  },
  {
   "cell_type": "code",
   "execution_count": 17,
   "id": "77ec621e",
   "metadata": {},
   "outputs": [],
   "source": [
    "df.loc[df[\"OT\"] == 1, 'TOI_result'] = \"OT\"\n",
    "df.loc[(df[\"TOI_home\"] == 1) & (df[\"points_home\"] == 3), 'TOI_result'] = \"W\"\n",
    "df.loc[(df[\"TOI_home\"] == 1) & (df[\"points_home\"] == 0), 'TOI_result'] = \"L\"\n",
    "df.loc[(df[\"TOI_home\"] == 0) & (df[\"points_home\"] == 3), 'TOI_result'] = \"L\"\n",
    "df.loc[(df[\"TOI_home\"] == 0) & (df[\"points_home\"] == 0), 'TOI_result'] = \"W\"\n",
    "#later only W/L is used for better performance"
   ]
  },
  {
   "cell_type": "code",
   "execution_count": 18,
   "id": "2f597cb6",
   "metadata": {},
   "outputs": [
    {
     "data": {
      "text/html": [
       "<div>\n",
       "<style scoped>\n",
       "    .dataframe tbody tr th:only-of-type {\n",
       "        vertical-align: middle;\n",
       "    }\n",
       "\n",
       "    .dataframe tbody tr th {\n",
       "        vertical-align: top;\n",
       "    }\n",
       "\n",
       "    .dataframe thead th {\n",
       "        text-align: right;\n",
       "    }\n",
       "</style>\n",
       "<table border=\"1\" class=\"dataframe\">\n",
       "  <thead>\n",
       "    <tr style=\"text-align: right;\">\n",
       "      <th></th>\n",
       "      <th>game_id</th>\n",
       "      <th>team_home</th>\n",
       "      <th>team_away</th>\n",
       "      <th>goals_home</th>\n",
       "      <th>goals_away</th>\n",
       "      <th>OT</th>\n",
       "      <th>points_home</th>\n",
       "      <th>points_away</th>\n",
       "      <th>TOI_home</th>\n",
       "      <th>TOI_points</th>\n",
       "      <th>TOI_goals_scored</th>\n",
       "      <th>TOI_goals_rec</th>\n",
       "      <th>TOI_result</th>\n",
       "      <th>other_team</th>\n",
       "    </tr>\n",
       "  </thead>\n",
       "  <tbody>\n",
       "    <tr>\n",
       "      <th>0</th>\n",
       "      <td>/zapas/2897006</td>\n",
       "      <td>Boston Bruins</td>\n",
       "      <td>Dallas Stars</td>\n",
       "      <td>3</td>\n",
       "      <td>1</td>\n",
       "      <td>0</td>\n",
       "      <td>3.0</td>\n",
       "      <td>0.0</td>\n",
       "      <td>1.0</td>\n",
       "      <td>3.0</td>\n",
       "      <td>3.0</td>\n",
       "      <td>1.0</td>\n",
       "      <td>W</td>\n",
       "      <td>Dallas Stars</td>\n",
       "    </tr>\n",
       "    <tr>\n",
       "      <th>1</th>\n",
       "      <td>/zapas/2897032</td>\n",
       "      <td>Philadelphia Flyers</td>\n",
       "      <td>Boston Bruins</td>\n",
       "      <td>6</td>\n",
       "      <td>3</td>\n",
       "      <td>0</td>\n",
       "      <td>3.0</td>\n",
       "      <td>0.0</td>\n",
       "      <td>0.0</td>\n",
       "      <td>0.0</td>\n",
       "      <td>3.0</td>\n",
       "      <td>6.0</td>\n",
       "      <td>L</td>\n",
       "      <td>Philadelphia Flyers</td>\n",
       "    </tr>\n",
       "    <tr>\n",
       "      <th>2</th>\n",
       "      <td>/zapas/2897045</td>\n",
       "      <td>Buffalo Sabres</td>\n",
       "      <td>Boston Bruins</td>\n",
       "      <td>1</td>\n",
       "      <td>4</td>\n",
       "      <td>0</td>\n",
       "      <td>0.0</td>\n",
       "      <td>3.0</td>\n",
       "      <td>0.0</td>\n",
       "      <td>3.0</td>\n",
       "      <td>4.0</td>\n",
       "      <td>1.0</td>\n",
       "      <td>W</td>\n",
       "      <td>Buffalo Sabres</td>\n",
       "    </tr>\n",
       "    <tr>\n",
       "      <th>3</th>\n",
       "      <td>/zapas/2897063</td>\n",
       "      <td>Boston Bruins</td>\n",
       "      <td>San Jose Sharks</td>\n",
       "      <td>4</td>\n",
       "      <td>3</td>\n",
       "      <td>0</td>\n",
       "      <td>3.0</td>\n",
       "      <td>0.0</td>\n",
       "      <td>1.0</td>\n",
       "      <td>3.0</td>\n",
       "      <td>4.0</td>\n",
       "      <td>3.0</td>\n",
       "      <td>W</td>\n",
       "      <td>San Jose Sharks</td>\n",
       "    </tr>\n",
       "    <tr>\n",
       "      <th>4</th>\n",
       "      <td>/zapas/2897081</td>\n",
       "      <td>Florida Panthers</td>\n",
       "      <td>Boston Bruins</td>\n",
       "      <td>4</td>\n",
       "      <td>1</td>\n",
       "      <td>0</td>\n",
       "      <td>3.0</td>\n",
       "      <td>0.0</td>\n",
       "      <td>0.0</td>\n",
       "      <td>0.0</td>\n",
       "      <td>1.0</td>\n",
       "      <td>4.0</td>\n",
       "      <td>L</td>\n",
       "      <td>Florida Panthers</td>\n",
       "    </tr>\n",
       "  </tbody>\n",
       "</table>\n",
       "</div>"
      ],
      "text/plain": [
       "          game_id            team_home        team_away  goals_home  \\\n",
       "0  /zapas/2897006        Boston Bruins     Dallas Stars           3   \n",
       "1  /zapas/2897032  Philadelphia Flyers    Boston Bruins           6   \n",
       "2  /zapas/2897045       Buffalo Sabres    Boston Bruins           1   \n",
       "3  /zapas/2897063        Boston Bruins  San Jose Sharks           4   \n",
       "4  /zapas/2897081     Florida Panthers    Boston Bruins           4   \n",
       "\n",
       "   goals_away  OT  points_home  points_away  TOI_home  TOI_points  \\\n",
       "0           1   0          3.0          0.0       1.0         3.0   \n",
       "1           3   0          3.0          0.0       0.0         0.0   \n",
       "2           4   0          0.0          3.0       0.0         3.0   \n",
       "3           3   0          3.0          0.0       1.0         3.0   \n",
       "4           1   0          3.0          0.0       0.0         0.0   \n",
       "\n",
       "   TOI_goals_scored  TOI_goals_rec TOI_result           other_team  \n",
       "0               3.0            1.0          W         Dallas Stars  \n",
       "1               3.0            6.0          L  Philadelphia Flyers  \n",
       "2               4.0            1.0          W       Buffalo Sabres  \n",
       "3               4.0            3.0          W      San Jose Sharks  \n",
       "4               1.0            4.0          L     Florida Panthers  "
      ]
     },
     "execution_count": 18,
     "metadata": {},
     "output_type": "execute_result"
    }
   ],
   "source": [
    "df.loc[(df[\"TOI_home\"] == 1), 'other_team'] = df[\"team_away\"]\n",
    "df.loc[(df[\"TOI_home\"] == 0), 'other_team'] = df[\"team_home\"]\n",
    "df.head()"
   ]
  },
  {
   "cell_type": "markdown",
   "id": "ac46f727",
   "metadata": {},
   "source": [
    "### Adding variables - sum of last 20 games"
   ]
  },
  {
   "cell_type": "code",
   "execution_count": 19,
   "id": "759d2375",
   "metadata": {},
   "outputs": [
    {
     "data": {
      "text/html": [
       "<div>\n",
       "<style scoped>\n",
       "    .dataframe tbody tr th:only-of-type {\n",
       "        vertical-align: middle;\n",
       "    }\n",
       "\n",
       "    .dataframe tbody tr th {\n",
       "        vertical-align: top;\n",
       "    }\n",
       "\n",
       "    .dataframe thead th {\n",
       "        text-align: right;\n",
       "    }\n",
       "</style>\n",
       "<table border=\"1\" class=\"dataframe\">\n",
       "  <thead>\n",
       "    <tr style=\"text-align: right;\">\n",
       "      <th></th>\n",
       "      <th>TOI_home</th>\n",
       "      <th>TOI_points</th>\n",
       "      <th>TOI_goals_scored</th>\n",
       "      <th>TOI_goals_rec</th>\n",
       "      <th>TOI_result</th>\n",
       "      <th>other_team</th>\n",
       "      <th>TOI_points_tot</th>\n",
       "      <th>TOI_goals_scored_tot</th>\n",
       "      <th>TOI_goals_rec_tot</th>\n",
       "    </tr>\n",
       "  </thead>\n",
       "  <tbody>\n",
       "    <tr>\n",
       "      <th>19</th>\n",
       "      <td>0.0</td>\n",
       "      <td>3.0</td>\n",
       "      <td>2.0</td>\n",
       "      <td>0.0</td>\n",
       "      <td>W</td>\n",
       "      <td>Nashville Predators</td>\n",
       "      <td>NaN</td>\n",
       "      <td>NaN</td>\n",
       "      <td>NaN</td>\n",
       "    </tr>\n",
       "    <tr>\n",
       "      <th>20</th>\n",
       "      <td>1.0</td>\n",
       "      <td>1.0</td>\n",
       "      <td>2.0</td>\n",
       "      <td>3.0</td>\n",
       "      <td>OT</td>\n",
       "      <td>Tampa Bay Lightning</td>\n",
       "      <td>35.0</td>\n",
       "      <td>59.0</td>\n",
       "      <td>53.0</td>\n",
       "    </tr>\n",
       "    <tr>\n",
       "      <th>21</th>\n",
       "      <td>0.0</td>\n",
       "      <td>1.0</td>\n",
       "      <td>1.0</td>\n",
       "      <td>2.0</td>\n",
       "      <td>OT</td>\n",
       "      <td>Vancouver Canucks</td>\n",
       "      <td>33.0</td>\n",
       "      <td>58.0</td>\n",
       "      <td>55.0</td>\n",
       "    </tr>\n",
       "    <tr>\n",
       "      <th>22</th>\n",
       "      <td>0.0</td>\n",
       "      <td>3.0</td>\n",
       "      <td>3.0</td>\n",
       "      <td>2.0</td>\n",
       "      <td>W</td>\n",
       "      <td>Edmonton Oilers</td>\n",
       "      <td>34.0</td>\n",
       "      <td>56.0</td>\n",
       "      <td>51.0</td>\n",
       "    </tr>\n",
       "    <tr>\n",
       "      <th>23</th>\n",
       "      <td>0.0</td>\n",
       "      <td>3.0</td>\n",
       "      <td>4.0</td>\n",
       "      <td>2.0</td>\n",
       "      <td>W</td>\n",
       "      <td>Calgary Flames</td>\n",
       "      <td>34.0</td>\n",
       "      <td>55.0</td>\n",
       "      <td>52.0</td>\n",
       "    </tr>\n",
       "    <tr>\n",
       "      <th>24</th>\n",
       "      <td>1.0</td>\n",
       "      <td>0.0</td>\n",
       "      <td>1.0</td>\n",
       "      <td>4.0</td>\n",
       "      <td>L</td>\n",
       "      <td>Vegas Golden Knights</td>\n",
       "      <td>34.0</td>\n",
       "      <td>55.0</td>\n",
       "      <td>51.0</td>\n",
       "    </tr>\n",
       "  </tbody>\n",
       "</table>\n",
       "</div>"
      ],
      "text/plain": [
       "    TOI_home  TOI_points  TOI_goals_scored  TOI_goals_rec TOI_result  \\\n",
       "19       0.0         3.0               2.0            0.0          W   \n",
       "20       1.0         1.0               2.0            3.0         OT   \n",
       "21       0.0         1.0               1.0            2.0         OT   \n",
       "22       0.0         3.0               3.0            2.0          W   \n",
       "23       0.0         3.0               4.0            2.0          W   \n",
       "24       1.0         0.0               1.0            4.0          L   \n",
       "\n",
       "              other_team  TOI_points_tot  TOI_goals_scored_tot  \\\n",
       "19   Nashville Predators             NaN                   NaN   \n",
       "20   Tampa Bay Lightning            35.0                  59.0   \n",
       "21     Vancouver Canucks            33.0                  58.0   \n",
       "22       Edmonton Oilers            34.0                  56.0   \n",
       "23        Calgary Flames            34.0                  55.0   \n",
       "24  Vegas Golden Knights            34.0                  55.0   \n",
       "\n",
       "    TOI_goals_rec_tot  \n",
       "19                NaN  \n",
       "20               53.0  \n",
       "21               55.0  \n",
       "22               51.0  \n",
       "23               52.0  \n",
       "24               51.0  "
      ]
     },
     "execution_count": 19,
     "metadata": {},
     "output_type": "execute_result"
    }
   ],
   "source": [
    "TOI_points_tot = [None] * 20\n",
    "TOI_goals_scored_tot = [None] * 20\n",
    "TOI_goals_rec_tot = [None] * 20\n",
    "for x in range(len(df)):\n",
    "    if x > 19:\n",
    "        TOI_points_tot.append(int(df[['TOI_points']][x-20:x].sum()))\n",
    "        TOI_goals_scored_tot.append(int(df[['TOI_goals_scored']][x-20:x].sum()))\n",
    "        TOI_goals_rec_tot.append(int(df[['TOI_goals_rec']][x-20:x].sum()))\n",
    "df['TOI_points_tot'] = TOI_points_tot\n",
    "df['TOI_goals_scored_tot'] = TOI_goals_scored_tot\n",
    "df['TOI_goals_rec_tot'] = TOI_goals_rec_tot\n",
    "\n",
    "df.iloc[19:25, 8:]"
   ]
  },
  {
   "cell_type": "markdown",
   "id": "45adedec",
   "metadata": {},
   "source": [
    "Takhle bude vypadat df, akorat v nim bude dat za vice sezon"
   ]
  },
  {
   "cell_type": "markdown",
   "id": "9f6e2656",
   "metadata": {},
   "source": [
    "## Creating the dataset later used for modellig"
   ]
  },
  {
   "cell_type": "markdown",
   "id": "25720403",
   "metadata": {},
   "source": [
    "## ke kazdemu zapasu: \n",
    "- jeho id\n",
    "- nazev druheho tymu\n",
    "- vysledek TOI (output variable)\n",
    "- jestli hraje TOI doma\n",
    "- kolik ziskal TOI bodu v poslednich X (20/30) zapasech\n",
    "- kolik dal TOI golu v poslednich X (20/30) zapasech\n",
    "- kolik dostal TOI golu v poslednich X (20/30) zapasech\n",
    "\n",
    "  \n",
    "    - toto bude jeste vse potreba i pro druhy tym s kterym je prave ten zapas\n",
    "    - tyhle radky plus radky o druhem tymu by uz meli jit nakrmit do modelu a to by melo byt vsechno"
   ]
  },
  {
   "cell_type": "code",
   "execution_count": 20,
   "id": "9ae48c93",
   "metadata": {
    "scrolled": true
   },
   "outputs": [
    {
     "data": {
      "text/html": [
       "<div>\n",
       "<style scoped>\n",
       "    .dataframe tbody tr th:only-of-type {\n",
       "        vertical-align: middle;\n",
       "    }\n",
       "\n",
       "    .dataframe tbody tr th {\n",
       "        vertical-align: top;\n",
       "    }\n",
       "\n",
       "    .dataframe thead th {\n",
       "        text-align: right;\n",
       "    }\n",
       "</style>\n",
       "<table border=\"1\" class=\"dataframe\">\n",
       "  <thead>\n",
       "    <tr style=\"text-align: right;\">\n",
       "      <th></th>\n",
       "      <th>game_id</th>\n",
       "      <th>TOI_result</th>\n",
       "      <th>other_team</th>\n",
       "      <th>TOI_home</th>\n",
       "      <th>TOI_points_tot</th>\n",
       "      <th>TOI_goals_scored_tot</th>\n",
       "      <th>TOI_goals_rec_tot</th>\n",
       "    </tr>\n",
       "  </thead>\n",
       "  <tbody>\n",
       "    <tr>\n",
       "      <th>20</th>\n",
       "      <td>/zapas/2897351</td>\n",
       "      <td>OT</td>\n",
       "      <td>Tampa Bay Lightning</td>\n",
       "      <td>1.0</td>\n",
       "      <td>35.0</td>\n",
       "      <td>59.0</td>\n",
       "      <td>53.0</td>\n",
       "    </tr>\n",
       "    <tr>\n",
       "      <th>21</th>\n",
       "      <td>/zapas/2897379</td>\n",
       "      <td>OT</td>\n",
       "      <td>Vancouver Canucks</td>\n",
       "      <td>0.0</td>\n",
       "      <td>33.0</td>\n",
       "      <td>58.0</td>\n",
       "      <td>55.0</td>\n",
       "    </tr>\n",
       "    <tr>\n",
       "      <th>22</th>\n",
       "      <td>/zapas/2897387</td>\n",
       "      <td>W</td>\n",
       "      <td>Edmonton Oilers</td>\n",
       "      <td>0.0</td>\n",
       "      <td>34.0</td>\n",
       "      <td>56.0</td>\n",
       "      <td>51.0</td>\n",
       "    </tr>\n",
       "    <tr>\n",
       "      <th>23</th>\n",
       "      <td>/zapas/2897403</td>\n",
       "      <td>W</td>\n",
       "      <td>Calgary Flames</td>\n",
       "      <td>0.0</td>\n",
       "      <td>34.0</td>\n",
       "      <td>55.0</td>\n",
       "      <td>52.0</td>\n",
       "    </tr>\n",
       "    <tr>\n",
       "      <th>24</th>\n",
       "      <td>/zapas/2897426</td>\n",
       "      <td>L</td>\n",
       "      <td>Vegas Golden Knights</td>\n",
       "      <td>1.0</td>\n",
       "      <td>34.0</td>\n",
       "      <td>55.0</td>\n",
       "      <td>51.0</td>\n",
       "    </tr>\n",
       "    <tr>\n",
       "      <th>...</th>\n",
       "      <td>...</td>\n",
       "      <td>...</td>\n",
       "      <td>...</td>\n",
       "      <td>...</td>\n",
       "      <td>...</td>\n",
       "      <td>...</td>\n",
       "      <td>...</td>\n",
       "    </tr>\n",
       "    <tr>\n",
       "      <th>77</th>\n",
       "      <td>/zapas/2898234</td>\n",
       "      <td>W</td>\n",
       "      <td>New York Rangers</td>\n",
       "      <td>1.0</td>\n",
       "      <td>34.0</td>\n",
       "      <td>63.0</td>\n",
       "      <td>54.0</td>\n",
       "    </tr>\n",
       "    <tr>\n",
       "      <th>78</th>\n",
       "      <td>/zapas/2897458</td>\n",
       "      <td>W</td>\n",
       "      <td>Montreal Canadiens</td>\n",
       "      <td>0.0</td>\n",
       "      <td>34.0</td>\n",
       "      <td>62.0</td>\n",
       "      <td>52.0</td>\n",
       "    </tr>\n",
       "    <tr>\n",
       "      <th>79</th>\n",
       "      <td>/zapas/2898259</td>\n",
       "      <td>W</td>\n",
       "      <td>Florida Panthers</td>\n",
       "      <td>1.0</td>\n",
       "      <td>34.0</td>\n",
       "      <td>64.0</td>\n",
       "      <td>53.0</td>\n",
       "    </tr>\n",
       "    <tr>\n",
       "      <th>80</th>\n",
       "      <td>/zapas/2898274</td>\n",
       "      <td>W</td>\n",
       "      <td>Buffalo Sabres</td>\n",
       "      <td>1.0</td>\n",
       "      <td>35.0</td>\n",
       "      <td>66.0</td>\n",
       "      <td>54.0</td>\n",
       "    </tr>\n",
       "    <tr>\n",
       "      <th>81</th>\n",
       "      <td>/zapas/2898287</td>\n",
       "      <td>L</td>\n",
       "      <td>Toronto Maple Leafs</td>\n",
       "      <td>0.0</td>\n",
       "      <td>38.0</td>\n",
       "      <td>69.0</td>\n",
       "      <td>50.0</td>\n",
       "    </tr>\n",
       "  </tbody>\n",
       "</table>\n",
       "<p>62 rows × 7 columns</p>\n",
       "</div>"
      ],
      "text/plain": [
       "           game_id TOI_result            other_team  TOI_home  TOI_points_tot  \\\n",
       "20  /zapas/2897351         OT   Tampa Bay Lightning       1.0            35.0   \n",
       "21  /zapas/2897379         OT     Vancouver Canucks       0.0            33.0   \n",
       "22  /zapas/2897387          W       Edmonton Oilers       0.0            34.0   \n",
       "23  /zapas/2897403          W        Calgary Flames       0.0            34.0   \n",
       "24  /zapas/2897426          L  Vegas Golden Knights       1.0            34.0   \n",
       "..             ...        ...                   ...       ...             ...   \n",
       "77  /zapas/2898234          W      New York Rangers       1.0            34.0   \n",
       "78  /zapas/2897458          W    Montreal Canadiens       0.0            34.0   \n",
       "79  /zapas/2898259          W      Florida Panthers       1.0            34.0   \n",
       "80  /zapas/2898274          W        Buffalo Sabres       1.0            35.0   \n",
       "81  /zapas/2898287          L   Toronto Maple Leafs       0.0            38.0   \n",
       "\n",
       "    TOI_goals_scored_tot  TOI_goals_rec_tot  \n",
       "20                  59.0               53.0  \n",
       "21                  58.0               55.0  \n",
       "22                  56.0               51.0  \n",
       "23                  55.0               52.0  \n",
       "24                  55.0               51.0  \n",
       "..                   ...                ...  \n",
       "77                  63.0               54.0  \n",
       "78                  62.0               52.0  \n",
       "79                  64.0               53.0  \n",
       "80                  66.0               54.0  \n",
       "81                  69.0               50.0  \n",
       "\n",
       "[62 rows x 7 columns]"
      ]
     },
     "execution_count": 20,
     "metadata": {},
     "output_type": "execute_result"
    }
   ],
   "source": [
    "df_model = df[['game_id','TOI_result','other_team','TOI_home', 'TOI_points_tot', 'TOI_goals_scored_tot', 'TOI_goals_rec_tot']][20:].copy()\n",
    "df_model"
   ]
  },
  {
   "cell_type": "markdown",
   "id": "92f5b571",
   "metadata": {},
   "source": [
    "# Turning it into OOP"
   ]
  },
  {
   "cell_type": "code",
   "execution_count": 21,
   "id": "838568bf",
   "metadata": {},
   "outputs": [],
   "source": [
    "class One_team_season:\n",
    "   \n",
    "    def __init__(self,team, season):\n",
    "        self.team = team\n",
    "        self.season = season\n",
    "        \n",
    "    def get_link(self):\n",
    "        code_of_season = season_codes[self.season]\n",
    "        code_of_interest = dict_team_codes[self.team]\n",
    "        return f'https://nhl.cz{code_of_interest}/zapasy?matchList-filter-season={self.season}&matchList-filter-competition={code_of_season}'\n",
    "    \n",
    "    def get_soup(self):\n",
    "        r = requests.get(self.get_link())\n",
    "        if r.status_code == 200:\n",
    "            r.encoding='UTF-8'\n",
    "            return BeautifulSoup(r.text)\n",
    "        else:\n",
    "            raise Exception(f'Cannot access the url. Returning status_code {r.status_code}')\n",
    "            \n",
    "    def get_goals(self,soup):\n",
    "        return [int(td.text) for td in soup.findAll('td', {'class':'preview__score'})]\n",
    "    \n",
    "    def get_teams(self,soup):\n",
    "        return [span.text for span in soup.findAll('span', {'class':'preview__name--long'})]\n",
    "    \n",
    "    def get_OT(self,soup):\n",
    "        all_games = soup.findAll('tr')\n",
    "        OT = []\n",
    "        for game in all_games:\n",
    "            ot = game.find('span', {'class':'dot dot__blue'})\n",
    "            if ot is None:\n",
    "                OT.append(0)\n",
    "            else:\n",
    "                OT.append(1)\n",
    "        return OT\n",
    "    \n",
    "    def get_game_IDs(self,soup):\n",
    "        game_ids_list = soup.find_all(\"a\", href=lambda value: value and value.startswith(\"/zapas/\"))\n",
    "        game_ids = [x[\"href\"] for x in game_ids_list][::2]\n",
    "        return game_ids\n",
    "    \n",
    "    def create_df(self):\n",
    "        soup = self.get_soup()\n",
    "        goals = self.get_goals(soup)\n",
    "        teams = self.get_teams(soup)\n",
    "        OT = self.get_OT(soup)\n",
    "        game_ids = self.get_game_IDs(soup)\n",
    "        \n",
    "        #covid vsuvka - apparently games cancelled due to covid were left blank and would cause errors\n",
    "        if len(goals)/2 == len(teams)/2 == len(OT) == len(game_ids):\n",
    "            pass\n",
    "        else:\n",
    "            teams = teams[:len(goals)]\n",
    "            OT = OT[:int(len(goals)/2)]\n",
    "            game_ids = game_ids[:int(len(goals)/2)]\n",
    "        #konec covid vsuvky\n",
    "\n",
    "        \n",
    "        aux_dictionary = {'game_id':game_ids, 'team_home': teams[::2], 'team_away': teams[1::2],\n",
    "        'goals_home': goals[::2], 'goals_away': goals[1::2], 'OT': OT} \n",
    "        df = pd.DataFrame(aux_dictionary)\n",
    "        return df\n",
    "    \n",
    "    def create_model_df(self):\n",
    "        df = self.create_df()\n",
    "        df.loc[(df[\"goals_home\"] > df[\"goals_away\"]) & (df[\"OT\"] == 0), 'points_home'] = 3\n",
    "        df.loc[(df[\"goals_home\"] > df[\"goals_away\"]) & (df[\"OT\"] == 1), 'points_home'] = 2\n",
    "        df.loc[(df[\"goals_home\"] < df[\"goals_away\"]) & (df[\"OT\"] == 1), 'points_home'] = 1\n",
    "        df.loc[(df[\"goals_home\"] < df[\"goals_away\"]) & (df[\"OT\"] == 0), 'points_home'] = 0\n",
    "\n",
    "        df.loc[(df[\"goals_home\"] > df[\"goals_away\"]) & (df[\"OT\"] == 0), 'points_away'] = 0\n",
    "        df.loc[(df[\"goals_home\"] > df[\"goals_away\"]) & (df[\"OT\"] == 1), 'points_away'] = 1\n",
    "        df.loc[(df[\"goals_home\"] < df[\"goals_away\"]) & (df[\"OT\"] == 1), 'points_away'] = 2\n",
    "        df.loc[(df[\"goals_home\"] < df[\"goals_away\"]) & (df[\"OT\"] == 0), 'points_away'] = 3\n",
    "        \n",
    "        df.loc[df[\"team_home\"] == self.team, 'TOI_home'] = 1\n",
    "        df.loc[df[\"team_home\"] != self.team, 'TOI_home'] = 0\n",
    "        \n",
    "        df.loc[(df[\"TOI_home\"] == 1), 'TOI_points'] = df[\"points_home\"]\n",
    "        df.loc[(df[\"TOI_home\"] == 0), 'TOI_points'] = df[\"points_away\"]\n",
    "\n",
    "        df.loc[(df[\"TOI_home\"] == 1), 'TOI_goals_scored'] = df[\"goals_home\"]\n",
    "        df.loc[(df[\"TOI_home\"] == 0), 'TOI_goals_scored'] = df[\"goals_away\"]\n",
    "        df.loc[(df[\"TOI_home\"] == 1), 'TOI_goals_rec'] = df[\"goals_away\"]\n",
    "        df.loc[(df[\"TOI_home\"] == 0), 'TOI_goals_rec'] = df[\"goals_home\"]\n",
    "        \n",
    "        \n",
    "        df.loc[(df[\"TOI_home\"] == 1) & (df[\"points_home\"] > df[\"points_away\"]), 'TOI_result'] = 1 #1 is a win\n",
    "        df.loc[(df[\"TOI_home\"] == 1) & (df[\"points_home\"] < df[\"points_away\"]), 'TOI_result'] = 0\n",
    "        df.loc[(df[\"TOI_home\"] == 0) & (df[\"points_home\"] > df[\"points_away\"]), 'TOI_result'] = 0\n",
    "        df.loc[(df[\"TOI_home\"] == 0) & (df[\"points_home\"] < df[\"points_away\"]), 'TOI_result'] = 1\n",
    "        \n",
    "        df.loc[(df[\"TOI_home\"] == 1), 'other_team'] = df[\"team_away\"]\n",
    "        df.loc[(df[\"TOI_home\"] == 0), 'other_team'] = df[\"team_home\"]\n",
    "        \n",
    "        df.loc[(df[\"TOI_home\"] == 1), 'TOI'] = df[\"team_home\"]\n",
    "        df.loc[(df[\"TOI_home\"] == 0), 'TOI'] = df[\"team_away\"]\n",
    "        \n",
    "        return df\n",
    "\n",
    "\n",
    "    "
   ]
  },
  {
   "cell_type": "markdown",
   "id": "37f9dde9",
   "metadata": {},
   "source": [
    "## Joining DataFrames for multiple seasons"
   ]
  },
  {
   "cell_type": "code",
   "execution_count": 22,
   "id": "83526ad0",
   "metadata": {},
   "outputs": [
    {
     "data": {
      "text/html": [
       "<div>\n",
       "<style scoped>\n",
       "    .dataframe tbody tr th:only-of-type {\n",
       "        vertical-align: middle;\n",
       "    }\n",
       "\n",
       "    .dataframe tbody tr th {\n",
       "        vertical-align: top;\n",
       "    }\n",
       "\n",
       "    .dataframe thead th {\n",
       "        text-align: right;\n",
       "    }\n",
       "</style>\n",
       "<table border=\"1\" class=\"dataframe\">\n",
       "  <thead>\n",
       "    <tr style=\"text-align: right;\">\n",
       "      <th></th>\n",
       "      <th>game_id</th>\n",
       "      <th>team_home</th>\n",
       "      <th>team_away</th>\n",
       "      <th>goals_home</th>\n",
       "      <th>goals_away</th>\n",
       "      <th>OT</th>\n",
       "      <th>points_home</th>\n",
       "      <th>points_away</th>\n",
       "      <th>TOI_home</th>\n",
       "      <th>TOI_points</th>\n",
       "      <th>TOI_goals_scored</th>\n",
       "      <th>TOI_goals_rec</th>\n",
       "      <th>TOI_result</th>\n",
       "      <th>other_team</th>\n",
       "      <th>TOI</th>\n",
       "    </tr>\n",
       "  </thead>\n",
       "  <tbody>\n",
       "    <tr>\n",
       "      <th>0</th>\n",
       "      <td>/zapas/2526065</td>\n",
       "      <td>Anaheim Ducks</td>\n",
       "      <td>Arizona Coyotes</td>\n",
       "      <td>5</td>\n",
       "      <td>4</td>\n",
       "      <td>0</td>\n",
       "      <td>3.0</td>\n",
       "      <td>0.0</td>\n",
       "      <td>0.0</td>\n",
       "      <td>0.0</td>\n",
       "      <td>4.0</td>\n",
       "      <td>5.0</td>\n",
       "      <td>0.0</td>\n",
       "      <td>Anaheim Ducks</td>\n",
       "      <td>Arizona Coyotes</td>\n",
       "    </tr>\n",
       "    <tr>\n",
       "      <th>1</th>\n",
       "      <td>/zapas/2526080</td>\n",
       "      <td>Arizona Coyotes</td>\n",
       "      <td>Vegas Golden Knights</td>\n",
       "      <td>1</td>\n",
       "      <td>2</td>\n",
       "      <td>1</td>\n",
       "      <td>1.0</td>\n",
       "      <td>2.0</td>\n",
       "      <td>1.0</td>\n",
       "      <td>1.0</td>\n",
       "      <td>1.0</td>\n",
       "      <td>2.0</td>\n",
       "      <td>0.0</td>\n",
       "      <td>Vegas Golden Knights</td>\n",
       "      <td>Arizona Coyotes</td>\n",
       "    </tr>\n",
       "    <tr>\n",
       "      <th>2</th>\n",
       "      <td>/zapas/2526099</td>\n",
       "      <td>Vegas Golden Knights</td>\n",
       "      <td>Arizona Coyotes</td>\n",
       "      <td>5</td>\n",
       "      <td>2</td>\n",
       "      <td>0</td>\n",
       "      <td>3.0</td>\n",
       "      <td>0.0</td>\n",
       "      <td>0.0</td>\n",
       "      <td>0.0</td>\n",
       "      <td>2.0</td>\n",
       "      <td>5.0</td>\n",
       "      <td>0.0</td>\n",
       "      <td>Vegas Golden Knights</td>\n",
       "      <td>Arizona Coyotes</td>\n",
       "    </tr>\n",
       "    <tr>\n",
       "      <th>3</th>\n",
       "      <td>/zapas/2526110</td>\n",
       "      <td>Arizona Coyotes</td>\n",
       "      <td>Detroit Red Wings</td>\n",
       "      <td>2</td>\n",
       "      <td>4</td>\n",
       "      <td>0</td>\n",
       "      <td>0.0</td>\n",
       "      <td>3.0</td>\n",
       "      <td>1.0</td>\n",
       "      <td>0.0</td>\n",
       "      <td>2.0</td>\n",
       "      <td>4.0</td>\n",
       "      <td>0.0</td>\n",
       "      <td>Detroit Red Wings</td>\n",
       "      <td>Arizona Coyotes</td>\n",
       "    </tr>\n",
       "    <tr>\n",
       "      <th>4</th>\n",
       "      <td>/zapas/2526126</td>\n",
       "      <td>Arizona Coyotes</td>\n",
       "      <td>Boston Bruins</td>\n",
       "      <td>2</td>\n",
       "      <td>6</td>\n",
       "      <td>0</td>\n",
       "      <td>0.0</td>\n",
       "      <td>3.0</td>\n",
       "      <td>1.0</td>\n",
       "      <td>0.0</td>\n",
       "      <td>2.0</td>\n",
       "      <td>6.0</td>\n",
       "      <td>0.0</td>\n",
       "      <td>Boston Bruins</td>\n",
       "      <td>Arizona Coyotes</td>\n",
       "    </tr>\n",
       "    <tr>\n",
       "      <th>...</th>\n",
       "      <td>...</td>\n",
       "      <td>...</td>\n",
       "      <td>...</td>\n",
       "      <td>...</td>\n",
       "      <td>...</td>\n",
       "      <td>...</td>\n",
       "      <td>...</td>\n",
       "      <td>...</td>\n",
       "      <td>...</td>\n",
       "      <td>...</td>\n",
       "      <td>...</td>\n",
       "      <td>...</td>\n",
       "      <td>...</td>\n",
       "      <td>...</td>\n",
       "      <td>...</td>\n",
       "    </tr>\n",
       "    <tr>\n",
       "      <th>367</th>\n",
       "      <td>/zapas/2898225</td>\n",
       "      <td>Arizona Coyotes</td>\n",
       "      <td>Washington Capitals</td>\n",
       "      <td>0</td>\n",
       "      <td>2</td>\n",
       "      <td>0</td>\n",
       "      <td>0.0</td>\n",
       "      <td>3.0</td>\n",
       "      <td>1.0</td>\n",
       "      <td>0.0</td>\n",
       "      <td>0.0</td>\n",
       "      <td>2.0</td>\n",
       "      <td>0.0</td>\n",
       "      <td>Washington Capitals</td>\n",
       "      <td>Arizona Coyotes</td>\n",
       "    </tr>\n",
       "    <tr>\n",
       "      <th>368</th>\n",
       "      <td>/zapas/2898229</td>\n",
       "      <td>Arizona Coyotes</td>\n",
       "      <td>St. Louis Blues</td>\n",
       "      <td>4</td>\n",
       "      <td>5</td>\n",
       "      <td>1</td>\n",
       "      <td>1.0</td>\n",
       "      <td>2.0</td>\n",
       "      <td>1.0</td>\n",
       "      <td>1.0</td>\n",
       "      <td>4.0</td>\n",
       "      <td>5.0</td>\n",
       "      <td>0.0</td>\n",
       "      <td>St. Louis Blues</td>\n",
       "      <td>Arizona Coyotes</td>\n",
       "    </tr>\n",
       "    <tr>\n",
       "      <th>369</th>\n",
       "      <td>/zapas/2898258</td>\n",
       "      <td>Minnesota Wild</td>\n",
       "      <td>Arizona Coyotes</td>\n",
       "      <td>3</td>\n",
       "      <td>5</td>\n",
       "      <td>0</td>\n",
       "      <td>0.0</td>\n",
       "      <td>3.0</td>\n",
       "      <td>0.0</td>\n",
       "      <td>3.0</td>\n",
       "      <td>5.0</td>\n",
       "      <td>3.0</td>\n",
       "      <td>1.0</td>\n",
       "      <td>Minnesota Wild</td>\n",
       "      <td>Arizona Coyotes</td>\n",
       "    </tr>\n",
       "    <tr>\n",
       "      <th>370</th>\n",
       "      <td>/zapas/2898269</td>\n",
       "      <td>Dallas Stars</td>\n",
       "      <td>Arizona Coyotes</td>\n",
       "      <td>3</td>\n",
       "      <td>4</td>\n",
       "      <td>1</td>\n",
       "      <td>1.0</td>\n",
       "      <td>2.0</td>\n",
       "      <td>0.0</td>\n",
       "      <td>2.0</td>\n",
       "      <td>4.0</td>\n",
       "      <td>3.0</td>\n",
       "      <td>1.0</td>\n",
       "      <td>Dallas Stars</td>\n",
       "      <td>Arizona Coyotes</td>\n",
       "    </tr>\n",
       "    <tr>\n",
       "      <th>371</th>\n",
       "      <td>/zapas/2898280</td>\n",
       "      <td>Arizona Coyotes</td>\n",
       "      <td>Nashville Predators</td>\n",
       "      <td>5</td>\n",
       "      <td>4</td>\n",
       "      <td>0</td>\n",
       "      <td>3.0</td>\n",
       "      <td>0.0</td>\n",
       "      <td>1.0</td>\n",
       "      <td>3.0</td>\n",
       "      <td>5.0</td>\n",
       "      <td>4.0</td>\n",
       "      <td>1.0</td>\n",
       "      <td>Nashville Predators</td>\n",
       "      <td>Arizona Coyotes</td>\n",
       "    </tr>\n",
       "  </tbody>\n",
       "</table>\n",
       "<p>372 rows × 15 columns</p>\n",
       "</div>"
      ],
      "text/plain": [
       "            game_id             team_home             team_away  goals_home  \\\n",
       "0    /zapas/2526065         Anaheim Ducks       Arizona Coyotes           5   \n",
       "1    /zapas/2526080       Arizona Coyotes  Vegas Golden Knights           1   \n",
       "2    /zapas/2526099  Vegas Golden Knights       Arizona Coyotes           5   \n",
       "3    /zapas/2526110       Arizona Coyotes     Detroit Red Wings           2   \n",
       "4    /zapas/2526126       Arizona Coyotes         Boston Bruins           2   \n",
       "..              ...                   ...                   ...         ...   \n",
       "367  /zapas/2898225       Arizona Coyotes   Washington Capitals           0   \n",
       "368  /zapas/2898229       Arizona Coyotes       St. Louis Blues           4   \n",
       "369  /zapas/2898258        Minnesota Wild       Arizona Coyotes           3   \n",
       "370  /zapas/2898269          Dallas Stars       Arizona Coyotes           3   \n",
       "371  /zapas/2898280       Arizona Coyotes   Nashville Predators           5   \n",
       "\n",
       "     goals_away  OT  points_home  points_away  TOI_home  TOI_points  \\\n",
       "0             4   0          3.0          0.0       0.0         0.0   \n",
       "1             2   1          1.0          2.0       1.0         1.0   \n",
       "2             2   0          3.0          0.0       0.0         0.0   \n",
       "3             4   0          0.0          3.0       1.0         0.0   \n",
       "4             6   0          0.0          3.0       1.0         0.0   \n",
       "..          ...  ..          ...          ...       ...         ...   \n",
       "367           2   0          0.0          3.0       1.0         0.0   \n",
       "368           5   1          1.0          2.0       1.0         1.0   \n",
       "369           5   0          0.0          3.0       0.0         3.0   \n",
       "370           4   1          1.0          2.0       0.0         2.0   \n",
       "371           4   0          3.0          0.0       1.0         3.0   \n",
       "\n",
       "     TOI_goals_scored  TOI_goals_rec  TOI_result            other_team  \\\n",
       "0                 4.0            5.0         0.0         Anaheim Ducks   \n",
       "1                 1.0            2.0         0.0  Vegas Golden Knights   \n",
       "2                 2.0            5.0         0.0  Vegas Golden Knights   \n",
       "3                 2.0            4.0         0.0     Detroit Red Wings   \n",
       "4                 2.0            6.0         0.0         Boston Bruins   \n",
       "..                ...            ...         ...                   ...   \n",
       "367               0.0            2.0         0.0   Washington Capitals   \n",
       "368               4.0            5.0         0.0       St. Louis Blues   \n",
       "369               5.0            3.0         1.0        Minnesota Wild   \n",
       "370               4.0            3.0         1.0          Dallas Stars   \n",
       "371               5.0            4.0         1.0   Nashville Predators   \n",
       "\n",
       "                 TOI  \n",
       "0    Arizona Coyotes  \n",
       "1    Arizona Coyotes  \n",
       "2    Arizona Coyotes  \n",
       "3    Arizona Coyotes  \n",
       "4    Arizona Coyotes  \n",
       "..               ...  \n",
       "367  Arizona Coyotes  \n",
       "368  Arizona Coyotes  \n",
       "369  Arizona Coyotes  \n",
       "370  Arizona Coyotes  \n",
       "371  Arizona Coyotes  \n",
       "\n",
       "[372 rows x 15 columns]"
      ]
     },
     "execution_count": 22,
     "metadata": {},
     "output_type": "execute_result"
    }
   ],
   "source": [
    "#this scrapes a lot of data - it takes about 2 minutes\n",
    "individual_teams = []\n",
    "for team in distinct_teams:\n",
    "    one_team = []\n",
    "    for season in seasons_used:\n",
    "        one_team.append(One_team_season(team, season).create_model_df())\n",
    "    one_team = pd.concat(one_team, ignore_index=True)\n",
    "    individual_teams.append(one_team)\n",
    "\n",
    "individual_teams[1] #looks promising"
   ]
  },
  {
   "cell_type": "code",
   "execution_count": 23,
   "id": "767e9721",
   "metadata": {},
   "outputs": [],
   "source": [
    "#this calculates the data for last 20 games which we use for our model\n",
    "def create_final_df(df):\n",
    "    TOI_points_tot = [None] * 20\n",
    "    TOI_goals_scored_tot = [None] * 20\n",
    "    TOI_goals_rec_tot = [None] * 20\n",
    "    for x in range(len(df)):\n",
    "        if x > 19:\n",
    "            TOI_points_tot.append(int(df[['TOI_points']][x-20:x].sum()))\n",
    "            TOI_goals_scored_tot.append(int(df[['TOI_goals_scored']][x-20:x].sum()))\n",
    "            TOI_goals_rec_tot.append(int(df[['TOI_goals_rec']][x-20:x].sum()))\n",
    "    df['TOI_points_tot'] = TOI_points_tot\n",
    "    df['TOI_goals_scored_tot'] = TOI_goals_scored_tot\n",
    "    df['TOI_goals_rec_tot'] = TOI_goals_rec_tot\n",
    "    return df[['game_id', 'TOI_result', 'TOI_home','TOI', 'other_team', 'TOI_points_tot',\n",
    "               'TOI_goals_scored_tot', 'TOI_goals_rec_tot']][20:]"
   ]
  },
  {
   "cell_type": "code",
   "execution_count": 24,
   "id": "1f1170e4",
   "metadata": {},
   "outputs": [],
   "source": [
    "#dataframe containing last 20 games data for each game of each team\n",
    "final_dfs = []\n",
    "for team in individual_teams:\n",
    "    final = create_final_df(team)\n",
    "    final_dfs.append(final)"
   ]
  },
  {
   "cell_type": "code",
   "execution_count": 25,
   "id": "315d8e6e",
   "metadata": {},
   "outputs": [
    {
     "data": {
      "text/html": [
       "<div>\n",
       "<style scoped>\n",
       "    .dataframe tbody tr th:only-of-type {\n",
       "        vertical-align: middle;\n",
       "    }\n",
       "\n",
       "    .dataframe tbody tr th {\n",
       "        vertical-align: top;\n",
       "    }\n",
       "\n",
       "    .dataframe thead th {\n",
       "        text-align: right;\n",
       "    }\n",
       "</style>\n",
       "<table border=\"1\" class=\"dataframe\">\n",
       "  <thead>\n",
       "    <tr style=\"text-align: right;\">\n",
       "      <th></th>\n",
       "      <th>game_id</th>\n",
       "      <th>TOI_result</th>\n",
       "      <th>TOI_home</th>\n",
       "      <th>TOI</th>\n",
       "      <th>other_team</th>\n",
       "      <th>TOI_points_tot</th>\n",
       "      <th>TOI_goals_scored_tot</th>\n",
       "      <th>TOI_goals_rec_tot</th>\n",
       "    </tr>\n",
       "  </thead>\n",
       "  <tbody>\n",
       "    <tr>\n",
       "      <th>20</th>\n",
       "      <td>/zapas/2526373</td>\n",
       "      <td>1.0</td>\n",
       "      <td>0.0</td>\n",
       "      <td>Minnesota Wild</td>\n",
       "      <td>Buffalo Sabres</td>\n",
       "      <td>30.0</td>\n",
       "      <td>59.0</td>\n",
       "      <td>55.0</td>\n",
       "    </tr>\n",
       "    <tr>\n",
       "      <th>21</th>\n",
       "      <td>/zapas/2526390</td>\n",
       "      <td>1.0</td>\n",
       "      <td>1.0</td>\n",
       "      <td>Minnesota Wild</td>\n",
       "      <td>Colorado Avalanche</td>\n",
       "      <td>33.0</td>\n",
       "      <td>62.0</td>\n",
       "      <td>55.0</td>\n",
       "    </tr>\n",
       "    <tr>\n",
       "      <th>22</th>\n",
       "      <td>/zapas/2526409</td>\n",
       "      <td>0.0</td>\n",
       "      <td>0.0</td>\n",
       "      <td>Minnesota Wild</td>\n",
       "      <td>St. Louis Blues</td>\n",
       "      <td>34.0</td>\n",
       "      <td>61.0</td>\n",
       "      <td>52.0</td>\n",
       "    </tr>\n",
       "    <tr>\n",
       "      <th>23</th>\n",
       "      <td>/zapas/2526419</td>\n",
       "      <td>0.0</td>\n",
       "      <td>0.0</td>\n",
       "      <td>Minnesota Wild</td>\n",
       "      <td>Winnipeg Jets</td>\n",
       "      <td>31.0</td>\n",
       "      <td>59.0</td>\n",
       "      <td>56.0</td>\n",
       "    </tr>\n",
       "    <tr>\n",
       "      <th>24</th>\n",
       "      <td>/zapas/2526438</td>\n",
       "      <td>1.0</td>\n",
       "      <td>1.0</td>\n",
       "      <td>Minnesota Wild</td>\n",
       "      <td>Vegas Golden Knights</td>\n",
       "      <td>30.0</td>\n",
       "      <td>57.0</td>\n",
       "      <td>58.0</td>\n",
       "    </tr>\n",
       "  </tbody>\n",
       "</table>\n",
       "</div>"
      ],
      "text/plain": [
       "           game_id  TOI_result  TOI_home             TOI  \\\n",
       "20  /zapas/2526373         1.0       0.0  Minnesota Wild   \n",
       "21  /zapas/2526390         1.0       1.0  Minnesota Wild   \n",
       "22  /zapas/2526409         0.0       0.0  Minnesota Wild   \n",
       "23  /zapas/2526419         0.0       0.0  Minnesota Wild   \n",
       "24  /zapas/2526438         1.0       1.0  Minnesota Wild   \n",
       "\n",
       "              other_team  TOI_points_tot  TOI_goals_scored_tot  \\\n",
       "20        Buffalo Sabres            30.0                  59.0   \n",
       "21    Colorado Avalanche            33.0                  62.0   \n",
       "22       St. Louis Blues            34.0                  61.0   \n",
       "23         Winnipeg Jets            31.0                  59.0   \n",
       "24  Vegas Golden Knights            30.0                  57.0   \n",
       "\n",
       "    TOI_goals_rec_tot  \n",
       "20               55.0  \n",
       "21               55.0  \n",
       "22               52.0  \n",
       "23               56.0  \n",
       "24               58.0  "
      ]
     },
     "execution_count": 25,
     "metadata": {},
     "output_type": "execute_result"
    }
   ],
   "source": [
    "final_dfs[14].head()"
   ]
  },
  {
   "cell_type": "markdown",
   "id": "51f8662f",
   "metadata": {},
   "source": [
    "## Choosing two teams and building the model"
   ]
  },
  {
   "cell_type": "code",
   "execution_count": 26,
   "id": "18dfa180",
   "metadata": {},
   "outputs": [],
   "source": [
    "team_1 = \"Vegas Golden Knights\"\n",
    "team_2 = \"Winnipeg Jets\""
   ]
  },
  {
   "cell_type": "code",
   "execution_count": 27,
   "id": "3fa4b8ee",
   "metadata": {},
   "outputs": [],
   "source": [
    "team_1_index = distinct_teams.index(team_1)\n",
    "team_2_index = distinct_teams.index(team_2)"
   ]
  },
  {
   "cell_type": "code",
   "execution_count": 28,
   "id": "7d8d1f29",
   "metadata": {},
   "outputs": [
    {
     "data": {
      "text/html": [
       "<div>\n",
       "<style scoped>\n",
       "    .dataframe tbody tr th:only-of-type {\n",
       "        vertical-align: middle;\n",
       "    }\n",
       "\n",
       "    .dataframe tbody tr th {\n",
       "        vertical-align: top;\n",
       "    }\n",
       "\n",
       "    .dataframe thead th {\n",
       "        text-align: right;\n",
       "    }\n",
       "</style>\n",
       "<table border=\"1\" class=\"dataframe\">\n",
       "  <thead>\n",
       "    <tr style=\"text-align: right;\">\n",
       "      <th></th>\n",
       "      <th>game_id</th>\n",
       "      <th>TOI_result</th>\n",
       "      <th>TOI_home</th>\n",
       "      <th>TOI</th>\n",
       "      <th>other_team</th>\n",
       "      <th>TOI_points_tot</th>\n",
       "      <th>TOI_goals_scored_tot</th>\n",
       "      <th>TOI_goals_rec_tot</th>\n",
       "    </tr>\n",
       "  </thead>\n",
       "  <tbody>\n",
       "    <tr>\n",
       "      <th>20</th>\n",
       "      <td>/zapas/2526401</td>\n",
       "      <td>1.0</td>\n",
       "      <td>1.0</td>\n",
       "      <td>Vegas Golden Knights</td>\n",
       "      <td>San Jose Sharks</td>\n",
       "      <td>37.0</td>\n",
       "      <td>72.0</td>\n",
       "      <td>60.0</td>\n",
       "    </tr>\n",
       "    <tr>\n",
       "      <th>21</th>\n",
       "      <td>/zapas/2526408</td>\n",
       "      <td>1.0</td>\n",
       "      <td>0.0</td>\n",
       "      <td>Vegas Golden Knights</td>\n",
       "      <td>Arizona Coyotes</td>\n",
       "      <td>36.0</td>\n",
       "      <td>75.0</td>\n",
       "      <td>63.0</td>\n",
       "    </tr>\n",
       "    <tr>\n",
       "      <th>22</th>\n",
       "      <td>/zapas/2526430</td>\n",
       "      <td>0.0</td>\n",
       "      <td>1.0</td>\n",
       "      <td>Vegas Golden Knights</td>\n",
       "      <td>Dallas Stars</td>\n",
       "      <td>37.0</td>\n",
       "      <td>77.0</td>\n",
       "      <td>64.0</td>\n",
       "    </tr>\n",
       "    <tr>\n",
       "      <th>23</th>\n",
       "      <td>/zapas/2526438</td>\n",
       "      <td>0.0</td>\n",
       "      <td>0.0</td>\n",
       "      <td>Vegas Golden Knights</td>\n",
       "      <td>Minnesota Wild</td>\n",
       "      <td>34.0</td>\n",
       "      <td>72.0</td>\n",
       "      <td>65.0</td>\n",
       "    </tr>\n",
       "    <tr>\n",
       "      <th>24</th>\n",
       "      <td>/zapas/2526448</td>\n",
       "      <td>0.0</td>\n",
       "      <td>0.0</td>\n",
       "      <td>Vegas Golden Knights</td>\n",
       "      <td>Winnipeg Jets</td>\n",
       "      <td>34.0</td>\n",
       "      <td>71.0</td>\n",
       "      <td>63.0</td>\n",
       "    </tr>\n",
       "    <tr>\n",
       "      <th>...</th>\n",
       "      <td>...</td>\n",
       "      <td>...</td>\n",
       "      <td>...</td>\n",
       "      <td>...</td>\n",
       "      <td>...</td>\n",
       "      <td>...</td>\n",
       "      <td>...</td>\n",
       "      <td>...</td>\n",
       "    </tr>\n",
       "    <tr>\n",
       "      <th>368</th>\n",
       "      <td>/zapas/2898210</td>\n",
       "      <td>1.0</td>\n",
       "      <td>1.0</td>\n",
       "      <td>Vegas Golden Knights</td>\n",
       "      <td>Washington Capitals</td>\n",
       "      <td>26.0</td>\n",
       "      <td>62.0</td>\n",
       "      <td>62.0</td>\n",
       "    </tr>\n",
       "    <tr>\n",
       "      <th>369</th>\n",
       "      <td>/zapas/2898241</td>\n",
       "      <td>0.0</td>\n",
       "      <td>1.0</td>\n",
       "      <td>Vegas Golden Knights</td>\n",
       "      <td>San Jose Sharks</td>\n",
       "      <td>28.0</td>\n",
       "      <td>65.0</td>\n",
       "      <td>63.0</td>\n",
       "    </tr>\n",
       "    <tr>\n",
       "      <th>370</th>\n",
       "      <td>/zapas/2898257</td>\n",
       "      <td>0.0</td>\n",
       "      <td>0.0</td>\n",
       "      <td>Vegas Golden Knights</td>\n",
       "      <td>Dallas Stars</td>\n",
       "      <td>29.0</td>\n",
       "      <td>68.0</td>\n",
       "      <td>65.0</td>\n",
       "    </tr>\n",
       "    <tr>\n",
       "      <th>371</th>\n",
       "      <td>/zapas/2898268</td>\n",
       "      <td>0.0</td>\n",
       "      <td>0.0</td>\n",
       "      <td>Vegas Golden Knights</td>\n",
       "      <td>Chicago Blackhawks</td>\n",
       "      <td>30.0</td>\n",
       "      <td>68.0</td>\n",
       "      <td>63.0</td>\n",
       "    </tr>\n",
       "    <tr>\n",
       "      <th>372</th>\n",
       "      <td>/zapas/2898282</td>\n",
       "      <td>1.0</td>\n",
       "      <td>0.0</td>\n",
       "      <td>Vegas Golden Knights</td>\n",
       "      <td>St. Louis Blues</td>\n",
       "      <td>31.0</td>\n",
       "      <td>67.0</td>\n",
       "      <td>61.0</td>\n",
       "    </tr>\n",
       "  </tbody>\n",
       "</table>\n",
       "<p>353 rows × 8 columns</p>\n",
       "</div>"
      ],
      "text/plain": [
       "            game_id  TOI_result  TOI_home                   TOI  \\\n",
       "20   /zapas/2526401         1.0       1.0  Vegas Golden Knights   \n",
       "21   /zapas/2526408         1.0       0.0  Vegas Golden Knights   \n",
       "22   /zapas/2526430         0.0       1.0  Vegas Golden Knights   \n",
       "23   /zapas/2526438         0.0       0.0  Vegas Golden Knights   \n",
       "24   /zapas/2526448         0.0       0.0  Vegas Golden Knights   \n",
       "..              ...         ...       ...                   ...   \n",
       "368  /zapas/2898210         1.0       1.0  Vegas Golden Knights   \n",
       "369  /zapas/2898241         0.0       1.0  Vegas Golden Knights   \n",
       "370  /zapas/2898257         0.0       0.0  Vegas Golden Knights   \n",
       "371  /zapas/2898268         0.0       0.0  Vegas Golden Knights   \n",
       "372  /zapas/2898282         1.0       0.0  Vegas Golden Knights   \n",
       "\n",
       "              other_team  TOI_points_tot  TOI_goals_scored_tot  \\\n",
       "20       San Jose Sharks            37.0                  72.0   \n",
       "21       Arizona Coyotes            36.0                  75.0   \n",
       "22          Dallas Stars            37.0                  77.0   \n",
       "23        Minnesota Wild            34.0                  72.0   \n",
       "24         Winnipeg Jets            34.0                  71.0   \n",
       "..                   ...             ...                   ...   \n",
       "368  Washington Capitals            26.0                  62.0   \n",
       "369      San Jose Sharks            28.0                  65.0   \n",
       "370         Dallas Stars            29.0                  68.0   \n",
       "371   Chicago Blackhawks            30.0                  68.0   \n",
       "372      St. Louis Blues            31.0                  67.0   \n",
       "\n",
       "     TOI_goals_rec_tot  \n",
       "20                60.0  \n",
       "21                63.0  \n",
       "22                64.0  \n",
       "23                65.0  \n",
       "24                63.0  \n",
       "..                 ...  \n",
       "368               62.0  \n",
       "369               63.0  \n",
       "370               65.0  \n",
       "371               63.0  \n",
       "372               61.0  \n",
       "\n",
       "[353 rows x 8 columns]"
      ]
     },
     "execution_count": 28,
     "metadata": {},
     "output_type": "execute_result"
    }
   ],
   "source": [
    "matches_team_1 = final_dfs[team_1_index]\n",
    "matches_team_1"
   ]
  },
  {
   "cell_type": "markdown",
   "id": "1b674162",
   "metadata": {},
   "source": [
    "### Adding info about other team to the df"
   ]
  },
  {
   "cell_type": "code",
   "execution_count": 29,
   "id": "411256d0",
   "metadata": {},
   "outputs": [],
   "source": [
    "other_team_points_tot = []\n",
    "other_team_goals_scored_tot = []\n",
    "other_team_goals_rec_tot = []\n",
    "for observation in range(len(matches_team_1)):\n",
    "    other_team = matches_team_1.iat[observation,4]\n",
    "    other_team_index = distinct_teams.index(other_team)\n",
    "    other_team_df = final_dfs[other_team_index]\n",
    "    game_id = matches_team_1.iat[observation,0]\n",
    "    radek = other_team_df.loc[other_team_df['game_id'] == game_id]\n",
    "    if radek.empty: #it is possible that the other team has not played 20 games yet\n",
    "        other_team_points_tot.append(np.nan)\n",
    "        other_team_goals_scored_tot.append(np.nan)\n",
    "        other_team_goals_rec_tot.append(np.nan)\n",
    "    else:\n",
    "        other_team_points_tot.append(radek.iat[0,5])\n",
    "        other_team_goals_scored_tot.append(radek.iat[0,6])\n",
    "        other_team_goals_rec_tot.append(radek.iat[0,7])"
   ]
  },
  {
   "cell_type": "code",
   "execution_count": 30,
   "id": "e5e69b80",
   "metadata": {},
   "outputs": [],
   "source": [
    "matches_team_1['other_team_points_tot'] = other_team_points_tot\n",
    "matches_team_1['other_team_goals_scored_tot'] = other_team_goals_scored_tot\n",
    "matches_team_1['other_team_goals_rec_tot'] = other_team_goals_rec_tot\n",
    "matches_team_1 = matches_team_1.dropna()"
   ]
  },
  {
   "cell_type": "code",
   "execution_count": 31,
   "id": "6e8a4f7f",
   "metadata": {},
   "outputs": [],
   "source": [
    "#transforming to integers and dropping unnecessary columns\n",
    "matches_team_1[['TOI_result','TOI_home']] = matches_team_1[['TOI_result','TOI_home']].astype(int)\n",
    "matches_team_1 = matches_team_1.drop(columns=['game_id', 'TOI','other_team'])"
   ]
  },
  {
   "cell_type": "markdown",
   "id": "c5bd5147",
   "metadata": {},
   "source": [
    "#### Defining the independent and dependent variables"
   ]
  },
  {
   "cell_type": "code",
   "execution_count": 32,
   "id": "29e1b19a",
   "metadata": {},
   "outputs": [],
   "source": [
    "#independent\n",
    "x = matches_team_1.iloc[:, 1:].values\n",
    "#dependent - the result\n",
    "y = matches_team_1.iloc[:, 0].values"
   ]
  },
  {
   "cell_type": "markdown",
   "id": "a86f47d7",
   "metadata": {},
   "source": [
    "#### Splitting into training and test set"
   ]
  },
  {
   "cell_type": "code",
   "execution_count": 33,
   "id": "144103ad",
   "metadata": {},
   "outputs": [],
   "source": [
    "X_train, X_test, y_train, y_test = train_test_split(x, y, test_size = 0.1, random_state = 0)"
   ]
  },
  {
   "cell_type": "code",
   "execution_count": 34,
   "id": "69b803cb",
   "metadata": {},
   "outputs": [
    {
     "data": {
      "text/plain": [
       "array([[ 1., 31., 70., 67., 26., 54., 63.],\n",
       "       [ 0., 34., 68., 54., 28., 62., 68.],\n",
       "       [ 0., 39., 78., 60., 21., 54., 71.],\n",
       "       [ 1., 42., 69., 52., 28., 55., 52.],\n",
       "       [ 1., 29., 64., 57., 35., 71., 61.]])"
      ]
     },
     "execution_count": 34,
     "metadata": {},
     "output_type": "execute_result"
    }
   ],
   "source": [
    "X_test[:5]"
   ]
  },
  {
   "cell_type": "code",
   "execution_count": 35,
   "id": "8a9ef427",
   "metadata": {},
   "outputs": [],
   "source": [
    "#rescaling everything except the \"home\" dummy ... and then adding the dummy back\n",
    "scaler = StandardScaler()\n",
    "X_train_stand = scaler.fit_transform(X_train[:,1:])\n",
    "X_test_stand = scaler.transform(X_test[:,1:])\n",
    "X_train_stand = np.insert(X_train_stand,0,X_train[:,0],axis=1)\n",
    "X_test_stand = np.insert(X_test_stand,0,X_test[:,0],axis=1)"
   ]
  },
  {
   "cell_type": "markdown",
   "id": "ac8bf2fa",
   "metadata": {},
   "source": [
    "#### The model and predictions"
   ]
  },
  {
   "cell_type": "code",
   "execution_count": 36,
   "id": "a3539444",
   "metadata": {},
   "outputs": [],
   "source": [
    "reg = LogisticRegression()\n",
    "reg.fit(X_train, y_train)\n",
    "y_pred = reg.predict(X_test)"
   ]
  },
  {
   "cell_type": "code",
   "execution_count": 37,
   "id": "a9adfad9",
   "metadata": {},
   "outputs": [
    {
     "name": "stdout",
     "output_type": "stream",
     "text": [
      "[[ 3 13]\n",
      " [ 1 19]]\n"
     ]
    }
   ],
   "source": [
    "#how well does the model perform?\n",
    "conf_matrix = confusion_matrix(y_test, y_pred)\n",
    "print(conf_matrix)"
   ]
  },
  {
   "cell_type": "code",
   "execution_count": 38,
   "id": "1bda9cb7",
   "metadata": {},
   "outputs": [
    {
     "name": "stdout",
     "output_type": "stream",
     "text": [
      "Accuracy :  \n",
      " 0.6111111111111112\n"
     ]
    }
   ],
   "source": [
    "print(\"Accuracy :  \\n\", accuracy_score(y_test, y_pred))"
   ]
  },
  {
   "cell_type": "code",
   "execution_count": 39,
   "id": "2c1529d0",
   "metadata": {},
   "outputs": [
    {
     "data": {
      "text/html": [
       "<div>\n",
       "<style scoped>\n",
       "    .dataframe tbody tr th:only-of-type {\n",
       "        vertical-align: middle;\n",
       "    }\n",
       "\n",
       "    .dataframe tbody tr th {\n",
       "        vertical-align: top;\n",
       "    }\n",
       "\n",
       "    .dataframe thead th {\n",
       "        text-align: right;\n",
       "    }\n",
       "</style>\n",
       "<table border=\"1\" class=\"dataframe\">\n",
       "  <thead>\n",
       "    <tr style=\"text-align: right;\">\n",
       "      <th></th>\n",
       "      <th>game_id</th>\n",
       "      <th>TOI_result</th>\n",
       "      <th>TOI_home</th>\n",
       "      <th>TOI</th>\n",
       "      <th>other_team</th>\n",
       "      <th>TOI_points_tot</th>\n",
       "      <th>TOI_goals_scored_tot</th>\n",
       "      <th>TOI_goals_rec_tot</th>\n",
       "    </tr>\n",
       "  </thead>\n",
       "  <tbody>\n",
       "    <tr>\n",
       "      <th>20</th>\n",
       "      <td>/zapas/2526387</td>\n",
       "      <td>1.0</td>\n",
       "      <td>0.0</td>\n",
       "      <td>Winnipeg Jets</td>\n",
       "      <td>Los Angeles Kings</td>\n",
       "      <td>38.0</td>\n",
       "      <td>67.0</td>\n",
       "      <td>56.0</td>\n",
       "    </tr>\n",
       "    <tr>\n",
       "      <th>21</th>\n",
       "      <td>/zapas/2526389</td>\n",
       "      <td>1.0</td>\n",
       "      <td>0.0</td>\n",
       "      <td>Winnipeg Jets</td>\n",
       "      <td>Anaheim Ducks</td>\n",
       "      <td>41.0</td>\n",
       "      <td>67.0</td>\n",
       "      <td>50.0</td>\n",
       "    </tr>\n",
       "    <tr>\n",
       "      <th>22</th>\n",
       "      <td>/zapas/2526410</td>\n",
       "      <td>0.0</td>\n",
       "      <td>0.0</td>\n",
       "      <td>Winnipeg Jets</td>\n",
       "      <td>San Jose Sharks</td>\n",
       "      <td>44.0</td>\n",
       "      <td>68.0</td>\n",
       "      <td>45.0</td>\n",
       "    </tr>\n",
       "    <tr>\n",
       "      <th>23</th>\n",
       "      <td>/zapas/2526419</td>\n",
       "      <td>1.0</td>\n",
       "      <td>1.0</td>\n",
       "      <td>Winnipeg Jets</td>\n",
       "      <td>Minnesota Wild</td>\n",
       "      <td>41.0</td>\n",
       "      <td>63.0</td>\n",
       "      <td>47.0</td>\n",
       "    </tr>\n",
       "    <tr>\n",
       "      <th>24</th>\n",
       "      <td>/zapas/2526434</td>\n",
       "      <td>0.0</td>\n",
       "      <td>0.0</td>\n",
       "      <td>Winnipeg Jets</td>\n",
       "      <td>Colorado Avalanche</td>\n",
       "      <td>41.0</td>\n",
       "      <td>66.0</td>\n",
       "      <td>47.0</td>\n",
       "    </tr>\n",
       "    <tr>\n",
       "      <th>...</th>\n",
       "      <td>...</td>\n",
       "      <td>...</td>\n",
       "      <td>...</td>\n",
       "      <td>...</td>\n",
       "      <td>...</td>\n",
       "      <td>...</td>\n",
       "      <td>...</td>\n",
       "      <td>...</td>\n",
       "    </tr>\n",
       "    <tr>\n",
       "      <th>368</th>\n",
       "      <td>/zapas/2898224</td>\n",
       "      <td>0.0</td>\n",
       "      <td>0.0</td>\n",
       "      <td>Winnipeg Jets</td>\n",
       "      <td>Carolina Hurricanes</td>\n",
       "      <td>27.0</td>\n",
       "      <td>61.0</td>\n",
       "      <td>70.0</td>\n",
       "    </tr>\n",
       "    <tr>\n",
       "      <th>369</th>\n",
       "      <td>/zapas/2898244</td>\n",
       "      <td>1.0</td>\n",
       "      <td>1.0</td>\n",
       "      <td>Winnipeg Jets</td>\n",
       "      <td>Colorado Avalanche</td>\n",
       "      <td>24.0</td>\n",
       "      <td>61.0</td>\n",
       "      <td>73.0</td>\n",
       "    </tr>\n",
       "    <tr>\n",
       "      <th>370</th>\n",
       "      <td>/zapas/2898270</td>\n",
       "      <td>1.0</td>\n",
       "      <td>1.0</td>\n",
       "      <td>Winnipeg Jets</td>\n",
       "      <td>Philadelphia Flyers</td>\n",
       "      <td>27.0</td>\n",
       "      <td>63.0</td>\n",
       "      <td>69.0</td>\n",
       "    </tr>\n",
       "    <tr>\n",
       "      <th>371</th>\n",
       "      <td>/zapas/2898285</td>\n",
       "      <td>1.0</td>\n",
       "      <td>1.0</td>\n",
       "      <td>Winnipeg Jets</td>\n",
       "      <td>Calgary Flames</td>\n",
       "      <td>28.0</td>\n",
       "      <td>63.0</td>\n",
       "      <td>66.0</td>\n",
       "    </tr>\n",
       "    <tr>\n",
       "      <th>372</th>\n",
       "      <td>/zapas/2898159</td>\n",
       "      <td>1.0</td>\n",
       "      <td>1.0</td>\n",
       "      <td>Winnipeg Jets</td>\n",
       "      <td>Seattle Kraken</td>\n",
       "      <td>28.0</td>\n",
       "      <td>59.0</td>\n",
       "      <td>64.0</td>\n",
       "    </tr>\n",
       "  </tbody>\n",
       "</table>\n",
       "<p>353 rows × 8 columns</p>\n",
       "</div>"
      ],
      "text/plain": [
       "            game_id  TOI_result  TOI_home            TOI           other_team  \\\n",
       "20   /zapas/2526387         1.0       0.0  Winnipeg Jets    Los Angeles Kings   \n",
       "21   /zapas/2526389         1.0       0.0  Winnipeg Jets        Anaheim Ducks   \n",
       "22   /zapas/2526410         0.0       0.0  Winnipeg Jets      San Jose Sharks   \n",
       "23   /zapas/2526419         1.0       1.0  Winnipeg Jets       Minnesota Wild   \n",
       "24   /zapas/2526434         0.0       0.0  Winnipeg Jets   Colorado Avalanche   \n",
       "..              ...         ...       ...            ...                  ...   \n",
       "368  /zapas/2898224         0.0       0.0  Winnipeg Jets  Carolina Hurricanes   \n",
       "369  /zapas/2898244         1.0       1.0  Winnipeg Jets   Colorado Avalanche   \n",
       "370  /zapas/2898270         1.0       1.0  Winnipeg Jets  Philadelphia Flyers   \n",
       "371  /zapas/2898285         1.0       1.0  Winnipeg Jets       Calgary Flames   \n",
       "372  /zapas/2898159         1.0       1.0  Winnipeg Jets       Seattle Kraken   \n",
       "\n",
       "     TOI_points_tot  TOI_goals_scored_tot  TOI_goals_rec_tot  \n",
       "20             38.0                  67.0               56.0  \n",
       "21             41.0                  67.0               50.0  \n",
       "22             44.0                  68.0               45.0  \n",
       "23             41.0                  63.0               47.0  \n",
       "24             41.0                  66.0               47.0  \n",
       "..              ...                   ...                ...  \n",
       "368            27.0                  61.0               70.0  \n",
       "369            24.0                  61.0               73.0  \n",
       "370            27.0                  63.0               69.0  \n",
       "371            28.0                  63.0               66.0  \n",
       "372            28.0                  59.0               64.0  \n",
       "\n",
       "[353 rows x 8 columns]"
      ]
     },
     "execution_count": 39,
     "metadata": {},
     "output_type": "execute_result"
    }
   ],
   "source": [
    "matches_team_2 = final_dfs[team_2_index]\n",
    "matches_team_2"
   ]
  },
  {
   "cell_type": "markdown",
   "id": "993f1da9",
   "metadata": {},
   "source": [
    "### the final prediction"
   ]
  },
  {
   "cell_type": "code",
   "execution_count": 40,
   "id": "044cd200",
   "metadata": {},
   "outputs": [
    {
     "data": {
      "text/plain": [
       "array([34., 71., 58.])"
      ]
     },
     "execution_count": 40,
     "metadata": {},
     "output_type": "execute_result"
    }
   ],
   "source": [
    "#je to v poradi points-goals scored-goals received\n",
    "pred_team_1 = individual_teams[team_1_index][['TOI_points', 'TOI_goals_scored', 'TOI_goals_rec']].tail(20).sum().values\n",
    "pred_team_1"
   ]
  },
  {
   "cell_type": "code",
   "execution_count": 41,
   "id": "6ed9c242",
   "metadata": {},
   "outputs": [
    {
     "data": {
      "text/plain": [
       "array([31., 61., 63.])"
      ]
     },
     "execution_count": 41,
     "metadata": {},
     "output_type": "execute_result"
    }
   ],
   "source": [
    "pred_team_2 = individual_teams[team_2_index][['TOI_points', 'TOI_goals_scored', 'TOI_goals_rec']].tail(20).sum().values\n",
    "pred_team_2"
   ]
  },
  {
   "cell_type": "code",
   "execution_count": 42,
   "id": "0e1b6eb2",
   "metadata": {},
   "outputs": [],
   "source": [
    "TOI_home = np.array([1])"
   ]
  },
  {
   "cell_type": "code",
   "execution_count": 43,
   "id": "8dcd6947",
   "metadata": {},
   "outputs": [],
   "source": [
    "values_to_fit = np.concatenate([TOI_home, pred_team_1, pred_team_2]).reshape(1, -1)"
   ]
  },
  {
   "cell_type": "code",
   "execution_count": 44,
   "id": "93d32e5b",
   "metadata": {},
   "outputs": [
    {
     "data": {
      "text/plain": [
       "array([1])"
      ]
     },
     "execution_count": 44,
     "metadata": {},
     "output_type": "execute_result"
    }
   ],
   "source": [
    "final_pred = reg.predict(values_to_fit)\n",
    "final_pred"
   ]
  },
  {
   "cell_type": "code",
   "execution_count": 45,
   "id": "b0bbe078",
   "metadata": {},
   "outputs": [
    {
     "name": "stdout",
     "output_type": "stream",
     "text": [
      "The team Vegas Golden Knights is predicted to win this game.\n"
     ]
    }
   ],
   "source": [
    "if final_pred[0] == 1:\n",
    "    print('The team', team_1, \"is predicted to win this game.\")\n",
    "elif final_pred[0] == 0:\n",
    "    print('The team', team_2, \"is predicted to win this game.\")\n",
    "else:\n",
    "    print('An error occured along the way. Please try again.')"
   ]
  },
  {
   "cell_type": "code",
   "execution_count": null,
   "id": "2729fdfc",
   "metadata": {},
   "outputs": [],
   "source": []
  },
  {
   "cell_type": "markdown",
   "id": "73159c73",
   "metadata": {},
   "source": [
    "### Calculating Home Advantage"
   ]
  },
  {
   "cell_type": "code",
   "execution_count": 46,
   "id": "f401915f",
   "metadata": {},
   "outputs": [
    {
     "data": {
      "text/plain": [
       "0.5121951219512195"
      ]
     },
     "execution_count": 46,
     "metadata": {},
     "output_type": "execute_result"
    }
   ],
   "source": [
    "sum_wins_home = sum(df[\"goals_home\"] > df[\"goals_away\"])\n",
    "sum_wins_away = sum(df[\"goals_home\"] < df[\"goals_away\"])\n",
    " \n",
    "home_winrate = sum_wins_home/(sum_wins_home+sum_wins_away)\n",
    "home_winrate\n"
   ]
  },
  {
   "cell_type": "markdown",
   "id": "8cfc0977",
   "metadata": {},
   "source": [
    "### After picking 2 teams both their final_dfs are found, saved and displayed"
   ]
  },
  {
   "cell_type": "code",
   "execution_count": 47,
   "id": "909eb9f5",
   "metadata": {},
   "outputs": [
    {
     "ename": "KeyError",
     "evalue": "'game_id'",
     "output_type": "error",
     "traceback": [
      "\u001b[1;31m---------------------------------------------------------------------------\u001b[0m",
      "\u001b[1;31mKeyError\u001b[0m                                  Traceback (most recent call last)",
      "\u001b[1;32m~\\AppData\\Local\\Temp/ipykernel_2588/1686119163.py\u001b[0m in \u001b[0;36m<module>\u001b[1;34m\u001b[0m\n\u001b[1;32m----> 1\u001b[1;33m \u001b[0mmatches_between_them\u001b[0m \u001b[1;33m=\u001b[0m \u001b[0mmatches_team_1\u001b[0m\u001b[1;33m.\u001b[0m\u001b[0mmerge\u001b[0m\u001b[1;33m(\u001b[0m\u001b[0mmatches_team_2\u001b[0m\u001b[1;33m,\u001b[0m \u001b[0mleft_on\u001b[0m\u001b[1;33m=\u001b[0m\u001b[1;34m'game_id'\u001b[0m\u001b[1;33m,\u001b[0m \u001b[0mright_on\u001b[0m\u001b[1;33m=\u001b[0m\u001b[1;34m'game_id'\u001b[0m\u001b[1;33m,\u001b[0m\u001b[0msuffixes\u001b[0m\u001b[1;33m=\u001b[0m\u001b[1;33m(\u001b[0m\u001b[1;34m''\u001b[0m\u001b[1;33m,\u001b[0m \u001b[1;34m'2'\u001b[0m\u001b[1;33m)\u001b[0m\u001b[1;33m)\u001b[0m\u001b[1;33m\u001b[0m\u001b[1;33m\u001b[0m\u001b[0m\n\u001b[0m\u001b[0;32m      2\u001b[0m \u001b[0mmatches_between_them\u001b[0m\u001b[1;33m.\u001b[0m\u001b[0mdrop\u001b[0m\u001b[1;33m(\u001b[0m\u001b[0mcolumns\u001b[0m\u001b[1;33m=\u001b[0m\u001b[1;33m[\u001b[0m\u001b[1;34m'TOI_result2'\u001b[0m\u001b[1;33m,\u001b[0m \u001b[1;34m'TOI_home2'\u001b[0m\u001b[1;33m,\u001b[0m\u001b[1;34m'TOI2'\u001b[0m\u001b[1;33m,\u001b[0m\u001b[1;34m'other_team2'\u001b[0m\u001b[1;33m,\u001b[0m\u001b[1;34m'TOI_points_tot2'\u001b[0m\u001b[1;33m,\u001b[0m\u001b[1;34m'TOI_goals_scored_tot2'\u001b[0m\u001b[1;33m,\u001b[0m\u001b[1;34m'TOI_goals_rec_tot2'\u001b[0m\u001b[1;33m]\u001b[0m\u001b[1;33m,\u001b[0m \u001b[0minplace\u001b[0m\u001b[1;33m=\u001b[0m\u001b[1;32mTrue\u001b[0m\u001b[1;33m)\u001b[0m\u001b[1;33m\u001b[0m\u001b[1;33m\u001b[0m\u001b[0m\n\u001b[0;32m      3\u001b[0m \u001b[0mpd\u001b[0m\u001b[1;33m.\u001b[0m\u001b[0mset_option\u001b[0m\u001b[1;33m(\u001b[0m\u001b[1;34m\"display.max_rows\"\u001b[0m\u001b[1;33m,\u001b[0m \u001b[1;32mNone\u001b[0m\u001b[1;33m,\u001b[0m \u001b[1;34m\"display.max_columns\"\u001b[0m\u001b[1;33m,\u001b[0m \u001b[1;32mNone\u001b[0m\u001b[1;33m)\u001b[0m\u001b[1;33m\u001b[0m\u001b[1;33m\u001b[0m\u001b[0m\n\u001b[0;32m      4\u001b[0m \u001b[0mmatches_between_them\u001b[0m\u001b[1;33m\u001b[0m\u001b[1;33m\u001b[0m\u001b[0m\n",
      "\u001b[1;32mD:\\anaconda3\\lib\\site-packages\\pandas\\core\\frame.py\u001b[0m in \u001b[0;36mmerge\u001b[1;34m(self, right, how, on, left_on, right_on, left_index, right_index, sort, suffixes, copy, indicator, validate)\u001b[0m\n\u001b[0;32m   9188\u001b[0m         \u001b[1;32mfrom\u001b[0m \u001b[0mpandas\u001b[0m\u001b[1;33m.\u001b[0m\u001b[0mcore\u001b[0m\u001b[1;33m.\u001b[0m\u001b[0mreshape\u001b[0m\u001b[1;33m.\u001b[0m\u001b[0mmerge\u001b[0m \u001b[1;32mimport\u001b[0m \u001b[0mmerge\u001b[0m\u001b[1;33m\u001b[0m\u001b[1;33m\u001b[0m\u001b[0m\n\u001b[0;32m   9189\u001b[0m \u001b[1;33m\u001b[0m\u001b[0m\n\u001b[1;32m-> 9190\u001b[1;33m         return merge(\n\u001b[0m\u001b[0;32m   9191\u001b[0m             \u001b[0mself\u001b[0m\u001b[1;33m,\u001b[0m\u001b[1;33m\u001b[0m\u001b[1;33m\u001b[0m\u001b[0m\n\u001b[0;32m   9192\u001b[0m             \u001b[0mright\u001b[0m\u001b[1;33m,\u001b[0m\u001b[1;33m\u001b[0m\u001b[1;33m\u001b[0m\u001b[0m\n",
      "\u001b[1;32mD:\\anaconda3\\lib\\site-packages\\pandas\\core\\reshape\\merge.py\u001b[0m in \u001b[0;36mmerge\u001b[1;34m(left, right, how, on, left_on, right_on, left_index, right_index, sort, suffixes, copy, indicator, validate)\u001b[0m\n\u001b[0;32m    104\u001b[0m     \u001b[0mvalidate\u001b[0m\u001b[1;33m:\u001b[0m \u001b[0mstr\u001b[0m \u001b[1;33m|\u001b[0m \u001b[1;32mNone\u001b[0m \u001b[1;33m=\u001b[0m \u001b[1;32mNone\u001b[0m\u001b[1;33m,\u001b[0m\u001b[1;33m\u001b[0m\u001b[1;33m\u001b[0m\u001b[0m\n\u001b[0;32m    105\u001b[0m ) -> DataFrame:\n\u001b[1;32m--> 106\u001b[1;33m     op = _MergeOperation(\n\u001b[0m\u001b[0;32m    107\u001b[0m         \u001b[0mleft\u001b[0m\u001b[1;33m,\u001b[0m\u001b[1;33m\u001b[0m\u001b[1;33m\u001b[0m\u001b[0m\n\u001b[0;32m    108\u001b[0m         \u001b[0mright\u001b[0m\u001b[1;33m,\u001b[0m\u001b[1;33m\u001b[0m\u001b[1;33m\u001b[0m\u001b[0m\n",
      "\u001b[1;32mD:\\anaconda3\\lib\\site-packages\\pandas\\core\\reshape\\merge.py\u001b[0m in \u001b[0;36m__init__\u001b[1;34m(self, left, right, how, on, left_on, right_on, axis, left_index, right_index, sort, suffixes, copy, indicator, validate)\u001b[0m\n\u001b[0;32m    697\u001b[0m             \u001b[0mself\u001b[0m\u001b[1;33m.\u001b[0m\u001b[0mright_join_keys\u001b[0m\u001b[1;33m,\u001b[0m\u001b[1;33m\u001b[0m\u001b[1;33m\u001b[0m\u001b[0m\n\u001b[0;32m    698\u001b[0m             \u001b[0mself\u001b[0m\u001b[1;33m.\u001b[0m\u001b[0mjoin_names\u001b[0m\u001b[1;33m,\u001b[0m\u001b[1;33m\u001b[0m\u001b[1;33m\u001b[0m\u001b[0m\n\u001b[1;32m--> 699\u001b[1;33m         ) = self._get_merge_keys()\n\u001b[0m\u001b[0;32m    700\u001b[0m \u001b[1;33m\u001b[0m\u001b[0m\n\u001b[0;32m    701\u001b[0m         \u001b[1;31m# validate the merge keys dtypes. We may need to coerce\u001b[0m\u001b[1;33m\u001b[0m\u001b[1;33m\u001b[0m\u001b[0m\n",
      "\u001b[1;32mD:\\anaconda3\\lib\\site-packages\\pandas\\core\\reshape\\merge.py\u001b[0m in \u001b[0;36m_get_merge_keys\u001b[1;34m(self)\u001b[0m\n\u001b[0;32m   1107\u001b[0m                         \u001b[0mright_keys\u001b[0m\u001b[1;33m.\u001b[0m\u001b[0mappend\u001b[0m\u001b[1;33m(\u001b[0m\u001b[0mrk\u001b[0m\u001b[1;33m)\u001b[0m\u001b[1;33m\u001b[0m\u001b[1;33m\u001b[0m\u001b[0m\n\u001b[0;32m   1108\u001b[0m                     \u001b[1;32mif\u001b[0m \u001b[0mlk\u001b[0m \u001b[1;32mis\u001b[0m \u001b[1;32mnot\u001b[0m \u001b[1;32mNone\u001b[0m\u001b[1;33m:\u001b[0m\u001b[1;33m\u001b[0m\u001b[1;33m\u001b[0m\u001b[0m\n\u001b[1;32m-> 1109\u001b[1;33m                         \u001b[0mleft_keys\u001b[0m\u001b[1;33m.\u001b[0m\u001b[0mappend\u001b[0m\u001b[1;33m(\u001b[0m\u001b[0mleft\u001b[0m\u001b[1;33m.\u001b[0m\u001b[0m_get_label_or_level_values\u001b[0m\u001b[1;33m(\u001b[0m\u001b[0mlk\u001b[0m\u001b[1;33m)\u001b[0m\u001b[1;33m)\u001b[0m\u001b[1;33m\u001b[0m\u001b[1;33m\u001b[0m\u001b[0m\n\u001b[0m\u001b[0;32m   1110\u001b[0m                         \u001b[0mjoin_names\u001b[0m\u001b[1;33m.\u001b[0m\u001b[0mappend\u001b[0m\u001b[1;33m(\u001b[0m\u001b[0mlk\u001b[0m\u001b[1;33m)\u001b[0m\u001b[1;33m\u001b[0m\u001b[1;33m\u001b[0m\u001b[0m\n\u001b[0;32m   1111\u001b[0m                     \u001b[1;32melse\u001b[0m\u001b[1;33m:\u001b[0m\u001b[1;33m\u001b[0m\u001b[1;33m\u001b[0m\u001b[0m\n",
      "\u001b[1;32mD:\\anaconda3\\lib\\site-packages\\pandas\\core\\generic.py\u001b[0m in \u001b[0;36m_get_label_or_level_values\u001b[1;34m(self, key, axis)\u001b[0m\n\u001b[0;32m   1777\u001b[0m             \u001b[0mvalues\u001b[0m \u001b[1;33m=\u001b[0m \u001b[0mself\u001b[0m\u001b[1;33m.\u001b[0m\u001b[0maxes\u001b[0m\u001b[1;33m[\u001b[0m\u001b[0maxis\u001b[0m\u001b[1;33m]\u001b[0m\u001b[1;33m.\u001b[0m\u001b[0mget_level_values\u001b[0m\u001b[1;33m(\u001b[0m\u001b[0mkey\u001b[0m\u001b[1;33m)\u001b[0m\u001b[1;33m.\u001b[0m\u001b[0m_values\u001b[0m\u001b[1;33m\u001b[0m\u001b[1;33m\u001b[0m\u001b[0m\n\u001b[0;32m   1778\u001b[0m         \u001b[1;32melse\u001b[0m\u001b[1;33m:\u001b[0m\u001b[1;33m\u001b[0m\u001b[1;33m\u001b[0m\u001b[0m\n\u001b[1;32m-> 1779\u001b[1;33m             \u001b[1;32mraise\u001b[0m \u001b[0mKeyError\u001b[0m\u001b[1;33m(\u001b[0m\u001b[0mkey\u001b[0m\u001b[1;33m)\u001b[0m\u001b[1;33m\u001b[0m\u001b[1;33m\u001b[0m\u001b[0m\n\u001b[0m\u001b[0;32m   1780\u001b[0m \u001b[1;33m\u001b[0m\u001b[0m\n\u001b[0;32m   1781\u001b[0m         \u001b[1;31m# Check for duplicates\u001b[0m\u001b[1;33m\u001b[0m\u001b[1;33m\u001b[0m\u001b[0m\n",
      "\u001b[1;31mKeyError\u001b[0m: 'game_id'"
     ]
    }
   ],
   "source": [
    "matches_between_them = matches_team_1.merge(matches_team_2, left_on='game_id', right_on='game_id',suffixes=('', '2'))\n",
    "matches_between_them.drop(columns=['TOI_result2', 'TOI_home2','TOI2','other_team2','TOI_points_tot2','TOI_goals_scored_tot2','TOI_goals_rec_tot2'], inplace=True)\n",
    "pd.set_option(\"display.max_rows\", None, \"display.max_columns\", None)\n",
    "matches_between_them\n"
   ]
  },
  {
   "cell_type": "code",
   "execution_count": 48,
   "id": "08cf0742",
   "metadata": {},
   "outputs": [],
   "source": [
    "#pd.set_option(\"display.max_rows\", 15, \"display.max_columns\", 15)\n"
   ]
  },
  {
   "cell_type": "code",
   "execution_count": 49,
   "id": "407e97b4",
   "metadata": {},
   "outputs": [
    {
     "ename": "NameError",
     "evalue": "name 'matches_between_them' is not defined",
     "output_type": "error",
     "traceback": [
      "\u001b[1;31m---------------------------------------------------------------------------\u001b[0m",
      "\u001b[1;31mNameError\u001b[0m                                 Traceback (most recent call last)",
      "\u001b[1;32m~\\AppData\\Local\\Temp/ipykernel_2588/1311876904.py\u001b[0m in \u001b[0;36m<module>\u001b[1;34m\u001b[0m\n\u001b[1;32m----> 1\u001b[1;33m \u001b[0mmatches_between_them_ids\u001b[0m \u001b[1;33m=\u001b[0m \u001b[0mmatches_between_them\u001b[0m\u001b[1;33m[\u001b[0m\u001b[1;34m'game_id'\u001b[0m\u001b[1;33m]\u001b[0m\u001b[1;33m\u001b[0m\u001b[1;33m\u001b[0m\u001b[0m\n\u001b[0m\u001b[0;32m      2\u001b[0m \u001b[0mmatches_between_them_ids\u001b[0m\u001b[1;33m\u001b[0m\u001b[1;33m\u001b[0m\u001b[0m\n",
      "\u001b[1;31mNameError\u001b[0m: name 'matches_between_them' is not defined"
     ]
    }
   ],
   "source": [
    "matches_between_them_ids = matches_between_them['game_id']\n",
    "matches_between_them_ids"
   ]
  },
  {
   "cell_type": "markdown",
   "id": "5edc400a",
   "metadata": {},
   "source": [
    "### Graphs"
   ]
  },
  {
   "cell_type": "markdown",
   "id": "b0c6d0b5",
   "metadata": {},
   "source": [
    "#### We create data frames for graphs and we ad variable match_ordr that displays the order of matches of a given team"
   ]
  },
  {
   "cell_type": "code",
   "execution_count": 51,
   "id": "9b103206",
   "metadata": {},
   "outputs": [
    {
     "data": {
      "text/html": [
       "<div>\n",
       "<style scoped>\n",
       "    .dataframe tbody tr th:only-of-type {\n",
       "        vertical-align: middle;\n",
       "    }\n",
       "\n",
       "    .dataframe tbody tr th {\n",
       "        vertical-align: top;\n",
       "    }\n",
       "\n",
       "    .dataframe thead th {\n",
       "        text-align: right;\n",
       "    }\n",
       "</style>\n",
       "<table border=\"1\" class=\"dataframe\">\n",
       "  <thead>\n",
       "    <tr style=\"text-align: right;\">\n",
       "      <th></th>\n",
       "      <th>game_id</th>\n",
       "      <th>team_home</th>\n",
       "      <th>team_away</th>\n",
       "      <th>goals_home</th>\n",
       "      <th>goals_away</th>\n",
       "      <th>OT</th>\n",
       "      <th>points_home</th>\n",
       "      <th>points_away</th>\n",
       "      <th>TOI_home</th>\n",
       "      <th>TOI_points</th>\n",
       "      <th>TOI_goals_scored</th>\n",
       "      <th>TOI_goals_rec</th>\n",
       "      <th>TOI_result</th>\n",
       "      <th>other_team</th>\n",
       "      <th>TOI</th>\n",
       "      <th>TOI_points_tot</th>\n",
       "      <th>TOI_goals_scored_tot</th>\n",
       "      <th>TOI_goals_rec_tot</th>\n",
       "      <th>match_ordr</th>\n",
       "    </tr>\n",
       "  </thead>\n",
       "  <tbody>\n",
       "    <tr>\n",
       "      <th>0</th>\n",
       "      <td>/zapas/2526055</td>\n",
       "      <td>Winnipeg Jets</td>\n",
       "      <td>Toronto Maple Leafs</td>\n",
       "      <td>2</td>\n",
       "      <td>7</td>\n",
       "      <td>0</td>\n",
       "      <td>0.0</td>\n",
       "      <td>3.0</td>\n",
       "      <td>1.0</td>\n",
       "      <td>0.0</td>\n",
       "      <td>2.0</td>\n",
       "      <td>7.0</td>\n",
       "      <td>0.0</td>\n",
       "      <td>Toronto Maple Leafs</td>\n",
       "      <td>Winnipeg Jets</td>\n",
       "      <td>NaN</td>\n",
       "      <td>NaN</td>\n",
       "      <td>NaN</td>\n",
       "      <td>1</td>\n",
       "    </tr>\n",
       "    <tr>\n",
       "      <th>1</th>\n",
       "      <td>/zapas/2526083</td>\n",
       "      <td>Calgary Flames</td>\n",
       "      <td>Winnipeg Jets</td>\n",
       "      <td>6</td>\n",
       "      <td>3</td>\n",
       "      <td>0</td>\n",
       "      <td>3.0</td>\n",
       "      <td>0.0</td>\n",
       "      <td>0.0</td>\n",
       "      <td>0.0</td>\n",
       "      <td>3.0</td>\n",
       "      <td>6.0</td>\n",
       "      <td>0.0</td>\n",
       "      <td>Calgary Flames</td>\n",
       "      <td>Winnipeg Jets</td>\n",
       "      <td>NaN</td>\n",
       "      <td>NaN</td>\n",
       "      <td>NaN</td>\n",
       "      <td>2</td>\n",
       "    </tr>\n",
       "    <tr>\n",
       "      <th>2</th>\n",
       "      <td>/zapas/2526091</td>\n",
       "      <td>Edmonton Oilers</td>\n",
       "      <td>Winnipeg Jets</td>\n",
       "      <td>2</td>\n",
       "      <td>5</td>\n",
       "      <td>0</td>\n",
       "      <td>0.0</td>\n",
       "      <td>3.0</td>\n",
       "      <td>0.0</td>\n",
       "      <td>3.0</td>\n",
       "      <td>5.0</td>\n",
       "      <td>2.0</td>\n",
       "      <td>1.0</td>\n",
       "      <td>Edmonton Oilers</td>\n",
       "      <td>Winnipeg Jets</td>\n",
       "      <td>NaN</td>\n",
       "      <td>NaN</td>\n",
       "      <td>NaN</td>\n",
       "      <td>3</td>\n",
       "    </tr>\n",
       "    <tr>\n",
       "      <th>3</th>\n",
       "      <td>/zapas/2526109</td>\n",
       "      <td>Vancouver Canucks</td>\n",
       "      <td>Winnipeg Jets</td>\n",
       "      <td>2</td>\n",
       "      <td>4</td>\n",
       "      <td>0</td>\n",
       "      <td>0.0</td>\n",
       "      <td>3.0</td>\n",
       "      <td>0.0</td>\n",
       "      <td>3.0</td>\n",
       "      <td>4.0</td>\n",
       "      <td>2.0</td>\n",
       "      <td>1.0</td>\n",
       "      <td>Vancouver Canucks</td>\n",
       "      <td>Winnipeg Jets</td>\n",
       "      <td>NaN</td>\n",
       "      <td>NaN</td>\n",
       "      <td>NaN</td>\n",
       "      <td>4</td>\n",
       "    </tr>\n",
       "    <tr>\n",
       "      <th>4</th>\n",
       "      <td>/zapas/2526117</td>\n",
       "      <td>Winnipeg Jets</td>\n",
       "      <td>Carolina Hurricanes</td>\n",
       "      <td>2</td>\n",
       "      <td>1</td>\n",
       "      <td>0</td>\n",
       "      <td>3.0</td>\n",
       "      <td>0.0</td>\n",
       "      <td>1.0</td>\n",
       "      <td>3.0</td>\n",
       "      <td>2.0</td>\n",
       "      <td>1.0</td>\n",
       "      <td>1.0</td>\n",
       "      <td>Carolina Hurricanes</td>\n",
       "      <td>Winnipeg Jets</td>\n",
       "      <td>NaN</td>\n",
       "      <td>NaN</td>\n",
       "      <td>NaN</td>\n",
       "      <td>5</td>\n",
       "    </tr>\n",
       "    <tr>\n",
       "      <th>...</th>\n",
       "      <td>...</td>\n",
       "      <td>...</td>\n",
       "      <td>...</td>\n",
       "      <td>...</td>\n",
       "      <td>...</td>\n",
       "      <td>...</td>\n",
       "      <td>...</td>\n",
       "      <td>...</td>\n",
       "      <td>...</td>\n",
       "      <td>...</td>\n",
       "      <td>...</td>\n",
       "      <td>...</td>\n",
       "      <td>...</td>\n",
       "      <td>...</td>\n",
       "      <td>...</td>\n",
       "      <td>...</td>\n",
       "      <td>...</td>\n",
       "      <td>...</td>\n",
       "      <td>...</td>\n",
       "    </tr>\n",
       "    <tr>\n",
       "      <th>368</th>\n",
       "      <td>/zapas/2898224</td>\n",
       "      <td>Carolina Hurricanes</td>\n",
       "      <td>Winnipeg Jets</td>\n",
       "      <td>4</td>\n",
       "      <td>2</td>\n",
       "      <td>0</td>\n",
       "      <td>3.0</td>\n",
       "      <td>0.0</td>\n",
       "      <td>0.0</td>\n",
       "      <td>0.0</td>\n",
       "      <td>2.0</td>\n",
       "      <td>4.0</td>\n",
       "      <td>0.0</td>\n",
       "      <td>Carolina Hurricanes</td>\n",
       "      <td>Winnipeg Jets</td>\n",
       "      <td>27.0</td>\n",
       "      <td>61.0</td>\n",
       "      <td>70.0</td>\n",
       "      <td>369</td>\n",
       "    </tr>\n",
       "    <tr>\n",
       "      <th>369</th>\n",
       "      <td>/zapas/2898244</td>\n",
       "      <td>Winnipeg Jets</td>\n",
       "      <td>Colorado Avalanche</td>\n",
       "      <td>4</td>\n",
       "      <td>1</td>\n",
       "      <td>0</td>\n",
       "      <td>3.0</td>\n",
       "      <td>0.0</td>\n",
       "      <td>1.0</td>\n",
       "      <td>3.0</td>\n",
       "      <td>4.0</td>\n",
       "      <td>1.0</td>\n",
       "      <td>1.0</td>\n",
       "      <td>Colorado Avalanche</td>\n",
       "      <td>Winnipeg Jets</td>\n",
       "      <td>24.0</td>\n",
       "      <td>61.0</td>\n",
       "      <td>73.0</td>\n",
       "      <td>370</td>\n",
       "    </tr>\n",
       "    <tr>\n",
       "      <th>370</th>\n",
       "      <td>/zapas/2898270</td>\n",
       "      <td>Winnipeg Jets</td>\n",
       "      <td>Philadelphia Flyers</td>\n",
       "      <td>4</td>\n",
       "      <td>0</td>\n",
       "      <td>0</td>\n",
       "      <td>3.0</td>\n",
       "      <td>0.0</td>\n",
       "      <td>1.0</td>\n",
       "      <td>3.0</td>\n",
       "      <td>4.0</td>\n",
       "      <td>0.0</td>\n",
       "      <td>1.0</td>\n",
       "      <td>Philadelphia Flyers</td>\n",
       "      <td>Winnipeg Jets</td>\n",
       "      <td>27.0</td>\n",
       "      <td>63.0</td>\n",
       "      <td>69.0</td>\n",
       "      <td>371</td>\n",
       "    </tr>\n",
       "    <tr>\n",
       "      <th>371</th>\n",
       "      <td>/zapas/2898285</td>\n",
       "      <td>Winnipeg Jets</td>\n",
       "      <td>Calgary Flames</td>\n",
       "      <td>3</td>\n",
       "      <td>1</td>\n",
       "      <td>0</td>\n",
       "      <td>3.0</td>\n",
       "      <td>0.0</td>\n",
       "      <td>1.0</td>\n",
       "      <td>3.0</td>\n",
       "      <td>3.0</td>\n",
       "      <td>1.0</td>\n",
       "      <td>1.0</td>\n",
       "      <td>Calgary Flames</td>\n",
       "      <td>Winnipeg Jets</td>\n",
       "      <td>28.0</td>\n",
       "      <td>63.0</td>\n",
       "      <td>66.0</td>\n",
       "      <td>372</td>\n",
       "    </tr>\n",
       "    <tr>\n",
       "      <th>372</th>\n",
       "      <td>/zapas/2898159</td>\n",
       "      <td>Winnipeg Jets</td>\n",
       "      <td>Seattle Kraken</td>\n",
       "      <td>4</td>\n",
       "      <td>3</td>\n",
       "      <td>0</td>\n",
       "      <td>3.0</td>\n",
       "      <td>0.0</td>\n",
       "      <td>1.0</td>\n",
       "      <td>3.0</td>\n",
       "      <td>4.0</td>\n",
       "      <td>3.0</td>\n",
       "      <td>1.0</td>\n",
       "      <td>Seattle Kraken</td>\n",
       "      <td>Winnipeg Jets</td>\n",
       "      <td>28.0</td>\n",
       "      <td>59.0</td>\n",
       "      <td>64.0</td>\n",
       "      <td>373</td>\n",
       "    </tr>\n",
       "  </tbody>\n",
       "</table>\n",
       "<p>373 rows × 19 columns</p>\n",
       "</div>"
      ],
      "text/plain": [
       "            game_id            team_home            team_away  goals_home  \\\n",
       "0    /zapas/2526055        Winnipeg Jets  Toronto Maple Leafs           2   \n",
       "1    /zapas/2526083       Calgary Flames        Winnipeg Jets           6   \n",
       "2    /zapas/2526091      Edmonton Oilers        Winnipeg Jets           2   \n",
       "3    /zapas/2526109    Vancouver Canucks        Winnipeg Jets           2   \n",
       "4    /zapas/2526117        Winnipeg Jets  Carolina Hurricanes           2   \n",
       "..              ...                  ...                  ...         ...   \n",
       "368  /zapas/2898224  Carolina Hurricanes        Winnipeg Jets           4   \n",
       "369  /zapas/2898244        Winnipeg Jets   Colorado Avalanche           4   \n",
       "370  /zapas/2898270        Winnipeg Jets  Philadelphia Flyers           4   \n",
       "371  /zapas/2898285        Winnipeg Jets       Calgary Flames           3   \n",
       "372  /zapas/2898159        Winnipeg Jets       Seattle Kraken           4   \n",
       "\n",
       "     goals_away  OT  points_home  points_away  TOI_home  TOI_points  \\\n",
       "0             7   0          0.0          3.0       1.0         0.0   \n",
       "1             3   0          3.0          0.0       0.0         0.0   \n",
       "2             5   0          0.0          3.0       0.0         3.0   \n",
       "3             4   0          0.0          3.0       0.0         3.0   \n",
       "4             1   0          3.0          0.0       1.0         3.0   \n",
       "..          ...  ..          ...          ...       ...         ...   \n",
       "368           2   0          3.0          0.0       0.0         0.0   \n",
       "369           1   0          3.0          0.0       1.0         3.0   \n",
       "370           0   0          3.0          0.0       1.0         3.0   \n",
       "371           1   0          3.0          0.0       1.0         3.0   \n",
       "372           3   0          3.0          0.0       1.0         3.0   \n",
       "\n",
       "     TOI_goals_scored  TOI_goals_rec  TOI_result           other_team  \\\n",
       "0                 2.0            7.0         0.0  Toronto Maple Leafs   \n",
       "1                 3.0            6.0         0.0       Calgary Flames   \n",
       "2                 5.0            2.0         1.0      Edmonton Oilers   \n",
       "3                 4.0            2.0         1.0    Vancouver Canucks   \n",
       "4                 2.0            1.0         1.0  Carolina Hurricanes   \n",
       "..                ...            ...         ...                  ...   \n",
       "368               2.0            4.0         0.0  Carolina Hurricanes   \n",
       "369               4.0            1.0         1.0   Colorado Avalanche   \n",
       "370               4.0            0.0         1.0  Philadelphia Flyers   \n",
       "371               3.0            1.0         1.0       Calgary Flames   \n",
       "372               4.0            3.0         1.0       Seattle Kraken   \n",
       "\n",
       "               TOI  TOI_points_tot  TOI_goals_scored_tot  TOI_goals_rec_tot  \\\n",
       "0    Winnipeg Jets             NaN                   NaN                NaN   \n",
       "1    Winnipeg Jets             NaN                   NaN                NaN   \n",
       "2    Winnipeg Jets             NaN                   NaN                NaN   \n",
       "3    Winnipeg Jets             NaN                   NaN                NaN   \n",
       "4    Winnipeg Jets             NaN                   NaN                NaN   \n",
       "..             ...             ...                   ...                ...   \n",
       "368  Winnipeg Jets            27.0                  61.0               70.0   \n",
       "369  Winnipeg Jets            24.0                  61.0               73.0   \n",
       "370  Winnipeg Jets            27.0                  63.0               69.0   \n",
       "371  Winnipeg Jets            28.0                  63.0               66.0   \n",
       "372  Winnipeg Jets            28.0                  59.0               64.0   \n",
       "\n",
       "     match_ordr  \n",
       "0             1  \n",
       "1             2  \n",
       "2             3  \n",
       "3             4  \n",
       "4             5  \n",
       "..          ...  \n",
       "368         369  \n",
       "369         370  \n",
       "370         371  \n",
       "371         372  \n",
       "372         373  \n",
       "\n",
       "[373 rows x 19 columns]"
      ]
     },
     "execution_count": 51,
     "metadata": {},
     "output_type": "execute_result"
    }
   ],
   "source": [
    "matches_team_1_graphs = individual_teams[team_1_index]\n",
    "matches_team_2_graphs = individual_teams[team_2_index]\n",
    "matches_team_1_graphs['match_ordr'] = range(1, len(matches_team_1_graphs) + 1)\n",
    "matches_team_2_graphs['match_ordr'] = range(1, len(matches_team_2_graphs) + 1)\n",
    "matches_team_2_graphs"
   ]
  },
  {
   "cell_type": "markdown",
   "id": "67e55fc4",
   "metadata": {},
   "source": [
    "### Merge both teams into one dataframe and create a graph of scored goals"
   ]
  },
  {
   "cell_type": "code",
   "execution_count": 52,
   "id": "e97e0ed0",
   "metadata": {
    "scrolled": true
   },
   "outputs": [
    {
     "data": {
      "text/plain": [
       "<seaborn.axisgrid.FacetGrid at 0x1d994c69ee0>"
      ]
     },
     "execution_count": 52,
     "metadata": {},
     "output_type": "execute_result"
    },
    {
     "data": {
      "image/png": "[encoded data removed]",
      "text/plain": [
       "<Figure size 7242.38x720 with 1 Axes>"
      ]
     },
     "metadata": {
      "needs_background": "light"
     },
     "output_type": "display_data"
    }
   ],
   "source": [
    "graphs = pd.concat([matches_team_1_graphs, matches_team_2_graphs], axis=0, ignore_index=False)\n",
    "graphs['team'] = (len(matches_team_1_graphs)*(1,) + len(matches_team_2_graphs)*(2,))\n",
    "graph_1 = sns.catplot(x='match_ordr', y='TOI_goals_scored', hue='team', kind='bar', data=graphs, height=10, aspect=10, palette=[\"#FA7F63\", \"#00FC35\"])\n",
    "graph_1.set(xticklabels=[])\n",
    "graph_1\n"
   ]
  },
  {
   "cell_type": "markdown",
   "id": "9e55b7f7",
   "metadata": {},
   "source": [
    "#### Too many matches we need to limit the data to last 30 matches"
   ]
  },
  {
   "cell_type": "code",
   "execution_count": 53,
   "id": "0a61e577",
   "metadata": {},
   "outputs": [
    {
     "data": {
      "text/plain": [
       "<seaborn.axisgrid.FacetGrid at 0x1d9950c5550>"
      ]
     },
     "execution_count": 53,
     "metadata": {},
     "output_type": "execute_result"
    },
    {
     "data": {
      "image/png": "[encoded data removed]",
      "text/plain": [
       "<Figure size 1122.38x360 with 1 Axes>"
      ]
     },
     "metadata": {
      "needs_background": "light"
     },
     "output_type": "display_data"
    }
   ],
   "source": [
    "matches_team_1_graphs_30 = matches_team_1_graphs.tail(30)\n",
    "matches_team_2_graphs_30 = matches_team_1_graphs.tail(30)\n",
    "graphs_30_matches = pd.concat([matches_team_1_graphs_30, matches_team_2_graphs_30], axis=0, ignore_index=False)\n",
    "graphs_30_matches['team'] = (len(matches_team_1_graphs_30)*(1,) + len(matches_team_2_graphs_30)*(2,))\n",
    "graphs_30_matches\n",
    "graph_2 = sns.catplot(x='match_ordr', y='TOI_goals_scored', hue='team', kind='bar', data=graphs_30_matches, height=5, aspect=3, palette=[\"#FA7F63\", \"#00FC35\"])\n",
    "graph_2.set(xticklabels=[])\n",
    "graph_2"
   ]
  },
  {
   "cell_type": "markdown",
   "id": "0a27e357",
   "metadata": {},
   "source": [
    "### Recived Goals"
   ]
  },
  {
   "cell_type": "code",
   "execution_count": 54,
   "id": "94499468",
   "metadata": {},
   "outputs": [
    {
     "data": {
      "text/plain": [
       "<seaborn.axisgrid.FacetGrid at 0x1d9954a2400>"
      ]
     },
     "execution_count": 54,
     "metadata": {},
     "output_type": "execute_result"
    },
    {
     "data": {
      "image/png": "[encoded data removed]",
      "text/plain": [
       "<Figure size 1122.38x360 with 1 Axes>"
      ]
     },
     "metadata": {
      "needs_background": "light"
     },
     "output_type": "display_data"
    }
   ],
   "source": [
    "graph_3 = sns.catplot(x='match_ordr', y='TOI_goals_rec', hue='team', kind='bar', data=graphs_30_matches, height=5, aspect=3, palette=[\"#FA7F63\", \"#00FC35\"])\n",
    "graph_3.set(xticklabels=[])\n",
    "graph_3"
   ]
  },
  {
   "cell_type": "markdown",
   "id": "30a3a83d",
   "metadata": {},
   "source": [
    "### How teams did in last 30 matches"
   ]
  },
  {
   "cell_type": "code",
   "execution_count": 55,
   "id": "e19b7f79",
   "metadata": {},
   "outputs": [
    {
     "data": {
      "text/plain": [
       "<function matplotlib.pyplot.show(close=None, block=None)>"
      ]
     },
     "execution_count": 55,
     "metadata": {},
     "output_type": "execute_result"
    },
    {
     "data": {
      "image/png": "[encoded data removed]",
      "text/plain": [
       "<Figure size 1080x360 with 1 Axes>"
      ]
     },
     "metadata": {
      "needs_background": "light"
     },
     "output_type": "display_data"
    }
   ],
   "source": [
    "ax = matches_team_1_graphs_30[['TOI_goals_scored','TOI_goals_rec','match_ordr']].plot(\n",
    "    x='match_ordr',kind='bar',figsize=(15, 5),color=[\"#FA7F63\", \"#BF2806\"],title='Team 1')\n",
    "matches_team_1_graphs_30[['TOI_points','match_ordr']].plot(x='match_ordr',  linestyle='-', marker='*',figsize=(15, 5),use_index=False,\n",
    "                                                   color=[\"#EEAC26\"], lw=4, ax=ax)\n",
    "ax.set(xticklabels=[])\n",
    "plt.show"
   ]
  },
  {
   "cell_type": "code",
   "execution_count": 56,
   "id": "b3671317",
   "metadata": {},
   "outputs": [
    {
     "data": {
      "text/plain": [
       "<function matplotlib.pyplot.show(close=None, block=None)>"
      ]
     },
     "execution_count": 56,
     "metadata": {},
     "output_type": "execute_result"
    },
    {
     "data": {
      "image/png": "[encoded data removed]",
      "text/plain": [
       "<Figure size 1080x360 with 1 Axes>"
      ]
     },
     "metadata": {
      "needs_background": "light"
     },
     "output_type": "display_data"
    }
   ],
   "source": [
    "ax = matches_team_2_graphs_30[['TOI_goals_scored','TOI_goals_rec','match_ordr']].plot(\n",
    "    x='match_ordr',kind='bar',figsize=(15, 5),color=[\"#00FC35\", \"#42BB5C\"],title='Team 2')\n",
    "matches_team_2_graphs_30[['TOI_points','match_ordr']].plot(x='match_ordr',  linestyle='-', marker='*',figsize=(15, 5),use_index=False,\n",
    "                                                   color=[\"#B6E968\"], lw=4, ax=ax)\n",
    "ax.set(xticklabels=[])\n",
    "plt.show"
   ]
  },
  {
   "cell_type": "markdown",
   "id": "a2ea805a",
   "metadata": {},
   "source": [
    "### Comparison of important variables for our model"
   ]
  },
  {
   "cell_type": "code",
   "execution_count": 57,
   "id": "f12409fd",
   "metadata": {},
   "outputs": [
    {
     "data": {
      "text/plain": [
       "<function matplotlib.pyplot.show(close=None, block=None)>"
      ]
     },
     "execution_count": 57,
     "metadata": {},
     "output_type": "execute_result"
    },
    {
     "data": {
      "image/png": "[encoded data removed]",
      "text/plain": [
       "<Figure size 432x288 with 1 Axes>"
      ]
     },
     "metadata": {
      "needs_background": "light"
     },
     "output_type": "display_data"
    }
   ],
   "source": [
    "x_coordinates = ['TOI_points', 'TOI_goals_scored', 'TOI_goals_rec']\n",
    "X_axis = np.arange(len(x_coordinates))\n",
    "plt.plot(x_coordinates, pred_team_1,'#FA7F63',label=\"Team 1\") \n",
    "plt.plot(x_coordinates, pred_team_2,'#00FC35',label=\"Team 2\") \n",
    "plt.legend(loc=\"upper left\")\n",
    "plt.show\n"
   ]
  }
 ],
 "metadata": {
  "kernelspec": {
   "display_name": "Python 3 (ipykernel)",
   "language": "python",
   "name": "python3"
  },
  "language_info": {
   "codemirror_mode": {
    "name": "ipython",
    "version": 3
   },
   "file_extension": ".py",
   "mimetype": "text/x-python",
   "name": "python",
   "nbconvert_exporter": "python",
   "pygments_lexer": "ipython3",
   "version": "3.9.7"
  }
 },
 "nbformat": 4,
 "nbformat_minor": 5
}
