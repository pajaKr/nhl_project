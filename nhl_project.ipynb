{
 "cells": [
  {
   "cell_type": "markdown",
   "id": "0d4adb23",
   "metadata": {},
   "source": [
    "# NHL predictions project - Data Interpretation"
   ]
  },
  {
   "cell_type": "markdown",
   "id": "d584908a",
   "metadata": {},
   "source": [
    "This is project for the subject Data Processing in Python - JEM207. That was created by Pavlína Křenková and Vojtěch Vaverka.\n",
    "\n",
    "The code we wrote scrapes data from the website https://nhl.cz/. After the data is scraped, user of the code needs to fill in names of two teams into the variables team_1 and team_2. Once those two variables are set the code creates a Logistic regression that predicts which team is going to win. Druing our testing of the code we have reached accuracy above 50%. That means that the model is better than randomly guessing. Yet it should not be used to place bets."
   ]
  },
  {
   "cell_type": "code",
   "execution_count": 1,
   "id": "8d03b5c7",
   "metadata": {},
   "outputs": [],
   "source": [
    "import pandas as pd\n",
    "import numpy as np\n",
    "import matplotlib.pyplot as plt \n",
    "from sklearn.model_selection import train_test_split\n",
    "from sklearn.linear_model import LogisticRegression\n",
    "from sklearn.preprocessing import StandardScaler\n",
    "from sklearn.metrics import confusion_matrix\n",
    "from sklearn.metrics import accuracy_score\n",
    "import seaborn as sns\n",
    "from statistics import mean\n",
    "from ipywidgets import Dropdown"
   ]
  },
  {
   "cell_type": "markdown",
   "id": "c53bd93f",
   "metadata": {},
   "source": [
    "We load the necessary information about the teams, which we will later use for file loading and analysis"
   ]
  },
  {
   "cell_type": "code",
   "execution_count": 2,
   "id": "e263eb2a",
   "metadata": {},
   "outputs": [],
   "source": [
    "teams_info = pd.read_csv('teams_info/teams_info.csv')\n",
    "#teams_info.head()"
   ]
  },
  {
   "cell_type": "code",
   "execution_count": 3,
   "id": "dfc2ebea",
   "metadata": {},
   "outputs": [],
   "source": [
    "#We will be analysing the 5 most recent seasons\n",
    "seasons_used = ['2017', '2018', '2019', '2020','2021'] #2017 is the 2017/2018 season, etc."
   ]
  },
  {
   "cell_type": "code",
   "execution_count": 4,
   "id": "47fc819e",
   "metadata": {},
   "outputs": [],
   "source": [
    "distinct_teams = teams_info['team'].tolist()"
   ]
  },
  {
   "cell_type": "code",
   "execution_count": 5,
   "id": "9a8691f3",
   "metadata": {},
   "outputs": [
    {
     "data": {
      "text/plain": [
       "{'Anaheim Ducks': 'ANA',\n",
       " 'Arizona Coyotes': 'ARI',\n",
       " 'Boston Bruins': 'BOS',\n",
       " 'Buffalo Sabres': 'BUF',\n",
       " 'Calgary Flames': 'CGY',\n",
       " 'Carolina Hurricanes': 'CAR',\n",
       " 'Chicago Blackhawks': 'CHI',\n",
       " 'Colorado Avalanche': 'COL',\n",
       " 'Columbus Blue Jackets': 'CBJ',\n",
       " 'Dallas Stars': 'DAL',\n",
       " 'Detroit Red Wings': 'DET',\n",
       " 'Edmonton Oilers': 'EDM',\n",
       " 'Florida Panthers': 'FLA',\n",
       " 'Los Angeles Kings': 'LAK',\n",
       " 'Minnesota Wild': 'MIN',\n",
       " 'Montreal Canadiens': 'MTL',\n",
       " 'Nashville Predators': 'NSH',\n",
       " 'New Jersey Devils': 'NJD',\n",
       " 'New York Islanders': 'NYI',\n",
       " 'New York Rangers': 'NYR',\n",
       " 'Ottawa Senators': 'OTT',\n",
       " 'Philadelphia Flyers': 'PHI',\n",
       " 'Pittsburgh Penguins': 'PIT',\n",
       " 'San Jose Sharks': 'SJS',\n",
       " 'Seattle Kraken': 'SEA',\n",
       " 'St. Louis Blues': 'STL',\n",
       " 'Tampa Bay Lightning': 'TBL',\n",
       " 'Toronto Maple Leafs': 'TOR',\n",
       " 'Vancouver Canucks': 'VAN',\n",
       " 'Vegas Golden Knights': 'VGK',\n",
       " 'Washington Capitals': 'WSH',\n",
       " 'Winnipeg Jets': 'WPG'}"
      ]
     },
     "execution_count": 5,
     "metadata": {},
     "output_type": "execute_result"
    }
   ],
   "source": [
    "teams_dict = pd.Series(teams_info.team_short.values,index=teams_info.team).to_dict()\n",
    "teams_dict"
   ]
  },
  {
   "cell_type": "markdown",
   "id": "51f8662f",
   "metadata": {},
   "source": [
    "## Choosing two teams and building the model"
   ]
  },
  {
   "cell_type": "code",
   "execution_count": 6,
   "id": "80c26613",
   "metadata": {},
   "outputs": [
    {
     "data": {
      "application/vnd.jupyter.widget-view+json": {
       "model_id": "8b24702a9aa141c2b83ed7bcc081b652",
       "version_major": 2,
       "version_minor": 0
      },
      "text/plain": [
       "Dropdown(description='Choose the home team (Team 1):', layout=Layout(width='max-content'), options=('', 'Anahe…"
      ]
     },
     "metadata": {},
     "output_type": "display_data"
    },
    {
     "data": {
      "application/vnd.jupyter.widget-view+json": {
       "model_id": "23428c3af25c46bab70b60a99680400f",
       "version_major": 2,
       "version_minor": 0
      },
      "text/plain": [
       "Dropdown(description='Choose the away team (Team 2):', layout=Layout(width='max-content'), options=('', 'Anahe…"
      ]
     },
     "metadata": {},
     "output_type": "display_data"
    },
    {
     "name": "stdout",
     "output_type": "stream",
     "text": [
      "Team 1: Carolina Hurricanes\n",
      "Team 1: Arizona Coyotes\n",
      "Team 2: Pittsburgh Penguins\n"
     ]
    }
   ],
   "source": [
    "teams_info = pd.read_csv('teams_info/teams_info.csv')\n",
    "option_list = teams_info['team'].tolist()\n",
    "option_list.insert(0, '')\n",
    "team_1_drop = ''\n",
    "team_2_drop = ''\n",
    "drop_down_team_1 = Dropdown(options=option_list,description='Choose the home team (Team 1):',disabled=False, \n",
    "                     display='flex',\n",
    "                     flex_flow='column', align_items='stretch', style= {'description_width': 'initial'},\n",
    "                     layout={'width': 'max-content'})\n",
    "drop_down_team_2 = Dropdown(options=option_list,description='Choose the away team (Team 2):',disabled=False, \n",
    "                     display='flex',\n",
    "                     flex_flow='column', align_items='stretch', style= {'description_width': 'initial'},\n",
    "                     layout={'width': 'max-content'})\n",
    "def dropdown_handler_team_1(choice):\n",
    "    global team_1_drop\n",
    "    print(\"Team 1:\", choice.new)\n",
    "    team_1_drop = choice.new\n",
    "def dropdown_handler_team_2(choice):\n",
    "    global team_2_drop\n",
    "    print(\"Team 2:\", choice.new)\n",
    "    team_2_drop = choice.new\n",
    "drop_down_team_1.observe(dropdown_handler_team_1, names='value')\n",
    "drop_down_team_2.observe(dropdown_handler_team_2, names='value')\n",
    "display(drop_down_team_1, drop_down_team_2)"
   ]
  },
  {
   "cell_type": "code",
   "execution_count": 59,
   "id": "8289a97a",
   "metadata": {},
   "outputs": [
    {
     "name": "stdout",
     "output_type": "stream",
     "text": [
      "The outcome of the match Arizona Coyotes vs Pittsburgh Penguins will be predicted.\n"
     ]
    }
   ],
   "source": [
    "if team_1_drop == \"\" or team_2_drop == \"\":  \n",
    "    print(\"You have not chosen both teams yet, please return to previous cell and do so.\")\n",
    "    \n",
    "    # A base arbitrary choice was made, so that all cells can be run at once.\n",
    "    team_1 = \"Boston Bruins\"\n",
    "    team_2 = \"Tampa Bay Lightning\"\n",
    "    \n",
    "    \n",
    "elif team_1_drop == team_2_drop:\n",
    "    \n",
    "    print(\"You picked the same team twice, please return to previous cell and change at least one team.\")\n",
    "    # A base arbitrary choice was made, so that analysis can continue if user does not specify..\n",
    "    # ..teams correctly\n",
    "    team_1 = team_1_drop\n",
    "    if team_1 == \"Boston Bruins\":\n",
    "        team_2 = \"Tampa Bay Lightning\"\n",
    "    else:\n",
    "        team_2 = \"Boston Bruins\"\n",
    "    \n",
    "else:\n",
    "    print(\"The outcome of the match\", team_1_drop, \"vs\", team_2_drop, \"will be predicted.\")\n",
    "    team_1 = team_1_drop\n",
    "    team_2 = team_2_drop"
   ]
  },
  {
   "cell_type": "code",
   "execution_count": 60,
   "id": "18dfa180",
   "metadata": {},
   "outputs": [],
   "source": [
    "team_1_short = teams_dict[team_1]\n",
    "team_2_short = teams_dict[team_2]"
   ]
  },
  {
   "cell_type": "code",
   "execution_count": 61,
   "id": "5d035c96",
   "metadata": {},
   "outputs": [
    {
     "data": {
      "text/html": [
       "<div>\n",
       "<style scoped>\n",
       "    .dataframe tbody tr th:only-of-type {\n",
       "        vertical-align: middle;\n",
       "    }\n",
       "\n",
       "    .dataframe tbody tr th {\n",
       "        vertical-align: top;\n",
       "    }\n",
       "\n",
       "    .dataframe thead th {\n",
       "        text-align: right;\n",
       "    }\n",
       "</style>\n",
       "<table border=\"1\" class=\"dataframe\">\n",
       "  <thead>\n",
       "    <tr style=\"text-align: right;\">\n",
       "      <th></th>\n",
       "      <th>game_id</th>\n",
       "      <th>TOI_result</th>\n",
       "      <th>TOI_home</th>\n",
       "      <th>TOI</th>\n",
       "      <th>other_team</th>\n",
       "      <th>TOI_points_tot</th>\n",
       "      <th>TOI_goals_scored_tot</th>\n",
       "      <th>TOI_goals_rec_tot</th>\n",
       "      <th>other_team_points_tot</th>\n",
       "      <th>other_team_goals_scored_tot</th>\n",
       "      <th>other_team_goals_rec_tot</th>\n",
       "    </tr>\n",
       "  </thead>\n",
       "  <tbody>\n",
       "    <tr>\n",
       "      <th>0</th>\n",
       "      <td>/zapas/2526365</td>\n",
       "      <td>1.0</td>\n",
       "      <td>0.0</td>\n",
       "      <td>Arizona Coyotes</td>\n",
       "      <td>Toronto Maple Leafs</td>\n",
       "      <td>11.0</td>\n",
       "      <td>49.0</td>\n",
       "      <td>78.0</td>\n",
       "      <td>34.0</td>\n",
       "      <td>72.0</td>\n",
       "      <td>61.0</td>\n",
       "    </tr>\n",
       "    <tr>\n",
       "      <th>1</th>\n",
       "      <td>/zapas/2526399</td>\n",
       "      <td>1.0</td>\n",
       "      <td>1.0</td>\n",
       "      <td>Arizona Coyotes</td>\n",
       "      <td>Los Angeles Kings</td>\n",
       "      <td>14.0</td>\n",
       "      <td>50.0</td>\n",
       "      <td>73.0</td>\n",
       "      <td>29.0</td>\n",
       "      <td>59.0</td>\n",
       "      <td>51.0</td>\n",
       "    </tr>\n",
       "    <tr>\n",
       "      <th>2</th>\n",
       "      <td>/zapas/2526408</td>\n",
       "      <td>0.0</td>\n",
       "      <td>1.0</td>\n",
       "      <td>Arizona Coyotes</td>\n",
       "      <td>Vegas Golden Knights</td>\n",
       "      <td>16.0</td>\n",
       "      <td>51.0</td>\n",
       "      <td>69.0</td>\n",
       "      <td>36.0</td>\n",
       "      <td>75.0</td>\n",
       "      <td>63.0</td>\n",
       "    </tr>\n",
       "    <tr>\n",
       "      <th>3</th>\n",
       "      <td>/zapas/2526429</td>\n",
       "      <td>0.0</td>\n",
       "      <td>0.0</td>\n",
       "      <td>Arizona Coyotes</td>\n",
       "      <td>Edmonton Oilers</td>\n",
       "      <td>16.0</td>\n",
       "      <td>52.0</td>\n",
       "      <td>70.0</td>\n",
       "      <td>23.0</td>\n",
       "      <td>56.0</td>\n",
       "      <td>65.0</td>\n",
       "    </tr>\n",
       "    <tr>\n",
       "      <th>4</th>\n",
       "      <td>/zapas/2526440</td>\n",
       "      <td>0.0</td>\n",
       "      <td>0.0</td>\n",
       "      <td>Arizona Coyotes</td>\n",
       "      <td>Calgary Flames</td>\n",
       "      <td>17.0</td>\n",
       "      <td>50.0</td>\n",
       "      <td>68.0</td>\n",
       "      <td>27.0</td>\n",
       "      <td>58.0</td>\n",
       "      <td>67.0</td>\n",
       "    </tr>\n",
       "  </tbody>\n",
       "</table>\n",
       "</div>"
      ],
      "text/plain": [
       "          game_id  TOI_result  TOI_home              TOI  \\\n",
       "0  /zapas/2526365         1.0       0.0  Arizona Coyotes   \n",
       "1  /zapas/2526399         1.0       1.0  Arizona Coyotes   \n",
       "2  /zapas/2526408         0.0       1.0  Arizona Coyotes   \n",
       "3  /zapas/2526429         0.0       0.0  Arizona Coyotes   \n",
       "4  /zapas/2526440         0.0       0.0  Arizona Coyotes   \n",
       "\n",
       "             other_team  TOI_points_tot  TOI_goals_scored_tot  \\\n",
       "0   Toronto Maple Leafs            11.0                  49.0   \n",
       "1     Los Angeles Kings            14.0                  50.0   \n",
       "2  Vegas Golden Knights            16.0                  51.0   \n",
       "3       Edmonton Oilers            16.0                  52.0   \n",
       "4        Calgary Flames            17.0                  50.0   \n",
       "\n",
       "   TOI_goals_rec_tot  other_team_points_tot  other_team_goals_scored_tot  \\\n",
       "0               78.0                   34.0                         72.0   \n",
       "1               73.0                   29.0                         59.0   \n",
       "2               69.0                   36.0                         75.0   \n",
       "3               70.0                   23.0                         56.0   \n",
       "4               68.0                   27.0                         58.0   \n",
       "\n",
       "   other_team_goals_rec_tot  \n",
       "0                      61.0  \n",
       "1                      51.0  \n",
       "2                      63.0  \n",
       "3                      65.0  \n",
       "4                      67.0  "
      ]
     },
     "execution_count": 61,
     "metadata": {},
     "output_type": "execute_result"
    }
   ],
   "source": [
    "matches_team_1 = pd.read_csv(f'teams_final/{team_1_short}.csv')\n",
    "matches_team_1.head()"
   ]
  },
  {
   "cell_type": "code",
   "execution_count": 62,
   "id": "6e8a4f7f",
   "metadata": {},
   "outputs": [],
   "source": [
    "#dropping unnecessary columns\n",
    "matches_team_1 = matches_team_1.drop(columns=['game_id', 'TOI','other_team'])"
   ]
  },
  {
   "cell_type": "markdown",
   "id": "c5bd5147",
   "metadata": {},
   "source": [
    "#### Defining the independent and dependent variables"
   ]
  },
  {
   "cell_type": "code",
   "execution_count": 63,
   "id": "29e1b19a",
   "metadata": {},
   "outputs": [],
   "source": [
    "#independent\n",
    "x = matches_team_1.iloc[:, 1:].values\n",
    "#dependent - the result\n",
    "y = matches_team_1.iloc[:, 0].values"
   ]
  },
  {
   "cell_type": "markdown",
   "id": "a86f47d7",
   "metadata": {},
   "source": [
    "#### Splitting into training and test set"
   ]
  },
  {
   "cell_type": "code",
   "execution_count": 64,
   "id": "dfd56b52",
   "metadata": {},
   "outputs": [
    {
     "data": {
      "text/html": [
       "<div>\n",
       "<style scoped>\n",
       "    .dataframe tbody tr th:only-of-type {\n",
       "        vertical-align: middle;\n",
       "    }\n",
       "\n",
       "    .dataframe tbody tr th {\n",
       "        vertical-align: top;\n",
       "    }\n",
       "\n",
       "    .dataframe thead th {\n",
       "        text-align: right;\n",
       "    }\n",
       "</style>\n",
       "<table border=\"1\" class=\"dataframe\">\n",
       "  <thead>\n",
       "    <tr style=\"text-align: right;\">\n",
       "      <th></th>\n",
       "      <th>TOI_home</th>\n",
       "      <th>TOI_points_tot</th>\n",
       "      <th>TOI_goals_scored_tot</th>\n",
       "      <th>TOI_goals_rec_tot</th>\n",
       "      <th>other_team_points_tot</th>\n",
       "      <th>other_team_goals_scored_tot</th>\n",
       "      <th>other_team_goals_rec_tot</th>\n",
       "    </tr>\n",
       "  </thead>\n",
       "  <tbody>\n",
       "    <tr>\n",
       "      <th>0</th>\n",
       "      <td>0.0</td>\n",
       "      <td>11.0</td>\n",
       "      <td>49.0</td>\n",
       "      <td>78.0</td>\n",
       "      <td>34.0</td>\n",
       "      <td>72.0</td>\n",
       "      <td>61.0</td>\n",
       "    </tr>\n",
       "    <tr>\n",
       "      <th>1</th>\n",
       "      <td>1.0</td>\n",
       "      <td>14.0</td>\n",
       "      <td>50.0</td>\n",
       "      <td>73.0</td>\n",
       "      <td>29.0</td>\n",
       "      <td>59.0</td>\n",
       "      <td>51.0</td>\n",
       "    </tr>\n",
       "    <tr>\n",
       "      <th>2</th>\n",
       "      <td>1.0</td>\n",
       "      <td>16.0</td>\n",
       "      <td>51.0</td>\n",
       "      <td>69.0</td>\n",
       "      <td>36.0</td>\n",
       "      <td>75.0</td>\n",
       "      <td>63.0</td>\n",
       "    </tr>\n",
       "    <tr>\n",
       "      <th>3</th>\n",
       "      <td>0.0</td>\n",
       "      <td>16.0</td>\n",
       "      <td>52.0</td>\n",
       "      <td>70.0</td>\n",
       "      <td>23.0</td>\n",
       "      <td>56.0</td>\n",
       "      <td>65.0</td>\n",
       "    </tr>\n",
       "    <tr>\n",
       "      <th>4</th>\n",
       "      <td>0.0</td>\n",
       "      <td>17.0</td>\n",
       "      <td>50.0</td>\n",
       "      <td>68.0</td>\n",
       "      <td>27.0</td>\n",
       "      <td>58.0</td>\n",
       "      <td>67.0</td>\n",
       "    </tr>\n",
       "    <tr>\n",
       "      <th>...</th>\n",
       "      <td>...</td>\n",
       "      <td>...</td>\n",
       "      <td>...</td>\n",
       "      <td>...</td>\n",
       "      <td>...</td>\n",
       "      <td>...</td>\n",
       "      <td>...</td>\n",
       "    </tr>\n",
       "    <tr>\n",
       "      <th>343</th>\n",
       "      <td>1.0</td>\n",
       "      <td>13.0</td>\n",
       "      <td>43.0</td>\n",
       "      <td>89.0</td>\n",
       "      <td>37.0</td>\n",
       "      <td>81.0</td>\n",
       "      <td>71.0</td>\n",
       "    </tr>\n",
       "    <tr>\n",
       "      <th>344</th>\n",
       "      <td>1.0</td>\n",
       "      <td>13.0</td>\n",
       "      <td>41.0</td>\n",
       "      <td>88.0</td>\n",
       "      <td>41.0</td>\n",
       "      <td>85.0</td>\n",
       "      <td>62.0</td>\n",
       "    </tr>\n",
       "    <tr>\n",
       "      <th>345</th>\n",
       "      <td>0.0</td>\n",
       "      <td>11.0</td>\n",
       "      <td>40.0</td>\n",
       "      <td>90.0</td>\n",
       "      <td>45.0</td>\n",
       "      <td>78.0</td>\n",
       "      <td>50.0</td>\n",
       "    </tr>\n",
       "    <tr>\n",
       "      <th>346</th>\n",
       "      <td>0.0</td>\n",
       "      <td>11.0</td>\n",
       "      <td>39.0</td>\n",
       "      <td>90.0</td>\n",
       "      <td>35.0</td>\n",
       "      <td>55.0</td>\n",
       "      <td>60.0</td>\n",
       "    </tr>\n",
       "    <tr>\n",
       "      <th>347</th>\n",
       "      <td>1.0</td>\n",
       "      <td>13.0</td>\n",
       "      <td>42.0</td>\n",
       "      <td>89.0</td>\n",
       "      <td>30.0</td>\n",
       "      <td>64.0</td>\n",
       "      <td>75.0</td>\n",
       "    </tr>\n",
       "  </tbody>\n",
       "</table>\n",
       "<p>348 rows × 7 columns</p>\n",
       "</div>"
      ],
      "text/plain": [
       "     TOI_home  TOI_points_tot  TOI_goals_scored_tot  TOI_goals_rec_tot  \\\n",
       "0         0.0            11.0                  49.0               78.0   \n",
       "1         1.0            14.0                  50.0               73.0   \n",
       "2         1.0            16.0                  51.0               69.0   \n",
       "3         0.0            16.0                  52.0               70.0   \n",
       "4         0.0            17.0                  50.0               68.0   \n",
       "..        ...             ...                   ...                ...   \n",
       "343       1.0            13.0                  43.0               89.0   \n",
       "344       1.0            13.0                  41.0               88.0   \n",
       "345       0.0            11.0                  40.0               90.0   \n",
       "346       0.0            11.0                  39.0               90.0   \n",
       "347       1.0            13.0                  42.0               89.0   \n",
       "\n",
       "     other_team_points_tot  other_team_goals_scored_tot  \\\n",
       "0                     34.0                         72.0   \n",
       "1                     29.0                         59.0   \n",
       "2                     36.0                         75.0   \n",
       "3                     23.0                         56.0   \n",
       "4                     27.0                         58.0   \n",
       "..                     ...                          ...   \n",
       "343                   37.0                         81.0   \n",
       "344                   41.0                         85.0   \n",
       "345                   45.0                         78.0   \n",
       "346                   35.0                         55.0   \n",
       "347                   30.0                         64.0   \n",
       "\n",
       "     other_team_goals_rec_tot  \n",
       "0                        61.0  \n",
       "1                        51.0  \n",
       "2                        63.0  \n",
       "3                        65.0  \n",
       "4                        67.0  \n",
       "..                        ...  \n",
       "343                      71.0  \n",
       "344                      62.0  \n",
       "345                      50.0  \n",
       "346                      60.0  \n",
       "347                      75.0  \n",
       "\n",
       "[348 rows x 7 columns]"
      ]
     },
     "execution_count": 64,
     "metadata": {},
     "output_type": "execute_result"
    }
   ],
   "source": [
    "matches_team_1.iloc[:, 1:]"
   ]
  },
  {
   "cell_type": "code",
   "execution_count": 65,
   "id": "144103ad",
   "metadata": {},
   "outputs": [],
   "source": [
    "X_train, X_test, y_train, y_test = train_test_split(x, y, test_size = 0.1, random_state = 0)"
   ]
  },
  {
   "cell_type": "code",
   "execution_count": 66,
   "id": "69b803cb",
   "metadata": {},
   "outputs": [
    {
     "data": {
      "text/plain": [
       "array([[ 0., 20., 50., 62., 31., 72., 69.],\n",
       "       [ 0., 36., 57., 48., 34., 74., 68.],\n",
       "       [ 1., 19., 54., 70., 36., 71., 55.],\n",
       "       [ 1., 33., 49., 51., 35., 61., 52.],\n",
       "       [ 0., 14., 38., 67., 36., 63., 48.]])"
      ]
     },
     "execution_count": 66,
     "metadata": {},
     "output_type": "execute_result"
    }
   ],
   "source": [
    "X_test[:5]"
   ]
  },
  {
   "cell_type": "code",
   "execution_count": 67,
   "id": "8a9ef427",
   "metadata": {},
   "outputs": [],
   "source": [
    "#rescaling everything except the \"home\" dummy ... and then adding the dummy back\n",
    "scaler = StandardScaler()\n",
    "X_train_stand = scaler.fit_transform(X_train[:,1:])\n",
    "X_test_stand = scaler.transform(X_test[:,1:])\n",
    "X_train_stand = np.insert(X_train_stand,0,X_train[:,0],axis=1)\n",
    "X_test_stand = np.insert(X_test_stand,0,X_test[:,0],axis=1)"
   ]
  },
  {
   "cell_type": "markdown",
   "id": "ac8bf2fa",
   "metadata": {},
   "source": [
    "#### The model and predictions"
   ]
  },
  {
   "cell_type": "code",
   "execution_count": 68,
   "id": "a3539444",
   "metadata": {},
   "outputs": [],
   "source": [
    "reg = LogisticRegression(max_iter = 400)\n",
    "reg.fit(X_train, y_train)\n",
    "y_pred = reg.predict(X_test)"
   ]
  },
  {
   "cell_type": "code",
   "execution_count": 69,
   "id": "a9adfad9",
   "metadata": {},
   "outputs": [
    {
     "name": "stdout",
     "output_type": "stream",
     "text": [
      "[[16  2]\n",
      " [15  2]]\n"
     ]
    }
   ],
   "source": [
    "#how well does the model perform?\n",
    "conf_matrix = confusion_matrix(y_test, y_pred)\n",
    "print(conf_matrix)"
   ]
  },
  {
   "cell_type": "code",
   "execution_count": 70,
   "id": "1bda9cb7",
   "metadata": {},
   "outputs": [
    {
     "name": "stdout",
     "output_type": "stream",
     "text": [
      "Accuracy :  \n",
      " 0.5142857142857142\n"
     ]
    }
   ],
   "source": [
    "print(\"Accuracy :  \\n\", accuracy_score(y_test, y_pred))"
   ]
  },
  {
   "cell_type": "code",
   "execution_count": 71,
   "id": "2c1529d0",
   "metadata": {},
   "outputs": [
    {
     "data": {
      "text/html": [
       "<div>\n",
       "<style scoped>\n",
       "    .dataframe tbody tr th:only-of-type {\n",
       "        vertical-align: middle;\n",
       "    }\n",
       "\n",
       "    .dataframe tbody tr th {\n",
       "        vertical-align: top;\n",
       "    }\n",
       "\n",
       "    .dataframe thead th {\n",
       "        text-align: right;\n",
       "    }\n",
       "</style>\n",
       "<table border=\"1\" class=\"dataframe\">\n",
       "  <thead>\n",
       "    <tr style=\"text-align: right;\">\n",
       "      <th></th>\n",
       "      <th>game_id</th>\n",
       "      <th>TOI_result</th>\n",
       "      <th>TOI_home</th>\n",
       "      <th>TOI</th>\n",
       "      <th>other_team</th>\n",
       "      <th>TOI_points_tot</th>\n",
       "      <th>TOI_goals_scored_tot</th>\n",
       "      <th>TOI_goals_rec_tot</th>\n",
       "      <th>other_team_points_tot</th>\n",
       "      <th>other_team_goals_scored_tot</th>\n",
       "      <th>other_team_goals_rec_tot</th>\n",
       "    </tr>\n",
       "  </thead>\n",
       "  <tbody>\n",
       "    <tr>\n",
       "      <th>0</th>\n",
       "      <td>/zapas/2526378</td>\n",
       "      <td>0.0</td>\n",
       "      <td>1.0</td>\n",
       "      <td>Pittsburgh Penguins</td>\n",
       "      <td>Vancouver Canucks</td>\n",
       "      <td>31.0</td>\n",
       "      <td>54.0</td>\n",
       "      <td>60.0</td>\n",
       "      <td>30.0</td>\n",
       "      <td>53.0</td>\n",
       "      <td>57.0</td>\n",
       "    </tr>\n",
       "    <tr>\n",
       "      <th>1</th>\n",
       "      <td>/zapas/2526388</td>\n",
       "      <td>0.0</td>\n",
       "      <td>0.0</td>\n",
       "      <td>Pittsburgh Penguins</td>\n",
       "      <td>Boston Bruins</td>\n",
       "      <td>28.0</td>\n",
       "      <td>52.0</td>\n",
       "      <td>65.0</td>\n",
       "      <td>30.0</td>\n",
       "      <td>54.0</td>\n",
       "      <td>59.0</td>\n",
       "    </tr>\n",
       "    <tr>\n",
       "      <th>2</th>\n",
       "      <td>/zapas/2526407</td>\n",
       "      <td>1.0</td>\n",
       "      <td>1.0</td>\n",
       "      <td>Pittsburgh Penguins</td>\n",
       "      <td>Tampa Bay Lightning</td>\n",
       "      <td>25.0</td>\n",
       "      <td>52.0</td>\n",
       "      <td>67.0</td>\n",
       "      <td>44.0</td>\n",
       "      <td>75.0</td>\n",
       "      <td>49.0</td>\n",
       "    </tr>\n",
       "    <tr>\n",
       "      <th>3</th>\n",
       "      <td>/zapas/2526417</td>\n",
       "      <td>1.0</td>\n",
       "      <td>1.0</td>\n",
       "      <td>Pittsburgh Penguins</td>\n",
       "      <td>Philadelphia Flyers</td>\n",
       "      <td>28.0</td>\n",
       "      <td>53.0</td>\n",
       "      <td>64.0</td>\n",
       "      <td>24.0</td>\n",
       "      <td>57.0</td>\n",
       "      <td>63.0</td>\n",
       "    </tr>\n",
       "    <tr>\n",
       "      <th>4</th>\n",
       "      <td>/zapas/2526442</td>\n",
       "      <td>1.0</td>\n",
       "      <td>0.0</td>\n",
       "      <td>Pittsburgh Penguins</td>\n",
       "      <td>Buffalo Sabres</td>\n",
       "      <td>27.0</td>\n",
       "      <td>54.0</td>\n",
       "      <td>65.0</td>\n",
       "      <td>20.0</td>\n",
       "      <td>44.0</td>\n",
       "      <td>63.0</td>\n",
       "    </tr>\n",
       "  </tbody>\n",
       "</table>\n",
       "</div>"
      ],
      "text/plain": [
       "          game_id  TOI_result  TOI_home                  TOI  \\\n",
       "0  /zapas/2526378         0.0       1.0  Pittsburgh Penguins   \n",
       "1  /zapas/2526388         0.0       0.0  Pittsburgh Penguins   \n",
       "2  /zapas/2526407         1.0       1.0  Pittsburgh Penguins   \n",
       "3  /zapas/2526417         1.0       1.0  Pittsburgh Penguins   \n",
       "4  /zapas/2526442         1.0       0.0  Pittsburgh Penguins   \n",
       "\n",
       "            other_team  TOI_points_tot  TOI_goals_scored_tot  \\\n",
       "0    Vancouver Canucks            31.0                  54.0   \n",
       "1        Boston Bruins            28.0                  52.0   \n",
       "2  Tampa Bay Lightning            25.0                  52.0   \n",
       "3  Philadelphia Flyers            28.0                  53.0   \n",
       "4       Buffalo Sabres            27.0                  54.0   \n",
       "\n",
       "   TOI_goals_rec_tot  other_team_points_tot  other_team_goals_scored_tot  \\\n",
       "0               60.0                   30.0                         53.0   \n",
       "1               65.0                   30.0                         54.0   \n",
       "2               67.0                   44.0                         75.0   \n",
       "3               64.0                   24.0                         57.0   \n",
       "4               65.0                   20.0                         44.0   \n",
       "\n",
       "   other_team_goals_rec_tot  \n",
       "0                      57.0  \n",
       "1                      59.0  \n",
       "2                      49.0  \n",
       "3                      63.0  \n",
       "4                      63.0  "
      ]
     },
     "execution_count": 71,
     "metadata": {},
     "output_type": "execute_result"
    }
   ],
   "source": [
    "matches_team_2 = pd.read_csv(f'teams_final/{team_2_short}.csv')\n",
    "matches_team_2.head()"
   ]
  },
  {
   "cell_type": "markdown",
   "id": "993f1da9",
   "metadata": {},
   "source": [
    "### the final prediction"
   ]
  },
  {
   "cell_type": "code",
   "execution_count": 72,
   "id": "ba51cbc9",
   "metadata": {},
   "outputs": [],
   "source": [
    "matches_team_1_pre = pd.read_csv(f'teams_pre-processed/{team_1_short}_pre.csv')\n",
    "matches_team_2_pre = pd.read_csv(f'teams_pre-processed/{team_2_short}_pre.csv')"
   ]
  },
  {
   "cell_type": "code",
   "execution_count": 73,
   "id": "c4c7486f",
   "metadata": {},
   "outputs": [],
   "source": [
    "pred_team_1 = matches_team_1_pre[['TOI_points', 'TOI_goals_scored', 'TOI_goals_rec']].tail(20).sum().values"
   ]
  },
  {
   "cell_type": "code",
   "execution_count": 74,
   "id": "044cd200",
   "metadata": {},
   "outputs": [
    {
     "data": {
      "text/plain": [
       "array([16., 45., 89.])"
      ]
     },
     "execution_count": 74,
     "metadata": {},
     "output_type": "execute_result"
    }
   ],
   "source": [
    "#je to v poradi points-goals scored-goals received\n",
    "pred_team_1"
   ]
  },
  {
   "cell_type": "code",
   "execution_count": 75,
   "id": "6ed9c242",
   "metadata": {},
   "outputs": [
    {
     "data": {
      "text/plain": [
       "array([27., 71., 63.])"
      ]
     },
     "execution_count": 75,
     "metadata": {},
     "output_type": "execute_result"
    }
   ],
   "source": [
    "pred_team_2 = matches_team_2_pre[['TOI_points', 'TOI_goals_scored', 'TOI_goals_rec']].tail(20).sum().values\n",
    "pred_team_2"
   ]
  },
  {
   "cell_type": "code",
   "execution_count": 76,
   "id": "0e1b6eb2",
   "metadata": {},
   "outputs": [],
   "source": [
    "TOI_home = np.array([1])"
   ]
  },
  {
   "cell_type": "code",
   "execution_count": 77,
   "id": "8dcd6947",
   "metadata": {},
   "outputs": [],
   "source": [
    "values_to_fit = np.concatenate([TOI_home, pred_team_1, pred_team_2]).reshape(1, -1)"
   ]
  },
  {
   "cell_type": "code",
   "execution_count": 78,
   "id": "93d32e5b",
   "metadata": {},
   "outputs": [
    {
     "data": {
      "text/plain": [
       "array([0.])"
      ]
     },
     "execution_count": 78,
     "metadata": {},
     "output_type": "execute_result"
    }
   ],
   "source": [
    "final_pred = reg.predict(values_to_fit)\n",
    "final_pred"
   ]
  },
  {
   "cell_type": "code",
   "execution_count": 79,
   "id": "b0bbe078",
   "metadata": {},
   "outputs": [
    {
     "name": "stdout",
     "output_type": "stream",
     "text": [
      "The team Pittsburgh Penguins is predicted to win this game.\n"
     ]
    }
   ],
   "source": [
    "if final_pred[0] == 1:\n",
    "    print('The team', team_1, \"is predicted to win this game.\")\n",
    "elif final_pred[0] == 0:\n",
    "    print('The team', team_2, \"is predicted to win this game.\")\n",
    "else:\n",
    "    print('An error occured along the way. Please try again.')"
   ]
  },
  {
   "cell_type": "markdown",
   "id": "24edcc18",
   "metadata": {},
   "source": [
    "## Accuraccy of models of individual teams"
   ]
  },
  {
   "cell_type": "code",
   "execution_count": 80,
   "id": "bab4d939",
   "metadata": {},
   "outputs": [
    {
     "name": "stdout",
     "output_type": "stream",
     "text": [
      "[0.5277777777777778, 0.5142857142857142, 0.6944444444444444, 0.6285714285714286, 0.5555555555555556, 0.6, 0.5277777777777778, 0.5555555555555556, 0.4722222222222222, 0.5714285714285714, 0.6388888888888888, 0.6388888888888888, 0.5833333333333334, 0.5555555555555556, 0.6, 0.5277777777777778, 0.5428571428571428, 0.6285714285714286, 0.5142857142857142, 0.45714285714285713, 0.75, 0.5428571428571428, 0.42857142857142855, 0.5, 0.7142857142857143, 0.5277777777777778, 0.6944444444444444, 0.4166666666666667, 0.5142857142857142, 0.6666666666666666, 0.6, 0.5833333333333334]\n",
      "4\n"
     ]
    }
   ],
   "source": [
    "#How accurate is the model for individual teams?\n",
    "accuracies = []\n",
    "for one_team in distinct_teams:\n",
    "    one_team_short = teams_dict[one_team]\n",
    "    matches_one_team = pd.read_csv(f'teams_final/{one_team_short}.csv')\n",
    "    matches_one_team = matches_one_team.drop(columns=['game_id', 'TOI','other_team'])\n",
    "    x = matches_one_team.iloc[:, 1:].values\n",
    "    y = matches_one_team.iloc[:, 0].values\n",
    "    X_train, X_test, y_train, y_test = train_test_split(x, y, test_size = 0.1, random_state = 0)\n",
    "\n",
    "    scaler = StandardScaler()\n",
    "    X_train_stand = scaler.fit_transform(X_train[:,1:])\n",
    "    X_test_stand = scaler.transform(X_test[:,1:])\n",
    "    X_train_stand = np.insert(X_train_stand,0,X_train[:,0],axis=1)\n",
    "    X_test_stand = np.insert(X_test_stand,0,X_test[:,0],axis=1)\n",
    "    reg = LogisticRegression(max_iter = 400)\n",
    "    reg.fit(X_train, y_train)\n",
    "    y_pred = reg.predict(X_test)\n",
    "    accuracies.append(accuracy_score(y_test, y_pred))\n",
    "    \n",
    "\n",
    "print((accuracies))\n",
    "print(sum(acc < 0.5 for acc in accuracies)) #4 teams out of 32 have lower then 0.5 accuracy"
   ]
  },
  {
   "cell_type": "code",
   "execution_count": 81,
   "id": "86ff551d",
   "metadata": {},
   "outputs": [
    {
     "data": {
      "text/plain": [
       "0.5710565476190476"
      ]
     },
     "execution_count": 81,
     "metadata": {},
     "output_type": "execute_result"
    }
   ],
   "source": [
    "mean(accuracies) #the model is 57% accurate, on average"
   ]
  },
  {
   "cell_type": "markdown",
   "id": "73159c73",
   "metadata": {},
   "source": [
    "### Calculating Home Advantage"
   ]
  },
  {
   "cell_type": "code",
   "execution_count": 82,
   "id": "f401915f",
   "metadata": {},
   "outputs": [
    {
     "data": {
      "text/plain": [
       "0.5413507925568574"
      ]
     },
     "execution_count": 82,
     "metadata": {},
     "output_type": "execute_result"
    }
   ],
   "source": [
    "#ja moc nevim jestli tenhle vypocet je dobre\n",
    "all_matches = pd.read_csv('all_matches.csv')\n",
    "sum_wins_home = sum(all_matches[\"goals_home\"] > all_matches[\"goals_away\"])\n",
    "sum_wins_away = sum(all_matches[\"goals_home\"] < all_matches[\"goals_away\"])\n",
    " \n",
    "home_winrate = sum_wins_home/(sum_wins_home+sum_wins_away)\n",
    "home_winrate"
   ]
  },
  {
   "cell_type": "markdown",
   "id": "884657fe",
   "metadata": {},
   "source": [
    "### calculating and visualising home advantage for all teams for all seasons together"
   ]
  },
  {
   "cell_type": "code",
   "execution_count": 83,
   "id": "3000536f",
   "metadata": {},
   "outputs": [
    {
     "data": {
      "text/plain": [
       "{'Anaheim Ducks': 0.4508670520231214,\n",
       " 'Arizona Coyotes': 0.42528735632183906,\n",
       " 'Boston Bruins': 0.6704545454545454,\n",
       " 'Buffalo Sabres': 0.42134831460674155,\n",
       " 'Calgary Flames': 0.5375722543352601,\n",
       " 'Carolina Hurricanes': 0.6149425287356322,\n",
       " 'Chicago Blackhawks': 0.42857142857142855,\n",
       " 'Colorado Avalanche': 0.6514285714285715,\n",
       " 'Columbus Blue Jackets': 0.5284090909090909,\n",
       " 'Dallas Stars': 0.5795454545454546,\n",
       " 'Detroit Red Wings': 0.39664804469273746,\n",
       " 'Edmonton Oilers': 0.5375722543352601,\n",
       " 'Florida Panthers': 0.6440677966101694,\n",
       " 'Los Angeles Kings': 0.4797687861271676,\n",
       " 'Minnesota Wild': 0.6193181818181818,\n",
       " 'Montreal Canadiens': 0.43258426966292135,\n",
       " 'Nashville Predators': 0.6022727272727273,\n",
       " 'New Jersey Devils': 0.41954022988505746,\n",
       " 'New York Islanders': 0.550561797752809,\n",
       " 'New York Rangers': 0.5202312138728323,\n",
       " 'Ottawa Senators': 0.44,\n",
       " 'Philadelphia Flyers': 0.49714285714285716,\n",
       " 'Pittsburgh Penguins': 0.6460674157303371,\n",
       " 'San Jose Sharks': 0.5172413793103449,\n",
       " 'Seattle Kraken': 0.36666666666666664,\n",
       " 'St. Louis Blues': 0.576271186440678,\n",
       " 'Tampa Bay Lightning': 0.7052023121387283,\n",
       " 'Toronto Maple Leafs': 0.6379310344827587,\n",
       " 'Vancouver Canucks': 0.5028571428571429,\n",
       " 'Vegas Golden Knights': 0.6101694915254238,\n",
       " 'Washington Capitals': 0.5722543352601156,\n",
       " 'Winnipeg Jets': 0.5955056179775281}"
      ]
     },
     "execution_count": 83,
     "metadata": {},
     "output_type": "execute_result"
    }
   ],
   "source": [
    "home_advantages = {}\n",
    "for one_team in distinct_teams:\n",
    "    one_team_short = teams_dict[one_team]\n",
    "    matches_one_team = pd.read_csv(f'teams_final/{one_team_short}.csv')\n",
    "    home_ad = (sum((matches_one_team['TOI_home'] == 1) & (matches_one_team['TOI_result'] == 1)))/sum(matches_one_team['TOI_home'] == 1)\n",
    "    home_advantages[one_team] = home_ad\n",
    "    \n",
    "home_advantages\n",
    "\n",
    "#add points total, so that we can see if it corresponds"
   ]
  },
  {
   "cell_type": "markdown",
   "id": "322a472c",
   "metadata": {},
   "source": [
    "### calculating and visualising home advantage for individual seasons"
   ]
  },
  {
   "cell_type": "code",
   "execution_count": 84,
   "id": "97d77dd0",
   "metadata": {},
   "outputs": [
    {
     "data": {
      "text/html": [
       "<div>\n",
       "<style scoped>\n",
       "    .dataframe tbody tr th:only-of-type {\n",
       "        vertical-align: middle;\n",
       "    }\n",
       "\n",
       "    .dataframe tbody tr th {\n",
       "        vertical-align: top;\n",
       "    }\n",
       "\n",
       "    .dataframe thead th {\n",
       "        text-align: right;\n",
       "    }\n",
       "</style>\n",
       "<table border=\"1\" class=\"dataframe\">\n",
       "  <thead>\n",
       "    <tr style=\"text-align: right;\">\n",
       "      <th></th>\n",
       "      <th>year</th>\n",
       "      <th>win_home_percentage</th>\n",
       "    </tr>\n",
       "  </thead>\n",
       "  <tbody>\n",
       "    <tr>\n",
       "      <th>0</th>\n",
       "      <td>2017</td>\n",
       "      <td>56.334</td>\n",
       "    </tr>\n",
       "    <tr>\n",
       "      <th>1</th>\n",
       "      <td>2018</td>\n",
       "      <td>53.659</td>\n",
       "    </tr>\n",
       "    <tr>\n",
       "      <th>2</th>\n",
       "      <td>2019</td>\n",
       "      <td>53.327</td>\n",
       "    </tr>\n",
       "    <tr>\n",
       "      <th>3</th>\n",
       "      <td>2020</td>\n",
       "      <td>53.341</td>\n",
       "    </tr>\n",
       "    <tr>\n",
       "      <th>4</th>\n",
       "      <td>2021</td>\n",
       "      <td>53.659</td>\n",
       "    </tr>\n",
       "  </tbody>\n",
       "</table>\n",
       "</div>"
      ],
      "text/plain": [
       "   year  win_home_percentage\n",
       "0  2017               56.334\n",
       "1  2018               53.659\n",
       "2  2019               53.327\n",
       "3  2020               53.341\n",
       "4  2021               53.659"
      ]
     },
     "execution_count": 84,
     "metadata": {},
     "output_type": "execute_result"
    }
   ],
   "source": [
    "home_advantage = pd.DataFrame(seasons_used, columns=['year'])\n",
    "ha = []\n",
    "for season in seasons_used:\n",
    "    ha_one_season = sum(all_matches.loc[all_matches['season'] == int(season)][\"home_wins\"])/len(all_matches.loc[all_matches['season'] == int(season)][\"home_wins\"])\n",
    "    ha.append(round(ha_one_season*100,3))\n",
    "home_advantage[\"win_home_percentage\"] = ha\n",
    "home_advantage"
   ]
  },
  {
   "cell_type": "code",
   "execution_count": 85,
   "id": "4ccdae19",
   "metadata": {},
   "outputs": [
    {
     "data": {
      "image/png": "[encoded data removed]",
      "text/plain": [
       "<Figure size 432x288 with 1 Axes>"
      ]
     },
     "metadata": {
      "needs_background": "light"
     },
     "output_type": "display_data"
    }
   ],
   "source": [
    "ha = home_advantage.plot(x = 'year', legend=False, kind = \"bar\")\n",
    "plt.ylabel(\"Home Win %\")\n",
    "ha.bar_label(ha.containers[0], labels=home_advantage['win_home_percentage'])\n",
    "plt.show()"
   ]
  },
  {
   "cell_type": "markdown",
   "id": "26e96207",
   "metadata": {},
   "source": [
    "### calculating home advantage for all teams and all seasons"
   ]
  },
  {
   "cell_type": "code",
   "execution_count": 86,
   "id": "0809d3ab",
   "metadata": {},
   "outputs": [
    {
     "data": {
      "text/plain": [
       "0.5413507925568574"
      ]
     },
     "execution_count": 86,
     "metadata": {},
     "output_type": "execute_result"
    }
   ],
   "source": [
    "sum(all_matches[\"home_wins\"])/len(all_matches[\"home_wins\"])"
   ]
  },
  {
   "cell_type": "markdown",
   "id": "7b258f5c",
   "metadata": {},
   "source": [
    "### calculating and visualising home advantage for one specific team and all seasons"
   ]
  },
  {
   "cell_type": "code",
   "execution_count": null,
   "id": "46ed553d",
   "metadata": {},
   "outputs": [],
   "source": []
  },
  {
   "cell_type": "markdown",
   "id": "8cfc0977",
   "metadata": {},
   "source": [
    "### After picking 2 teams both their final_dfs are found, saved and displayed"
   ]
  },
  {
   "cell_type": "code",
   "execution_count": 87,
   "id": "909eb9f5",
   "metadata": {},
   "outputs": [
    {
     "data": {
      "text/html": [
       "<div>\n",
       "<style scoped>\n",
       "    .dataframe tbody tr th:only-of-type {\n",
       "        vertical-align: middle;\n",
       "    }\n",
       "\n",
       "    .dataframe tbody tr th {\n",
       "        vertical-align: top;\n",
       "    }\n",
       "\n",
       "    .dataframe thead th {\n",
       "        text-align: right;\n",
       "    }\n",
       "</style>\n",
       "<table border=\"1\" class=\"dataframe\">\n",
       "  <thead>\n",
       "    <tr style=\"text-align: right;\">\n",
       "      <th></th>\n",
       "      <th>game_id</th>\n",
       "      <th>TOI_result</th>\n",
       "      <th>TOI_home</th>\n",
       "      <th>TOI</th>\n",
       "      <th>other_team</th>\n",
       "      <th>TOI_points_tot</th>\n",
       "      <th>TOI_goals_scored_tot</th>\n",
       "      <th>TOI_goals_rec_tot</th>\n",
       "      <th>other_team_points_tot</th>\n",
       "      <th>other_team_goals_scored_tot</th>\n",
       "      <th>other_team_goals_rec_tot</th>\n",
       "      <th>other_team_points_tot2</th>\n",
       "      <th>other_team_goals_scored_tot2</th>\n",
       "      <th>other_team_goals_rec_tot2</th>\n",
       "    </tr>\n",
       "  </thead>\n",
       "  <tbody>\n",
       "    <tr>\n",
       "      <th>0</th>\n",
       "      <td>/zapas/2526557</td>\n",
       "      <td>0.0</td>\n",
       "      <td>1.0</td>\n",
       "      <td>Arizona Coyotes</td>\n",
       "      <td>Pittsburgh Penguins</td>\n",
       "      <td>19.0</td>\n",
       "      <td>39.0</td>\n",
       "      <td>57.0</td>\n",
       "      <td>26.0</td>\n",
       "      <td>59.0</td>\n",
       "      <td>56.0</td>\n",
       "      <td>19.0</td>\n",
       "      <td>39.0</td>\n",
       "      <td>57.0</td>\n",
       "    </tr>\n",
       "    <tr>\n",
       "      <th>1</th>\n",
       "      <td>/zapas/2647447</td>\n",
       "      <td>0.0</td>\n",
       "      <td>0.0</td>\n",
       "      <td>Arizona Coyotes</td>\n",
       "      <td>Pittsburgh Penguins</td>\n",
       "      <td>30.0</td>\n",
       "      <td>59.0</td>\n",
       "      <td>48.0</td>\n",
       "      <td>29.0</td>\n",
       "      <td>68.0</td>\n",
       "      <td>64.0</td>\n",
       "      <td>30.0</td>\n",
       "      <td>59.0</td>\n",
       "      <td>48.0</td>\n",
       "    </tr>\n",
       "    <tr>\n",
       "      <th>2</th>\n",
       "      <td>/zapas/2647936</td>\n",
       "      <td>0.0</td>\n",
       "      <td>1.0</td>\n",
       "      <td>Arizona Coyotes</td>\n",
       "      <td>Pittsburgh Penguins</td>\n",
       "      <td>21.0</td>\n",
       "      <td>54.0</td>\n",
       "      <td>66.0</td>\n",
       "      <td>41.0</td>\n",
       "      <td>74.0</td>\n",
       "      <td>50.0</td>\n",
       "      <td>21.0</td>\n",
       "      <td>54.0</td>\n",
       "      <td>66.0</td>\n",
       "    </tr>\n",
       "    <tr>\n",
       "      <th>3</th>\n",
       "      <td>/zapas/2806825</td>\n",
       "      <td>0.0</td>\n",
       "      <td>0.0</td>\n",
       "      <td>Arizona Coyotes</td>\n",
       "      <td>Pittsburgh Penguins</td>\n",
       "      <td>31.0</td>\n",
       "      <td>54.0</td>\n",
       "      <td>48.0</td>\n",
       "      <td>28.0</td>\n",
       "      <td>64.0</td>\n",
       "      <td>58.0</td>\n",
       "      <td>31.0</td>\n",
       "      <td>54.0</td>\n",
       "      <td>48.0</td>\n",
       "    </tr>\n",
       "    <tr>\n",
       "      <th>4</th>\n",
       "      <td>/zapas/2807082</td>\n",
       "      <td>0.0</td>\n",
       "      <td>1.0</td>\n",
       "      <td>Arizona Coyotes</td>\n",
       "      <td>Pittsburgh Penguins</td>\n",
       "      <td>29.0</td>\n",
       "      <td>57.0</td>\n",
       "      <td>58.0</td>\n",
       "      <td>39.0</td>\n",
       "      <td>69.0</td>\n",
       "      <td>57.0</td>\n",
       "      <td>29.0</td>\n",
       "      <td>57.0</td>\n",
       "      <td>58.0</td>\n",
       "    </tr>\n",
       "  </tbody>\n",
       "</table>\n",
       "</div>"
      ],
      "text/plain": [
       "          game_id  TOI_result  TOI_home              TOI           other_team  \\\n",
       "0  /zapas/2526557         0.0       1.0  Arizona Coyotes  Pittsburgh Penguins   \n",
       "1  /zapas/2647447         0.0       0.0  Arizona Coyotes  Pittsburgh Penguins   \n",
       "2  /zapas/2647936         0.0       1.0  Arizona Coyotes  Pittsburgh Penguins   \n",
       "3  /zapas/2806825         0.0       0.0  Arizona Coyotes  Pittsburgh Penguins   \n",
       "4  /zapas/2807082         0.0       1.0  Arizona Coyotes  Pittsburgh Penguins   \n",
       "\n",
       "   TOI_points_tot  TOI_goals_scored_tot  TOI_goals_rec_tot  \\\n",
       "0            19.0                  39.0               57.0   \n",
       "1            30.0                  59.0               48.0   \n",
       "2            21.0                  54.0               66.0   \n",
       "3            31.0                  54.0               48.0   \n",
       "4            29.0                  57.0               58.0   \n",
       "\n",
       "   other_team_points_tot  other_team_goals_scored_tot  \\\n",
       "0                   26.0                         59.0   \n",
       "1                   29.0                         68.0   \n",
       "2                   41.0                         74.0   \n",
       "3                   28.0                         64.0   \n",
       "4                   39.0                         69.0   \n",
       "\n",
       "   other_team_goals_rec_tot  other_team_points_tot2  \\\n",
       "0                      56.0                    19.0   \n",
       "1                      64.0                    30.0   \n",
       "2                      50.0                    21.0   \n",
       "3                      58.0                    31.0   \n",
       "4                      57.0                    29.0   \n",
       "\n",
       "   other_team_goals_scored_tot2  other_team_goals_rec_tot2  \n",
       "0                          39.0                       57.0  \n",
       "1                          59.0                       48.0  \n",
       "2                          54.0                       66.0  \n",
       "3                          54.0                       48.0  \n",
       "4                          57.0                       58.0  "
      ]
     },
     "execution_count": 87,
     "metadata": {},
     "output_type": "execute_result"
    }
   ],
   "source": [
    "matches_team_1s = pd.read_csv(f'teams_final/{team_1_short}.csv')\n",
    "matches_between_them = matches_team_1s.merge(matches_team_2, left_on='game_id', right_on='game_id',suffixes=('', '2'))\n",
    "matches_between_them.drop(columns=['TOI_result2', 'TOI_home2','TOI2','other_team2','TOI_points_tot2','TOI_goals_scored_tot2','TOI_goals_rec_tot2'], inplace=True)\n",
    "pd.set_option(\"display.max_rows\", None, \"display.max_columns\", None)\n",
    "matches_between_them.head()"
   ]
  },
  {
   "cell_type": "code",
   "execution_count": 88,
   "id": "08cf0742",
   "metadata": {},
   "outputs": [],
   "source": [
    "pd.set_option(\"display.max_rows\", 15, \"display.max_columns\", 15)"
   ]
  },
  {
   "cell_type": "code",
   "execution_count": 89,
   "id": "407e97b4",
   "metadata": {},
   "outputs": [
    {
     "data": {
      "text/plain": [
       "0    /zapas/2526557\n",
       "1    /zapas/2647447\n",
       "2    /zapas/2647936\n",
       "3    /zapas/2806825\n",
       "4    /zapas/2807082\n",
       "5    /zapas/2897731\n",
       "6    /zapas/2897965\n",
       "Name: game_id, dtype: object"
      ]
     },
     "execution_count": 89,
     "metadata": {},
     "output_type": "execute_result"
    }
   ],
   "source": [
    "matches_between_them_ids = matches_between_them['game_id']\n",
    "matches_between_them_ids"
   ]
  },
  {
   "cell_type": "markdown",
   "id": "5edc400a",
   "metadata": {},
   "source": [
    "### Graphs"
   ]
  },
  {
   "cell_type": "markdown",
   "id": "b0c6d0b5",
   "metadata": {},
   "source": [
    "#### We create data frames for graphs and we ad variable match_ordr that displays the order of matches of a given team"
   ]
  },
  {
   "cell_type": "code",
   "execution_count": 90,
   "id": "9b103206",
   "metadata": {},
   "outputs": [
    {
     "data": {
      "text/html": [
       "<div>\n",
       "<style scoped>\n",
       "    .dataframe tbody tr th:only-of-type {\n",
       "        vertical-align: middle;\n",
       "    }\n",
       "\n",
       "    .dataframe tbody tr th {\n",
       "        vertical-align: top;\n",
       "    }\n",
       "\n",
       "    .dataframe thead th {\n",
       "        text-align: right;\n",
       "    }\n",
       "</style>\n",
       "<table border=\"1\" class=\"dataframe\">\n",
       "  <thead>\n",
       "    <tr style=\"text-align: right;\">\n",
       "      <th></th>\n",
       "      <th>game_id</th>\n",
       "      <th>team_home</th>\n",
       "      <th>team_away</th>\n",
       "      <th>goals_home</th>\n",
       "      <th>goals_away</th>\n",
       "      <th>OT</th>\n",
       "      <th>points_home</th>\n",
       "      <th>...</th>\n",
       "      <th>TOI_goals_scored</th>\n",
       "      <th>TOI_goals_rec</th>\n",
       "      <th>TOI_result</th>\n",
       "      <th>other_team</th>\n",
       "      <th>TOI</th>\n",
       "      <th>season</th>\n",
       "      <th>match_ordr</th>\n",
       "    </tr>\n",
       "  </thead>\n",
       "  <tbody>\n",
       "    <tr>\n",
       "      <th>0</th>\n",
       "      <td>/zapas/2526056</td>\n",
       "      <td>Pittsburgh Penguins</td>\n",
       "      <td>St. Louis Blues</td>\n",
       "      <td>4</td>\n",
       "      <td>5</td>\n",
       "      <td>1</td>\n",
       "      <td>1.0</td>\n",
       "      <td>...</td>\n",
       "      <td>4.0</td>\n",
       "      <td>5.0</td>\n",
       "      <td>0.0</td>\n",
       "      <td>St. Louis Blues</td>\n",
       "      <td>Pittsburgh Penguins</td>\n",
       "      <td>2017</td>\n",
       "      <td>1</td>\n",
       "    </tr>\n",
       "    <tr>\n",
       "      <th>1</th>\n",
       "      <td>/zapas/2526064</td>\n",
       "      <td>Chicago Blackhawks</td>\n",
       "      <td>Pittsburgh Penguins</td>\n",
       "      <td>10</td>\n",
       "      <td>1</td>\n",
       "      <td>0</td>\n",
       "      <td>3.0</td>\n",
       "      <td>...</td>\n",
       "      <td>1.0</td>\n",
       "      <td>10.0</td>\n",
       "      <td>0.0</td>\n",
       "      <td>Chicago Blackhawks</td>\n",
       "      <td>Pittsburgh Penguins</td>\n",
       "      <td>2017</td>\n",
       "      <td>2</td>\n",
       "    </tr>\n",
       "    <tr>\n",
       "      <th>2</th>\n",
       "      <td>/zapas/2526075</td>\n",
       "      <td>Pittsburgh Penguins</td>\n",
       "      <td>Nashville Predators</td>\n",
       "      <td>4</td>\n",
       "      <td>0</td>\n",
       "      <td>0</td>\n",
       "      <td>3.0</td>\n",
       "      <td>...</td>\n",
       "      <td>4.0</td>\n",
       "      <td>0.0</td>\n",
       "      <td>1.0</td>\n",
       "      <td>Nashville Predators</td>\n",
       "      <td>Pittsburgh Penguins</td>\n",
       "      <td>2017</td>\n",
       "      <td>3</td>\n",
       "    </tr>\n",
       "    <tr>\n",
       "      <th>3</th>\n",
       "      <td>/zapas/2526101</td>\n",
       "      <td>Washington Capitals</td>\n",
       "      <td>Pittsburgh Penguins</td>\n",
       "      <td>2</td>\n",
       "      <td>3</td>\n",
       "      <td>0</td>\n",
       "      <td>0.0</td>\n",
       "      <td>...</td>\n",
       "      <td>3.0</td>\n",
       "      <td>2.0</td>\n",
       "      <td>1.0</td>\n",
       "      <td>Washington Capitals</td>\n",
       "      <td>Pittsburgh Penguins</td>\n",
       "      <td>2017</td>\n",
       "      <td>4</td>\n",
       "    </tr>\n",
       "    <tr>\n",
       "      <th>4</th>\n",
       "      <td>/zapas/2526105</td>\n",
       "      <td>Tampa Bay Lightning</td>\n",
       "      <td>Pittsburgh Penguins</td>\n",
       "      <td>5</td>\n",
       "      <td>4</td>\n",
       "      <td>0</td>\n",
       "      <td>3.0</td>\n",
       "      <td>...</td>\n",
       "      <td>4.0</td>\n",
       "      <td>5.0</td>\n",
       "      <td>0.0</td>\n",
       "      <td>Tampa Bay Lightning</td>\n",
       "      <td>Pittsburgh Penguins</td>\n",
       "      <td>2017</td>\n",
       "      <td>5</td>\n",
       "    </tr>\n",
       "  </tbody>\n",
       "</table>\n",
       "<p>5 rows × 17 columns</p>\n",
       "</div>"
      ],
      "text/plain": [
       "          game_id            team_home            team_away  goals_home  \\\n",
       "0  /zapas/2526056  Pittsburgh Penguins      St. Louis Blues           4   \n",
       "1  /zapas/2526064   Chicago Blackhawks  Pittsburgh Penguins          10   \n",
       "2  /zapas/2526075  Pittsburgh Penguins  Nashville Predators           4   \n",
       "3  /zapas/2526101  Washington Capitals  Pittsburgh Penguins           2   \n",
       "4  /zapas/2526105  Tampa Bay Lightning  Pittsburgh Penguins           5   \n",
       "\n",
       "   goals_away  OT  points_home  ...  TOI_goals_scored  TOI_goals_rec  \\\n",
       "0           5   1          1.0  ...               4.0            5.0   \n",
       "1           1   0          3.0  ...               1.0           10.0   \n",
       "2           0   0          3.0  ...               4.0            0.0   \n",
       "3           3   0          0.0  ...               3.0            2.0   \n",
       "4           4   0          3.0  ...               4.0            5.0   \n",
       "\n",
       "   TOI_result           other_team                  TOI  season match_ordr  \n",
       "0         0.0      St. Louis Blues  Pittsburgh Penguins    2017          1  \n",
       "1         0.0   Chicago Blackhawks  Pittsburgh Penguins    2017          2  \n",
       "2         1.0  Nashville Predators  Pittsburgh Penguins    2017          3  \n",
       "3         1.0  Washington Capitals  Pittsburgh Penguins    2017          4  \n",
       "4         0.0  Tampa Bay Lightning  Pittsburgh Penguins    2017          5  \n",
       "\n",
       "[5 rows x 17 columns]"
      ]
     },
     "execution_count": 90,
     "metadata": {},
     "output_type": "execute_result"
    }
   ],
   "source": [
    "matches_team_1_graphs = pd.read_csv(f'teams_pre-processed/{team_1_short}_pre.csv')\n",
    "matches_team_2_graphs = pd.read_csv(f'teams_pre-processed/{team_2_short}_pre.csv')\n",
    "matches_team_1_graphs['match_ordr'] = range(1, len(matches_team_1_graphs) + 1)\n",
    "matches_team_2_graphs['match_ordr'] = range(1, len(matches_team_2_graphs) + 1)\n",
    "matches_team_2_graphs.head()"
   ]
  },
  {
   "cell_type": "markdown",
   "id": "67e55fc4",
   "metadata": {},
   "source": [
    "### Merge both teams into one dataframe and create a graph of scored goals"
   ]
  },
  {
   "cell_type": "code",
   "execution_count": 91,
   "id": "e97e0ed0",
   "metadata": {
    "scrolled": true
   },
   "outputs": [
    {
     "data": {
      "image/png": "[encoded data removed]",
      "text/plain": [
       "<Figure size 7242.38x720 with 1 Axes>"
      ]
     },
     "metadata": {
      "needs_background": "light"
     },
     "output_type": "display_data"
    }
   ],
   "source": [
    "graphs = pd.concat([matches_team_1_graphs, matches_team_2_graphs], axis=0, ignore_index=False)\n",
    "graphs['team'] = (len(matches_team_1_graphs)*(1,) + len(matches_team_2_graphs)*(2,))\n",
    "graph_1 = sns.catplot(x='match_ordr', y='TOI_goals_scored', hue='team', kind='bar', data=graphs, height=10, aspect=10, palette=[\"#FA7F63\", \"#00FC35\"])\n",
    "graph_1.set(xticklabels=[])\n",
    "plt.show()"
   ]
  },
  {
   "cell_type": "markdown",
   "id": "9e55b7f7",
   "metadata": {},
   "source": [
    "#### Too many matches we need to limit the data to last 30 matches"
   ]
  },
  {
   "cell_type": "code",
   "execution_count": 40,
   "id": "0a61e577",
   "metadata": {},
   "outputs": [
    {
     "data": {
      "image/png": "[encoded data removed]",
      "text/plain": [
       "<Figure size 1122.38x360 with 1 Axes>"
      ]
     },
     "metadata": {
      "needs_background": "light"
     },
     "output_type": "display_data"
    }
   ],
   "source": [
    "matches_team_1_graphs_30 = matches_team_1_graphs.tail(30)\n",
    "matches_team_2_graphs_30 = matches_team_2_graphs.tail(30)\n",
    "graphs_30_matches = pd.concat([matches_team_1_graphs_30, matches_team_2_graphs_30], axis=0, ignore_index=False)\n",
    "graphs_30_matches['team'] = (len(matches_team_1_graphs_30)*(1,) + len(matches_team_2_graphs_30)*(2,))\n",
    "graphs_30_matches\n",
    "graph_2 = sns.catplot(x='match_ordr', y='TOI_goals_scored', hue='team', kind='bar', data=graphs_30_matches, height=5, aspect=3, palette=[\"#FA7F63\", \"#00FC35\"])\n",
    "graph_2.set(xticklabels=[])\n",
    "plt.show()"
   ]
  },
  {
   "cell_type": "markdown",
   "id": "0a27e357",
   "metadata": {},
   "source": [
    "### Recived Goals"
   ]
  },
  {
   "cell_type": "code",
   "execution_count": 41,
   "id": "94499468",
   "metadata": {},
   "outputs": [
    {
     "data": {
      "image/png": "[encoded data removed]",
      "text/plain": [
       "<Figure size 1122.38x360 with 1 Axes>"
      ]
     },
     "metadata": {
      "needs_background": "light"
     },
     "output_type": "display_data"
    }
   ],
   "source": [
    "graph_3 = sns.catplot(x='match_ordr', y='TOI_goals_rec', hue='team', kind='bar', data=graphs_30_matches, height=5, aspect=3, palette=[\"#FA7F63\", \"#00FC35\"])\n",
    "graph_3.set(xticklabels=[])\n",
    "plt.show()"
   ]
  },
  {
   "cell_type": "markdown",
   "id": "30a3a83d",
   "metadata": {},
   "source": [
    "### How teams did in last 30 matches"
   ]
  },
  {
   "cell_type": "code",
   "execution_count": 42,
   "id": "e19b7f79",
   "metadata": {},
   "outputs": [
    {
     "data": {
      "text/plain": [
       "<function matplotlib.pyplot.show(close=None, block=None)>"
      ]
     },
     "execution_count": 42,
     "metadata": {},
     "output_type": "execute_result"
    },
    {
     "data": {
      "image/png": "[encoded data removed]",
      "text/plain": [
       "<Figure size 1080x360 with 1 Axes>"
      ]
     },
     "metadata": {
      "needs_background": "light"
     },
     "output_type": "display_data"
    }
   ],
   "source": [
    "ax = matches_team_1_graphs_30[['TOI_goals_scored','TOI_goals_rec','match_ordr']].plot(\n",
    "    x='match_ordr',kind='bar',figsize=(15, 5),color=[\"#FA7F63\", \"#BF2806\"],title='Team 1')\n",
    "matches_team_1_graphs_30[['TOI_points','match_ordr']].plot(x='match_ordr',  linestyle='-', marker='*',figsize=(15, 5),use_index=False,\n",
    "                                                   color=[\"#EEAC26\"], lw=4, ax=ax)\n",
    "ax.set(xticklabels=[])\n",
    "plt.show"
   ]
  },
  {
   "cell_type": "code",
   "execution_count": 43,
   "id": "b3671317",
   "metadata": {},
   "outputs": [
    {
     "data": {
      "text/plain": [
       "<function matplotlib.pyplot.show(close=None, block=None)>"
      ]
     },
     "execution_count": 43,
     "metadata": {},
     "output_type": "execute_result"
    },
    {
     "data": {
      "image/png": "[encoded data removed]",
      "text/plain": [
       "<Figure size 1080x360 with 1 Axes>"
      ]
     },
     "metadata": {
      "needs_background": "light"
     },
     "output_type": "display_data"
    }
   ],
   "source": [
    "ax = matches_team_2_graphs_30[['TOI_goals_scored','TOI_goals_rec','match_ordr']].plot(\n",
    "    x='match_ordr',kind='bar',figsize=(15, 5),color=[\"#00FC35\", \"#42BB5C\"],title='Team 2')\n",
    "matches_team_2_graphs_30[['TOI_points','match_ordr']].plot(x='match_ordr',  linestyle='-', marker='*',figsize=(15, 5),use_index=False,\n",
    "                                                   color=[\"#B6E968\"], lw=4, ax=ax)\n",
    "ax.set(xticklabels=[])\n",
    "plt.show"
   ]
  },
  {
   "cell_type": "markdown",
   "id": "a2ea805a",
   "metadata": {},
   "source": [
    "### Comparison of important variables for our model"
   ]
  },
  {
   "cell_type": "code",
   "execution_count": 44,
   "id": "f12409fd",
   "metadata": {},
   "outputs": [
    {
     "data": {
      "text/plain": [
       "<function matplotlib.pyplot.show(close=None, block=None)>"
      ]
     },
     "execution_count": 44,
     "metadata": {},
     "output_type": "execute_result"
    },
    {
     "data": {
      "image/png": "[encoded data removed]",
      "text/plain": [
       "<Figure size 432x288 with 1 Axes>"
      ]
     },
     "metadata": {
      "needs_background": "light"
     },
     "output_type": "display_data"
    }
   ],
   "source": [
    "x_coordinates = ['TOI_points', 'TOI_goals_scored', 'TOI_goals_rec']\n",
    "X_axis = np.arange(len(x_coordinates))\n",
    "plt.plot(x_coordinates, pred_team_1,'#FA7F63',label=\"Team 1\") \n",
    "plt.plot(x_coordinates, pred_team_2,'#00FC35',label=\"Team 2\") \n",
    "plt.legend(loc=\"upper left\")\n",
    "plt.show"
   ]
  },
  {
   "cell_type": "markdown",
   "id": "de60eba1",
   "metadata": {},
   "source": [
    "### 2nd model based on matches between 2 teams"
   ]
  },
  {
   "cell_type": "code",
   "execution_count": 45,
   "id": "5b8c3b68",
   "metadata": {},
   "outputs": [
    {
     "data": {
      "text/html": [
       "<div>\n",
       "<style scoped>\n",
       "    .dataframe tbody tr th:only-of-type {\n",
       "        vertical-align: middle;\n",
       "    }\n",
       "\n",
       "    .dataframe tbody tr th {\n",
       "        vertical-align: top;\n",
       "    }\n",
       "\n",
       "    .dataframe thead th {\n",
       "        text-align: right;\n",
       "    }\n",
       "</style>\n",
       "<table border=\"1\" class=\"dataframe\">\n",
       "  <thead>\n",
       "    <tr style=\"text-align: right;\">\n",
       "      <th></th>\n",
       "      <th>game_id</th>\n",
       "      <th>team_home</th>\n",
       "      <th>team_away</th>\n",
       "      <th>goals_home</th>\n",
       "      <th>goals_away</th>\n",
       "      <th>OT</th>\n",
       "      <th>points_home</th>\n",
       "      <th>...</th>\n",
       "      <th>TOI_goals_scored</th>\n",
       "      <th>TOI_goals_rec</th>\n",
       "      <th>TOI_result</th>\n",
       "      <th>other_team</th>\n",
       "      <th>TOI</th>\n",
       "      <th>season</th>\n",
       "      <th>match_ordr</th>\n",
       "    </tr>\n",
       "  </thead>\n",
       "  <tbody>\n",
       "    <tr>\n",
       "      <th>22</th>\n",
       "      <td>/zapas/2526431</td>\n",
       "      <td>Boston Bruins</td>\n",
       "      <td>Tampa Bay Lightning</td>\n",
       "      <td>3</td>\n",
       "      <td>2</td>\n",
       "      <td>0</td>\n",
       "      <td>3.0</td>\n",
       "      <td>...</td>\n",
       "      <td>3.0</td>\n",
       "      <td>2.0</td>\n",
       "      <td>1.0</td>\n",
       "      <td>Tampa Bay Lightning</td>\n",
       "      <td>Boston Bruins</td>\n",
       "      <td>2017</td>\n",
       "      <td>1</td>\n",
       "    </tr>\n",
       "    <tr>\n",
       "      <th>69</th>\n",
       "      <td>/zapas/2527156</td>\n",
       "      <td>Tampa Bay Lightning</td>\n",
       "      <td>Boston Bruins</td>\n",
       "      <td>0</td>\n",
       "      <td>3</td>\n",
       "      <td>0</td>\n",
       "      <td>0.0</td>\n",
       "      <td>...</td>\n",
       "      <td>3.0</td>\n",
       "      <td>0.0</td>\n",
       "      <td>1.0</td>\n",
       "      <td>Tampa Bay Lightning</td>\n",
       "      <td>Boston Bruins</td>\n",
       "      <td>2017</td>\n",
       "      <td>2</td>\n",
       "    </tr>\n",
       "    <tr>\n",
       "      <th>75</th>\n",
       "      <td>/zapas/2527244</td>\n",
       "      <td>Boston Bruins</td>\n",
       "      <td>Tampa Bay Lightning</td>\n",
       "      <td>4</td>\n",
       "      <td>2</td>\n",
       "      <td>0</td>\n",
       "      <td>3.0</td>\n",
       "      <td>...</td>\n",
       "      <td>4.0</td>\n",
       "      <td>2.0</td>\n",
       "      <td>1.0</td>\n",
       "      <td>Tampa Bay Lightning</td>\n",
       "      <td>Boston Bruins</td>\n",
       "      <td>2017</td>\n",
       "      <td>3</td>\n",
       "    </tr>\n",
       "    <tr>\n",
       "      <th>78</th>\n",
       "      <td>/zapas/2527287</td>\n",
       "      <td>Tampa Bay Lightning</td>\n",
       "      <td>Boston Bruins</td>\n",
       "      <td>4</td>\n",
       "      <td>0</td>\n",
       "      <td>0</td>\n",
       "      <td>3.0</td>\n",
       "      <td>...</td>\n",
       "      <td>0.0</td>\n",
       "      <td>4.0</td>\n",
       "      <td>0.0</td>\n",
       "      <td>Tampa Bay Lightning</td>\n",
       "      <td>Boston Bruins</td>\n",
       "      <td>2017</td>\n",
       "      <td>4</td>\n",
       "    </tr>\n",
       "    <tr>\n",
       "      <th>109</th>\n",
       "      <td>/zapas/2647632</td>\n",
       "      <td>Tampa Bay Lightning</td>\n",
       "      <td>Boston Bruins</td>\n",
       "      <td>3</td>\n",
       "      <td>2</td>\n",
       "      <td>0</td>\n",
       "      <td>3.0</td>\n",
       "      <td>...</td>\n",
       "      <td>2.0</td>\n",
       "      <td>3.0</td>\n",
       "      <td>0.0</td>\n",
       "      <td>Tampa Bay Lightning</td>\n",
       "      <td>Boston Bruins</td>\n",
       "      <td>2018</td>\n",
       "      <td>5</td>\n",
       "    </tr>\n",
       "    <tr>\n",
       "      <th>...</th>\n",
       "      <td>...</td>\n",
       "      <td>...</td>\n",
       "      <td>...</td>\n",
       "      <td>...</td>\n",
       "      <td>...</td>\n",
       "      <td>...</td>\n",
       "      <td>...</td>\n",
       "      <td>...</td>\n",
       "      <td>...</td>\n",
       "      <td>...</td>\n",
       "      <td>...</td>\n",
       "      <td>...</td>\n",
       "      <td>...</td>\n",
       "      <td>...</td>\n",
       "      <td>...</td>\n",
       "    </tr>\n",
       "    <tr>\n",
       "      <th>232</th>\n",
       "      <td>/zapas/2807430</td>\n",
       "      <td>Boston Bruins</td>\n",
       "      <td>Tampa Bay Lightning</td>\n",
       "      <td>3</td>\n",
       "      <td>5</td>\n",
       "      <td>0</td>\n",
       "      <td>0.0</td>\n",
       "      <td>...</td>\n",
       "      <td>3.0</td>\n",
       "      <td>5.0</td>\n",
       "      <td>0.0</td>\n",
       "      <td>Tampa Bay Lightning</td>\n",
       "      <td>Boston Bruins</td>\n",
       "      <td>2019</td>\n",
       "      <td>12</td>\n",
       "    </tr>\n",
       "    <tr>\n",
       "      <th>310</th>\n",
       "      <td>/zapas/2897351</td>\n",
       "      <td>Boston Bruins</td>\n",
       "      <td>Tampa Bay Lightning</td>\n",
       "      <td>2</td>\n",
       "      <td>3</td>\n",
       "      <td>1</td>\n",
       "      <td>1.0</td>\n",
       "      <td>...</td>\n",
       "      <td>2.0</td>\n",
       "      <td>3.0</td>\n",
       "      <td>0.0</td>\n",
       "      <td>Tampa Bay Lightning</td>\n",
       "      <td>Boston Bruins</td>\n",
       "      <td>2021</td>\n",
       "      <td>13</td>\n",
       "    </tr>\n",
       "    <tr>\n",
       "      <th>320</th>\n",
       "      <td>/zapas/2897606</td>\n",
       "      <td>Tampa Bay Lightning</td>\n",
       "      <td>Boston Bruins</td>\n",
       "      <td>2</td>\n",
       "      <td>5</td>\n",
       "      <td>0</td>\n",
       "      <td>0.0</td>\n",
       "      <td>...</td>\n",
       "      <td>5.0</td>\n",
       "      <td>2.0</td>\n",
       "      <td>1.0</td>\n",
       "      <td>Tampa Bay Lightning</td>\n",
       "      <td>Boston Bruins</td>\n",
       "      <td>2021</td>\n",
       "      <td>14</td>\n",
       "    </tr>\n",
       "    <tr>\n",
       "      <th>353</th>\n",
       "      <td>/zapas/2898005</td>\n",
       "      <td>Boston Bruins</td>\n",
       "      <td>Tampa Bay Lightning</td>\n",
       "      <td>3</td>\n",
       "      <td>2</td>\n",
       "      <td>0</td>\n",
       "      <td>3.0</td>\n",
       "      <td>...</td>\n",
       "      <td>3.0</td>\n",
       "      <td>2.0</td>\n",
       "      <td>1.0</td>\n",
       "      <td>Tampa Bay Lightning</td>\n",
       "      <td>Boston Bruins</td>\n",
       "      <td>2021</td>\n",
       "      <td>15</td>\n",
       "    </tr>\n",
       "    <tr>\n",
       "      <th>360</th>\n",
       "      <td>/zapas/2898120</td>\n",
       "      <td>Tampa Bay Lightning</td>\n",
       "      <td>Boston Bruins</td>\n",
       "      <td>1</td>\n",
       "      <td>2</td>\n",
       "      <td>1</td>\n",
       "      <td>1.0</td>\n",
       "      <td>...</td>\n",
       "      <td>2.0</td>\n",
       "      <td>1.0</td>\n",
       "      <td>1.0</td>\n",
       "      <td>Tampa Bay Lightning</td>\n",
       "      <td>Boston Bruins</td>\n",
       "      <td>2021</td>\n",
       "      <td>16</td>\n",
       "    </tr>\n",
       "  </tbody>\n",
       "</table>\n",
       "<p>16 rows × 17 columns</p>\n",
       "</div>"
      ],
      "text/plain": [
       "            game_id            team_home            team_away  goals_home  \\\n",
       "22   /zapas/2526431        Boston Bruins  Tampa Bay Lightning           3   \n",
       "69   /zapas/2527156  Tampa Bay Lightning        Boston Bruins           0   \n",
       "75   /zapas/2527244        Boston Bruins  Tampa Bay Lightning           4   \n",
       "78   /zapas/2527287  Tampa Bay Lightning        Boston Bruins           4   \n",
       "109  /zapas/2647632  Tampa Bay Lightning        Boston Bruins           3   \n",
       "..              ...                  ...                  ...         ...   \n",
       "232  /zapas/2807430        Boston Bruins  Tampa Bay Lightning           3   \n",
       "310  /zapas/2897351        Boston Bruins  Tampa Bay Lightning           2   \n",
       "320  /zapas/2897606  Tampa Bay Lightning        Boston Bruins           2   \n",
       "353  /zapas/2898005        Boston Bruins  Tampa Bay Lightning           3   \n",
       "360  /zapas/2898120  Tampa Bay Lightning        Boston Bruins           1   \n",
       "\n",
       "     goals_away  OT  points_home  ...  TOI_goals_scored  TOI_goals_rec  \\\n",
       "22            2   0          3.0  ...               3.0            2.0   \n",
       "69            3   0          0.0  ...               3.0            0.0   \n",
       "75            2   0          3.0  ...               4.0            2.0   \n",
       "78            0   0          3.0  ...               0.0            4.0   \n",
       "109           2   0          3.0  ...               2.0            3.0   \n",
       "..          ...  ..          ...  ...               ...            ...   \n",
       "232           5   0          0.0  ...               3.0            5.0   \n",
       "310           3   1          1.0  ...               2.0            3.0   \n",
       "320           5   0          0.0  ...               5.0            2.0   \n",
       "353           2   0          3.0  ...               3.0            2.0   \n",
       "360           2   1          1.0  ...               2.0            1.0   \n",
       "\n",
       "     TOI_result           other_team            TOI  season match_ordr  \n",
       "22          1.0  Tampa Bay Lightning  Boston Bruins    2017          1  \n",
       "69          1.0  Tampa Bay Lightning  Boston Bruins    2017          2  \n",
       "75          1.0  Tampa Bay Lightning  Boston Bruins    2017          3  \n",
       "78          0.0  Tampa Bay Lightning  Boston Bruins    2017          4  \n",
       "109         0.0  Tampa Bay Lightning  Boston Bruins    2018          5  \n",
       "..          ...                  ...            ...     ...        ...  \n",
       "232         0.0  Tampa Bay Lightning  Boston Bruins    2019         12  \n",
       "310         0.0  Tampa Bay Lightning  Boston Bruins    2021         13  \n",
       "320         1.0  Tampa Bay Lightning  Boston Bruins    2021         14  \n",
       "353         1.0  Tampa Bay Lightning  Boston Bruins    2021         15  \n",
       "360         1.0  Tampa Bay Lightning  Boston Bruins    2021         16  \n",
       "\n",
       "[16 rows x 17 columns]"
      ]
     },
     "execution_count": 45,
     "metadata": {},
     "output_type": "execute_result"
    }
   ],
   "source": [
    "#TOI = team 1 and should be home team to reflect home team advantage\n",
    "second_model_mathes_filtered= matches_team_1_pre[matches_team_1_pre.other_team == team_2].copy()\n",
    "second_model_mathes_filtered['match_ordr'] = range(1, len(second_model_mathes_filtered) + 1)\n",
    "second_model_mathes_filtered"
   ]
  },
  {
   "cell_type": "markdown",
   "id": "085b2378",
   "metadata": {},
   "source": [
    "### 2nd model here we predict winner based on wins and loses in duels between teams"
   ]
  },
  {
   "cell_type": "code",
   "execution_count": 46,
   "id": "960a6040",
   "metadata": {},
   "outputs": [
    {
     "name": "stdout",
     "output_type": "stream",
     "text": [
      "Boston Bruins will win the match\n"
     ]
    }
   ],
   "source": [
    "model_2_data = sum(second_model_mathes_filtered.TOI_result)/len(second_model_mathes_filtered.TOI_result)\n",
    "if model_2_data >= 0.5:\n",
    "  print(team_1,\"will win the match\")\n",
    "elif model_2_data < 0.5:\n",
    "  print(team_2,\"will win the match\")\n",
    "else:\n",
    "  print(\"our model can not predict the winner as we do not have data  of\", team_1,\"facing \",team_2)"
   ]
  },
  {
   "cell_type": "markdown",
   "id": "5eb6d18b",
   "metadata": {},
   "source": [
    "###  Another version of 2nd model here we predict winner based on points in duels between teams"
   ]
  },
  {
   "cell_type": "code",
   "execution_count": 47,
   "id": "946cd930",
   "metadata": {},
   "outputs": [
    {
     "name": "stdout",
     "output_type": "stream",
     "text": [
      "Boston Bruins will win the match\n"
     ]
    }
   ],
   "source": [
    "model_2_data_b = sum(second_model_mathes_filtered.TOI_points)/(len(second_model_mathes_filtered.TOI_result)*3)\n",
    "if model_2_data_b >= 0.5:\n",
    "      print(team_1,\"will win the match\")\n",
    "elif model_2_data_b < 0.5:\n",
    "      print(team_2,\"will win the match\")\n",
    "else:\n",
    "      print(\"our model can not predict the winner as we do not have data  of\", team_1,\"faceing \",team_2)"
   ]
  },
  {
   "cell_type": "markdown",
   "id": "c639b471",
   "metadata": {},
   "source": [
    "### Accuracy\n"
   ]
  },
  {
   "cell_type": "code",
   "execution_count": 48,
   "id": "4aeb6a3c",
   "metadata": {},
   "outputs": [],
   "source": [
    "second_model_mathes_filtered_accuracy = second_model_mathes_filtered.iloc[:-1 , :] #we prepare a data set without the last match"
   ]
  },
  {
   "cell_type": "code",
   "execution_count": 49,
   "id": "aa793ded",
   "metadata": {},
   "outputs": [],
   "source": [
    "second_model_mathes_filtered_result = second_model_mathes_filtered.tail(1) #the result of last match we are checking against"
   ]
  },
  {
   "cell_type": "markdown",
   "id": "6a8474fd",
   "metadata": {},
   "source": [
    "### Another try at accuracy"
   ]
  },
  {
   "cell_type": "code",
   "execution_count": 50,
   "id": "dc99bd9c",
   "metadata": {},
   "outputs": [
    {
     "data": {
      "text/html": [
       "<div>\n",
       "<style scoped>\n",
       "    .dataframe tbody tr th:only-of-type {\n",
       "        vertical-align: middle;\n",
       "    }\n",
       "\n",
       "    .dataframe tbody tr th {\n",
       "        vertical-align: top;\n",
       "    }\n",
       "\n",
       "    .dataframe thead th {\n",
       "        text-align: right;\n",
       "    }\n",
       "</style>\n",
       "<table border=\"1\" class=\"dataframe\">\n",
       "  <thead>\n",
       "    <tr style=\"text-align: right;\">\n",
       "      <th></th>\n",
       "      <th>game_id</th>\n",
       "      <th>team_home</th>\n",
       "      <th>team_away</th>\n",
       "      <th>goals_home</th>\n",
       "      <th>goals_away</th>\n",
       "      <th>OT</th>\n",
       "      <th>points_home</th>\n",
       "      <th>...</th>\n",
       "      <th>other_team</th>\n",
       "      <th>TOI</th>\n",
       "      <th>season</th>\n",
       "      <th>match_ordr</th>\n",
       "      <th>wins_before_this_match</th>\n",
       "      <th>points_before_this_match</th>\n",
       "      <th>matches_before_this_match</th>\n",
       "    </tr>\n",
       "  </thead>\n",
       "  <tbody>\n",
       "    <tr>\n",
       "      <th>22</th>\n",
       "      <td>/zapas/2526431</td>\n",
       "      <td>Boston Bruins</td>\n",
       "      <td>Tampa Bay Lightning</td>\n",
       "      <td>3</td>\n",
       "      <td>2</td>\n",
       "      <td>0</td>\n",
       "      <td>3.0</td>\n",
       "      <td>...</td>\n",
       "      <td>Tampa Bay Lightning</td>\n",
       "      <td>Boston Bruins</td>\n",
       "      <td>2017</td>\n",
       "      <td>1</td>\n",
       "      <td>0.0</td>\n",
       "      <td>0.0</td>\n",
       "      <td>0</td>\n",
       "    </tr>\n",
       "    <tr>\n",
       "      <th>69</th>\n",
       "      <td>/zapas/2527156</td>\n",
       "      <td>Tampa Bay Lightning</td>\n",
       "      <td>Boston Bruins</td>\n",
       "      <td>0</td>\n",
       "      <td>3</td>\n",
       "      <td>0</td>\n",
       "      <td>0.0</td>\n",
       "      <td>...</td>\n",
       "      <td>Tampa Bay Lightning</td>\n",
       "      <td>Boston Bruins</td>\n",
       "      <td>2017</td>\n",
       "      <td>2</td>\n",
       "      <td>1.0</td>\n",
       "      <td>3.0</td>\n",
       "      <td>1</td>\n",
       "    </tr>\n",
       "    <tr>\n",
       "      <th>75</th>\n",
       "      <td>/zapas/2527244</td>\n",
       "      <td>Boston Bruins</td>\n",
       "      <td>Tampa Bay Lightning</td>\n",
       "      <td>4</td>\n",
       "      <td>2</td>\n",
       "      <td>0</td>\n",
       "      <td>3.0</td>\n",
       "      <td>...</td>\n",
       "      <td>Tampa Bay Lightning</td>\n",
       "      <td>Boston Bruins</td>\n",
       "      <td>2017</td>\n",
       "      <td>3</td>\n",
       "      <td>2.0</td>\n",
       "      <td>6.0</td>\n",
       "      <td>2</td>\n",
       "    </tr>\n",
       "    <tr>\n",
       "      <th>78</th>\n",
       "      <td>/zapas/2527287</td>\n",
       "      <td>Tampa Bay Lightning</td>\n",
       "      <td>Boston Bruins</td>\n",
       "      <td>4</td>\n",
       "      <td>0</td>\n",
       "      <td>0</td>\n",
       "      <td>3.0</td>\n",
       "      <td>...</td>\n",
       "      <td>Tampa Bay Lightning</td>\n",
       "      <td>Boston Bruins</td>\n",
       "      <td>2017</td>\n",
       "      <td>4</td>\n",
       "      <td>3.0</td>\n",
       "      <td>9.0</td>\n",
       "      <td>3</td>\n",
       "    </tr>\n",
       "    <tr>\n",
       "      <th>109</th>\n",
       "      <td>/zapas/2647632</td>\n",
       "      <td>Tampa Bay Lightning</td>\n",
       "      <td>Boston Bruins</td>\n",
       "      <td>3</td>\n",
       "      <td>2</td>\n",
       "      <td>0</td>\n",
       "      <td>3.0</td>\n",
       "      <td>...</td>\n",
       "      <td>Tampa Bay Lightning</td>\n",
       "      <td>Boston Bruins</td>\n",
       "      <td>2018</td>\n",
       "      <td>5</td>\n",
       "      <td>3.0</td>\n",
       "      <td>9.0</td>\n",
       "      <td>4</td>\n",
       "    </tr>\n",
       "    <tr>\n",
       "      <th>...</th>\n",
       "      <td>...</td>\n",
       "      <td>...</td>\n",
       "      <td>...</td>\n",
       "      <td>...</td>\n",
       "      <td>...</td>\n",
       "      <td>...</td>\n",
       "      <td>...</td>\n",
       "      <td>...</td>\n",
       "      <td>...</td>\n",
       "      <td>...</td>\n",
       "      <td>...</td>\n",
       "      <td>...</td>\n",
       "      <td>...</td>\n",
       "      <td>...</td>\n",
       "      <td>...</td>\n",
       "    </tr>\n",
       "    <tr>\n",
       "      <th>232</th>\n",
       "      <td>/zapas/2807430</td>\n",
       "      <td>Boston Bruins</td>\n",
       "      <td>Tampa Bay Lightning</td>\n",
       "      <td>3</td>\n",
       "      <td>5</td>\n",
       "      <td>0</td>\n",
       "      <td>0.0</td>\n",
       "      <td>...</td>\n",
       "      <td>Tampa Bay Lightning</td>\n",
       "      <td>Boston Bruins</td>\n",
       "      <td>2019</td>\n",
       "      <td>12</td>\n",
       "      <td>5.0</td>\n",
       "      <td>16.0</td>\n",
       "      <td>11</td>\n",
       "    </tr>\n",
       "    <tr>\n",
       "      <th>310</th>\n",
       "      <td>/zapas/2897351</td>\n",
       "      <td>Boston Bruins</td>\n",
       "      <td>Tampa Bay Lightning</td>\n",
       "      <td>2</td>\n",
       "      <td>3</td>\n",
       "      <td>1</td>\n",
       "      <td>1.0</td>\n",
       "      <td>...</td>\n",
       "      <td>Tampa Bay Lightning</td>\n",
       "      <td>Boston Bruins</td>\n",
       "      <td>2021</td>\n",
       "      <td>13</td>\n",
       "      <td>5.0</td>\n",
       "      <td>16.0</td>\n",
       "      <td>12</td>\n",
       "    </tr>\n",
       "    <tr>\n",
       "      <th>320</th>\n",
       "      <td>/zapas/2897606</td>\n",
       "      <td>Tampa Bay Lightning</td>\n",
       "      <td>Boston Bruins</td>\n",
       "      <td>2</td>\n",
       "      <td>5</td>\n",
       "      <td>0</td>\n",
       "      <td>0.0</td>\n",
       "      <td>...</td>\n",
       "      <td>Tampa Bay Lightning</td>\n",
       "      <td>Boston Bruins</td>\n",
       "      <td>2021</td>\n",
       "      <td>14</td>\n",
       "      <td>5.0</td>\n",
       "      <td>17.0</td>\n",
       "      <td>13</td>\n",
       "    </tr>\n",
       "    <tr>\n",
       "      <th>353</th>\n",
       "      <td>/zapas/2898005</td>\n",
       "      <td>Boston Bruins</td>\n",
       "      <td>Tampa Bay Lightning</td>\n",
       "      <td>3</td>\n",
       "      <td>2</td>\n",
       "      <td>0</td>\n",
       "      <td>3.0</td>\n",
       "      <td>...</td>\n",
       "      <td>Tampa Bay Lightning</td>\n",
       "      <td>Boston Bruins</td>\n",
       "      <td>2021</td>\n",
       "      <td>15</td>\n",
       "      <td>6.0</td>\n",
       "      <td>20.0</td>\n",
       "      <td>14</td>\n",
       "    </tr>\n",
       "    <tr>\n",
       "      <th>360</th>\n",
       "      <td>/zapas/2898120</td>\n",
       "      <td>Tampa Bay Lightning</td>\n",
       "      <td>Boston Bruins</td>\n",
       "      <td>1</td>\n",
       "      <td>2</td>\n",
       "      <td>1</td>\n",
       "      <td>1.0</td>\n",
       "      <td>...</td>\n",
       "      <td>Tampa Bay Lightning</td>\n",
       "      <td>Boston Bruins</td>\n",
       "      <td>2021</td>\n",
       "      <td>16</td>\n",
       "      <td>7.0</td>\n",
       "      <td>23.0</td>\n",
       "      <td>15</td>\n",
       "    </tr>\n",
       "  </tbody>\n",
       "</table>\n",
       "<p>16 rows × 20 columns</p>\n",
       "</div>"
      ],
      "text/plain": [
       "            game_id            team_home            team_away  goals_home  \\\n",
       "22   /zapas/2526431        Boston Bruins  Tampa Bay Lightning           3   \n",
       "69   /zapas/2527156  Tampa Bay Lightning        Boston Bruins           0   \n",
       "75   /zapas/2527244        Boston Bruins  Tampa Bay Lightning           4   \n",
       "78   /zapas/2527287  Tampa Bay Lightning        Boston Bruins           4   \n",
       "109  /zapas/2647632  Tampa Bay Lightning        Boston Bruins           3   \n",
       "..              ...                  ...                  ...         ...   \n",
       "232  /zapas/2807430        Boston Bruins  Tampa Bay Lightning           3   \n",
       "310  /zapas/2897351        Boston Bruins  Tampa Bay Lightning           2   \n",
       "320  /zapas/2897606  Tampa Bay Lightning        Boston Bruins           2   \n",
       "353  /zapas/2898005        Boston Bruins  Tampa Bay Lightning           3   \n",
       "360  /zapas/2898120  Tampa Bay Lightning        Boston Bruins           1   \n",
       "\n",
       "     goals_away  OT  points_home  ...           other_team            TOI  \\\n",
       "22            2   0          3.0  ...  Tampa Bay Lightning  Boston Bruins   \n",
       "69            3   0          0.0  ...  Tampa Bay Lightning  Boston Bruins   \n",
       "75            2   0          3.0  ...  Tampa Bay Lightning  Boston Bruins   \n",
       "78            0   0          3.0  ...  Tampa Bay Lightning  Boston Bruins   \n",
       "109           2   0          3.0  ...  Tampa Bay Lightning  Boston Bruins   \n",
       "..          ...  ..          ...  ...                  ...            ...   \n",
       "232           5   0          0.0  ...  Tampa Bay Lightning  Boston Bruins   \n",
       "310           3   1          1.0  ...  Tampa Bay Lightning  Boston Bruins   \n",
       "320           5   0          0.0  ...  Tampa Bay Lightning  Boston Bruins   \n",
       "353           2   0          3.0  ...  Tampa Bay Lightning  Boston Bruins   \n",
       "360           2   1          1.0  ...  Tampa Bay Lightning  Boston Bruins   \n",
       "\n",
       "     season  match_ordr  wins_before_this_match  points_before_this_match  \\\n",
       "22     2017           1                     0.0                       0.0   \n",
       "69     2017           2                     1.0                       3.0   \n",
       "75     2017           3                     2.0                       6.0   \n",
       "78     2017           4                     3.0                       9.0   \n",
       "109    2018           5                     3.0                       9.0   \n",
       "..      ...         ...                     ...                       ...   \n",
       "232    2019          12                     5.0                      16.0   \n",
       "310    2021          13                     5.0                      16.0   \n",
       "320    2021          14                     5.0                      17.0   \n",
       "353    2021          15                     6.0                      20.0   \n",
       "360    2021          16                     7.0                      23.0   \n",
       "\n",
       "    matches_before_this_match  \n",
       "22                          0  \n",
       "69                          1  \n",
       "75                          2  \n",
       "78                          3  \n",
       "109                         4  \n",
       "..                        ...  \n",
       "232                        11  \n",
       "310                        12  \n",
       "320                        13  \n",
       "353                        14  \n",
       "360                        15  \n",
       "\n",
       "[16 rows x 20 columns]"
      ]
     },
     "execution_count": 50,
     "metadata": {},
     "output_type": "execute_result"
    }
   ],
   "source": [
    "wins_before_this_match = []\n",
    "points_before_this_match = []\n",
    "matches_before_this_match = []\n",
    "for x in second_model_mathes_filtered['match_ordr']:\n",
    "    wins_before_this_match.append(second_model_mathes_filtered[(second_model_mathes_filtered['match_ordr'] < x)]['TOI_result'].sum())\n",
    "    points_before_this_match.append(second_model_mathes_filtered[(second_model_mathes_filtered['match_ordr'] < x)]['TOI_points'].sum())\n",
    "    matches_before_this_match.append(second_model_mathes_filtered[(second_model_mathes_filtered['match_ordr'] < x)]['TOI_points'].count())\n",
    "\n",
    "second_model_mathes_filtered['wins_before_this_match'] = wins_before_this_match\n",
    "second_model_mathes_filtered['points_before_this_match'] = points_before_this_match\n",
    "second_model_mathes_filtered['matches_before_this_match'] = matches_before_this_match\n",
    "second_model_mathes_filtered"
   ]
  },
  {
   "cell_type": "code",
   "execution_count": 51,
   "id": "adef9e0a",
   "metadata": {},
   "outputs": [],
   "source": [
    "def predictions_score(row):\n",
    "    if row['wins_before_this_match'] >= row['matches_before_this_match']/2:\n",
    "        val = 1\n",
    "    elif row['wins_before_this_match'] < row['matches_before_this_match']/2:\n",
    "        val = 0\n",
    "    return val    \n",
    "second_model_mathes_filtered['Prediction_score'] = second_model_mathes_filtered.apply(predictions_score, axis=1)\n",
    "def predictions_points(row):\n",
    "    if row['wins_before_this_match'] >= row['matches_before_this_match']/2:\n",
    "        val = 1\n",
    "    elif row['wins_before_this_match'] < row['matches_before_this_match']/2:\n",
    "        val = 0\n",
    "    return val    \n",
    "second_model_mathes_filtered['Prediction_points'] = second_model_mathes_filtered.apply(predictions_points, axis=1)"
   ]
  },
  {
   "cell_type": "code",
   "execution_count": 52,
   "id": "01149fc6",
   "metadata": {},
   "outputs": [],
   "source": [
    "def correctness_score(row):\n",
    "    if row['TOI_result'] == row['Prediction_score']:\n",
    "        val = 1\n",
    "    elif row['TOI_result'] != row['Prediction_score']:\n",
    "        val = 0\n",
    "    return val\n",
    "second_model_mathes_filtered['correct_score'] = second_model_mathes_filtered.apply(correctness_score, axis=1)\n",
    "\n",
    "def correctness_points(row):\n",
    "    if row['TOI_result'] == row['Prediction_points']:\n",
    "        val = 1\n",
    "    elif row['TOI_result'] != row['Prediction_points']:\n",
    "        val = 0\n",
    "    return val\n",
    "second_model_mathes_filtered['correct_points'] = second_model_mathes_filtered.apply(correctness_points, axis=1)"
   ]
  },
  {
   "cell_type": "code",
   "execution_count": 53,
   "id": "e0ee2df1",
   "metadata": {},
   "outputs": [],
   "source": [
    "second_model_mathes_filteredd = second_model_mathes_filtered.iloc[1:].copy() #Remove the first row as we can not use model on it, so the resoult is wrong"
   ]
  },
  {
   "cell_type": "code",
   "execution_count": 54,
   "id": "ae154256",
   "metadata": {},
   "outputs": [
    {
     "name": "stdout",
     "output_type": "stream",
     "text": [
      "Accuracy of model based on wins in previous duels is 40.0 %\n"
     ]
    }
   ],
   "source": [
    "accuracy_score_model = round((sum(second_model_mathes_filteredd['correct_score'])/max((second_model_mathes_filteredd['matches_before_this_match']))*100),2)\n",
    "if second_model_mathes_filteredd.shape[0] == 0:\n",
    "    print('Can not determine accuracy of the modela as there was not enoug matches betwen',team_1, 'and', team_2)\n",
    "else:\n",
    "    print('Accuracy of model based on wins in previous duels is',accuracy_score_model,'%')"
   ]
  },
  {
   "cell_type": "code",
   "execution_count": 55,
   "id": "43fc3945",
   "metadata": {},
   "outputs": [
    {
     "name": "stdout",
     "output_type": "stream",
     "text": [
      "Accuracy of model based on points gained in previous duels is 40.0 %\n"
     ]
    }
   ],
   "source": [
    "accuracy_points_model = round((sum(second_model_mathes_filteredd['correct_points'])/max((second_model_mathes_filteredd['matches_before_this_match']))*100),2)\n",
    "if second_model_mathes_filteredd.shape[0] == 0:\n",
    "    print('Can not determine accuracy of the modela as there was not enoug matches betwen',team_1, 'and', team_2)\n",
    "else:\n",
    "    print('Accuracy of model based on points gained in previous duels is',accuracy_points_model,'%')"
   ]
  },
  {
   "cell_type": "code",
   "execution_count": 56,
   "id": "4b74de17",
   "metadata": {},
   "outputs": [
    {
     "data": {
      "text/html": [
       "<div>\n",
       "<style scoped>\n",
       "    .dataframe tbody tr th:only-of-type {\n",
       "        vertical-align: middle;\n",
       "    }\n",
       "\n",
       "    .dataframe tbody tr th {\n",
       "        vertical-align: top;\n",
       "    }\n",
       "\n",
       "    .dataframe thead th {\n",
       "        text-align: right;\n",
       "    }\n",
       "</style>\n",
       "<table border=\"1\" class=\"dataframe\">\n",
       "  <thead>\n",
       "    <tr style=\"text-align: right;\">\n",
       "      <th></th>\n",
       "      <th>game_id</th>\n",
       "      <th>team_home</th>\n",
       "      <th>team_away</th>\n",
       "      <th>goals_home</th>\n",
       "      <th>goals_away</th>\n",
       "      <th>OT</th>\n",
       "      <th>points_home</th>\n",
       "      <th>...</th>\n",
       "      <th>wins_before_this_match</th>\n",
       "      <th>points_before_this_match</th>\n",
       "      <th>matches_before_this_match</th>\n",
       "      <th>Prediction_score</th>\n",
       "      <th>Prediction_points</th>\n",
       "      <th>correct_score</th>\n",
       "      <th>correct_points</th>\n",
       "    </tr>\n",
       "  </thead>\n",
       "  <tbody>\n",
       "    <tr>\n",
       "      <th>69</th>\n",
       "      <td>/zapas/2527156</td>\n",
       "      <td>Tampa Bay Lightning</td>\n",
       "      <td>Boston Bruins</td>\n",
       "      <td>0</td>\n",
       "      <td>3</td>\n",
       "      <td>0</td>\n",
       "      <td>0.0</td>\n",
       "      <td>...</td>\n",
       "      <td>1.0</td>\n",
       "      <td>3.0</td>\n",
       "      <td>1</td>\n",
       "      <td>1</td>\n",
       "      <td>1</td>\n",
       "      <td>1</td>\n",
       "      <td>1</td>\n",
       "    </tr>\n",
       "    <tr>\n",
       "      <th>75</th>\n",
       "      <td>/zapas/2527244</td>\n",
       "      <td>Boston Bruins</td>\n",
       "      <td>Tampa Bay Lightning</td>\n",
       "      <td>4</td>\n",
       "      <td>2</td>\n",
       "      <td>0</td>\n",
       "      <td>3.0</td>\n",
       "      <td>...</td>\n",
       "      <td>2.0</td>\n",
       "      <td>6.0</td>\n",
       "      <td>2</td>\n",
       "      <td>1</td>\n",
       "      <td>1</td>\n",
       "      <td>1</td>\n",
       "      <td>1</td>\n",
       "    </tr>\n",
       "    <tr>\n",
       "      <th>78</th>\n",
       "      <td>/zapas/2527287</td>\n",
       "      <td>Tampa Bay Lightning</td>\n",
       "      <td>Boston Bruins</td>\n",
       "      <td>4</td>\n",
       "      <td>0</td>\n",
       "      <td>0</td>\n",
       "      <td>3.0</td>\n",
       "      <td>...</td>\n",
       "      <td>3.0</td>\n",
       "      <td>9.0</td>\n",
       "      <td>3</td>\n",
       "      <td>1</td>\n",
       "      <td>1</td>\n",
       "      <td>0</td>\n",
       "      <td>0</td>\n",
       "    </tr>\n",
       "    <tr>\n",
       "      <th>109</th>\n",
       "      <td>/zapas/2647632</td>\n",
       "      <td>Tampa Bay Lightning</td>\n",
       "      <td>Boston Bruins</td>\n",
       "      <td>3</td>\n",
       "      <td>2</td>\n",
       "      <td>0</td>\n",
       "      <td>3.0</td>\n",
       "      <td>...</td>\n",
       "      <td>3.0</td>\n",
       "      <td>9.0</td>\n",
       "      <td>4</td>\n",
       "      <td>1</td>\n",
       "      <td>1</td>\n",
       "      <td>0</td>\n",
       "      <td>0</td>\n",
       "    </tr>\n",
       "    <tr>\n",
       "      <th>145</th>\n",
       "      <td>/zapas/2648182</td>\n",
       "      <td>Boston Bruins</td>\n",
       "      <td>Tampa Bay Lightning</td>\n",
       "      <td>4</td>\n",
       "      <td>1</td>\n",
       "      <td>0</td>\n",
       "      <td>3.0</td>\n",
       "      <td>...</td>\n",
       "      <td>3.0</td>\n",
       "      <td>9.0</td>\n",
       "      <td>5</td>\n",
       "      <td>1</td>\n",
       "      <td>1</td>\n",
       "      <td>1</td>\n",
       "      <td>1</td>\n",
       "    </tr>\n",
       "    <tr>\n",
       "      <th>157</th>\n",
       "      <td>/zapas/2648370</td>\n",
       "      <td>Tampa Bay Lightning</td>\n",
       "      <td>Boston Bruins</td>\n",
       "      <td>5</td>\n",
       "      <td>4</td>\n",
       "      <td>0</td>\n",
       "      <td>3.0</td>\n",
       "      <td>...</td>\n",
       "      <td>4.0</td>\n",
       "      <td>12.0</td>\n",
       "      <td>6</td>\n",
       "      <td>1</td>\n",
       "      <td>1</td>\n",
       "      <td>0</td>\n",
       "      <td>0</td>\n",
       "    </tr>\n",
       "    <tr>\n",
       "      <th>163</th>\n",
       "      <td>/zapas/2648455</td>\n",
       "      <td>Boston Bruins</td>\n",
       "      <td>Tampa Bay Lightning</td>\n",
       "      <td>3</td>\n",
       "      <td>6</td>\n",
       "      <td>0</td>\n",
       "      <td>0.0</td>\n",
       "      <td>...</td>\n",
       "      <td>4.0</td>\n",
       "      <td>12.0</td>\n",
       "      <td>7</td>\n",
       "      <td>1</td>\n",
       "      <td>1</td>\n",
       "      <td>0</td>\n",
       "      <td>0</td>\n",
       "    </tr>\n",
       "    <tr>\n",
       "      <th>170</th>\n",
       "      <td>/zapas/2806474</td>\n",
       "      <td>Boston Bruins</td>\n",
       "      <td>Tampa Bay Lightning</td>\n",
       "      <td>3</td>\n",
       "      <td>4</td>\n",
       "      <td>1</td>\n",
       "      <td>1.0</td>\n",
       "      <td>...</td>\n",
       "      <td>4.0</td>\n",
       "      <td>12.0</td>\n",
       "      <td>8</td>\n",
       "      <td>1</td>\n",
       "      <td>1</td>\n",
       "      <td>0</td>\n",
       "      <td>0</td>\n",
       "    </tr>\n",
       "    <tr>\n",
       "      <th>196</th>\n",
       "      <td>/zapas/2806864</td>\n",
       "      <td>Tampa Bay Lightning</td>\n",
       "      <td>Boston Bruins</td>\n",
       "      <td>3</td>\n",
       "      <td>2</td>\n",
       "      <td>0</td>\n",
       "      <td>3.0</td>\n",
       "      <td>...</td>\n",
       "      <td>4.0</td>\n",
       "      <td>13.0</td>\n",
       "      <td>9</td>\n",
       "      <td>0</td>\n",
       "      <td>0</td>\n",
       "      <td>1</td>\n",
       "      <td>1</td>\n",
       "    </tr>\n",
       "    <tr>\n",
       "      <th>230</th>\n",
       "      <td>/zapas/2807395</td>\n",
       "      <td>Tampa Bay Lightning</td>\n",
       "      <td>Boston Bruins</td>\n",
       "      <td>1</td>\n",
       "      <td>2</td>\n",
       "      <td>0</td>\n",
       "      <td>0.0</td>\n",
       "      <td>...</td>\n",
       "      <td>4.0</td>\n",
       "      <td>13.0</td>\n",
       "      <td>10</td>\n",
       "      <td>0</td>\n",
       "      <td>0</td>\n",
       "      <td>0</td>\n",
       "      <td>0</td>\n",
       "    </tr>\n",
       "    <tr>\n",
       "      <th>232</th>\n",
       "      <td>/zapas/2807430</td>\n",
       "      <td>Boston Bruins</td>\n",
       "      <td>Tampa Bay Lightning</td>\n",
       "      <td>3</td>\n",
       "      <td>5</td>\n",
       "      <td>0</td>\n",
       "      <td>0.0</td>\n",
       "      <td>...</td>\n",
       "      <td>5.0</td>\n",
       "      <td>16.0</td>\n",
       "      <td>11</td>\n",
       "      <td>0</td>\n",
       "      <td>0</td>\n",
       "      <td>1</td>\n",
       "      <td>1</td>\n",
       "    </tr>\n",
       "    <tr>\n",
       "      <th>310</th>\n",
       "      <td>/zapas/2897351</td>\n",
       "      <td>Boston Bruins</td>\n",
       "      <td>Tampa Bay Lightning</td>\n",
       "      <td>2</td>\n",
       "      <td>3</td>\n",
       "      <td>1</td>\n",
       "      <td>1.0</td>\n",
       "      <td>...</td>\n",
       "      <td>5.0</td>\n",
       "      <td>16.0</td>\n",
       "      <td>12</td>\n",
       "      <td>0</td>\n",
       "      <td>0</td>\n",
       "      <td>1</td>\n",
       "      <td>1</td>\n",
       "    </tr>\n",
       "    <tr>\n",
       "      <th>320</th>\n",
       "      <td>/zapas/2897606</td>\n",
       "      <td>Tampa Bay Lightning</td>\n",
       "      <td>Boston Bruins</td>\n",
       "      <td>2</td>\n",
       "      <td>5</td>\n",
       "      <td>0</td>\n",
       "      <td>0.0</td>\n",
       "      <td>...</td>\n",
       "      <td>5.0</td>\n",
       "      <td>17.0</td>\n",
       "      <td>13</td>\n",
       "      <td>0</td>\n",
       "      <td>0</td>\n",
       "      <td>0</td>\n",
       "      <td>0</td>\n",
       "    </tr>\n",
       "    <tr>\n",
       "      <th>353</th>\n",
       "      <td>/zapas/2898005</td>\n",
       "      <td>Boston Bruins</td>\n",
       "      <td>Tampa Bay Lightning</td>\n",
       "      <td>3</td>\n",
       "      <td>2</td>\n",
       "      <td>0</td>\n",
       "      <td>3.0</td>\n",
       "      <td>...</td>\n",
       "      <td>6.0</td>\n",
       "      <td>20.0</td>\n",
       "      <td>14</td>\n",
       "      <td>0</td>\n",
       "      <td>0</td>\n",
       "      <td>0</td>\n",
       "      <td>0</td>\n",
       "    </tr>\n",
       "    <tr>\n",
       "      <th>360</th>\n",
       "      <td>/zapas/2898120</td>\n",
       "      <td>Tampa Bay Lightning</td>\n",
       "      <td>Boston Bruins</td>\n",
       "      <td>1</td>\n",
       "      <td>2</td>\n",
       "      <td>1</td>\n",
       "      <td>1.0</td>\n",
       "      <td>...</td>\n",
       "      <td>7.0</td>\n",
       "      <td>23.0</td>\n",
       "      <td>15</td>\n",
       "      <td>0</td>\n",
       "      <td>0</td>\n",
       "      <td>0</td>\n",
       "      <td>0</td>\n",
       "    </tr>\n",
       "  </tbody>\n",
       "</table>\n",
       "<p>15 rows × 24 columns</p>\n",
       "</div>"
      ],
      "text/plain": [
       "            game_id            team_home            team_away  goals_home  \\\n",
       "69   /zapas/2527156  Tampa Bay Lightning        Boston Bruins           0   \n",
       "75   /zapas/2527244        Boston Bruins  Tampa Bay Lightning           4   \n",
       "78   /zapas/2527287  Tampa Bay Lightning        Boston Bruins           4   \n",
       "109  /zapas/2647632  Tampa Bay Lightning        Boston Bruins           3   \n",
       "145  /zapas/2648182        Boston Bruins  Tampa Bay Lightning           4   \n",
       "157  /zapas/2648370  Tampa Bay Lightning        Boston Bruins           5   \n",
       "163  /zapas/2648455        Boston Bruins  Tampa Bay Lightning           3   \n",
       "170  /zapas/2806474        Boston Bruins  Tampa Bay Lightning           3   \n",
       "196  /zapas/2806864  Tampa Bay Lightning        Boston Bruins           3   \n",
       "230  /zapas/2807395  Tampa Bay Lightning        Boston Bruins           1   \n",
       "232  /zapas/2807430        Boston Bruins  Tampa Bay Lightning           3   \n",
       "310  /zapas/2897351        Boston Bruins  Tampa Bay Lightning           2   \n",
       "320  /zapas/2897606  Tampa Bay Lightning        Boston Bruins           2   \n",
       "353  /zapas/2898005        Boston Bruins  Tampa Bay Lightning           3   \n",
       "360  /zapas/2898120  Tampa Bay Lightning        Boston Bruins           1   \n",
       "\n",
       "     goals_away  OT  points_home  ...  wins_before_this_match  \\\n",
       "69            3   0          0.0  ...                     1.0   \n",
       "75            2   0          3.0  ...                     2.0   \n",
       "78            0   0          3.0  ...                     3.0   \n",
       "109           2   0          3.0  ...                     3.0   \n",
       "145           1   0          3.0  ...                     3.0   \n",
       "157           4   0          3.0  ...                     4.0   \n",
       "163           6   0          0.0  ...                     4.0   \n",
       "170           4   1          1.0  ...                     4.0   \n",
       "196           2   0          3.0  ...                     4.0   \n",
       "230           2   0          0.0  ...                     4.0   \n",
       "232           5   0          0.0  ...                     5.0   \n",
       "310           3   1          1.0  ...                     5.0   \n",
       "320           5   0          0.0  ...                     5.0   \n",
       "353           2   0          3.0  ...                     6.0   \n",
       "360           2   1          1.0  ...                     7.0   \n",
       "\n",
       "     points_before_this_match  matches_before_this_match  Prediction_score  \\\n",
       "69                        3.0                          1                 1   \n",
       "75                        6.0                          2                 1   \n",
       "78                        9.0                          3                 1   \n",
       "109                       9.0                          4                 1   \n",
       "145                       9.0                          5                 1   \n",
       "157                      12.0                          6                 1   \n",
       "163                      12.0                          7                 1   \n",
       "170                      12.0                          8                 1   \n",
       "196                      13.0                          9                 0   \n",
       "230                      13.0                         10                 0   \n",
       "232                      16.0                         11                 0   \n",
       "310                      16.0                         12                 0   \n",
       "320                      17.0                         13                 0   \n",
       "353                      20.0                         14                 0   \n",
       "360                      23.0                         15                 0   \n",
       "\n",
       "     Prediction_points  correct_score correct_points  \n",
       "69                   1              1              1  \n",
       "75                   1              1              1  \n",
       "78                   1              0              0  \n",
       "109                  1              0              0  \n",
       "145                  1              1              1  \n",
       "157                  1              0              0  \n",
       "163                  1              0              0  \n",
       "170                  1              0              0  \n",
       "196                  0              1              1  \n",
       "230                  0              0              0  \n",
       "232                  0              1              1  \n",
       "310                  0              1              1  \n",
       "320                  0              0              0  \n",
       "353                  0              0              0  \n",
       "360                  0              0              0  \n",
       "\n",
       "[15 rows x 24 columns]"
      ]
     },
     "execution_count": 56,
     "metadata": {},
     "output_type": "execute_result"
    }
   ],
   "source": [
    "second_model_mathes_filteredd"
   ]
  },
  {
   "cell_type": "code",
   "execution_count": null,
   "id": "fb361ab9",
   "metadata": {},
   "outputs": [],
   "source": []
  }
 ],
 "metadata": {
  "kernelspec": {
   "display_name": "Python 3 (ipykernel)",
   "language": "python",
   "name": "python3"
  },
  "language_info": {
   "codemirror_mode": {
    "name": "ipython",
    "version": 3
   },
   "file_extension": ".py",
   "mimetype": "text/x-python",
   "name": "python",
   "nbconvert_exporter": "python",
   "pygments_lexer": "ipython3",
   "version": "3.8.12"
  }
 },
 "nbformat": 4,
 "nbformat_minor": 5
}
