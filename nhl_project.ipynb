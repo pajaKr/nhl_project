{
 "cells": [
  {
   "cell_type": "markdown",
   "id": "0d4adb23",
   "metadata": {},
   "source": [
    "# NHL predictions project - Data Interpretation"
   ]
  },
  {
   "cell_type": "markdown",
   "id": "d584908a",
   "metadata": {},
   "source": [
    "This is project for the subject Data Processing in Python - JEM207. That was created by Pavlína Křenková and Vojtěch Vaverka.\n",
    "\n",
    "The code we wrote scrapes data from the website https://nhl.cz/. After the data is scraped, user of the code needs to fill in names of two teams into the variables team_1 and team_2. Once those two variables are set the code creates a Logistic regression that predicts which team is going to win. Druing our testing of the code we have reached accuracy above 50%. That means that the model is better than randomly guessing. Yet it should not be used to place bets."
   ]
  },
  {
   "cell_type": "code",
   "execution_count": 8,
   "id": "8d03b5c7",
   "metadata": {},
   "outputs": [],
   "source": [
    "import pandas as pd\n",
    "import numpy as np\n",
    "import matplotlib.pyplot as plt \n",
    "from sklearn.model_selection import train_test_split\n",
    "from sklearn.linear_model import LogisticRegression\n",
    "from sklearn.preprocessing import StandardScaler\n",
    "from sklearn.metrics import confusion_matrix\n",
    "from sklearn.metrics import accuracy_score\n",
    "import seaborn as sns\n",
    "from statistics import mean\n",
    "from ipywidgets import Dropdown"
   ]
  },
  {
   "cell_type": "markdown",
   "id": "c53bd93f",
   "metadata": {},
   "source": [
    "We load the necessary information about the teams, which we will later use for file loading and analysis"
   ]
  },
  {
   "cell_type": "code",
   "execution_count": 2,
   "id": "e263eb2a",
   "metadata": {},
   "outputs": [],
   "source": [
    "teams_info = pd.read_csv('teams_info/teams_info.csv')\n",
    "#teams_info.head()"
   ]
  },
  {
   "cell_type": "code",
   "execution_count": 3,
   "id": "dfc2ebea",
   "metadata": {},
   "outputs": [],
   "source": [
    "#We will be analysing the 5 most recent seasons\n",
    "seasons_used = ['2017', '2018', '2019', '2020','2021'] #2017 is the 2017/2018 season, etc."
   ]
  },
  {
   "cell_type": "code",
   "execution_count": 4,
   "id": "47fc819e",
   "metadata": {},
   "outputs": [],
   "source": [
    "distinct_teams = teams_info['team'].tolist()"
   ]
  },
  {
   "cell_type": "code",
   "execution_count": 5,
   "id": "9a8691f3",
   "metadata": {},
   "outputs": [
    {
     "data": {
      "text/plain": [
       "{'Anaheim Ducks': 'ANA',\n",
       " 'Arizona Coyotes': 'ARI',\n",
       " 'Boston Bruins': 'BOS',\n",
       " 'Buffalo Sabres': 'BUF',\n",
       " 'Calgary Flames': 'CGY',\n",
       " 'Carolina Hurricanes': 'CAR',\n",
       " 'Chicago Blackhawks': 'CHI',\n",
       " 'Colorado Avalanche': 'COL',\n",
       " 'Columbus Blue Jackets': 'CBJ',\n",
       " 'Dallas Stars': 'DAL',\n",
       " 'Detroit Red Wings': 'DET',\n",
       " 'Edmonton Oilers': 'EDM',\n",
       " 'Florida Panthers': 'FLA',\n",
       " 'Los Angeles Kings': 'LAK',\n",
       " 'Minnesota Wild': 'MIN',\n",
       " 'Montreal Canadiens': 'MTL',\n",
       " 'Nashville Predators': 'NSH',\n",
       " 'New Jersey Devils': 'NJD',\n",
       " 'New York Islanders': 'NYI',\n",
       " 'New York Rangers': 'NYR',\n",
       " 'Ottawa Senators': 'OTT',\n",
       " 'Philadelphia Flyers': 'PHI',\n",
       " 'Pittsburgh Penguins': 'PIT',\n",
       " 'San Jose Sharks': 'SJS',\n",
       " 'Seattle Kraken': 'SEA',\n",
       " 'St. Louis Blues': 'STL',\n",
       " 'Tampa Bay Lightning': 'TBL',\n",
       " 'Toronto Maple Leafs': 'TOR',\n",
       " 'Vancouver Canucks': 'VAN',\n",
       " 'Vegas Golden Knights': 'VGK',\n",
       " 'Washington Capitals': 'WSH',\n",
       " 'Winnipeg Jets': 'WPG'}"
      ]
     },
     "execution_count": 5,
     "metadata": {},
     "output_type": "execute_result"
    }
   ],
   "source": [
    "teams_dict = pd.Series(teams_info.team_short.values,index=teams_info.team).to_dict()\n",
    "teams_dict"
   ]
  },
  {
   "cell_type": "markdown",
   "id": "51f8662f",
   "metadata": {},
   "source": [
    "## Choosing two teams and building the model"
   ]
  },
  {
   "cell_type": "code",
   "execution_count": 25,
   "id": "c9c67555",
   "metadata": {},
   "outputs": [
    {
     "data": {
      "application/vnd.jupyter.widget-view+json": {
       "model_id": "fef0c7f26734433194721ff4b7b5589f",
       "version_major": 2,
       "version_minor": 0
      },
      "text/plain": [
       "Dropdown(description='Choose the home team (Team 1):', layout=Layout(width='max-content'), options=('', 'Anahe…"
      ]
     },
     "metadata": {},
     "output_type": "display_data"
    },
    {
     "data": {
      "application/vnd.jupyter.widget-view+json": {
       "model_id": "5c3094cc35b3457c91c1cf697424c9b4",
       "version_major": 2,
       "version_minor": 0
      },
      "text/plain": [
       "Dropdown(description='Choose the away team (Team 2):', layout=Layout(width='max-content'), options=('', 'Anahe…"
      ]
     },
     "metadata": {},
     "output_type": "display_data"
    },
    {
     "name": "stdout",
     "output_type": "stream",
     "text": [
      "Team 1: Boston Bruins\n",
      "Team 2: New York Rangers\n",
      "Team 1: Columbus Blue Jackets\n",
      "Team 2: Vancouver Canucks\n"
     ]
    }
   ],
   "source": [
    "teams_info = pd.read_csv('teams_info/teams_info.csv')\n",
    "option_list = teams_info['team'].tolist()\n",
    "option_list.insert(0, '')\n",
    "team_1_drop = ''\n",
    "team_2_drop = ''\n",
    "drop_down_team_1 = Dropdown(options=option_list,description='Choose the home team (Team 1):',disabled=False, \n",
    "                     display='flex',\n",
    "                     flex_flow='column', align_items='stretch', style= {'description_width': 'initial'},\n",
    "                     layout={'width': 'max-content'})\n",
    "drop_down_team_2 = Dropdown(options=option_list,description='Choose the away team (Team 2):',disabled=False, \n",
    "                     display='flex',\n",
    "                     flex_flow='column', align_items='stretch', style= {'description_width': 'initial'},\n",
    "                     layout={'width': 'max-content'})\n",
    "def dropdown_handler_team_1(choice):\n",
    "    global team_1_drop\n",
    "    print(\"Team 1:\", choice.new)\n",
    "    team_1_drop = choice.new\n",
    "def dropdown_handler_team_2(choice):\n",
    "    global team_2_drop\n",
    "    print(\"Team 2:\", choice.new)\n",
    "    team_2_drop = choice.new\n",
    "drop_down_team_1.observe(dropdown_handler_team_1, names='value')\n",
    "drop_down_team_2.observe(dropdown_handler_team_2, names='value')\n",
    "display(drop_down_team_1, drop_down_team_2)"
   ]
  },
  {
   "cell_type": "code",
   "execution_count": 32,
   "id": "f3f7c25f",
   "metadata": {},
   "outputs": [
    {
     "name": "stdout",
     "output_type": "stream",
     "text": [
      "The outcome of the match Columbus Blue Jackets vs  Vancouver Canucks will be predicted.\n"
     ]
    }
   ],
   "source": [
    "if team_1_drop == \"\" or team_2_drop == \"\":\n",
    "    print(\"You have not chosen both teams yet, please return to previous cell and do so.\")\n",
    "elif team_1_drop == team_2_drop:\n",
    "    print(\"You picked the same team twice, please return to previous cell and change at least one team.\")\n",
    "else:\n",
    "    print(\"The outcome of the match\", team_1_drop, \"vs \", team_2_drop, \"will be predicted.\")\n",
    "    team_1 = team_1_drop\n",
    "    team_2 = team_2_drop"
   ]
  },
  {
   "cell_type": "code",
   "execution_count": 27,
   "id": "18dfa180",
   "metadata": {},
   "outputs": [],
   "source": [
    "team_1_short = teams_dict[team_1]\n",
    "team_2_short = teams_dict[team_2]"
   ]
  },
  {
   "cell_type": "code",
   "execution_count": 16,
   "id": "5d035c96",
   "metadata": {},
   "outputs": [
    {
     "data": {
      "text/html": [
       "<div>\n",
       "<style scoped>\n",
       "    .dataframe tbody tr th:only-of-type {\n",
       "        vertical-align: middle;\n",
       "    }\n",
       "\n",
       "    .dataframe tbody tr th {\n",
       "        vertical-align: top;\n",
       "    }\n",
       "\n",
       "    .dataframe thead th {\n",
       "        text-align: right;\n",
       "    }\n",
       "</style>\n",
       "<table border=\"1\" class=\"dataframe\">\n",
       "  <thead>\n",
       "    <tr style=\"text-align: right;\">\n",
       "      <th></th>\n",
       "      <th>game_id</th>\n",
       "      <th>TOI_result</th>\n",
       "      <th>TOI_home</th>\n",
       "      <th>TOI</th>\n",
       "      <th>other_team</th>\n",
       "      <th>TOI_points_tot</th>\n",
       "      <th>TOI_goals_scored_tot</th>\n",
       "      <th>TOI_goals_rec_tot</th>\n",
       "      <th>other_team_points_tot</th>\n",
       "      <th>other_team_goals_scored_tot</th>\n",
       "      <th>other_team_goals_rec_tot</th>\n",
       "    </tr>\n",
       "  </thead>\n",
       "  <tbody>\n",
       "    <tr>\n",
       "      <th>0</th>\n",
       "      <td>/zapas/2526364</td>\n",
       "      <td>0.0</td>\n",
       "      <td>1.0</td>\n",
       "      <td>Buffalo Sabres</td>\n",
       "      <td>Columbus Blue Jackets</td>\n",
       "      <td>18.0</td>\n",
       "      <td>46.0</td>\n",
       "      <td>71.0</td>\n",
       "      <td>31.0</td>\n",
       "      <td>59.0</td>\n",
       "      <td>51.0</td>\n",
       "    </tr>\n",
       "    <tr>\n",
       "      <th>1</th>\n",
       "      <td>/zapas/2526373</td>\n",
       "      <td>0.0</td>\n",
       "      <td>1.0</td>\n",
       "      <td>Buffalo Sabres</td>\n",
       "      <td>Minnesota Wild</td>\n",
       "      <td>17.0</td>\n",
       "      <td>46.0</td>\n",
       "      <td>71.0</td>\n",
       "      <td>30.0</td>\n",
       "      <td>59.0</td>\n",
       "      <td>55.0</td>\n",
       "    </tr>\n",
       "    <tr>\n",
       "      <th>2</th>\n",
       "      <td>/zapas/2526393</td>\n",
       "      <td>1.0</td>\n",
       "      <td>1.0</td>\n",
       "      <td>Buffalo Sabres</td>\n",
       "      <td>Edmonton Oilers</td>\n",
       "      <td>17.0</td>\n",
       "      <td>47.0</td>\n",
       "      <td>70.0</td>\n",
       "      <td>20.0</td>\n",
       "      <td>54.0</td>\n",
       "      <td>71.0</td>\n",
       "    </tr>\n",
       "    <tr>\n",
       "      <th>3</th>\n",
       "      <td>/zapas/2526403</td>\n",
       "      <td>0.0</td>\n",
       "      <td>0.0</td>\n",
       "      <td>Buffalo Sabres</td>\n",
       "      <td>Montreal Canadiens</td>\n",
       "      <td>20.0</td>\n",
       "      <td>48.0</td>\n",
       "      <td>65.0</td>\n",
       "      <td>22.0</td>\n",
       "      <td>50.0</td>\n",
       "      <td>70.0</td>\n",
       "    </tr>\n",
       "    <tr>\n",
       "      <th>4</th>\n",
       "      <td>/zapas/2526421</td>\n",
       "      <td>0.0</td>\n",
       "      <td>1.0</td>\n",
       "      <td>Buffalo Sabres</td>\n",
       "      <td>Tampa Bay Lightning</td>\n",
       "      <td>20.0</td>\n",
       "      <td>46.0</td>\n",
       "      <td>65.0</td>\n",
       "      <td>42.0</td>\n",
       "      <td>73.0</td>\n",
       "      <td>51.0</td>\n",
       "    </tr>\n",
       "  </tbody>\n",
       "</table>\n",
       "</div>"
      ],
      "text/plain": [
       "          game_id  TOI_result  TOI_home             TOI  \\\n",
       "0  /zapas/2526364         0.0       1.0  Buffalo Sabres   \n",
       "1  /zapas/2526373         0.0       1.0  Buffalo Sabres   \n",
       "2  /zapas/2526393         1.0       1.0  Buffalo Sabres   \n",
       "3  /zapas/2526403         0.0       0.0  Buffalo Sabres   \n",
       "4  /zapas/2526421         0.0       1.0  Buffalo Sabres   \n",
       "\n",
       "              other_team  TOI_points_tot  TOI_goals_scored_tot  \\\n",
       "0  Columbus Blue Jackets            18.0                  46.0   \n",
       "1         Minnesota Wild            17.0                  46.0   \n",
       "2        Edmonton Oilers            17.0                  47.0   \n",
       "3     Montreal Canadiens            20.0                  48.0   \n",
       "4    Tampa Bay Lightning            20.0                  46.0   \n",
       "\n",
       "   TOI_goals_rec_tot  other_team_points_tot  other_team_goals_scored_tot  \\\n",
       "0               71.0                   31.0                         59.0   \n",
       "1               71.0                   30.0                         59.0   \n",
       "2               70.0                   20.0                         54.0   \n",
       "3               65.0                   22.0                         50.0   \n",
       "4               65.0                   42.0                         73.0   \n",
       "\n",
       "   other_team_goals_rec_tot  \n",
       "0                      51.0  \n",
       "1                      55.0  \n",
       "2                      71.0  \n",
       "3                      70.0  \n",
       "4                      51.0  "
      ]
     },
     "execution_count": 16,
     "metadata": {},
     "output_type": "execute_result"
    }
   ],
   "source": [
    "matches_team_1 = pd.read_csv(f'teams_final/{team_1_short}.csv')\n",
    "matches_team_1.head()"
   ]
  },
  {
   "cell_type": "code",
   "execution_count": 17,
   "id": "6e8a4f7f",
   "metadata": {},
   "outputs": [],
   "source": [
    "#dropping unnecessary columns\n",
    "matches_team_1 = matches_team_1.drop(columns=['game_id', 'TOI','other_team'])"
   ]
  },
  {
   "cell_type": "markdown",
   "id": "c5bd5147",
   "metadata": {},
   "source": [
    "#### Defining the independent and dependent variables"
   ]
  },
  {
   "cell_type": "code",
   "execution_count": 18,
   "id": "29e1b19a",
   "metadata": {},
   "outputs": [],
   "source": [
    "#independent\n",
    "x = matches_team_1.iloc[:, 1:].values\n",
    "#dependent - the result\n",
    "y = matches_team_1.iloc[:, 0].values"
   ]
  },
  {
   "cell_type": "markdown",
   "id": "a86f47d7",
   "metadata": {},
   "source": [
    "#### Splitting into training and test set"
   ]
  },
  {
   "cell_type": "code",
   "execution_count": 19,
   "id": "dfd56b52",
   "metadata": {},
   "outputs": [
    {
     "data": {
      "text/html": [
       "<div>\n",
       "<style scoped>\n",
       "    .dataframe tbody tr th:only-of-type {\n",
       "        vertical-align: middle;\n",
       "    }\n",
       "\n",
       "    .dataframe tbody tr th {\n",
       "        vertical-align: top;\n",
       "    }\n",
       "\n",
       "    .dataframe thead th {\n",
       "        text-align: right;\n",
       "    }\n",
       "</style>\n",
       "<table border=\"1\" class=\"dataframe\">\n",
       "  <thead>\n",
       "    <tr style=\"text-align: right;\">\n",
       "      <th></th>\n",
       "      <th>TOI_home</th>\n",
       "      <th>TOI_points_tot</th>\n",
       "      <th>TOI_goals_scored_tot</th>\n",
       "      <th>TOI_goals_rec_tot</th>\n",
       "      <th>other_team_points_tot</th>\n",
       "      <th>other_team_goals_scored_tot</th>\n",
       "      <th>other_team_goals_rec_tot</th>\n",
       "    </tr>\n",
       "  </thead>\n",
       "  <tbody>\n",
       "    <tr>\n",
       "      <th>0</th>\n",
       "      <td>1.0</td>\n",
       "      <td>18.0</td>\n",
       "      <td>46.0</td>\n",
       "      <td>71.0</td>\n",
       "      <td>31.0</td>\n",
       "      <td>59.0</td>\n",
       "      <td>51.0</td>\n",
       "    </tr>\n",
       "    <tr>\n",
       "      <th>1</th>\n",
       "      <td>1.0</td>\n",
       "      <td>17.0</td>\n",
       "      <td>46.0</td>\n",
       "      <td>71.0</td>\n",
       "      <td>30.0</td>\n",
       "      <td>59.0</td>\n",
       "      <td>55.0</td>\n",
       "    </tr>\n",
       "    <tr>\n",
       "      <th>2</th>\n",
       "      <td>1.0</td>\n",
       "      <td>17.0</td>\n",
       "      <td>47.0</td>\n",
       "      <td>70.0</td>\n",
       "      <td>20.0</td>\n",
       "      <td>54.0</td>\n",
       "      <td>71.0</td>\n",
       "    </tr>\n",
       "    <tr>\n",
       "      <th>3</th>\n",
       "      <td>0.0</td>\n",
       "      <td>20.0</td>\n",
       "      <td>48.0</td>\n",
       "      <td>65.0</td>\n",
       "      <td>22.0</td>\n",
       "      <td>50.0</td>\n",
       "      <td>70.0</td>\n",
       "    </tr>\n",
       "    <tr>\n",
       "      <th>4</th>\n",
       "      <td>1.0</td>\n",
       "      <td>20.0</td>\n",
       "      <td>46.0</td>\n",
       "      <td>65.0</td>\n",
       "      <td>42.0</td>\n",
       "      <td>73.0</td>\n",
       "      <td>51.0</td>\n",
       "    </tr>\n",
       "    <tr>\n",
       "      <th>...</th>\n",
       "      <td>...</td>\n",
       "      <td>...</td>\n",
       "      <td>...</td>\n",
       "      <td>...</td>\n",
       "      <td>...</td>\n",
       "      <td>...</td>\n",
       "      <td>...</td>\n",
       "    </tr>\n",
       "    <tr>\n",
       "      <th>345</th>\n",
       "      <td>0.0</td>\n",
       "      <td>30.0</td>\n",
       "      <td>61.0</td>\n",
       "      <td>72.0</td>\n",
       "      <td>18.0</td>\n",
       "      <td>54.0</td>\n",
       "      <td>81.0</td>\n",
       "    </tr>\n",
       "    <tr>\n",
       "      <th>346</th>\n",
       "      <td>0.0</td>\n",
       "      <td>33.0</td>\n",
       "      <td>65.0</td>\n",
       "      <td>69.0</td>\n",
       "      <td>21.0</td>\n",
       "      <td>63.0</td>\n",
       "      <td>78.0</td>\n",
       "    </tr>\n",
       "    <tr>\n",
       "      <th>347</th>\n",
       "      <td>1.0</td>\n",
       "      <td>33.0</td>\n",
       "      <td>67.0</td>\n",
       "      <td>70.0</td>\n",
       "      <td>33.0</td>\n",
       "      <td>58.0</td>\n",
       "      <td>58.0</td>\n",
       "    </tr>\n",
       "    <tr>\n",
       "      <th>348</th>\n",
       "      <td>0.0</td>\n",
       "      <td>33.0</td>\n",
       "      <td>67.0</td>\n",
       "      <td>71.0</td>\n",
       "      <td>35.0</td>\n",
       "      <td>66.0</td>\n",
       "      <td>54.0</td>\n",
       "    </tr>\n",
       "    <tr>\n",
       "      <th>349</th>\n",
       "      <td>1.0</td>\n",
       "      <td>33.0</td>\n",
       "      <td>66.0</td>\n",
       "      <td>70.0</td>\n",
       "      <td>16.0</td>\n",
       "      <td>55.0</td>\n",
       "      <td>78.0</td>\n",
       "    </tr>\n",
       "  </tbody>\n",
       "</table>\n",
       "<p>350 rows × 7 columns</p>\n",
       "</div>"
      ],
      "text/plain": [
       "     TOI_home  TOI_points_tot  TOI_goals_scored_tot  TOI_goals_rec_tot  \\\n",
       "0         1.0            18.0                  46.0               71.0   \n",
       "1         1.0            17.0                  46.0               71.0   \n",
       "2         1.0            17.0                  47.0               70.0   \n",
       "3         0.0            20.0                  48.0               65.0   \n",
       "4         1.0            20.0                  46.0               65.0   \n",
       "..        ...             ...                   ...                ...   \n",
       "345       0.0            30.0                  61.0               72.0   \n",
       "346       0.0            33.0                  65.0               69.0   \n",
       "347       1.0            33.0                  67.0               70.0   \n",
       "348       0.0            33.0                  67.0               71.0   \n",
       "349       1.0            33.0                  66.0               70.0   \n",
       "\n",
       "     other_team_points_tot  other_team_goals_scored_tot  \\\n",
       "0                     31.0                         59.0   \n",
       "1                     30.0                         59.0   \n",
       "2                     20.0                         54.0   \n",
       "3                     22.0                         50.0   \n",
       "4                     42.0                         73.0   \n",
       "..                     ...                          ...   \n",
       "345                   18.0                         54.0   \n",
       "346                   21.0                         63.0   \n",
       "347                   33.0                         58.0   \n",
       "348                   35.0                         66.0   \n",
       "349                   16.0                         55.0   \n",
       "\n",
       "     other_team_goals_rec_tot  \n",
       "0                        51.0  \n",
       "1                        55.0  \n",
       "2                        71.0  \n",
       "3                        70.0  \n",
       "4                        51.0  \n",
       "..                        ...  \n",
       "345                      81.0  \n",
       "346                      78.0  \n",
       "347                      58.0  \n",
       "348                      54.0  \n",
       "349                      78.0  \n",
       "\n",
       "[350 rows x 7 columns]"
      ]
     },
     "execution_count": 19,
     "metadata": {},
     "output_type": "execute_result"
    }
   ],
   "source": [
    "matches_team_1.iloc[:, 1:]"
   ]
  },
  {
   "cell_type": "code",
   "execution_count": 20,
   "id": "144103ad",
   "metadata": {},
   "outputs": [],
   "source": [
    "X_train, X_test, y_train, y_test = train_test_split(x, y, test_size = 0.1, random_state = 0)"
   ]
  },
  {
   "cell_type": "code",
   "execution_count": 21,
   "id": "69b803cb",
   "metadata": {},
   "outputs": [
    {
     "data": {
      "text/plain": [
       "array([[ 0., 17., 41., 66., 28., 53., 61.],\n",
       "       [ 1., 27., 55., 65., 36., 56., 48.],\n",
       "       [ 1., 24., 61., 72., 20., 56., 70.],\n",
       "       [ 1., 26., 52., 56., 41., 71., 54.],\n",
       "       [ 0., 15., 52., 82., 39., 84., 56.]])"
      ]
     },
     "execution_count": 21,
     "metadata": {},
     "output_type": "execute_result"
    }
   ],
   "source": [
    "X_test[:5]"
   ]
  },
  {
   "cell_type": "code",
   "execution_count": 22,
   "id": "8a9ef427",
   "metadata": {},
   "outputs": [],
   "source": [
    "#rescaling everything except the \"home\" dummy ... and then adding the dummy back\n",
    "scaler = StandardScaler()\n",
    "X_train_stand = scaler.fit_transform(X_train[:,1:])\n",
    "X_test_stand = scaler.transform(X_test[:,1:])\n",
    "X_train_stand = np.insert(X_train_stand,0,X_train[:,0],axis=1)\n",
    "X_test_stand = np.insert(X_test_stand,0,X_test[:,0],axis=1)"
   ]
  },
  {
   "cell_type": "markdown",
   "id": "ac8bf2fa",
   "metadata": {},
   "source": [
    "#### The model and predictions"
   ]
  },
  {
   "cell_type": "code",
   "execution_count": null,
   "id": "a3539444",
   "metadata": {},
   "outputs": [],
   "source": [
    "reg = LogisticRegression(max_iter = 400)\n",
    "reg.fit(X_train, y_train)\n",
    "y_pred = reg.predict(X_test)"
   ]
  },
  {
   "cell_type": "code",
   "execution_count": null,
   "id": "a9adfad9",
   "metadata": {},
   "outputs": [],
   "source": [
    "#how well does the model perform?\n",
    "conf_matrix = confusion_matrix(y_test, y_pred)\n",
    "print(conf_matrix)"
   ]
  },
  {
   "cell_type": "code",
   "execution_count": null,
   "id": "1bda9cb7",
   "metadata": {},
   "outputs": [],
   "source": [
    "print(\"Accuracy :  \\n\", accuracy_score(y_test, y_pred))"
   ]
  },
  {
   "cell_type": "code",
   "execution_count": null,
   "id": "2c1529d0",
   "metadata": {},
   "outputs": [],
   "source": [
    "matches_team_2 = pd.read_csv(f'teams_final/{team_2_short}.csv')\n",
    "matches_team_2.head()"
   ]
  },
  {
   "cell_type": "markdown",
   "id": "993f1da9",
   "metadata": {},
   "source": [
    "### the final prediction"
   ]
  },
  {
   "cell_type": "code",
   "execution_count": null,
   "id": "ba51cbc9",
   "metadata": {},
   "outputs": [],
   "source": [
    "matches_team_1_pre = pd.read_csv(f'teams_pre-processed/{team_1_short}_pre.csv')\n",
    "matches_team_2_pre = pd.read_csv(f'teams_pre-processed/{team_2_short}_pre.csv')"
   ]
  },
  {
   "cell_type": "code",
   "execution_count": null,
   "id": "c4c7486f",
   "metadata": {},
   "outputs": [],
   "source": [
    "pred_team_1 = matches_team_1_pre[['TOI_points', 'TOI_goals_scored', 'TOI_goals_rec']].tail(20).sum().values"
   ]
  },
  {
   "cell_type": "code",
   "execution_count": null,
   "id": "044cd200",
   "metadata": {},
   "outputs": [],
   "source": [
    "#je to v poradi points-goals scored-goals received\n",
    "pred_team_1"
   ]
  },
  {
   "cell_type": "code",
   "execution_count": null,
   "id": "6ed9c242",
   "metadata": {},
   "outputs": [],
   "source": [
    "pred_team_2 = matches_team_2_pre[['TOI_points', 'TOI_goals_scored', 'TOI_goals_rec']].tail(20).sum().values\n",
    "pred_team_2"
   ]
  },
  {
   "cell_type": "code",
   "execution_count": null,
   "id": "0e1b6eb2",
   "metadata": {},
   "outputs": [],
   "source": [
    "TOI_home = np.array([1])"
   ]
  },
  {
   "cell_type": "code",
   "execution_count": null,
   "id": "8dcd6947",
   "metadata": {},
   "outputs": [],
   "source": [
    "values_to_fit = np.concatenate([TOI_home, pred_team_1, pred_team_2]).reshape(1, -1)"
   ]
  },
  {
   "cell_type": "code",
   "execution_count": null,
   "id": "93d32e5b",
   "metadata": {},
   "outputs": [],
   "source": [
    "final_pred = reg.predict(values_to_fit)\n",
    "final_pred"
   ]
  },
  {
   "cell_type": "code",
   "execution_count": null,
   "id": "b0bbe078",
   "metadata": {},
   "outputs": [],
   "source": [
    "if final_pred[0] == 1:\n",
    "    print('The team', team_1, \"is predicted to win this game.\")\n",
    "elif final_pred[0] == 0:\n",
    "    print('The team', team_2, \"is predicted to win this game.\")\n",
    "else:\n",
    "    print('An error occured along the way. Please try again.')"
   ]
  },
  {
   "cell_type": "markdown",
   "id": "24edcc18",
   "metadata": {},
   "source": [
    "## Accuraccy of models of individual teams"
   ]
  },
  {
   "cell_type": "code",
   "execution_count": null,
   "id": "bab4d939",
   "metadata": {},
   "outputs": [],
   "source": [
    "#How accurate is the model for individual teams?\n",
    "accuracies = []\n",
    "for one_team in distinct_teams:\n",
    "    one_team_short = teams_dict[one_team]\n",
    "    matches_one_team = pd.read_csv(f'teams_final/{one_team_short}.csv')\n",
    "    matches_one_team = matches_one_team.drop(columns=['game_id', 'TOI','other_team'])\n",
    "    x = matches_one_team.iloc[:, 1:].values\n",
    "    y = matches_one_team.iloc[:, 0].values\n",
    "    X_train, X_test, y_train, y_test = train_test_split(x, y, test_size = 0.1, random_state = 0)\n",
    "\n",
    "    scaler = StandardScaler()\n",
    "    X_train_stand = scaler.fit_transform(X_train[:,1:])\n",
    "    X_test_stand = scaler.transform(X_test[:,1:])\n",
    "    X_train_stand = np.insert(X_train_stand,0,X_train[:,0],axis=1)\n",
    "    X_test_stand = np.insert(X_test_stand,0,X_test[:,0],axis=1)\n",
    "    reg = LogisticRegression(max_iter = 400)\n",
    "    reg.fit(X_train, y_train)\n",
    "    y_pred = reg.predict(X_test)\n",
    "    accuracies.append(accuracy_score(y_test, y_pred))\n",
    "    \n",
    "\n",
    "print((accuracies))\n",
    "print(sum(acc < 0.5 for acc in accuracies)) #4 teams out of 32 have lower then 0.5 accuracy"
   ]
  },
  {
   "cell_type": "code",
   "execution_count": null,
   "id": "86ff551d",
   "metadata": {},
   "outputs": [],
   "source": [
    "mean(accuracies) #the model is 57% accurate, on average"
   ]
  },
  {
   "cell_type": "markdown",
   "id": "73159c73",
   "metadata": {},
   "source": [
    "### Calculating Home Advantage"
   ]
  },
  {
   "cell_type": "code",
   "execution_count": null,
   "id": "f401915f",
   "metadata": {},
   "outputs": [],
   "source": [
    "#ja moc nevim jestli tenhle vypocet je dobre\n",
    "all_matches = pd.read_csv('all_matches.csv')\n",
    "sum_wins_home = sum(all_matches[\"goals_home\"] > all_matches[\"goals_away\"])\n",
    "sum_wins_away = sum(all_matches[\"goals_home\"] < all_matches[\"goals_away\"])\n",
    " \n",
    "home_winrate = sum_wins_home/(sum_wins_home+sum_wins_away)\n",
    "home_winrate"
   ]
  },
  {
   "cell_type": "markdown",
   "id": "884657fe",
   "metadata": {},
   "source": [
    "### calculating and visualising home advantage for all teams for all seasons together"
   ]
  },
  {
   "cell_type": "code",
   "execution_count": null,
   "id": "3000536f",
   "metadata": {},
   "outputs": [],
   "source": [
    "home_advantages = {}\n",
    "for one_team in distinct_teams:\n",
    "    one_team_short = teams_dict[one_team]\n",
    "    matches_one_team = pd.read_csv(f'teams_final/{one_team_short}.csv')\n",
    "    home_ad = (sum((matches_one_team['TOI_home'] == 1) & (matches_one_team['TOI_result'] == 1)))/sum(matches_one_team['TOI_home'] == 1)\n",
    "    home_advantages[one_team] = home_ad\n",
    "    \n",
    "home_advantages\n",
    "\n",
    "#add points total, so that we can see if it corresponds"
   ]
  },
  {
   "cell_type": "markdown",
   "id": "322a472c",
   "metadata": {},
   "source": [
    "### calculating and visualising home advantage for individual seasons"
   ]
  },
  {
   "cell_type": "code",
   "execution_count": null,
   "id": "97d77dd0",
   "metadata": {},
   "outputs": [],
   "source": [
    "home_advantage = pd.DataFrame(seasons_used, columns=['year'])\n",
    "ha = []\n",
    "for season in seasons_used:\n",
    "    ha_one_season = sum(all_matches.loc[all_matches['season'] == int(season)][\"home_wins\"])/len(all_matches.loc[all_matches['season'] == int(season)][\"home_wins\"])\n",
    "    ha.append(round(ha_one_season*100,3))\n",
    "home_advantage[\"win_home_percentage\"] = ha\n",
    "home_advantage"
   ]
  },
  {
   "cell_type": "code",
   "execution_count": null,
   "id": "4ccdae19",
   "metadata": {},
   "outputs": [],
   "source": [
    "ha = home_advantage.plot(x = 'year', legend=False, kind = \"bar\")\n",
    "plt.ylabel(\"Home Win %\")\n",
    "ha.bar_label(ha.containers[0], labels=home_advantage['win_home_percentage'])\n",
    "plt.show()"
   ]
  },
  {
   "cell_type": "markdown",
   "id": "26e96207",
   "metadata": {},
   "source": [
    "### calculating home advantage for all teams and all seasons"
   ]
  },
  {
   "cell_type": "code",
   "execution_count": null,
   "id": "0809d3ab",
   "metadata": {},
   "outputs": [],
   "source": [
    "sum(all_matches[\"home_wins\"])/len(all_matches[\"home_wins\"])"
   ]
  },
  {
   "cell_type": "markdown",
   "id": "7b258f5c",
   "metadata": {},
   "source": [
    "### calculating and visualising home advantage for one specific team and all seasons"
   ]
  },
  {
   "cell_type": "code",
   "execution_count": null,
   "id": "46ed553d",
   "metadata": {},
   "outputs": [],
   "source": []
  },
  {
   "cell_type": "markdown",
   "id": "8cfc0977",
   "metadata": {},
   "source": [
    "### After picking 2 teams both their final_dfs are found, saved and displayed"
   ]
  },
  {
   "cell_type": "code",
   "execution_count": null,
   "id": "909eb9f5",
   "metadata": {},
   "outputs": [],
   "source": [
    "matches_team_1s = pd.read_csv(f'teams_final/{team_1_short}.csv')\n",
    "matches_between_them = matches_team_1s.merge(matches_team_2, left_on='game_id', right_on='game_id',suffixes=('', '2'))\n",
    "matches_between_them.drop(columns=['TOI_result2', 'TOI_home2','TOI2','other_team2','TOI_points_tot2','TOI_goals_scored_tot2','TOI_goals_rec_tot2'], inplace=True)\n",
    "pd.set_option(\"display.max_rows\", None, \"display.max_columns\", None)\n",
    "matches_between_them.head()"
   ]
  },
  {
   "cell_type": "code",
   "execution_count": null,
   "id": "08cf0742",
   "metadata": {},
   "outputs": [],
   "source": [
    "pd.set_option(\"display.max_rows\", 15, \"display.max_columns\", 15)"
   ]
  },
  {
   "cell_type": "code",
   "execution_count": null,
   "id": "407e97b4",
   "metadata": {},
   "outputs": [],
   "source": [
    "matches_between_them_ids = matches_between_them['game_id']\n",
    "matches_between_them_ids"
   ]
  },
  {
   "cell_type": "markdown",
   "id": "5edc400a",
   "metadata": {},
   "source": [
    "### Graphs"
   ]
  },
  {
   "cell_type": "markdown",
   "id": "b0c6d0b5",
   "metadata": {},
   "source": [
    "#### We create data frames for graphs and we ad variable match_ordr that displays the order of matches of a given team"
   ]
  },
  {
   "cell_type": "code",
   "execution_count": null,
   "id": "9b103206",
   "metadata": {},
   "outputs": [],
   "source": [
    "matches_team_1_graphs = pd.read_csv(f'teams_pre-processed/{team_1_short}_pre.csv')\n",
    "matches_team_2_graphs = pd.read_csv(f'teams_pre-processed/{team_2_short}_pre.csv')\n",
    "matches_team_1_graphs['match_ordr'] = range(1, len(matches_team_1_graphs) + 1)\n",
    "matches_team_2_graphs['match_ordr'] = range(1, len(matches_team_2_graphs) + 1)\n",
    "matches_team_2_graphs.head()"
   ]
  },
  {
   "cell_type": "markdown",
   "id": "67e55fc4",
   "metadata": {},
   "source": [
    "### Merge both teams into one dataframe and create a graph of scored goals"
   ]
  },
  {
   "cell_type": "code",
   "execution_count": null,
   "id": "e97e0ed0",
   "metadata": {
    "scrolled": true
   },
   "outputs": [],
   "source": [
    "graphs = pd.concat([matches_team_1_graphs, matches_team_2_graphs], axis=0, ignore_index=False)\n",
    "graphs['team'] = (len(matches_team_1_graphs)*(1,) + len(matches_team_2_graphs)*(2,))\n",
    "graph_1 = sns.catplot(x='match_ordr', y='TOI_goals_scored', hue='team', kind='bar', data=graphs, height=10, aspect=10, palette=[\"#FA7F63\", \"#00FC35\"])\n",
    "graph_1.set(xticklabels=[])\n",
    "plt.show()"
   ]
  },
  {
   "cell_type": "markdown",
   "id": "9e55b7f7",
   "metadata": {},
   "source": [
    "#### Too many matches we need to limit the data to last 30 matches"
   ]
  },
  {
   "cell_type": "code",
   "execution_count": null,
   "id": "0a61e577",
   "metadata": {},
   "outputs": [],
   "source": [
    "matches_team_1_graphs_30 = matches_team_1_graphs.tail(30)\n",
    "matches_team_2_graphs_30 = matches_team_2_graphs.tail(30)\n",
    "graphs_30_matches = pd.concat([matches_team_1_graphs_30, matches_team_2_graphs_30], axis=0, ignore_index=False)\n",
    "graphs_30_matches['team'] = (len(matches_team_1_graphs_30)*(1,) + len(matches_team_2_graphs_30)*(2,))\n",
    "graphs_30_matches\n",
    "graph_2 = sns.catplot(x='match_ordr', y='TOI_goals_scored', hue='team', kind='bar', data=graphs_30_matches, height=5, aspect=3, palette=[\"#FA7F63\", \"#00FC35\"])\n",
    "graph_2.set(xticklabels=[])\n",
    "plt.show()"
   ]
  },
  {
   "cell_type": "markdown",
   "id": "0a27e357",
   "metadata": {},
   "source": [
    "### Recived Goals"
   ]
  },
  {
   "cell_type": "code",
   "execution_count": null,
   "id": "94499468",
   "metadata": {},
   "outputs": [],
   "source": [
    "graph_3 = sns.catplot(x='match_ordr', y='TOI_goals_rec', hue='team', kind='bar', data=graphs_30_matches, height=5, aspect=3, palette=[\"#FA7F63\", \"#00FC35\"])\n",
    "graph_3.set(xticklabels=[])\n",
    "plt.show()"
   ]
  },
  {
   "cell_type": "markdown",
   "id": "30a3a83d",
   "metadata": {},
   "source": [
    "### How teams did in last 30 matches"
   ]
  },
  {
   "cell_type": "code",
   "execution_count": null,
   "id": "e19b7f79",
   "metadata": {},
   "outputs": [],
   "source": [
    "ax = matches_team_1_graphs_30[['TOI_goals_scored','TOI_goals_rec','match_ordr']].plot(\n",
    "    x='match_ordr',kind='bar',figsize=(15, 5),color=[\"#FA7F63\", \"#BF2806\"],title='Team 1')\n",
    "matches_team_1_graphs_30[['TOI_points','match_ordr']].plot(x='match_ordr',  linestyle='-', marker='*',figsize=(15, 5),use_index=False,\n",
    "                                                   color=[\"#EEAC26\"], lw=4, ax=ax)\n",
    "ax.set(xticklabels=[])\n",
    "plt.show"
   ]
  },
  {
   "cell_type": "code",
   "execution_count": null,
   "id": "b3671317",
   "metadata": {},
   "outputs": [],
   "source": [
    "ax = matches_team_2_graphs_30[['TOI_goals_scored','TOI_goals_rec','match_ordr']].plot(\n",
    "    x='match_ordr',kind='bar',figsize=(15, 5),color=[\"#00FC35\", \"#42BB5C\"],title='Team 2')\n",
    "matches_team_2_graphs_30[['TOI_points','match_ordr']].plot(x='match_ordr',  linestyle='-', marker='*',figsize=(15, 5),use_index=False,\n",
    "                                                   color=[\"#B6E968\"], lw=4, ax=ax)\n",
    "ax.set(xticklabels=[])\n",
    "plt.show"
   ]
  },
  {
   "cell_type": "markdown",
   "id": "a2ea805a",
   "metadata": {},
   "source": [
    "### Comparison of important variables for our model"
   ]
  },
  {
   "cell_type": "code",
   "execution_count": null,
   "id": "f12409fd",
   "metadata": {},
   "outputs": [],
   "source": [
    "x_coordinates = ['TOI_points', 'TOI_goals_scored', 'TOI_goals_rec']\n",
    "X_axis = np.arange(len(x_coordinates))\n",
    "plt.plot(x_coordinates, pred_team_1,'#FA7F63',label=\"Team 1\") \n",
    "plt.plot(x_coordinates, pred_team_2,'#00FC35',label=\"Team 2\") \n",
    "plt.legend(loc=\"upper left\")\n",
    "plt.show"
   ]
  },
  {
   "cell_type": "markdown",
   "id": "de60eba1",
   "metadata": {},
   "source": [
    "### 2nd model based on matches between 2 teams"
   ]
  },
  {
   "cell_type": "code",
   "execution_count": null,
   "id": "5b8c3b68",
   "metadata": {},
   "outputs": [],
   "source": [
    "#TOI = team 1 and should be home team to reflect home team advantage\n",
    "second_model_mathes_filtered= matches_team_1_pre[matches_team_1_pre.other_team == team_2].copy()\n",
    "second_model_mathes_filtered['match_ordr'] = range(1, len(second_model_mathes_filtered) + 1)\n",
    "second_model_mathes_filtered"
   ]
  },
  {
   "cell_type": "markdown",
   "id": "085b2378",
   "metadata": {},
   "source": [
    "### 2nd model here we predict winner based on wins and loses in duels between teams"
   ]
  },
  {
   "cell_type": "code",
   "execution_count": null,
   "id": "960a6040",
   "metadata": {},
   "outputs": [],
   "source": [
    "model_2_data = sum(second_model_mathes_filtered.TOI_result)/len(second_model_mathes_filtered.TOI_result)\n",
    "if model_2_data >= 0.5:\n",
    "  print(team_1,\"will win the match\")\n",
    "elif model_2_data < 0.5:\n",
    "  print(team_2,\"will win the match\")\n",
    "else:\n",
    "  print(\"our model can not predict the winner as we do not have data  of\", team_1,\"facing \",team_2)"
   ]
  },
  {
   "cell_type": "markdown",
   "id": "5eb6d18b",
   "metadata": {},
   "source": [
    "###  Another version of 2nd model here we predict winner based on points in duels between teams"
   ]
  },
  {
   "cell_type": "code",
   "execution_count": null,
   "id": "946cd930",
   "metadata": {},
   "outputs": [],
   "source": [
    "model_2_data_b = sum(second_model_mathes_filtered.TOI_points)/(len(second_model_mathes_filtered.TOI_result)*3)\n",
    "if model_2_data_b >= 0.5:\n",
    "      print(team_1,\"will win the match\")\n",
    "elif model_2_data_b < 0.5:\n",
    "      print(team_2,\"will win the match\")\n",
    "else:\n",
    "      print(\"our model can not predict the winner as we do not have data  of\", team_1,\"faceing \",team_2)"
   ]
  },
  {
   "cell_type": "markdown",
   "id": "c639b471",
   "metadata": {},
   "source": [
    "### Accuracy\n"
   ]
  },
  {
   "cell_type": "code",
   "execution_count": null,
   "id": "4aeb6a3c",
   "metadata": {},
   "outputs": [],
   "source": [
    "second_model_mathes_filtered_accuracy = second_model_mathes_filtered.iloc[:-1 , :] #we prepare a data set without the last match"
   ]
  },
  {
   "cell_type": "code",
   "execution_count": null,
   "id": "aa793ded",
   "metadata": {},
   "outputs": [],
   "source": [
    "second_model_mathes_filtered_result = second_model_mathes_filtered.tail(1) #the result of last match we are checking against"
   ]
  },
  {
   "cell_type": "markdown",
   "id": "6a8474fd",
   "metadata": {},
   "source": [
    "### Another try at accuracy"
   ]
  },
  {
   "cell_type": "code",
   "execution_count": null,
   "id": "dc99bd9c",
   "metadata": {},
   "outputs": [],
   "source": [
    "wins_before_this_match = []\n",
    "points_before_this_match = []\n",
    "matches_before_this_match = []\n",
    "for x in second_model_mathes_filtered['match_ordr']:\n",
    "    wins_before_this_match.append(second_model_mathes_filtered[(second_model_mathes_filtered['match_ordr'] < x)]['TOI_result'].sum())\n",
    "    points_before_this_match.append(second_model_mathes_filtered[(second_model_mathes_filtered['match_ordr'] < x)]['TOI_points'].sum())\n",
    "    matches_before_this_match.append(second_model_mathes_filtered[(second_model_mathes_filtered['match_ordr'] < x)]['TOI_points'].count())\n",
    "\n",
    "second_model_mathes_filtered['wins_before_this_match'] = wins_before_this_match\n",
    "second_model_mathes_filtered['points_before_this_match'] = points_before_this_match\n",
    "second_model_mathes_filtered['matches_before_this_match'] = matches_before_this_match\n",
    "second_model_mathes_filtered"
   ]
  },
  {
   "cell_type": "code",
   "execution_count": null,
   "id": "adef9e0a",
   "metadata": {},
   "outputs": [],
   "source": [
    "def predictions_score(row):\n",
    "    if row['wins_before_this_match'] >= row['matches_before_this_match']/2:\n",
    "        val = 1\n",
    "    elif row['wins_before_this_match'] < row['matches_before_this_match']/2:\n",
    "        val = 0\n",
    "    return val    \n",
    "second_model_mathes_filtered['Prediction_score'] = second_model_mathes_filtered.apply(predictions_score, axis=1)\n",
    "def predictions_points(row):\n",
    "    if row['wins_before_this_match'] >= row['matches_before_this_match']/2:\n",
    "        val = 1\n",
    "    elif row['wins_before_this_match'] < row['matches_before_this_match']/2:\n",
    "        val = 0\n",
    "    return val    \n",
    "second_model_mathes_filtered['Prediction_points'] = second_model_mathes_filtered.apply(predictions_points, axis=1)"
   ]
  },
  {
   "cell_type": "code",
   "execution_count": null,
   "id": "01149fc6",
   "metadata": {},
   "outputs": [],
   "source": [
    "def correctness_score(row):\n",
    "    if row['TOI_result'] == row['Prediction_score']:\n",
    "        val = 1\n",
    "    elif row['TOI_result'] != row['Prediction_score']:\n",
    "        val = 0\n",
    "    return val\n",
    "second_model_mathes_filtered['correct_score'] = second_model_mathes_filtered.apply(correctness_score, axis=1)\n",
    "\n",
    "def correctness_points(row):\n",
    "    if row['TOI_result'] == row['Prediction_points']:\n",
    "        val = 1\n",
    "    elif row['TOI_result'] != row['Prediction_points']:\n",
    "        val = 0\n",
    "    return val\n",
    "second_model_mathes_filtered['correct_points'] = second_model_mathes_filtered.apply(correctness_points, axis=1)"
   ]
  },
  {
   "cell_type": "code",
   "execution_count": null,
   "id": "e0ee2df1",
   "metadata": {},
   "outputs": [],
   "source": [
    "second_model_mathes_filteredd = second_model_mathes_filtered.iloc[1:].copy() #Remove the first row as we can not use model on it, so the resoult is wrong"
   ]
  },
  {
   "cell_type": "code",
   "execution_count": null,
   "id": "ae154256",
   "metadata": {},
   "outputs": [],
   "source": [
    "accuracy_score_model = round((sum(second_model_mathes_filteredd['correct_score'])/max((second_model_mathes_filteredd['matches_before_this_match']))*100),2)\n",
    "if second_model_mathes_filteredd.shape[0] == 0:\n",
    "    print('Can not determine accuracy of the modela as there was not enoug matches betwen',team_1, 'and', team_2)\n",
    "else:\n",
    "    print('Accuracy of model based on wins in previous duels is',accuracy_score_model,'%')"
   ]
  },
  {
   "cell_type": "code",
   "execution_count": null,
   "id": "43fc3945",
   "metadata": {},
   "outputs": [],
   "source": [
    "accuracy_points_model = round((sum(second_model_mathes_filteredd['correct_points'])/max((second_model_mathes_filteredd['matches_before_this_match']))*100),2)\n",
    "if second_model_mathes_filteredd.shape[0] == 0:\n",
    "    print('Can not determine accuracy of the modela as there was not enoug matches betwen',team_1, 'and', team_2)\n",
    "else:\n",
    "    print('Accuracy of model based on points gained in previous duels is',accuracy_points_model,'%')"
   ]
  },
  {
   "cell_type": "code",
   "execution_count": null,
   "id": "4b74de17",
   "metadata": {},
   "outputs": [],
   "source": [
    "second_model_mathes_filteredd"
   ]
  },
  {
   "cell_type": "code",
   "execution_count": null,
   "id": "fb361ab9",
   "metadata": {},
   "outputs": [],
   "source": []
  }
 ],
 "metadata": {
  "kernelspec": {
   "display_name": "Python 3 (ipykernel)",
   "language": "python",
   "name": "python3"
  },
  "language_info": {
   "codemirror_mode": {
    "name": "ipython",
    "version": 3
   },
   "file_extension": ".py",
   "mimetype": "text/x-python",
   "name": "python",
   "nbconvert_exporter": "python",
   "pygments_lexer": "ipython3",
   "version": "3.8.12"
  }
 },
 "nbformat": 4,
 "nbformat_minor": 5
}
