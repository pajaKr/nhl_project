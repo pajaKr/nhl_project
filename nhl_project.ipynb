{
 "cells": [
  {
   "cell_type": "markdown",
   "id": "caf970bc",
   "metadata": {
    "toc": true
   },
   "source": [
    "<h1>Table of Contents<span class=\"tocSkip\"></span></h1>\n",
    "<div class=\"toc\"><ul class=\"toc-item\"><li><span><a href=\"#NHL-predictions-project---Data-Interpretation\" data-toc-modified-id=\"NHL-predictions-project---Data-Interpretation-1\"><span class=\"toc-item-num\">1&nbsp;&nbsp;</span>NHL predictions project - Data Interpretation</a></span></li><li><span><a href=\"#Preparation\" data-toc-modified-id=\"Preparation-2\"><span class=\"toc-item-num\">2&nbsp;&nbsp;</span>Preparation</a></span></li><li><span><a href=\"#General-Data-Analytics\" data-toc-modified-id=\"General-Data-Analytics-3\"><span class=\"toc-item-num\">3&nbsp;&nbsp;</span>General Data Analytics</a></span></li><li><span><a href=\"#Game-result-estimation\" data-toc-modified-id=\"Game-result-estimation-4\"><span class=\"toc-item-num\">4&nbsp;&nbsp;</span>Game result estimation</a></span><ul class=\"toc-item\"><li><span><a href=\"#Data-Analytics-about-the-two-teams\" data-toc-modified-id=\"Data-Analytics-about-the-two-teams-4.1\"><span class=\"toc-item-num\">4.1&nbsp;&nbsp;</span>Data Analytics about the two teams</a></span></li><li><span><a href=\"#Model-1---Logistic-Regression\" data-toc-modified-id=\"Model-1---Logistic-Regression-4.2\"><span class=\"toc-item-num\">4.2&nbsp;&nbsp;</span>Model 1 - Logistic Regression</a></span></li><li><span><a href=\"#Model-2---based-on-matches-between-2-teams\" data-toc-modified-id=\"Model-2---based-on-matches-between-2-teams-4.3\"><span class=\"toc-item-num\">4.3&nbsp;&nbsp;</span>Model 2 - based on matches between 2 teams</a></span></li></ul></li></ul></div>"
   ]
  },
  {
   "cell_type": "markdown",
   "id": "0d4adb23",
   "metadata": {},
   "source": [
    "# NHL predictions project - Data Interpretation"
   ]
  },
  {
   "cell_type": "markdown",
   "id": "d584908a",
   "metadata": {},
   "source": [
    "This is project for the subject Data Processing in Python - JEM207. That was created by Pavlína Křenková and Vojtěch Vaverka.\n",
    "\n",
    "The code we wrote scrapes data from the website https://nhl.cz/. After the data is scraped, user of the code needs to fill in names of two teams into the variables team_1 and team_2. Once those two variables are set the code creates a Logistic regression that predicts which team is going to win. Druing our testing of the code we have reached accuracy above 50%. That means that the model is better than randomly guessing. Yet it should not be used to place bets.\n",
    "\n",
    "First, we will prepare the data. Then, we will perform several analysis to familiarize even the non-hockey readers with the teams and their recent performence. Finally we estimate <span style=\"color:red\">2 (?)</span> models to predict an outcome of the game. This prediction can be used for entertainment or casual betting; however, the authors do not take any responsibility if a user decides to do so."
   ]
  },
  {
   "cell_type": "markdown",
   "id": "9b3dd052",
   "metadata": {},
   "source": [
    "# Preparation"
   ]
  },
  {
   "cell_type": "markdown",
   "id": "1e8704b8",
   "metadata": {},
   "source": [
    "### Importing the packages"
   ]
  },
  {
   "cell_type": "markdown",
   "id": "e1b98cb0",
   "metadata": {},
   "source": [
    "* *pandas* - loading and working with the DataFrames\n",
    "* *numpy* - working with matrices when building the logistic regression\n",
    "* *matplotlib* - used for data visualization\n",
    "* *sklearn* - used to build the logistic regression \n",
    "* *seaborn* - used for data visualization\n",
    "* *statistics* - to compute the averages\n",
    "* *ipywidgets* - for dropdown menus to choose which teams to analyze"
   ]
  },
  {
   "cell_type": "code",
   "execution_count": 1,
   "id": "8d03b5c7",
   "metadata": {},
   "outputs": [],
   "source": [
    "import pandas as pd\n",
    "import numpy as np\n",
    "import matplotlib.pyplot as plt \n",
    "from sklearn.model_selection import train_test_split\n",
    "from sklearn.linear_model import LogisticRegression\n",
    "from sklearn.preprocessing import StandardScaler\n",
    "from sklearn.metrics import confusion_matrix\n",
    "from sklearn.metrics import accuracy_score\n",
    "import seaborn as sns\n",
    "from statistics import mean\n",
    "from ipywidgets import Dropdown\n",
    "import itertools"
   ]
  },
  {
   "cell_type": "markdown",
   "id": "c53bd93f",
   "metadata": {},
   "source": [
    "We load the necessary information about the teams, which we will later use for file loading and analysis"
   ]
  },
  {
   "cell_type": "code",
   "execution_count": 2,
   "id": "e263eb2a",
   "metadata": {},
   "outputs": [
    {
     "data": {
      "text/plain": [
       "{'Anaheim Ducks': 'ANA',\n",
       " 'Arizona Coyotes': 'ARI',\n",
       " 'Boston Bruins': 'BOS',\n",
       " 'Buffalo Sabres': 'BUF',\n",
       " 'Calgary Flames': 'CGY',\n",
       " 'Carolina Hurricanes': 'CAR',\n",
       " 'Chicago Blackhawks': 'CHI',\n",
       " 'Colorado Avalanche': 'COL',\n",
       " 'Columbus Blue Jackets': 'CBJ',\n",
       " 'Dallas Stars': 'DAL',\n",
       " 'Detroit Red Wings': 'DET',\n",
       " 'Edmonton Oilers': 'EDM',\n",
       " 'Florida Panthers': 'FLA',\n",
       " 'Los Angeles Kings': 'LAK',\n",
       " 'Minnesota Wild': 'MIN',\n",
       " 'Montreal Canadiens': 'MTL',\n",
       " 'Nashville Predators': 'NSH',\n",
       " 'New Jersey Devils': 'NJD',\n",
       " 'New York Islanders': 'NYI',\n",
       " 'New York Rangers': 'NYR',\n",
       " 'Ottawa Senators': 'OTT',\n",
       " 'Philadelphia Flyers': 'PHI',\n",
       " 'Pittsburgh Penguins': 'PIT',\n",
       " 'San Jose Sharks': 'SJS',\n",
       " 'Seattle Kraken': 'SEA',\n",
       " 'St. Louis Blues': 'STL',\n",
       " 'Tampa Bay Lightning': 'TBL',\n",
       " 'Toronto Maple Leafs': 'TOR',\n",
       " 'Vancouver Canucks': 'VAN',\n",
       " 'Vegas Golden Knights': 'VGK',\n",
       " 'Washington Capitals': 'WSH',\n",
       " 'Winnipeg Jets': 'WPG'}"
      ]
     },
     "execution_count": 2,
     "metadata": {},
     "output_type": "execute_result"
    }
   ],
   "source": [
    "teams_info = pd.read_csv('teams_info/teams_info.csv')\n",
    "all_matches = pd.read_csv('all_matches.csv')\n",
    "\n",
    "# We will be analysing the 5 most recent seasons\n",
    "seasons_used = ['2017', '2018', '2019', '2020','2021'] # 2017 is the 2017/2018 season, etc.\n",
    "\n",
    "distinct_teams = teams_info['team'].tolist() # the list of all teams\n",
    "\n",
    "#each team has its short name that was used to name the files that contain data\n",
    "teams_dict = pd.Series(teams_info.team_short.values,index=teams_info.team).to_dict()\n",
    "teams_dict"
   ]
  },
  {
   "cell_type": "code",
   "execution_count": 3,
   "id": "994009e3",
   "metadata": {},
   "outputs": [
    {
     "data": {
      "text/html": [
       "<div>\n",
       "<style scoped>\n",
       "    .dataframe tbody tr th:only-of-type {\n",
       "        vertical-align: middle;\n",
       "    }\n",
       "\n",
       "    .dataframe tbody tr th {\n",
       "        vertical-align: top;\n",
       "    }\n",
       "\n",
       "    .dataframe thead th {\n",
       "        text-align: right;\n",
       "    }\n",
       "</style>\n",
       "<table border=\"1\" class=\"dataframe\">\n",
       "  <thead>\n",
       "    <tr style=\"text-align: right;\">\n",
       "      <th></th>\n",
       "      <th>game_id</th>\n",
       "      <th>team_home</th>\n",
       "      <th>team_away</th>\n",
       "      <th>goals_home</th>\n",
       "      <th>goals_away</th>\n",
       "      <th>OT</th>\n",
       "      <th>points_home</th>\n",
       "      <th>points_away</th>\n",
       "      <th>TOI_home</th>\n",
       "      <th>TOI_points</th>\n",
       "      <th>TOI_goals_scored</th>\n",
       "      <th>TOI_goals_rec</th>\n",
       "      <th>TOI_result</th>\n",
       "      <th>other_team</th>\n",
       "      <th>TOI</th>\n",
       "      <th>season</th>\n",
       "    </tr>\n",
       "  </thead>\n",
       "  <tbody>\n",
       "    <tr>\n",
       "      <th>0</th>\n",
       "      <td>/zapas/2526065</td>\n",
       "      <td>Anaheim Ducks</td>\n",
       "      <td>Arizona Coyotes</td>\n",
       "      <td>5</td>\n",
       "      <td>4</td>\n",
       "      <td>0</td>\n",
       "      <td>3.0</td>\n",
       "      <td>0.0</td>\n",
       "      <td>0.0</td>\n",
       "      <td>0.0</td>\n",
       "      <td>4.0</td>\n",
       "      <td>5.0</td>\n",
       "      <td>0.0</td>\n",
       "      <td>Anaheim Ducks</td>\n",
       "      <td>Arizona Coyotes</td>\n",
       "      <td>2017</td>\n",
       "    </tr>\n",
       "    <tr>\n",
       "      <th>1</th>\n",
       "      <td>/zapas/2526080</td>\n",
       "      <td>Arizona Coyotes</td>\n",
       "      <td>Vegas Golden Knights</td>\n",
       "      <td>1</td>\n",
       "      <td>2</td>\n",
       "      <td>1</td>\n",
       "      <td>1.0</td>\n",
       "      <td>2.0</td>\n",
       "      <td>1.0</td>\n",
       "      <td>1.0</td>\n",
       "      <td>1.0</td>\n",
       "      <td>2.0</td>\n",
       "      <td>0.0</td>\n",
       "      <td>Vegas Golden Knights</td>\n",
       "      <td>Arizona Coyotes</td>\n",
       "      <td>2017</td>\n",
       "    </tr>\n",
       "    <tr>\n",
       "      <th>2</th>\n",
       "      <td>/zapas/2526099</td>\n",
       "      <td>Vegas Golden Knights</td>\n",
       "      <td>Arizona Coyotes</td>\n",
       "      <td>5</td>\n",
       "      <td>2</td>\n",
       "      <td>0</td>\n",
       "      <td>3.0</td>\n",
       "      <td>0.0</td>\n",
       "      <td>0.0</td>\n",
       "      <td>0.0</td>\n",
       "      <td>2.0</td>\n",
       "      <td>5.0</td>\n",
       "      <td>0.0</td>\n",
       "      <td>Vegas Golden Knights</td>\n",
       "      <td>Arizona Coyotes</td>\n",
       "      <td>2017</td>\n",
       "    </tr>\n",
       "    <tr>\n",
       "      <th>3</th>\n",
       "      <td>/zapas/2526110</td>\n",
       "      <td>Arizona Coyotes</td>\n",
       "      <td>Detroit Red Wings</td>\n",
       "      <td>2</td>\n",
       "      <td>4</td>\n",
       "      <td>0</td>\n",
       "      <td>0.0</td>\n",
       "      <td>3.0</td>\n",
       "      <td>1.0</td>\n",
       "      <td>0.0</td>\n",
       "      <td>2.0</td>\n",
       "      <td>4.0</td>\n",
       "      <td>0.0</td>\n",
       "      <td>Detroit Red Wings</td>\n",
       "      <td>Arizona Coyotes</td>\n",
       "      <td>2017</td>\n",
       "    </tr>\n",
       "    <tr>\n",
       "      <th>4</th>\n",
       "      <td>/zapas/2526126</td>\n",
       "      <td>Arizona Coyotes</td>\n",
       "      <td>Boston Bruins</td>\n",
       "      <td>2</td>\n",
       "      <td>6</td>\n",
       "      <td>0</td>\n",
       "      <td>0.0</td>\n",
       "      <td>3.0</td>\n",
       "      <td>1.0</td>\n",
       "      <td>0.0</td>\n",
       "      <td>2.0</td>\n",
       "      <td>6.0</td>\n",
       "      <td>0.0</td>\n",
       "      <td>Boston Bruins</td>\n",
       "      <td>Arizona Coyotes</td>\n",
       "      <td>2017</td>\n",
       "    </tr>\n",
       "  </tbody>\n",
       "</table>\n",
       "</div>"
      ],
      "text/plain": [
       "          game_id             team_home             team_away  goals_home  \\\n",
       "0  /zapas/2526065         Anaheim Ducks       Arizona Coyotes           5   \n",
       "1  /zapas/2526080       Arizona Coyotes  Vegas Golden Knights           1   \n",
       "2  /zapas/2526099  Vegas Golden Knights       Arizona Coyotes           5   \n",
       "3  /zapas/2526110       Arizona Coyotes     Detroit Red Wings           2   \n",
       "4  /zapas/2526126       Arizona Coyotes         Boston Bruins           2   \n",
       "\n",
       "   goals_away  OT  points_home  points_away  TOI_home  TOI_points  \\\n",
       "0           4   0          3.0          0.0       0.0         0.0   \n",
       "1           2   1          1.0          2.0       1.0         1.0   \n",
       "2           2   0          3.0          0.0       0.0         0.0   \n",
       "3           4   0          0.0          3.0       1.0         0.0   \n",
       "4           6   0          0.0          3.0       1.0         0.0   \n",
       "\n",
       "   TOI_goals_scored  TOI_goals_rec  TOI_result            other_team  \\\n",
       "0               4.0            5.0         0.0         Anaheim Ducks   \n",
       "1               1.0            2.0         0.0  Vegas Golden Knights   \n",
       "2               2.0            5.0         0.0  Vegas Golden Knights   \n",
       "3               2.0            4.0         0.0     Detroit Red Wings   \n",
       "4               2.0            6.0         0.0         Boston Bruins   \n",
       "\n",
       "               TOI  season  \n",
       "0  Arizona Coyotes    2017  \n",
       "1  Arizona Coyotes    2017  \n",
       "2  Arizona Coyotes    2017  \n",
       "3  Arizona Coyotes    2017  \n",
       "4  Arizona Coyotes    2017  "
      ]
     },
     "execution_count": 3,
     "metadata": {},
     "output_type": "execute_result"
    }
   ],
   "source": [
    "all_dfs_pre = []\n",
    "for one_team in distinct_teams:\n",
    "    one_team_short = teams_dict[one_team]\n",
    "    matches_one_team = pd.read_csv(f'teams_pre-processed/{one_team_short}_pre.csv')\n",
    "    all_dfs_pre.append(matches_one_team)\n",
    "all_dfs_pre[1].head()"
   ]
  },
  {
   "cell_type": "markdown",
   "id": "eec97fd8",
   "metadata": {},
   "source": [
    "# General Data Analytics"
   ]
  },
  {
   "cell_type": "markdown",
   "id": "7406bdf2",
   "metadata": {},
   "source": [
    "In this section we will analyze the data and provide some interesting insights."
   ]
  },
  {
   "cell_type": "markdown",
   "id": "884657fe",
   "metadata": {},
   "source": [
    "### Home advantage"
   ]
  },
  {
   "cell_type": "markdown",
   "id": "b35110e4",
   "metadata": {},
   "source": [
    "### For each team over all seasons"
   ]
  },
  {
   "cell_type": "markdown",
   "id": "0acaa1f7",
   "metadata": {},
   "source": [
    "We first checked if the ratio of home games to away games was approximately 1:1 for each team (the list *ratio_of_home_games*). So that we could use the following calculation for home advantage without it favoring teams that played the majority of games at home."
   ]
  },
  {
   "cell_type": "markdown",
   "id": "c9fedeaa",
   "metadata": {},
   "source": [
    "$ \\text{Home advantage} = \\frac{\\text{Games Won at Home}}{\\text{Games Won Home and Away}} $"
   ]
  },
  {
   "cell_type": "code",
   "execution_count": 4,
   "id": "a4b8c9b9",
   "metadata": {},
   "outputs": [
    {
     "name": "stdout",
     "output_type": "stream",
     "text": [
      "[0.5013404825737265, 0.4946236559139785, 0.5, 0.5013477088948787, 0.4946236559139785, 0.4972972972972973, 0.49731182795698925, 0.4946236559139785, 0.5026881720430108, 0.49865229110512127, 0.5040214477211796, 0.4959785522788204, 0.5013477088948787, 0.49731182795698925, 0.5013477088948787, 0.5040214477211796, 0.5013477088948787, 0.49865229110512127, 0.5027027027027027, 0.5026881720430108, 0.5040214477211796, 0.5013477088948787, 0.5013477088948787, 0.5026881720430108, 0.5, 0.49865951742627346, 0.49731182795698925, 0.49731182795698925, 0.5013477088948787, 0.5040214477211796, 0.49595687331536387, 0.5040214477211796]\n"
     ]
    }
   ],
   "source": [
    "ratio_of_home_games = []\n",
    "for one_df in all_dfs_pre:\n",
    "    hg = (sum((one_df['TOI_home'] == 1)))/len(one_df['TOI_home'] == 1)\n",
    "    ratio_of_home_games.append(hg) \n",
    "print(ratio_of_home_games)#the home:away ratios are very balanced "
   ]
  },
  {
   "cell_type": "code",
   "execution_count": 5,
   "id": "efde267f",
   "metadata": {},
   "outputs": [
    {
     "data": {
      "text/html": [
       "<div>\n",
       "<style scoped>\n",
       "    .dataframe tbody tr th:only-of-type {\n",
       "        vertical-align: middle;\n",
       "    }\n",
       "\n",
       "    .dataframe tbody tr th {\n",
       "        vertical-align: top;\n",
       "    }\n",
       "\n",
       "    .dataframe thead th {\n",
       "        text-align: right;\n",
       "    }\n",
       "</style>\n",
       "<table border=\"1\" class=\"dataframe\">\n",
       "  <thead>\n",
       "    <tr style=\"text-align: right;\">\n",
       "      <th></th>\n",
       "      <th>team</th>\n",
       "      <th>home_advantage</th>\n",
       "    </tr>\n",
       "  </thead>\n",
       "  <tbody>\n",
       "    <tr>\n",
       "      <th>0</th>\n",
       "      <td>Seattle Kraken</td>\n",
       "      <td>0.592593</td>\n",
       "    </tr>\n",
       "    <tr>\n",
       "      <th>1</th>\n",
       "      <td>Ottawa Senators</td>\n",
       "      <td>0.586957</td>\n",
       "    </tr>\n",
       "    <tr>\n",
       "      <th>2</th>\n",
       "      <td>Detroit Red Wings</td>\n",
       "      <td>0.576923</td>\n",
       "    </tr>\n",
       "    <tr>\n",
       "      <th>3</th>\n",
       "      <td>Dallas Stars</td>\n",
       "      <td>0.570681</td>\n",
       "    </tr>\n",
       "    <tr>\n",
       "      <th>4</th>\n",
       "      <td>Buffalo Sabres</td>\n",
       "      <td>0.570370</td>\n",
       "    </tr>\n",
       "    <tr>\n",
       "      <th>5</th>\n",
       "      <td>Pittsburgh Penguins</td>\n",
       "      <td>0.565421</td>\n",
       "    </tr>\n",
       "    <tr>\n",
       "      <th>6</th>\n",
       "      <td>Florida Panthers</td>\n",
       "      <td>0.561905</td>\n",
       "    </tr>\n",
       "    <tr>\n",
       "      <th>7</th>\n",
       "      <td>New York Islanders</td>\n",
       "      <td>0.556150</td>\n",
       "    </tr>\n",
       "    <tr>\n",
       "      <th>8</th>\n",
       "      <td>Minnesota Wild</td>\n",
       "      <td>0.556098</td>\n",
       "    </tr>\n",
       "    <tr>\n",
       "      <th>9</th>\n",
       "      <td>Columbus Blue Jackets</td>\n",
       "      <td>0.555556</td>\n",
       "    </tr>\n",
       "    <tr>\n",
       "      <th>10</th>\n",
       "      <td>Colorado Avalanche</td>\n",
       "      <td>0.555046</td>\n",
       "    </tr>\n",
       "    <tr>\n",
       "      <th>11</th>\n",
       "      <td>San Jose Sharks</td>\n",
       "      <td>0.554913</td>\n",
       "    </tr>\n",
       "    <tr>\n",
       "      <th>12</th>\n",
       "      <td>Vancouver Canucks</td>\n",
       "      <td>0.551515</td>\n",
       "    </tr>\n",
       "    <tr>\n",
       "      <th>13</th>\n",
       "      <td>Winnipeg Jets</td>\n",
       "      <td>0.551220</td>\n",
       "    </tr>\n",
       "    <tr>\n",
       "      <th>14</th>\n",
       "      <td>Vegas Golden Knights</td>\n",
       "      <td>0.546296</td>\n",
       "    </tr>\n",
       "    <tr>\n",
       "      <th>15</th>\n",
       "      <td>Boston Bruins</td>\n",
       "      <td>0.541850</td>\n",
       "    </tr>\n",
       "    <tr>\n",
       "      <th>16</th>\n",
       "      <td>Philadelphia Flyers</td>\n",
       "      <td>0.541176</td>\n",
       "    </tr>\n",
       "    <tr>\n",
       "      <th>17</th>\n",
       "      <td>Toronto Maple Leafs</td>\n",
       "      <td>0.540909</td>\n",
       "    </tr>\n",
       "    <tr>\n",
       "      <th>18</th>\n",
       "      <td>Montreal Canadiens</td>\n",
       "      <td>0.540000</td>\n",
       "    </tr>\n",
       "    <tr>\n",
       "      <th>19</th>\n",
       "      <td>Anaheim Ducks</td>\n",
       "      <td>0.538462</td>\n",
       "    </tr>\n",
       "    <tr>\n",
       "      <th>20</th>\n",
       "      <td>New York Rangers</td>\n",
       "      <td>0.538462</td>\n",
       "    </tr>\n",
       "    <tr>\n",
       "      <th>21</th>\n",
       "      <td>Nashville Predators</td>\n",
       "      <td>0.535545</td>\n",
       "    </tr>\n",
       "    <tr>\n",
       "      <th>22</th>\n",
       "      <td>Tampa Bay Lightning</td>\n",
       "      <td>0.532520</td>\n",
       "    </tr>\n",
       "    <tr>\n",
       "      <th>23</th>\n",
       "      <td>New Jersey Devils</td>\n",
       "      <td>0.530201</td>\n",
       "    </tr>\n",
       "    <tr>\n",
       "      <th>24</th>\n",
       "      <td>Carolina Hurricanes</td>\n",
       "      <td>0.528571</td>\n",
       "    </tr>\n",
       "    <tr>\n",
       "      <th>25</th>\n",
       "      <td>St. Louis Blues</td>\n",
       "      <td>0.526570</td>\n",
       "    </tr>\n",
       "    <tr>\n",
       "      <th>26</th>\n",
       "      <td>Los Angeles Kings</td>\n",
       "      <td>0.523529</td>\n",
       "    </tr>\n",
       "    <tr>\n",
       "      <th>27</th>\n",
       "      <td>Chicago Blackhawks</td>\n",
       "      <td>0.522876</td>\n",
       "    </tr>\n",
       "    <tr>\n",
       "      <th>28</th>\n",
       "      <td>Edmonton Oilers</td>\n",
       "      <td>0.510417</td>\n",
       "    </tr>\n",
       "    <tr>\n",
       "      <th>29</th>\n",
       "      <td>Arizona Coyotes</td>\n",
       "      <td>0.506667</td>\n",
       "    </tr>\n",
       "    <tr>\n",
       "      <th>30</th>\n",
       "      <td>Calgary Flames</td>\n",
       "      <td>0.497487</td>\n",
       "    </tr>\n",
       "    <tr>\n",
       "      <th>31</th>\n",
       "      <td>Washington Capitals</td>\n",
       "      <td>0.486239</td>\n",
       "    </tr>\n",
       "  </tbody>\n",
       "</table>\n",
       "</div>"
      ],
      "text/plain": [
       "                     team  home_advantage\n",
       "0          Seattle Kraken        0.592593\n",
       "1         Ottawa Senators        0.586957\n",
       "2       Detroit Red Wings        0.576923\n",
       "3            Dallas Stars        0.570681\n",
       "4          Buffalo Sabres        0.570370\n",
       "5     Pittsburgh Penguins        0.565421\n",
       "6        Florida Panthers        0.561905\n",
       "7      New York Islanders        0.556150\n",
       "8          Minnesota Wild        0.556098\n",
       "9   Columbus Blue Jackets        0.555556\n",
       "10     Colorado Avalanche        0.555046\n",
       "11        San Jose Sharks        0.554913\n",
       "12      Vancouver Canucks        0.551515\n",
       "13          Winnipeg Jets        0.551220\n",
       "14   Vegas Golden Knights        0.546296\n",
       "15          Boston Bruins        0.541850\n",
       "16    Philadelphia Flyers        0.541176\n",
       "17    Toronto Maple Leafs        0.540909\n",
       "18     Montreal Canadiens        0.540000\n",
       "19          Anaheim Ducks        0.538462\n",
       "20       New York Rangers        0.538462\n",
       "21    Nashville Predators        0.535545\n",
       "22    Tampa Bay Lightning        0.532520\n",
       "23      New Jersey Devils        0.530201\n",
       "24    Carolina Hurricanes        0.528571\n",
       "25        St. Louis Blues        0.526570\n",
       "26      Los Angeles Kings        0.523529\n",
       "27     Chicago Blackhawks        0.522876\n",
       "28        Edmonton Oilers        0.510417\n",
       "29        Arizona Coyotes        0.506667\n",
       "30         Calgary Flames        0.497487\n",
       "31    Washington Capitals        0.486239"
      ]
     },
     "execution_count": 5,
     "metadata": {},
     "output_type": "execute_result"
    }
   ],
   "source": [
    "home_advantages = {}\n",
    "for x in range(len(distinct_teams)):\n",
    "    one_team = distinct_teams[x]\n",
    "    matches_one_team = all_dfs_pre[x]\n",
    "    home_ad = (sum((matches_one_team['TOI_home'] == 1) & (matches_one_team['TOI_result'] == 1)))/sum(matches_one_team['TOI_result'] == 1)\n",
    "    home_advantages[one_team] = home_ad\n",
    "home_advantages = sorted(home_advantages.items(), key=lambda x: x[1], reverse = True)\n",
    "home_advantages = pd.DataFrame(home_advantages, columns=['team', 'home_advantage'])\n",
    "home_advantages"
   ]
  },
  {
   "cell_type": "code",
   "execution_count": 6,
   "id": "cfd064a2",
   "metadata": {},
   "outputs": [
    {
     "data": {
      "text/html": [
       "<div>\n",
       "<style scoped>\n",
       "    .dataframe tbody tr th:only-of-type {\n",
       "        vertical-align: middle;\n",
       "    }\n",
       "\n",
       "    .dataframe tbody tr th {\n",
       "        vertical-align: top;\n",
       "    }\n",
       "\n",
       "    .dataframe thead th {\n",
       "        text-align: right;\n",
       "    }\n",
       "</style>\n",
       "<table border=\"1\" class=\"dataframe\">\n",
       "  <thead>\n",
       "    <tr style=\"text-align: right;\">\n",
       "      <th></th>\n",
       "      <th>team</th>\n",
       "      <th>home_advantage</th>\n",
       "    </tr>\n",
       "  </thead>\n",
       "  <tbody>\n",
       "    <tr>\n",
       "      <th>30</th>\n",
       "      <td>Calgary Flames</td>\n",
       "      <td>0.497487</td>\n",
       "    </tr>\n",
       "    <tr>\n",
       "      <th>31</th>\n",
       "      <td>Washington Capitals</td>\n",
       "      <td>0.486239</td>\n",
       "    </tr>\n",
       "  </tbody>\n",
       "</table>\n",
       "</div>"
      ],
      "text/plain": [
       "                   team  home_advantage\n",
       "30       Calgary Flames        0.497487\n",
       "31  Washington Capitals        0.486239"
      ]
     },
     "execution_count": 6,
     "metadata": {},
     "output_type": "execute_result"
    }
   ],
   "source": [
    "home_advantages.loc[home_advantages['home_advantage'] < 0.5]"
   ]
  },
  {
   "cell_type": "markdown",
   "id": "1ed27044",
   "metadata": {},
   "source": [
    "There seems to be at least a slight home advantage for all teams except Calgary Flames and Washington Capitals."
   ]
  },
  {
   "cell_type": "code",
   "execution_count": 7,
   "id": "90973f35",
   "metadata": {},
   "outputs": [
    {
     "data": {
      "image/png": "[encoded data removed]",
      "text/plain": [
       "<Figure size 432x288 with 1 Axes>"
      ]
     },
     "metadata": {
      "needs_background": "light"
     },
     "output_type": "display_data"
    }
   ],
   "source": [
    "ha = home_advantages.plot(x = 'team', legend=False, kind = \"bar\")\n",
    "plt.ylabel(\"Home Advantage\")\n",
    "plt.axhline(y= 0.5,color='red', linestyle ='dashed')\n",
    "plt.xticks(rotation='vertical')\n",
    "plt.show()"
   ]
  },
  {
   "cell_type": "markdown",
   "id": "322a472c",
   "metadata": {},
   "source": [
    "### Home advantage for individual seasons over all teams"
   ]
  },
  {
   "cell_type": "code",
   "execution_count": 8,
   "id": "97d77dd0",
   "metadata": {},
   "outputs": [
    {
     "data": {
      "text/html": [
       "<div>\n",
       "<style scoped>\n",
       "    .dataframe tbody tr th:only-of-type {\n",
       "        vertical-align: middle;\n",
       "    }\n",
       "\n",
       "    .dataframe tbody tr th {\n",
       "        vertical-align: top;\n",
       "    }\n",
       "\n",
       "    .dataframe thead th {\n",
       "        text-align: right;\n",
       "    }\n",
       "</style>\n",
       "<table border=\"1\" class=\"dataframe\">\n",
       "  <thead>\n",
       "    <tr style=\"text-align: right;\">\n",
       "      <th></th>\n",
       "      <th>year</th>\n",
       "      <th>win_home_percentage</th>\n",
       "    </tr>\n",
       "  </thead>\n",
       "  <tbody>\n",
       "    <tr>\n",
       "      <th>0</th>\n",
       "      <td>2017</td>\n",
       "      <td>56.334</td>\n",
       "    </tr>\n",
       "    <tr>\n",
       "      <th>1</th>\n",
       "      <td>2018</td>\n",
       "      <td>53.659</td>\n",
       "    </tr>\n",
       "    <tr>\n",
       "      <th>2</th>\n",
       "      <td>2019</td>\n",
       "      <td>53.327</td>\n",
       "    </tr>\n",
       "    <tr>\n",
       "      <th>3</th>\n",
       "      <td>2020</td>\n",
       "      <td>53.341</td>\n",
       "    </tr>\n",
       "    <tr>\n",
       "      <th>4</th>\n",
       "      <td>2021</td>\n",
       "      <td>53.659</td>\n",
       "    </tr>\n",
       "  </tbody>\n",
       "</table>\n",
       "</div>"
      ],
      "text/plain": [
       "   year  win_home_percentage\n",
       "0  2017               56.334\n",
       "1  2018               53.659\n",
       "2  2019               53.327\n",
       "3  2020               53.341\n",
       "4  2021               53.659"
      ]
     },
     "execution_count": 8,
     "metadata": {},
     "output_type": "execute_result"
    }
   ],
   "source": [
    "home_advantage = pd.DataFrame(seasons_used, columns=['year'])\n",
    "ha = []\n",
    "for season in seasons_used:\n",
    "    ha_one_season = sum(all_matches.loc[all_matches['season'] == int(season)][\"home_wins\"])/len(all_matches.loc[all_matches['season'] == int(season)][\"home_wins\"])\n",
    "    ha.append(round(ha_one_season*100,3))\n",
    "home_advantage[\"win_home_percentage\"] = ha\n",
    "home_advantage"
   ]
  },
  {
   "cell_type": "code",
   "execution_count": 9,
   "id": "4ccdae19",
   "metadata": {},
   "outputs": [
    {
     "data": {
      "image/png": "[encoded data removed]",
      "text/plain": [
       "<Figure size 432x288 with 1 Axes>"
      ]
     },
     "metadata": {
      "needs_background": "light"
     },
     "output_type": "display_data"
    }
   ],
   "source": [
    "ha = home_advantage.plot(x = 'year', legend=False, kind = \"bar\")\n",
    "plt.ylabel(\"Home Win %\")\n",
    "ha.bar_label(ha.containers[0], labels=home_advantage['win_home_percentage'])\n",
    "plt.show()"
   ]
  },
  {
   "cell_type": "markdown",
   "id": "6bce8379",
   "metadata": {},
   "source": [
    "The home advantage seems to be pretty stable over time. "
   ]
  },
  {
   "cell_type": "markdown",
   "id": "26e96207",
   "metadata": {},
   "source": [
    "### Home advantage for all teams and all seasons"
   ]
  },
  {
   "cell_type": "code",
   "execution_count": 10,
   "id": "0809d3ab",
   "metadata": {},
   "outputs": [
    {
     "data": {
      "text/plain": [
       "0.5413507925568574"
      ]
     },
     "execution_count": 10,
     "metadata": {},
     "output_type": "execute_result"
    }
   ],
   "source": [
    "sum(all_matches[\"home_wins\"])/len(all_matches[\"home_wins\"])"
   ]
  },
  {
   "cell_type": "markdown",
   "id": "c4c843d5",
   "metadata": {},
   "source": [
    "# Game result estimation"
   ]
  },
  {
   "cell_type": "markdown",
   "id": "51f8662f",
   "metadata": {},
   "source": [
    "### Choosing two teams"
   ]
  },
  {
   "cell_type": "markdown",
   "id": "dd6421bd",
   "metadata": {},
   "source": [
    "Below are 2 dropdown widgets. Please choose the two teams of your interest."
   ]
  },
  {
   "cell_type": "code",
   "execution_count": 11,
   "id": "641c6bca",
   "metadata": {},
   "outputs": [
    {
     "data": {
      "application/vnd.jupyter.widget-view+json": {
       "model_id": "eeabbfd1af9449da8d85d1f440400bcc",
       "version_major": 2,
       "version_minor": 0
      },
      "text/plain": [
       "Dropdown(description='Choose the home team (Team 1):', layout=Layout(width='max-content'), options=('', 'Anahe…"
      ]
     },
     "metadata": {},
     "output_type": "display_data"
    },
    {
     "data": {
      "application/vnd.jupyter.widget-view+json": {
       "model_id": "6925a9276aee4b1a9f1956407c8e062e",
       "version_major": 2,
       "version_minor": 0
      },
      "text/plain": [
       "Dropdown(description='Choose the away team (Team 2):', layout=Layout(width='max-content'), options=('', 'Anahe…"
      ]
     },
     "metadata": {},
     "output_type": "display_data"
    }
   ],
   "source": [
    "# ipywidgets do not show on github - run the notebook in order to see them\n",
    "teams_info = pd.read_csv('teams_info/teams_info.csv')\n",
    "option_list = teams_info['team'].tolist()\n",
    "option_list.insert(0, '')\n",
    "team_1_drop = ''\n",
    "team_2_drop = ''\n",
    "drop_down_team_1 = Dropdown(options=option_list,description='Choose the home team (Team 1):',disabled=False, \n",
    "                     display='flex',\n",
    "                     flex_flow='column', align_items='stretch', style= {'description_width': 'initial'},\n",
    "                     layout={'width': 'max-content'})\n",
    "drop_down_team_2 = Dropdown(options=option_list,description='Choose the away team (Team 2):',disabled=False, \n",
    "                     display='flex',\n",
    "                     flex_flow='column', align_items='stretch', style= {'description_width': 'initial'},\n",
    "                     layout={'width': 'max-content'})\n",
    "def dropdown_handler_team_1(choice):\n",
    "    global team_1_drop\n",
    "    print(\"Team 1:\", choice.new)\n",
    "    team_1_drop = choice.new\n",
    "def dropdown_handler_team_2(choice):\n",
    "    global team_2_drop\n",
    "    print(\"Team 2:\", choice.new)\n",
    "    team_2_drop = choice.new\n",
    "drop_down_team_1.observe(dropdown_handler_team_1, names='value')\n",
    "drop_down_team_2.observe(dropdown_handler_team_2, names='value')\n",
    "display(drop_down_team_1, drop_down_team_2)"
   ]
  },
  {
   "cell_type": "markdown",
   "id": "c9e2ab5d",
   "metadata": {},
   "source": [
    "Now we check whether the choice was made."
   ]
  },
  {
   "cell_type": "code",
   "execution_count": 12,
   "id": "8156cf23",
   "metadata": {},
   "outputs": [
    {
     "name": "stdout",
     "output_type": "stream",
     "text": [
      "You have not chosen both teams yet, please return to previous cell and do so. \n",
      "If both teams are not chosen, the game between Boston Bruins and Tampa Bay Lightning will be predicted.\n"
     ]
    }
   ],
   "source": [
    "if team_1_drop == \"\" or team_2_drop == \"\":  \n",
    "    print(\"You have not chosen both teams yet, please return to previous cell and do so. \\n\"\n",
    "    \"If both teams are not chosen, the game between Boston Bruins and Tampa Bay Lightning will be predicted.\")\n",
    "    \n",
    "    # A base arbitrary choice was made, so that all cells can be run at once.\n",
    "    team_1 = \"Boston Bruins\"\n",
    "    team_2 = \"Tampa Bay Lightning\"\n",
    "    \n",
    "    \n",
    "elif team_1_drop == team_2_drop:\n",
    "    \n",
    "    print(\"You picked the same team twice, please return to previous cell and change at least one team.\")\n",
    "    # A base arbitrary choice was made, so that analysis can continue if user does not specify..\n",
    "    # ..teams correctly\n",
    "    team_1 = team_1_drop\n",
    "    if team_1 == \"Boston Bruins\":\n",
    "        team_2 = \"Tampa Bay Lightning\"\n",
    "    else:\n",
    "        team_2 = \"Boston Bruins\"\n",
    "    \n",
    "else:\n",
    "    print(\"The outcome of the match\", team_1_drop, \"vs\", team_2_drop, \"will be predicted.\")\n",
    "    team_1 = team_1_drop\n",
    "    team_2 = team_2_drop"
   ]
  },
  {
   "cell_type": "markdown",
   "id": "ff971cf5",
   "metadata": {},
   "source": [
    "We obtain the short names of the teams and load the file with the processed data, that was created by *scraping.py* and *processing.py*"
   ]
  },
  {
   "cell_type": "code",
   "execution_count": 13,
   "id": "18dfa180",
   "metadata": {},
   "outputs": [],
   "source": [
    "team_1_short = teams_dict[team_1]\n",
    "team_2_short = teams_dict[team_2]"
   ]
  },
  {
   "cell_type": "markdown",
   "id": "a9e310d3",
   "metadata": {},
   "source": [
    "Variable names mean the following:\n",
    "* *game_id* - unique game ID\n",
    "* *TOI_result* - did Team of Interest (from now *TOI*, the team to which this dataframe belongs) win ( = 1) or loose ( = 0)\n",
    "* *TOI_home* - did TOI play home ( = 1) or away ( = 0)\n",
    "* *other_team* - who was the other team in the game\n",
    "* *TOI_points_tot* - how many points did TOI gain in the last 20 games\n",
    "* *TOI_goals_scored_tot* - how many goals did TOI score in the last 20 games\n",
    "* *TOI_goals_rec_tot* - how many goals did TOI receive in the last 20 games\n",
    "* *other_team_points_tot* - how many points did the other team gain in the last 20 games\n",
    "* *other_team_goals_scored_tot* - how many goals did the other team score in the last 20 games\n",
    "* *other_team_goals_rec_tot* - how many goals did the other team receive in the last 20 games"
   ]
  },
  {
   "cell_type": "markdown",
   "id": "31dc8138",
   "metadata": {},
   "source": [
    "This <span style=\"color:red\">word</span> is not black, it is red <span style=\"color:pink\">:--)</span>."
   ]
  },
  {
   "cell_type": "markdown",
   "id": "340a653c",
   "metadata": {},
   "source": [
    "## Data Analytics about the two teams"
   ]
  },
  {
   "cell_type": "markdown",
   "id": "afe65ec6",
   "metadata": {},
   "source": [
    "In this section we analyze the two teams so that the user can have an idea about them. For example how good they generally are or how do their results change over time"
   ]
  },
  {
   "cell_type": "markdown",
   "id": "8cfc0977",
   "metadata": {},
   "source": [
    "### After picking 2 teams both their final_dfs are found, saved and displayed"
   ]
  },
  {
   "cell_type": "code",
   "execution_count": 14,
   "id": "909eb9f5",
   "metadata": {},
   "outputs": [
    {
     "data": {
      "text/html": [
       "<div>\n",
       "<style scoped>\n",
       "    .dataframe tbody tr th:only-of-type {\n",
       "        vertical-align: middle;\n",
       "    }\n",
       "\n",
       "    .dataframe tbody tr th {\n",
       "        vertical-align: top;\n",
       "    }\n",
       "\n",
       "    .dataframe thead th {\n",
       "        text-align: right;\n",
       "    }\n",
       "</style>\n",
       "<table border=\"1\" class=\"dataframe\">\n",
       "  <thead>\n",
       "    <tr style=\"text-align: right;\">\n",
       "      <th></th>\n",
       "      <th>game_id</th>\n",
       "      <th>TOI_result</th>\n",
       "      <th>TOI_home</th>\n",
       "      <th>TOI</th>\n",
       "      <th>other_team</th>\n",
       "      <th>TOI_points_tot</th>\n",
       "      <th>TOI_goals_scored_tot</th>\n",
       "      <th>TOI_goals_rec_tot</th>\n",
       "      <th>other_team_points_tot</th>\n",
       "      <th>other_team_goals_scored_tot</th>\n",
       "      <th>other_team_goals_rec_tot</th>\n",
       "      <th>other_team_points_tot2</th>\n",
       "      <th>other_team_goals_scored_tot2</th>\n",
       "      <th>other_team_goals_rec_tot2</th>\n",
       "    </tr>\n",
       "  </thead>\n",
       "  <tbody>\n",
       "    <tr>\n",
       "      <th>0</th>\n",
       "      <td>/zapas/2526431</td>\n",
       "      <td>1.0</td>\n",
       "      <td>1.0</td>\n",
       "      <td>Boston Bruins</td>\n",
       "      <td>Tampa Bay Lightning</td>\n",
       "      <td>30.0</td>\n",
       "      <td>56.0</td>\n",
       "      <td>59.0</td>\n",
       "      <td>42.0</td>\n",
       "      <td>70.0</td>\n",
       "      <td>47.0</td>\n",
       "      <td>30.0</td>\n",
       "      <td>56.0</td>\n",
       "      <td>59.0</td>\n",
       "    </tr>\n",
       "    <tr>\n",
       "      <th>1</th>\n",
       "      <td>/zapas/2527156</td>\n",
       "      <td>1.0</td>\n",
       "      <td>0.0</td>\n",
       "      <td>Boston Bruins</td>\n",
       "      <td>Tampa Bay Lightning</td>\n",
       "      <td>38.0</td>\n",
       "      <td>72.0</td>\n",
       "      <td>59.0</td>\n",
       "      <td>37.0</td>\n",
       "      <td>81.0</td>\n",
       "      <td>70.0</td>\n",
       "      <td>38.0</td>\n",
       "      <td>72.0</td>\n",
       "      <td>59.0</td>\n",
       "    </tr>\n",
       "    <tr>\n",
       "      <th>2</th>\n",
       "      <td>/zapas/2527244</td>\n",
       "      <td>1.0</td>\n",
       "      <td>1.0</td>\n",
       "      <td>Boston Bruins</td>\n",
       "      <td>Tampa Bay Lightning</td>\n",
       "      <td>34.0</td>\n",
       "      <td>64.0</td>\n",
       "      <td>61.0</td>\n",
       "      <td>34.0</td>\n",
       "      <td>72.0</td>\n",
       "      <td>68.0</td>\n",
       "      <td>34.0</td>\n",
       "      <td>64.0</td>\n",
       "      <td>61.0</td>\n",
       "    </tr>\n",
       "    <tr>\n",
       "      <th>3</th>\n",
       "      <td>/zapas/2527287</td>\n",
       "      <td>0.0</td>\n",
       "      <td>0.0</td>\n",
       "      <td>Boston Bruins</td>\n",
       "      <td>Tampa Bay Lightning</td>\n",
       "      <td>36.0</td>\n",
       "      <td>70.0</td>\n",
       "      <td>59.0</td>\n",
       "      <td>34.0</td>\n",
       "      <td>72.0</td>\n",
       "      <td>69.0</td>\n",
       "      <td>36.0</td>\n",
       "      <td>70.0</td>\n",
       "      <td>59.0</td>\n",
       "    </tr>\n",
       "    <tr>\n",
       "      <th>4</th>\n",
       "      <td>/zapas/2647632</td>\n",
       "      <td>0.0</td>\n",
       "      <td>0.0</td>\n",
       "      <td>Boston Bruins</td>\n",
       "      <td>Tampa Bay Lightning</td>\n",
       "      <td>30.0</td>\n",
       "      <td>45.0</td>\n",
       "      <td>48.0</td>\n",
       "      <td>38.0</td>\n",
       "      <td>82.0</td>\n",
       "      <td>65.0</td>\n",
       "      <td>30.0</td>\n",
       "      <td>45.0</td>\n",
       "      <td>48.0</td>\n",
       "    </tr>\n",
       "  </tbody>\n",
       "</table>\n",
       "</div>"
      ],
      "text/plain": [
       "          game_id  TOI_result  TOI_home            TOI           other_team  \\\n",
       "0  /zapas/2526431         1.0       1.0  Boston Bruins  Tampa Bay Lightning   \n",
       "1  /zapas/2527156         1.0       0.0  Boston Bruins  Tampa Bay Lightning   \n",
       "2  /zapas/2527244         1.0       1.0  Boston Bruins  Tampa Bay Lightning   \n",
       "3  /zapas/2527287         0.0       0.0  Boston Bruins  Tampa Bay Lightning   \n",
       "4  /zapas/2647632         0.0       0.0  Boston Bruins  Tampa Bay Lightning   \n",
       "\n",
       "   TOI_points_tot  TOI_goals_scored_tot  TOI_goals_rec_tot  \\\n",
       "0            30.0                  56.0               59.0   \n",
       "1            38.0                  72.0               59.0   \n",
       "2            34.0                  64.0               61.0   \n",
       "3            36.0                  70.0               59.0   \n",
       "4            30.0                  45.0               48.0   \n",
       "\n",
       "   other_team_points_tot  other_team_goals_scored_tot  \\\n",
       "0                   42.0                         70.0   \n",
       "1                   37.0                         81.0   \n",
       "2                   34.0                         72.0   \n",
       "3                   34.0                         72.0   \n",
       "4                   38.0                         82.0   \n",
       "\n",
       "   other_team_goals_rec_tot  other_team_points_tot2  \\\n",
       "0                      47.0                    30.0   \n",
       "1                      70.0                    38.0   \n",
       "2                      68.0                    34.0   \n",
       "3                      69.0                    36.0   \n",
       "4                      65.0                    30.0   \n",
       "\n",
       "   other_team_goals_scored_tot2  other_team_goals_rec_tot2  \n",
       "0                          56.0                       59.0  \n",
       "1                          72.0                       59.0  \n",
       "2                          64.0                       61.0  \n",
       "3                          70.0                       59.0  \n",
       "4                          45.0                       48.0  "
      ]
     },
     "execution_count": 14,
     "metadata": {},
     "output_type": "execute_result"
    }
   ],
   "source": [
    "matches_team_1s = pd.read_csv(f'teams_final/{team_1_short}.csv')\n",
    "matches_team_2s = pd.read_csv(f'teams_final/{team_2_short}.csv')\n",
    "matches_between_them = matches_team_1s.merge(matches_team_2s, left_on='game_id', right_on='game_id',suffixes=('', '2'))\n",
    "matches_between_them.drop(columns=['TOI_result2', 'TOI_home2','TOI2','other_team2','TOI_points_tot2','TOI_goals_scored_tot2','TOI_goals_rec_tot2'], inplace=True)\n",
    "pd.set_option(\"display.max_rows\", None, \"display.max_columns\", None)\n",
    "matches_between_them.head()"
   ]
  },
  {
   "cell_type": "code",
   "execution_count": 15,
   "id": "08cf0742",
   "metadata": {},
   "outputs": [],
   "source": [
    "pd.set_option(\"display.max_rows\", 15, \"display.max_columns\", 15)"
   ]
  },
  {
   "cell_type": "markdown",
   "id": "b0c6d0b5",
   "metadata": {},
   "source": [
    "#### We create data frames for graphs and we ad variable match_ordr that displays the order of matches of a given team"
   ]
  },
  {
   "cell_type": "code",
   "execution_count": 16,
   "id": "9b103206",
   "metadata": {},
   "outputs": [
    {
     "data": {
      "text/html": [
       "<div>\n",
       "<style scoped>\n",
       "    .dataframe tbody tr th:only-of-type {\n",
       "        vertical-align: middle;\n",
       "    }\n",
       "\n",
       "    .dataframe tbody tr th {\n",
       "        vertical-align: top;\n",
       "    }\n",
       "\n",
       "    .dataframe thead th {\n",
       "        text-align: right;\n",
       "    }\n",
       "</style>\n",
       "<table border=\"1\" class=\"dataframe\">\n",
       "  <thead>\n",
       "    <tr style=\"text-align: right;\">\n",
       "      <th></th>\n",
       "      <th>game_id</th>\n",
       "      <th>team_home</th>\n",
       "      <th>team_away</th>\n",
       "      <th>goals_home</th>\n",
       "      <th>goals_away</th>\n",
       "      <th>OT</th>\n",
       "      <th>points_home</th>\n",
       "      <th>...</th>\n",
       "      <th>TOI_goals_scored</th>\n",
       "      <th>TOI_goals_rec</th>\n",
       "      <th>TOI_result</th>\n",
       "      <th>other_team</th>\n",
       "      <th>TOI</th>\n",
       "      <th>season</th>\n",
       "      <th>match_ordr</th>\n",
       "    </tr>\n",
       "  </thead>\n",
       "  <tbody>\n",
       "    <tr>\n",
       "      <th>0</th>\n",
       "      <td>/zapas/2526068</td>\n",
       "      <td>Tampa Bay Lightning</td>\n",
       "      <td>Florida Panthers</td>\n",
       "      <td>5</td>\n",
       "      <td>3</td>\n",
       "      <td>0</td>\n",
       "      <td>3.0</td>\n",
       "      <td>...</td>\n",
       "      <td>5.0</td>\n",
       "      <td>3.0</td>\n",
       "      <td>1.0</td>\n",
       "      <td>Florida Panthers</td>\n",
       "      <td>Tampa Bay Lightning</td>\n",
       "      <td>2017</td>\n",
       "      <td>1</td>\n",
       "    </tr>\n",
       "    <tr>\n",
       "      <th>1</th>\n",
       "      <td>/zapas/2526073</td>\n",
       "      <td>Florida Panthers</td>\n",
       "      <td>Tampa Bay Lightning</td>\n",
       "      <td>5</td>\n",
       "      <td>4</td>\n",
       "      <td>0</td>\n",
       "      <td>3.0</td>\n",
       "      <td>...</td>\n",
       "      <td>4.0</td>\n",
       "      <td>5.0</td>\n",
       "      <td>0.0</td>\n",
       "      <td>Florida Panthers</td>\n",
       "      <td>Tampa Bay Lightning</td>\n",
       "      <td>2017</td>\n",
       "      <td>2</td>\n",
       "    </tr>\n",
       "    <tr>\n",
       "      <th>2</th>\n",
       "      <td>/zapas/2526090</td>\n",
       "      <td>Tampa Bay Lightning</td>\n",
       "      <td>Washington Capitals</td>\n",
       "      <td>4</td>\n",
       "      <td>3</td>\n",
       "      <td>1</td>\n",
       "      <td>2.0</td>\n",
       "      <td>...</td>\n",
       "      <td>4.0</td>\n",
       "      <td>3.0</td>\n",
       "      <td>1.0</td>\n",
       "      <td>Washington Capitals</td>\n",
       "      <td>Tampa Bay Lightning</td>\n",
       "      <td>2017</td>\n",
       "      <td>3</td>\n",
       "    </tr>\n",
       "    <tr>\n",
       "      <th>3</th>\n",
       "      <td>/zapas/2526105</td>\n",
       "      <td>Tampa Bay Lightning</td>\n",
       "      <td>Pittsburgh Penguins</td>\n",
       "      <td>5</td>\n",
       "      <td>4</td>\n",
       "      <td>0</td>\n",
       "      <td>3.0</td>\n",
       "      <td>...</td>\n",
       "      <td>5.0</td>\n",
       "      <td>4.0</td>\n",
       "      <td>1.0</td>\n",
       "      <td>Pittsburgh Penguins</td>\n",
       "      <td>Tampa Bay Lightning</td>\n",
       "      <td>2017</td>\n",
       "      <td>4</td>\n",
       "    </tr>\n",
       "    <tr>\n",
       "      <th>4</th>\n",
       "      <td>/zapas/2526122</td>\n",
       "      <td>Tampa Bay Lightning</td>\n",
       "      <td>St. Louis Blues</td>\n",
       "      <td>2</td>\n",
       "      <td>1</td>\n",
       "      <td>0</td>\n",
       "      <td>3.0</td>\n",
       "      <td>...</td>\n",
       "      <td>2.0</td>\n",
       "      <td>1.0</td>\n",
       "      <td>1.0</td>\n",
       "      <td>St. Louis Blues</td>\n",
       "      <td>Tampa Bay Lightning</td>\n",
       "      <td>2017</td>\n",
       "      <td>5</td>\n",
       "    </tr>\n",
       "  </tbody>\n",
       "</table>\n",
       "<p>5 rows × 17 columns</p>\n",
       "</div>"
      ],
      "text/plain": [
       "          game_id            team_home            team_away  goals_home  \\\n",
       "0  /zapas/2526068  Tampa Bay Lightning     Florida Panthers           5   \n",
       "1  /zapas/2526073     Florida Panthers  Tampa Bay Lightning           5   \n",
       "2  /zapas/2526090  Tampa Bay Lightning  Washington Capitals           4   \n",
       "3  /zapas/2526105  Tampa Bay Lightning  Pittsburgh Penguins           5   \n",
       "4  /zapas/2526122  Tampa Bay Lightning      St. Louis Blues           2   \n",
       "\n",
       "   goals_away  OT  points_home  ...  TOI_goals_scored  TOI_goals_rec  \\\n",
       "0           3   0          3.0  ...               5.0            3.0   \n",
       "1           4   0          3.0  ...               4.0            5.0   \n",
       "2           3   1          2.0  ...               4.0            3.0   \n",
       "3           4   0          3.0  ...               5.0            4.0   \n",
       "4           1   0          3.0  ...               2.0            1.0   \n",
       "\n",
       "   TOI_result           other_team                  TOI  season match_ordr  \n",
       "0         1.0     Florida Panthers  Tampa Bay Lightning    2017          1  \n",
       "1         0.0     Florida Panthers  Tampa Bay Lightning    2017          2  \n",
       "2         1.0  Washington Capitals  Tampa Bay Lightning    2017          3  \n",
       "3         1.0  Pittsburgh Penguins  Tampa Bay Lightning    2017          4  \n",
       "4         1.0      St. Louis Blues  Tampa Bay Lightning    2017          5  \n",
       "\n",
       "[5 rows x 17 columns]"
      ]
     },
     "execution_count": 16,
     "metadata": {},
     "output_type": "execute_result"
    }
   ],
   "source": [
    "matches_team_1_graphs = pd.read_csv(f'teams_pre-processed/{team_1_short}_pre.csv')\n",
    "matches_team_2_graphs = pd.read_csv(f'teams_pre-processed/{team_2_short}_pre.csv')\n",
    "matches_team_1_graphs['match_ordr'] = range(1, len(matches_team_1_graphs) + 1)\n",
    "matches_team_2_graphs['match_ordr'] = range(1, len(matches_team_2_graphs) + 1)\n",
    "matches_team_2_graphs.head()"
   ]
  },
  {
   "cell_type": "markdown",
   "id": "67e55fc4",
   "metadata": {},
   "source": [
    "### Merge both teams into one dataframe and create a graph of scored goals"
   ]
  },
  {
   "cell_type": "code",
   "execution_count": 17,
   "id": "e97e0ed0",
   "metadata": {
    "scrolled": true
   },
   "outputs": [
    {
     "data": {
      "image/png": "[encoded data removed]",
      "text/plain": [
       "<Figure size 7242.38x720 with 1 Axes>"
      ]
     },
     "metadata": {
      "needs_background": "light"
     },
     "output_type": "display_data"
    }
   ],
   "source": [
    "graphs = pd.concat([matches_team_1_graphs, matches_team_2_graphs], axis=0, ignore_index=False)\n",
    "graphs['team'] = (len(matches_team_1_graphs)*(1,) + len(matches_team_2_graphs)*(2,))\n",
    "graph_1 = sns.catplot(x='match_ordr', y='TOI_goals_scored', hue='team', kind='bar', data=graphs, height=10, aspect=10, palette=[\"#FA7F63\", \"#00FC35\"])\n",
    "graph_1.set(xticklabels=[])\n",
    "plt.show()"
   ]
  },
  {
   "cell_type": "markdown",
   "id": "9e55b7f7",
   "metadata": {},
   "source": [
    "#### Too many matches we need to limit the data to last 30 matches"
   ]
  },
  {
   "cell_type": "code",
   "execution_count": 18,
   "id": "0a61e577",
   "metadata": {},
   "outputs": [
    {
     "data": {
      "image/png": "[encoded data removed]",
      "text/plain": [
       "<Figure size 1122.38x360 with 1 Axes>"
      ]
     },
     "metadata": {
      "needs_background": "light"
     },
     "output_type": "display_data"
    }
   ],
   "source": [
    "matches_team_1_graphs_30 = matches_team_1_graphs.tail(30)\n",
    "matches_team_2_graphs_30 = matches_team_2_graphs.tail(30)\n",
    "graphs_30_matches = pd.concat([matches_team_1_graphs_30, matches_team_2_graphs_30], axis=0, ignore_index=False)\n",
    "graphs_30_matches['team'] = (len(matches_team_1_graphs_30)*(1,) + len(matches_team_2_graphs_30)*(2,))\n",
    "graphs_30_matches\n",
    "graph_2 = sns.catplot(x='match_ordr', y='TOI_goals_scored', hue='team', kind='bar', data=graphs_30_matches, height=5, aspect=3, palette=[\"#FA7F63\", \"#00FC35\"])\n",
    "graph_2.set(xticklabels=[])\n",
    "plt.show()"
   ]
  },
  {
   "cell_type": "markdown",
   "id": "0a27e357",
   "metadata": {},
   "source": [
    "### Recived Goals"
   ]
  },
  {
   "cell_type": "code",
   "execution_count": 19,
   "id": "94499468",
   "metadata": {},
   "outputs": [
    {
     "data": {
      "image/png": "[encoded data removed]",
      "text/plain": [
       "<Figure size 1122.38x360 with 1 Axes>"
      ]
     },
     "metadata": {
      "needs_background": "light"
     },
     "output_type": "display_data"
    }
   ],
   "source": [
    "graph_3 = sns.catplot(x='match_ordr', y='TOI_goals_rec', hue='team', kind='bar', data=graphs_30_matches, height=5, aspect=3, palette=[\"#FA7F63\", \"#00FC35\"])\n",
    "graph_3.set(xticklabels=[])\n",
    "plt.show()"
   ]
  },
  {
   "cell_type": "markdown",
   "id": "30a3a83d",
   "metadata": {},
   "source": [
    "### How teams did in last 30 matches"
   ]
  },
  {
   "cell_type": "code",
   "execution_count": 20,
   "id": "e19b7f79",
   "metadata": {},
   "outputs": [
    {
     "data": {
      "text/plain": [
       "<function matplotlib.pyplot.show(close=None, block=None)>"
      ]
     },
     "execution_count": 20,
     "metadata": {},
     "output_type": "execute_result"
    },
    {
     "data": {
      "image/png": "[encoded data removed]",
      "text/plain": [
       "<Figure size 1080x360 with 1 Axes>"
      ]
     },
     "metadata": {
      "needs_background": "light"
     },
     "output_type": "display_data"
    }
   ],
   "source": [
    "ax = matches_team_1_graphs_30[['TOI_goals_scored','TOI_goals_rec','match_ordr']].plot(\n",
    "    x='match_ordr',kind='bar',figsize=(15, 5),color=[\"#FA7F63\", \"#BF2806\"],title='Team 1')\n",
    "matches_team_1_graphs_30[['TOI_points','match_ordr']].plot(x='match_ordr',  linestyle='-', marker='*',figsize=(15, 5),use_index=False,\n",
    "                                                   color=[\"#EEAC26\"], lw=4, ax=ax)\n",
    "ax.set(xticklabels=[])\n",
    "plt.show"
   ]
  },
  {
   "cell_type": "code",
   "execution_count": 21,
   "id": "b3671317",
   "metadata": {},
   "outputs": [
    {
     "data": {
      "text/plain": [
       "<function matplotlib.pyplot.show(close=None, block=None)>"
      ]
     },
     "execution_count": 21,
     "metadata": {},
     "output_type": "execute_result"
    },
    {
     "data": {
      "image/png": "[encoded data removed]",
      "text/plain": [
       "<Figure size 1080x360 with 1 Axes>"
      ]
     },
     "metadata": {
      "needs_background": "light"
     },
     "output_type": "display_data"
    }
   ],
   "source": [
    "ax = matches_team_2_graphs_30[['TOI_goals_scored','TOI_goals_rec','match_ordr']].plot(\n",
    "    x='match_ordr',kind='bar',figsize=(15, 5),color=[\"#00FC35\", \"#42BB5C\"],title='Team 2')\n",
    "matches_team_2_graphs_30[['TOI_points','match_ordr']].plot(x='match_ordr',  linestyle='-', marker='*',figsize=(15, 5),use_index=False,\n",
    "                                                   color=[\"#B6E968\"], lw=4, ax=ax)\n",
    "ax.set(xticklabels=[])\n",
    "plt.show"
   ]
  },
  {
   "cell_type": "markdown",
   "id": "b9fb9e8d",
   "metadata": {},
   "source": [
    "## Model 1 - Logistic Regression"
   ]
  },
  {
   "cell_type": "code",
   "execution_count": 22,
   "id": "5d035c96",
   "metadata": {},
   "outputs": [
    {
     "data": {
      "text/html": [
       "<div>\n",
       "<style scoped>\n",
       "    .dataframe tbody tr th:only-of-type {\n",
       "        vertical-align: middle;\n",
       "    }\n",
       "\n",
       "    .dataframe tbody tr th {\n",
       "        vertical-align: top;\n",
       "    }\n",
       "\n",
       "    .dataframe thead th {\n",
       "        text-align: right;\n",
       "    }\n",
       "</style>\n",
       "<table border=\"1\" class=\"dataframe\">\n",
       "  <thead>\n",
       "    <tr style=\"text-align: right;\">\n",
       "      <th></th>\n",
       "      <th>game_id</th>\n",
       "      <th>TOI_result</th>\n",
       "      <th>TOI_home</th>\n",
       "      <th>TOI</th>\n",
       "      <th>other_team</th>\n",
       "      <th>TOI_points_tot</th>\n",
       "      <th>TOI_goals_scored_tot</th>\n",
       "      <th>TOI_goals_rec_tot</th>\n",
       "      <th>other_team_points_tot</th>\n",
       "      <th>other_team_goals_scored_tot</th>\n",
       "      <th>other_team_goals_rec_tot</th>\n",
       "    </tr>\n",
       "  </thead>\n",
       "  <tbody>\n",
       "    <tr>\n",
       "      <th>0</th>\n",
       "      <td>/zapas/2526388</td>\n",
       "      <td>1.0</td>\n",
       "      <td>1.0</td>\n",
       "      <td>Boston Bruins</td>\n",
       "      <td>Pittsburgh Penguins</td>\n",
       "      <td>30.0</td>\n",
       "      <td>54.0</td>\n",
       "      <td>59.0</td>\n",
       "      <td>28.0</td>\n",
       "      <td>52.0</td>\n",
       "      <td>65.0</td>\n",
       "    </tr>\n",
       "    <tr>\n",
       "      <th>1</th>\n",
       "      <td>/zapas/2526415</td>\n",
       "      <td>0.0</td>\n",
       "      <td>1.0</td>\n",
       "      <td>Boston Bruins</td>\n",
       "      <td>Edmonton Oilers</td>\n",
       "      <td>30.0</td>\n",
       "      <td>54.0</td>\n",
       "      <td>59.0</td>\n",
       "      <td>20.0</td>\n",
       "      <td>53.0</td>\n",
       "      <td>69.0</td>\n",
       "    </tr>\n",
       "    <tr>\n",
       "      <th>2</th>\n",
       "      <td>/zapas/2526431</td>\n",
       "      <td>1.0</td>\n",
       "      <td>1.0</td>\n",
       "      <td>Boston Bruins</td>\n",
       "      <td>Tampa Bay Lightning</td>\n",
       "      <td>30.0</td>\n",
       "      <td>56.0</td>\n",
       "      <td>59.0</td>\n",
       "      <td>42.0</td>\n",
       "      <td>70.0</td>\n",
       "      <td>47.0</td>\n",
       "    </tr>\n",
       "    <tr>\n",
       "      <th>3</th>\n",
       "      <td>/zapas/2526450</td>\n",
       "      <td>1.0</td>\n",
       "      <td>0.0</td>\n",
       "      <td>Boston Bruins</td>\n",
       "      <td>Philadelphia Flyers</td>\n",
       "      <td>33.0</td>\n",
       "      <td>56.0</td>\n",
       "      <td>55.0</td>\n",
       "      <td>22.0</td>\n",
       "      <td>49.0</td>\n",
       "      <td>63.0</td>\n",
       "    </tr>\n",
       "    <tr>\n",
       "      <th>4</th>\n",
       "      <td>/zapas/2526468</td>\n",
       "      <td>0.0</td>\n",
       "      <td>0.0</td>\n",
       "      <td>Boston Bruins</td>\n",
       "      <td>Nashville Predators</td>\n",
       "      <td>33.0</td>\n",
       "      <td>53.0</td>\n",
       "      <td>53.0</td>\n",
       "      <td>37.0</td>\n",
       "      <td>64.0</td>\n",
       "      <td>58.0</td>\n",
       "    </tr>\n",
       "  </tbody>\n",
       "</table>\n",
       "</div>"
      ],
      "text/plain": [
       "          game_id  TOI_result  TOI_home            TOI           other_team  \\\n",
       "0  /zapas/2526388         1.0       1.0  Boston Bruins  Pittsburgh Penguins   \n",
       "1  /zapas/2526415         0.0       1.0  Boston Bruins      Edmonton Oilers   \n",
       "2  /zapas/2526431         1.0       1.0  Boston Bruins  Tampa Bay Lightning   \n",
       "3  /zapas/2526450         1.0       0.0  Boston Bruins  Philadelphia Flyers   \n",
       "4  /zapas/2526468         0.0       0.0  Boston Bruins  Nashville Predators   \n",
       "\n",
       "   TOI_points_tot  TOI_goals_scored_tot  TOI_goals_rec_tot  \\\n",
       "0            30.0                  54.0               59.0   \n",
       "1            30.0                  54.0               59.0   \n",
       "2            30.0                  56.0               59.0   \n",
       "3            33.0                  56.0               55.0   \n",
       "4            33.0                  53.0               53.0   \n",
       "\n",
       "   other_team_points_tot  other_team_goals_scored_tot  \\\n",
       "0                   28.0                         52.0   \n",
       "1                   20.0                         53.0   \n",
       "2                   42.0                         70.0   \n",
       "3                   22.0                         49.0   \n",
       "4                   37.0                         64.0   \n",
       "\n",
       "   other_team_goals_rec_tot  \n",
       "0                      65.0  \n",
       "1                      69.0  \n",
       "2                      47.0  \n",
       "3                      63.0  \n",
       "4                      58.0  "
      ]
     },
     "execution_count": 22,
     "metadata": {},
     "output_type": "execute_result"
    }
   ],
   "source": [
    "matches_team_1 = pd.read_csv(f'teams_final/{team_1_short}.csv')\n",
    "matches_team_1.head()"
   ]
  },
  {
   "cell_type": "markdown",
   "id": "2305f89e",
   "metadata": {},
   "source": [
    "We drop the unnecessary variables which will not be used for modelling."
   ]
  },
  {
   "cell_type": "code",
   "execution_count": 23,
   "id": "6e8a4f7f",
   "metadata": {},
   "outputs": [],
   "source": [
    "#dropping unnecessary columns\n",
    "matches_team_1 = matches_team_1.drop(columns=['game_id', 'TOI','other_team'])"
   ]
  },
  {
   "cell_type": "code",
   "execution_count": 24,
   "id": "a0bf5b46",
   "metadata": {},
   "outputs": [
    {
     "data": {
      "text/html": [
       "<div>\n",
       "<style scoped>\n",
       "    .dataframe tbody tr th:only-of-type {\n",
       "        vertical-align: middle;\n",
       "    }\n",
       "\n",
       "    .dataframe tbody tr th {\n",
       "        vertical-align: top;\n",
       "    }\n",
       "\n",
       "    .dataframe thead th {\n",
       "        text-align: right;\n",
       "    }\n",
       "</style>\n",
       "<table border=\"1\" class=\"dataframe\">\n",
       "  <thead>\n",
       "    <tr style=\"text-align: right;\">\n",
       "      <th></th>\n",
       "      <th>TOI_result</th>\n",
       "      <th>TOI_home</th>\n",
       "      <th>TOI_points_tot</th>\n",
       "      <th>TOI_goals_scored_tot</th>\n",
       "      <th>TOI_goals_rec_tot</th>\n",
       "      <th>other_team_points_tot</th>\n",
       "      <th>other_team_goals_scored_tot</th>\n",
       "      <th>other_team_goals_rec_tot</th>\n",
       "    </tr>\n",
       "  </thead>\n",
       "  <tbody>\n",
       "    <tr>\n",
       "      <th>0</th>\n",
       "      <td>1.0</td>\n",
       "      <td>1.0</td>\n",
       "      <td>30.0</td>\n",
       "      <td>54.0</td>\n",
       "      <td>59.0</td>\n",
       "      <td>28.0</td>\n",
       "      <td>52.0</td>\n",
       "      <td>65.0</td>\n",
       "    </tr>\n",
       "    <tr>\n",
       "      <th>1</th>\n",
       "      <td>0.0</td>\n",
       "      <td>1.0</td>\n",
       "      <td>30.0</td>\n",
       "      <td>54.0</td>\n",
       "      <td>59.0</td>\n",
       "      <td>20.0</td>\n",
       "      <td>53.0</td>\n",
       "      <td>69.0</td>\n",
       "    </tr>\n",
       "    <tr>\n",
       "      <th>2</th>\n",
       "      <td>1.0</td>\n",
       "      <td>1.0</td>\n",
       "      <td>30.0</td>\n",
       "      <td>56.0</td>\n",
       "      <td>59.0</td>\n",
       "      <td>42.0</td>\n",
       "      <td>70.0</td>\n",
       "      <td>47.0</td>\n",
       "    </tr>\n",
       "    <tr>\n",
       "      <th>3</th>\n",
       "      <td>1.0</td>\n",
       "      <td>0.0</td>\n",
       "      <td>33.0</td>\n",
       "      <td>56.0</td>\n",
       "      <td>55.0</td>\n",
       "      <td>22.0</td>\n",
       "      <td>49.0</td>\n",
       "      <td>63.0</td>\n",
       "    </tr>\n",
       "    <tr>\n",
       "      <th>4</th>\n",
       "      <td>0.0</td>\n",
       "      <td>0.0</td>\n",
       "      <td>33.0</td>\n",
       "      <td>53.0</td>\n",
       "      <td>53.0</td>\n",
       "      <td>37.0</td>\n",
       "      <td>64.0</td>\n",
       "      <td>58.0</td>\n",
       "    </tr>\n",
       "    <tr>\n",
       "      <th>...</th>\n",
       "      <td>...</td>\n",
       "      <td>...</td>\n",
       "      <td>...</td>\n",
       "      <td>...</td>\n",
       "      <td>...</td>\n",
       "      <td>...</td>\n",
       "      <td>...</td>\n",
       "      <td>...</td>\n",
       "    </tr>\n",
       "    <tr>\n",
       "      <th>347</th>\n",
       "      <td>1.0</td>\n",
       "      <td>1.0</td>\n",
       "      <td>34.0</td>\n",
       "      <td>63.0</td>\n",
       "      <td>54.0</td>\n",
       "      <td>43.0</td>\n",
       "      <td>71.0</td>\n",
       "      <td>44.0</td>\n",
       "    </tr>\n",
       "    <tr>\n",
       "      <th>348</th>\n",
       "      <td>1.0</td>\n",
       "      <td>0.0</td>\n",
       "      <td>34.0</td>\n",
       "      <td>62.0</td>\n",
       "      <td>52.0</td>\n",
       "      <td>14.0</td>\n",
       "      <td>57.0</td>\n",
       "      <td>85.0</td>\n",
       "    </tr>\n",
       "    <tr>\n",
       "      <th>349</th>\n",
       "      <td>1.0</td>\n",
       "      <td>1.0</td>\n",
       "      <td>34.0</td>\n",
       "      <td>64.0</td>\n",
       "      <td>53.0</td>\n",
       "      <td>44.0</td>\n",
       "      <td>87.0</td>\n",
       "      <td>59.0</td>\n",
       "    </tr>\n",
       "    <tr>\n",
       "      <th>350</th>\n",
       "      <td>1.0</td>\n",
       "      <td>1.0</td>\n",
       "      <td>35.0</td>\n",
       "      <td>66.0</td>\n",
       "      <td>54.0</td>\n",
       "      <td>33.0</td>\n",
       "      <td>67.0</td>\n",
       "      <td>71.0</td>\n",
       "    </tr>\n",
       "    <tr>\n",
       "      <th>351</th>\n",
       "      <td>0.0</td>\n",
       "      <td>0.0</td>\n",
       "      <td>38.0</td>\n",
       "      <td>69.0</td>\n",
       "      <td>50.0</td>\n",
       "      <td>41.0</td>\n",
       "      <td>84.0</td>\n",
       "      <td>68.0</td>\n",
       "    </tr>\n",
       "  </tbody>\n",
       "</table>\n",
       "<p>352 rows × 8 columns</p>\n",
       "</div>"
      ],
      "text/plain": [
       "     TOI_result  TOI_home  TOI_points_tot  TOI_goals_scored_tot  \\\n",
       "0           1.0       1.0            30.0                  54.0   \n",
       "1           0.0       1.0            30.0                  54.0   \n",
       "2           1.0       1.0            30.0                  56.0   \n",
       "3           1.0       0.0            33.0                  56.0   \n",
       "4           0.0       0.0            33.0                  53.0   \n",
       "..          ...       ...             ...                   ...   \n",
       "347         1.0       1.0            34.0                  63.0   \n",
       "348         1.0       0.0            34.0                  62.0   \n",
       "349         1.0       1.0            34.0                  64.0   \n",
       "350         1.0       1.0            35.0                  66.0   \n",
       "351         0.0       0.0            38.0                  69.0   \n",
       "\n",
       "     TOI_goals_rec_tot  other_team_points_tot  other_team_goals_scored_tot  \\\n",
       "0                 59.0                   28.0                         52.0   \n",
       "1                 59.0                   20.0                         53.0   \n",
       "2                 59.0                   42.0                         70.0   \n",
       "3                 55.0                   22.0                         49.0   \n",
       "4                 53.0                   37.0                         64.0   \n",
       "..                 ...                    ...                          ...   \n",
       "347               54.0                   43.0                         71.0   \n",
       "348               52.0                   14.0                         57.0   \n",
       "349               53.0                   44.0                         87.0   \n",
       "350               54.0                   33.0                         67.0   \n",
       "351               50.0                   41.0                         84.0   \n",
       "\n",
       "     other_team_goals_rec_tot  \n",
       "0                        65.0  \n",
       "1                        69.0  \n",
       "2                        47.0  \n",
       "3                        63.0  \n",
       "4                        58.0  \n",
       "..                        ...  \n",
       "347                      44.0  \n",
       "348                      85.0  \n",
       "349                      59.0  \n",
       "350                      71.0  \n",
       "351                      68.0  \n",
       "\n",
       "[352 rows x 8 columns]"
      ]
     },
     "execution_count": 24,
     "metadata": {},
     "output_type": "execute_result"
    }
   ],
   "source": [
    "matches_team_1"
   ]
  },
  {
   "cell_type": "markdown",
   "id": "d37d8bff",
   "metadata": {},
   "source": [
    "### This is the model we wish to estimate:"
   ]
  },
  {
   "cell_type": "markdown",
   "id": "37be0cd7",
   "metadata": {},
   "source": [
    "$$\n",
    "\\Large p = \\frac{1}{1 + e^{-(\\beta_0 + \\beta_1 x_1 + \\beta_2 x_2 + \\beta_3 x_3 + \\beta_4 x_4 + \\beta_5 x_5 + \\beta_6 x_6 + \\beta_7 x_7)}}\n",
    "$$"
   ]
  },
  {
   "cell_type": "markdown",
   "id": "84cb0c4f",
   "metadata": {},
   "source": [
    "Where:\n",
    "* the dependent variable is TOI_result - win (1) or loose (0)"
   ]
  },
  {
   "cell_type": "markdown",
   "id": "05ca9568",
   "metadata": {},
   "source": [
    "And the independent variables $x_1$ to $x_7$ are:\n",
    "* *TOI_home*\n",
    "* *TOI_points_tot*\n",
    "* *TOI_goals_scored_tot*\n",
    "* *TOI_goals_rec_tot*\n",
    "* *other_team_points_tot*\n",
    "* *other_team_goals_scored_tot*\n",
    "* *other_team_goals_rec_tot*"
   ]
  },
  {
   "cell_type": "markdown",
   "id": "c5bd5147",
   "metadata": {},
   "source": [
    "#### Defining the independent and dependent variables"
   ]
  },
  {
   "cell_type": "code",
   "execution_count": 25,
   "id": "29e1b19a",
   "metadata": {},
   "outputs": [],
   "source": [
    "#independent\n",
    "x = matches_team_1.iloc[:, 1:].values\n",
    "#dependent - the result\n",
    "y = matches_team_1.iloc[:, 0].values"
   ]
  },
  {
   "cell_type": "markdown",
   "id": "a86f47d7",
   "metadata": {},
   "source": [
    "### Splitting into training and test set"
   ]
  },
  {
   "cell_type": "code",
   "execution_count": 26,
   "id": "dfd56b52",
   "metadata": {},
   "outputs": [
    {
     "data": {
      "text/html": [
       "<div>\n",
       "<style scoped>\n",
       "    .dataframe tbody tr th:only-of-type {\n",
       "        vertical-align: middle;\n",
       "    }\n",
       "\n",
       "    .dataframe tbody tr th {\n",
       "        vertical-align: top;\n",
       "    }\n",
       "\n",
       "    .dataframe thead th {\n",
       "        text-align: right;\n",
       "    }\n",
       "</style>\n",
       "<table border=\"1\" class=\"dataframe\">\n",
       "  <thead>\n",
       "    <tr style=\"text-align: right;\">\n",
       "      <th></th>\n",
       "      <th>TOI_home</th>\n",
       "      <th>TOI_points_tot</th>\n",
       "      <th>TOI_goals_scored_tot</th>\n",
       "      <th>TOI_goals_rec_tot</th>\n",
       "      <th>other_team_points_tot</th>\n",
       "      <th>other_team_goals_scored_tot</th>\n",
       "      <th>other_team_goals_rec_tot</th>\n",
       "    </tr>\n",
       "  </thead>\n",
       "  <tbody>\n",
       "    <tr>\n",
       "      <th>0</th>\n",
       "      <td>1.0</td>\n",
       "      <td>30.0</td>\n",
       "      <td>54.0</td>\n",
       "      <td>59.0</td>\n",
       "      <td>28.0</td>\n",
       "      <td>52.0</td>\n",
       "      <td>65.0</td>\n",
       "    </tr>\n",
       "    <tr>\n",
       "      <th>1</th>\n",
       "      <td>1.0</td>\n",
       "      <td>30.0</td>\n",
       "      <td>54.0</td>\n",
       "      <td>59.0</td>\n",
       "      <td>20.0</td>\n",
       "      <td>53.0</td>\n",
       "      <td>69.0</td>\n",
       "    </tr>\n",
       "    <tr>\n",
       "      <th>2</th>\n",
       "      <td>1.0</td>\n",
       "      <td>30.0</td>\n",
       "      <td>56.0</td>\n",
       "      <td>59.0</td>\n",
       "      <td>42.0</td>\n",
       "      <td>70.0</td>\n",
       "      <td>47.0</td>\n",
       "    </tr>\n",
       "    <tr>\n",
       "      <th>3</th>\n",
       "      <td>0.0</td>\n",
       "      <td>33.0</td>\n",
       "      <td>56.0</td>\n",
       "      <td>55.0</td>\n",
       "      <td>22.0</td>\n",
       "      <td>49.0</td>\n",
       "      <td>63.0</td>\n",
       "    </tr>\n",
       "    <tr>\n",
       "      <th>4</th>\n",
       "      <td>0.0</td>\n",
       "      <td>33.0</td>\n",
       "      <td>53.0</td>\n",
       "      <td>53.0</td>\n",
       "      <td>37.0</td>\n",
       "      <td>64.0</td>\n",
       "      <td>58.0</td>\n",
       "    </tr>\n",
       "  </tbody>\n",
       "</table>\n",
       "</div>"
      ],
      "text/plain": [
       "   TOI_home  TOI_points_tot  TOI_goals_scored_tot  TOI_goals_rec_tot  \\\n",
       "0       1.0            30.0                  54.0               59.0   \n",
       "1       1.0            30.0                  54.0               59.0   \n",
       "2       1.0            30.0                  56.0               59.0   \n",
       "3       0.0            33.0                  56.0               55.0   \n",
       "4       0.0            33.0                  53.0               53.0   \n",
       "\n",
       "   other_team_points_tot  other_team_goals_scored_tot  \\\n",
       "0                   28.0                         52.0   \n",
       "1                   20.0                         53.0   \n",
       "2                   42.0                         70.0   \n",
       "3                   22.0                         49.0   \n",
       "4                   37.0                         64.0   \n",
       "\n",
       "   other_team_goals_rec_tot  \n",
       "0                      65.0  \n",
       "1                      69.0  \n",
       "2                      47.0  \n",
       "3                      63.0  \n",
       "4                      58.0  "
      ]
     },
     "execution_count": 26,
     "metadata": {},
     "output_type": "execute_result"
    }
   ],
   "source": [
    "matches_team_1.iloc[:, 1:].head() #this is how the dataset looks like now - all the independent variables"
   ]
  },
  {
   "cell_type": "code",
   "execution_count": 27,
   "id": "144103ad",
   "metadata": {},
   "outputs": [],
   "source": [
    "X_train, X_test, y_train, y_test = train_test_split(x, y, test_size = 0.1, random_state = 0)"
   ]
  },
  {
   "cell_type": "code",
   "execution_count": 28,
   "id": "69b803cb",
   "metadata": {},
   "outputs": [
    {
     "data": {
      "text/plain": [
       "array([[ 1., 33., 55., 53., 35., 80., 72.],\n",
       "       [ 0., 34., 67., 62., 23., 45., 61.],\n",
       "       [ 0., 39., 62., 51., 20., 54., 67.],\n",
       "       [ 1., 41., 68., 53., 20., 51., 64.],\n",
       "       [ 0., 45., 61., 41., 34., 59., 54.]])"
      ]
     },
     "execution_count": 28,
     "metadata": {},
     "output_type": "execute_result"
    }
   ],
   "source": [
    "X_test[:5]"
   ]
  },
  {
   "cell_type": "code",
   "execution_count": 29,
   "id": "8a9ef427",
   "metadata": {},
   "outputs": [],
   "source": [
    "# rescaling (standardizing) everything except the \"home\" dummy ... and then adding the dummy back\n",
    "# since it makes the process faster and does not change predictions\n",
    "scaler = StandardScaler()\n",
    "X_train_stand = scaler.fit_transform(X_train[:,1:])\n",
    "X_test_stand = scaler.transform(X_test[:,1:])\n",
    "X_train_stand = np.insert(X_train_stand,0,X_train[:,0],axis=1)\n",
    "X_test_stand = np.insert(X_test_stand,0,X_test[:,0],axis=1)"
   ]
  },
  {
   "cell_type": "markdown",
   "id": "ac8bf2fa",
   "metadata": {},
   "source": [
    "### Getting the accuracy and confusion matrix"
   ]
  },
  {
   "cell_type": "code",
   "execution_count": 30,
   "id": "a3539444",
   "metadata": {},
   "outputs": [],
   "source": [
    "reg = LogisticRegression(max_iter = 400)\n",
    "reg.fit(X_train, y_train)\n",
    "y_pred = reg.predict(X_test)"
   ]
  },
  {
   "cell_type": "code",
   "execution_count": 31,
   "id": "a9adfad9",
   "metadata": {},
   "outputs": [
    {
     "name": "stdout",
     "output_type": "stream",
     "text": [
      "[[ 1 11]\n",
      " [ 0 24]]\n"
     ]
    }
   ],
   "source": [
    "#how well does the model perform?\n",
    "conf_matrix = confusion_matrix(y_test, y_pred)\n",
    "print(conf_matrix)"
   ]
  },
  {
   "cell_type": "code",
   "execution_count": 32,
   "id": "1bda9cb7",
   "metadata": {},
   "outputs": [
    {
     "name": "stdout",
     "output_type": "stream",
     "text": [
      "Accuracy :  \n",
      " 0.6944444444444444\n"
     ]
    }
   ],
   "source": [
    "print(\"Accuracy :  \\n\", accuracy_score(y_test, y_pred))"
   ]
  },
  {
   "cell_type": "markdown",
   "id": "98a298a6",
   "metadata": {},
   "source": [
    "#### Loading the data for the second team"
   ]
  },
  {
   "cell_type": "code",
   "execution_count": 33,
   "id": "2c1529d0",
   "metadata": {},
   "outputs": [
    {
     "data": {
      "text/html": [
       "<div>\n",
       "<style scoped>\n",
       "    .dataframe tbody tr th:only-of-type {\n",
       "        vertical-align: middle;\n",
       "    }\n",
       "\n",
       "    .dataframe tbody tr th {\n",
       "        vertical-align: top;\n",
       "    }\n",
       "\n",
       "    .dataframe thead th {\n",
       "        text-align: right;\n",
       "    }\n",
       "</style>\n",
       "<table border=\"1\" class=\"dataframe\">\n",
       "  <thead>\n",
       "    <tr style=\"text-align: right;\">\n",
       "      <th></th>\n",
       "      <th>game_id</th>\n",
       "      <th>TOI_result</th>\n",
       "      <th>TOI_home</th>\n",
       "      <th>TOI</th>\n",
       "      <th>other_team</th>\n",
       "      <th>TOI_points_tot</th>\n",
       "      <th>TOI_goals_scored_tot</th>\n",
       "      <th>TOI_goals_rec_tot</th>\n",
       "      <th>other_team_points_tot</th>\n",
       "      <th>other_team_goals_scored_tot</th>\n",
       "      <th>other_team_goals_rec_tot</th>\n",
       "    </tr>\n",
       "  </thead>\n",
       "  <tbody>\n",
       "    <tr>\n",
       "      <th>0</th>\n",
       "      <td>/zapas/2526382</td>\n",
       "      <td>1.0</td>\n",
       "      <td>1.0</td>\n",
       "      <td>Tampa Bay Lightning</td>\n",
       "      <td>Chicago Blackhawks</td>\n",
       "      <td>45.0</td>\n",
       "      <td>80.0</td>\n",
       "      <td>52.0</td>\n",
       "      <td>30.0</td>\n",
       "      <td>61.0</td>\n",
       "      <td>53.0</td>\n",
       "    </tr>\n",
       "    <tr>\n",
       "      <th>1</th>\n",
       "      <td>/zapas/2526392</td>\n",
       "      <td>0.0</td>\n",
       "      <td>0.0</td>\n",
       "      <td>Tampa Bay Lightning</td>\n",
       "      <td>Washington Capitals</td>\n",
       "      <td>44.0</td>\n",
       "      <td>78.0</td>\n",
       "      <td>51.0</td>\n",
       "      <td>27.0</td>\n",
       "      <td>53.0</td>\n",
       "      <td>63.0</td>\n",
       "    </tr>\n",
       "    <tr>\n",
       "      <th>2</th>\n",
       "      <td>/zapas/2526407</td>\n",
       "      <td>0.0</td>\n",
       "      <td>0.0</td>\n",
       "      <td>Tampa Bay Lightning</td>\n",
       "      <td>Pittsburgh Penguins</td>\n",
       "      <td>44.0</td>\n",
       "      <td>75.0</td>\n",
       "      <td>49.0</td>\n",
       "      <td>25.0</td>\n",
       "      <td>52.0</td>\n",
       "      <td>67.0</td>\n",
       "    </tr>\n",
       "    <tr>\n",
       "      <th>3</th>\n",
       "      <td>/zapas/2526421</td>\n",
       "      <td>1.0</td>\n",
       "      <td>0.0</td>\n",
       "      <td>Tampa Bay Lightning</td>\n",
       "      <td>Buffalo Sabres</td>\n",
       "      <td>42.0</td>\n",
       "      <td>73.0</td>\n",
       "      <td>51.0</td>\n",
       "      <td>20.0</td>\n",
       "      <td>46.0</td>\n",
       "      <td>65.0</td>\n",
       "    </tr>\n",
       "    <tr>\n",
       "      <th>4</th>\n",
       "      <td>/zapas/2526431</td>\n",
       "      <td>0.0</td>\n",
       "      <td>0.0</td>\n",
       "      <td>Tampa Bay Lightning</td>\n",
       "      <td>Boston Bruins</td>\n",
       "      <td>42.0</td>\n",
       "      <td>70.0</td>\n",
       "      <td>47.0</td>\n",
       "      <td>30.0</td>\n",
       "      <td>56.0</td>\n",
       "      <td>59.0</td>\n",
       "    </tr>\n",
       "  </tbody>\n",
       "</table>\n",
       "</div>"
      ],
      "text/plain": [
       "          game_id  TOI_result  TOI_home                  TOI  \\\n",
       "0  /zapas/2526382         1.0       1.0  Tampa Bay Lightning   \n",
       "1  /zapas/2526392         0.0       0.0  Tampa Bay Lightning   \n",
       "2  /zapas/2526407         0.0       0.0  Tampa Bay Lightning   \n",
       "3  /zapas/2526421         1.0       0.0  Tampa Bay Lightning   \n",
       "4  /zapas/2526431         0.0       0.0  Tampa Bay Lightning   \n",
       "\n",
       "            other_team  TOI_points_tot  TOI_goals_scored_tot  \\\n",
       "0   Chicago Blackhawks            45.0                  80.0   \n",
       "1  Washington Capitals            44.0                  78.0   \n",
       "2  Pittsburgh Penguins            44.0                  75.0   \n",
       "3       Buffalo Sabres            42.0                  73.0   \n",
       "4        Boston Bruins            42.0                  70.0   \n",
       "\n",
       "   TOI_goals_rec_tot  other_team_points_tot  other_team_goals_scored_tot  \\\n",
       "0               52.0                   30.0                         61.0   \n",
       "1               51.0                   27.0                         53.0   \n",
       "2               49.0                   25.0                         52.0   \n",
       "3               51.0                   20.0                         46.0   \n",
       "4               47.0                   30.0                         56.0   \n",
       "\n",
       "   other_team_goals_rec_tot  \n",
       "0                      53.0  \n",
       "1                      63.0  \n",
       "2                      67.0  \n",
       "3                      65.0  \n",
       "4                      59.0  "
      ]
     },
     "execution_count": 33,
     "metadata": {},
     "output_type": "execute_result"
    }
   ],
   "source": [
    "matches_team_2 = pd.read_csv(f'teams_final/{team_2_short}.csv')\n",
    "matches_team_2.head()"
   ]
  },
  {
   "cell_type": "markdown",
   "id": "f971325b",
   "metadata": {},
   "source": [
    "### The final prediction of Model 1"
   ]
  },
  {
   "cell_type": "markdown",
   "id": "030f02f2",
   "metadata": {},
   "source": [
    "We get the info about the last 20 games the teams played and input them into the estimated model"
   ]
  },
  {
   "cell_type": "code",
   "execution_count": 34,
   "id": "ba51cbc9",
   "metadata": {},
   "outputs": [],
   "source": [
    "matches_team_1_pre = pd.read_csv(f'teams_pre-processed/{team_1_short}_pre.csv')\n",
    "matches_team_2_pre = pd.read_csv(f'teams_pre-processed/{team_2_short}_pre.csv')"
   ]
  },
  {
   "cell_type": "code",
   "execution_count": 35,
   "id": "c4c7486f",
   "metadata": {},
   "outputs": [],
   "source": [
    "pred_team_1 = matches_team_1_pre[['TOI_points', 'TOI_goals_scored', 'TOI_goals_rec']].tail(20).sum().values"
   ]
  },
  {
   "cell_type": "code",
   "execution_count": 36,
   "id": "044cd200",
   "metadata": {},
   "outputs": [
    {
     "data": {
      "text/plain": [
       "array([35., 67., 53.])"
      ]
     },
     "execution_count": 36,
     "metadata": {},
     "output_type": "execute_result"
    }
   ],
   "source": [
    "#How did team 1 do in the last 20 games?\n",
    "pred_team_1 # points-goals scored-goals received"
   ]
  },
  {
   "cell_type": "code",
   "execution_count": 37,
   "id": "6ed9c242",
   "metadata": {},
   "outputs": [
    {
     "data": {
      "text/plain": [
       "array([35., 80., 56.])"
      ]
     },
     "execution_count": 37,
     "metadata": {},
     "output_type": "execute_result"
    }
   ],
   "source": [
    "pred_team_2 = matches_team_2_pre[['TOI_points', 'TOI_goals_scored', 'TOI_goals_rec']].tail(20).sum().values\n",
    "pred_team_2"
   ]
  },
  {
   "cell_type": "code",
   "execution_count": 38,
   "id": "0e1b6eb2",
   "metadata": {},
   "outputs": [
    {
     "data": {
      "text/plain": [
       "array([1.])"
      ]
     },
     "execution_count": 38,
     "metadata": {},
     "output_type": "execute_result"
    }
   ],
   "source": [
    "TOI_home = np.array([1]) #TOI - team_1 is the home team\n",
    "values_to_fit = np.concatenate([TOI_home, pred_team_1, pred_team_2]).reshape(1, -1)\n",
    "final_pred = reg.predict(values_to_fit)\n",
    "final_pred"
   ]
  },
  {
   "cell_type": "code",
   "execution_count": 39,
   "id": "b0bbe078",
   "metadata": {},
   "outputs": [
    {
     "name": "stdout",
     "output_type": "stream",
     "text": [
      "The team Boston Bruins is predicted to win this game.\n"
     ]
    }
   ],
   "source": [
    "if final_pred[0] == 1:\n",
    "    print('The team', team_1, \"is predicted to win this game.\")\n",
    "elif final_pred[0] == 0:\n",
    "    print('The team', team_2, \"is predicted to win this game.\")\n",
    "else:\n",
    "    print('An error occured along the way. Please try again.')"
   ]
  },
  {
   "cell_type": "markdown",
   "id": "a2ea805a",
   "metadata": {},
   "source": [
    "### Those values were estimated in the Logistic Regression "
   ]
  },
  {
   "cell_type": "code",
   "execution_count": 40,
   "id": "f12409fd",
   "metadata": {},
   "outputs": [
    {
     "data": {
      "text/plain": [
       "<function matplotlib.pyplot.show(close=None, block=None)>"
      ]
     },
     "execution_count": 40,
     "metadata": {},
     "output_type": "execute_result"
    },
    {
     "data": {
      "image/png": "[encoded data removed]",
      "text/plain": [
       "<Figure size 432x288 with 1 Axes>"
      ]
     },
     "metadata": {
      "needs_background": "light"
     },
     "output_type": "display_data"
    }
   ],
   "source": [
    "x_coordinates = ['TOI_points', 'TOI_goals_scored', 'TOI_goals_rec']\n",
    "X_axis = np.arange(len(x_coordinates))\n",
    "plt.plot(x_coordinates, pred_team_1,'#FA7F63',label=\"Team 1\") \n",
    "plt.plot(x_coordinates, pred_team_2,'#00FC35',label=\"Team 2\") \n",
    "plt.legend(loc=\"upper left\")\n",
    "plt.show"
   ]
  },
  {
   "cell_type": "markdown",
   "id": "075adb19",
   "metadata": {},
   "source": [
    "### Evaluation of the performance for the Logistic Regression"
   ]
  },
  {
   "cell_type": "markdown",
   "id": "24edcc18",
   "metadata": {},
   "source": [
    "#### Accuraccy of model 1 for every team"
   ]
  },
  {
   "cell_type": "markdown",
   "id": "dd590ef7",
   "metadata": {},
   "source": [
    "Now we calculate and visualize the accuracy of the logistic regression for every of the 32 teams, print out how many teams have lower accuracy than 50% (random chance), and we also compute the average accuracy over all teams."
   ]
  },
  {
   "cell_type": "code",
   "execution_count": 41,
   "id": "bab4d939",
   "metadata": {},
   "outputs": [
    {
     "name": "stdout",
     "output_type": "stream",
     "text": [
      "{'Anaheim Ducks': 0.5277777777777778, 'Arizona Coyotes': 0.5142857142857142, 'Boston Bruins': 0.6944444444444444, 'Buffalo Sabres': 0.6285714285714286, 'Calgary Flames': 0.5555555555555556, 'Carolina Hurricanes': 0.6, 'Chicago Blackhawks': 0.5277777777777778, 'Colorado Avalanche': 0.5555555555555556, 'Columbus Blue Jackets': 0.4722222222222222, 'Dallas Stars': 0.5714285714285714, 'Detroit Red Wings': 0.6388888888888888, 'Edmonton Oilers': 0.6388888888888888, 'Florida Panthers': 0.5833333333333334, 'Los Angeles Kings': 0.5555555555555556, 'Minnesota Wild': 0.6, 'Montreal Canadiens': 0.5277777777777778, 'Nashville Predators': 0.5428571428571428, 'New Jersey Devils': 0.6285714285714286, 'New York Islanders': 0.5142857142857142, 'New York Rangers': 0.45714285714285713, 'Ottawa Senators': 0.75, 'Philadelphia Flyers': 0.5428571428571428, 'Pittsburgh Penguins': 0.42857142857142855, 'San Jose Sharks': 0.5, 'Seattle Kraken': 0.7142857142857143, 'St. Louis Blues': 0.5277777777777778, 'Tampa Bay Lightning': 0.6944444444444444, 'Toronto Maple Leafs': 0.4166666666666667, 'Vancouver Canucks': 0.5142857142857142, 'Vegas Golden Knights': 0.6666666666666666, 'Washington Capitals': 0.6, 'Winnipeg Jets': 0.5833333333333334}\n",
      "4 teams have lower accuracy than 50%\n"
     ]
    }
   ],
   "source": [
    "#How accurate is the model for individual teams?\n",
    "accuracies = []\n",
    "accuracies_dict = {}\n",
    "for one_team in distinct_teams:\n",
    "    one_team_short = teams_dict[one_team]\n",
    "    matches_one_team = pd.read_csv(f'teams_final/{one_team_short}.csv')\n",
    "    matches_one_team = matches_one_team.drop(columns=['game_id', 'TOI','other_team'])\n",
    "    x = matches_one_team.iloc[:, 1:].values\n",
    "    y = matches_one_team.iloc[:, 0].values\n",
    "    X_train, X_test, y_train, y_test = train_test_split(x, y, test_size = 0.1, random_state = 0)\n",
    "\n",
    "    scaler = StandardScaler()\n",
    "    X_train_stand = scaler.fit_transform(X_train[:,1:])\n",
    "    X_test_stand = scaler.transform(X_test[:,1:])\n",
    "    X_train_stand = np.insert(X_train_stand,0,X_train[:,0],axis=1)\n",
    "    X_test_stand = np.insert(X_test_stand,0,X_test[:,0],axis=1)\n",
    "    reg = LogisticRegression(max_iter = 400)\n",
    "    reg.fit(X_train, y_train)\n",
    "    y_pred = reg.predict(X_test)\n",
    "    score = accuracy_score(y_test, y_pred)\n",
    "    accuracies.append(score)\n",
    "    accuracies_dict[one_team] = score\n",
    "    \n",
    "\n",
    "print(accuracies_dict)\n",
    "print(sum(acc < 0.5 for acc in accuracies), \"teams have lower accuracy than 50%\") #4 teams out of 32 have lower then 0.5 accuracy"
   ]
  },
  {
   "cell_type": "code",
   "execution_count": 42,
   "id": "1411b792",
   "metadata": {},
   "outputs": [
    {
     "data": {
      "image/png": "[encoded data removed]",
      "text/plain": [
       "<Figure size 432x288 with 1 Axes>"
      ]
     },
     "metadata": {
      "needs_background": "light"
     },
     "output_type": "display_data"
    }
   ],
   "source": [
    "plt.bar(*zip(*accuracies_dict.items()))\n",
    "plt.xticks(rotation='vertical')\n",
    "plt.axhline(y= 0.5,color='red', linestyle ='dashed')\n",
    "plt.show()"
   ]
  },
  {
   "cell_type": "markdown",
   "id": "f6d291e6",
   "metadata": {},
   "source": [
    "And how accurate is the model on average?"
   ]
  },
  {
   "cell_type": "code",
   "execution_count": 43,
   "id": "86ff551d",
   "metadata": {},
   "outputs": [
    {
     "data": {
      "text/plain": [
       "0.5710565476190476"
      ]
     },
     "execution_count": 43,
     "metadata": {},
     "output_type": "execute_result"
    }
   ],
   "source": [
    "mean(accuracies) #the model is 57% accurate, on average"
   ]
  },
  {
   "cell_type": "markdown",
   "id": "eeae2b43",
   "metadata": {},
   "source": [
    "<b>We can see that the model performs relatively good. Being 57% accurate on average, and only 4 teams out of 32 performing worse than a random chance. However, there might be a better solution. Let's try another model.</b>"
   ]
  },
  {
   "cell_type": "markdown",
   "id": "de60eba1",
   "metadata": {},
   "source": [
    "## Model 2 - based on matches between 2 teams "
   ]
  },
  {
   "cell_type": "markdown",
   "id": "4ce37416",
   "metadata": {},
   "source": [
    "<span style=\"color:red\">přidej popisek jak se to počítá prosím</span> myslim že pokud team 1 vyhral vic vzajemnych zapasu tak je estimated to win?"
   ]
  },
  {
   "cell_type": "code",
   "execution_count": 44,
   "id": "5b8c3b68",
   "metadata": {},
   "outputs": [
    {
     "data": {
      "text/html": [
       "<div>\n",
       "<style scoped>\n",
       "    .dataframe tbody tr th:only-of-type {\n",
       "        vertical-align: middle;\n",
       "    }\n",
       "\n",
       "    .dataframe tbody tr th {\n",
       "        vertical-align: top;\n",
       "    }\n",
       "\n",
       "    .dataframe thead th {\n",
       "        text-align: right;\n",
       "    }\n",
       "</style>\n",
       "<table border=\"1\" class=\"dataframe\">\n",
       "  <thead>\n",
       "    <tr style=\"text-align: right;\">\n",
       "      <th></th>\n",
       "      <th>game_id</th>\n",
       "      <th>team_home</th>\n",
       "      <th>team_away</th>\n",
       "      <th>goals_home</th>\n",
       "      <th>goals_away</th>\n",
       "      <th>OT</th>\n",
       "      <th>points_home</th>\n",
       "      <th>...</th>\n",
       "      <th>TOI_goals_scored</th>\n",
       "      <th>TOI_goals_rec</th>\n",
       "      <th>TOI_result</th>\n",
       "      <th>other_team</th>\n",
       "      <th>TOI</th>\n",
       "      <th>season</th>\n",
       "      <th>match_ordr</th>\n",
       "    </tr>\n",
       "  </thead>\n",
       "  <tbody>\n",
       "    <tr>\n",
       "      <th>22</th>\n",
       "      <td>/zapas/2526431</td>\n",
       "      <td>Boston Bruins</td>\n",
       "      <td>Tampa Bay Lightning</td>\n",
       "      <td>3</td>\n",
       "      <td>2</td>\n",
       "      <td>0</td>\n",
       "      <td>3.0</td>\n",
       "      <td>...</td>\n",
       "      <td>3.0</td>\n",
       "      <td>2.0</td>\n",
       "      <td>1.0</td>\n",
       "      <td>Tampa Bay Lightning</td>\n",
       "      <td>Boston Bruins</td>\n",
       "      <td>2017</td>\n",
       "      <td>1</td>\n",
       "    </tr>\n",
       "    <tr>\n",
       "      <th>69</th>\n",
       "      <td>/zapas/2527156</td>\n",
       "      <td>Tampa Bay Lightning</td>\n",
       "      <td>Boston Bruins</td>\n",
       "      <td>0</td>\n",
       "      <td>3</td>\n",
       "      <td>0</td>\n",
       "      <td>0.0</td>\n",
       "      <td>...</td>\n",
       "      <td>3.0</td>\n",
       "      <td>0.0</td>\n",
       "      <td>1.0</td>\n",
       "      <td>Tampa Bay Lightning</td>\n",
       "      <td>Boston Bruins</td>\n",
       "      <td>2017</td>\n",
       "      <td>2</td>\n",
       "    </tr>\n",
       "    <tr>\n",
       "      <th>75</th>\n",
       "      <td>/zapas/2527244</td>\n",
       "      <td>Boston Bruins</td>\n",
       "      <td>Tampa Bay Lightning</td>\n",
       "      <td>4</td>\n",
       "      <td>2</td>\n",
       "      <td>0</td>\n",
       "      <td>3.0</td>\n",
       "      <td>...</td>\n",
       "      <td>4.0</td>\n",
       "      <td>2.0</td>\n",
       "      <td>1.0</td>\n",
       "      <td>Tampa Bay Lightning</td>\n",
       "      <td>Boston Bruins</td>\n",
       "      <td>2017</td>\n",
       "      <td>3</td>\n",
       "    </tr>\n",
       "    <tr>\n",
       "      <th>78</th>\n",
       "      <td>/zapas/2527287</td>\n",
       "      <td>Tampa Bay Lightning</td>\n",
       "      <td>Boston Bruins</td>\n",
       "      <td>4</td>\n",
       "      <td>0</td>\n",
       "      <td>0</td>\n",
       "      <td>3.0</td>\n",
       "      <td>...</td>\n",
       "      <td>0.0</td>\n",
       "      <td>4.0</td>\n",
       "      <td>0.0</td>\n",
       "      <td>Tampa Bay Lightning</td>\n",
       "      <td>Boston Bruins</td>\n",
       "      <td>2017</td>\n",
       "      <td>4</td>\n",
       "    </tr>\n",
       "    <tr>\n",
       "      <th>109</th>\n",
       "      <td>/zapas/2647632</td>\n",
       "      <td>Tampa Bay Lightning</td>\n",
       "      <td>Boston Bruins</td>\n",
       "      <td>3</td>\n",
       "      <td>2</td>\n",
       "      <td>0</td>\n",
       "      <td>3.0</td>\n",
       "      <td>...</td>\n",
       "      <td>2.0</td>\n",
       "      <td>3.0</td>\n",
       "      <td>0.0</td>\n",
       "      <td>Tampa Bay Lightning</td>\n",
       "      <td>Boston Bruins</td>\n",
       "      <td>2018</td>\n",
       "      <td>5</td>\n",
       "    </tr>\n",
       "    <tr>\n",
       "      <th>...</th>\n",
       "      <td>...</td>\n",
       "      <td>...</td>\n",
       "      <td>...</td>\n",
       "      <td>...</td>\n",
       "      <td>...</td>\n",
       "      <td>...</td>\n",
       "      <td>...</td>\n",
       "      <td>...</td>\n",
       "      <td>...</td>\n",
       "      <td>...</td>\n",
       "      <td>...</td>\n",
       "      <td>...</td>\n",
       "      <td>...</td>\n",
       "      <td>...</td>\n",
       "      <td>...</td>\n",
       "    </tr>\n",
       "    <tr>\n",
       "      <th>232</th>\n",
       "      <td>/zapas/2807430</td>\n",
       "      <td>Boston Bruins</td>\n",
       "      <td>Tampa Bay Lightning</td>\n",
       "      <td>3</td>\n",
       "      <td>5</td>\n",
       "      <td>0</td>\n",
       "      <td>0.0</td>\n",
       "      <td>...</td>\n",
       "      <td>3.0</td>\n",
       "      <td>5.0</td>\n",
       "      <td>0.0</td>\n",
       "      <td>Tampa Bay Lightning</td>\n",
       "      <td>Boston Bruins</td>\n",
       "      <td>2019</td>\n",
       "      <td>12</td>\n",
       "    </tr>\n",
       "    <tr>\n",
       "      <th>310</th>\n",
       "      <td>/zapas/2897351</td>\n",
       "      <td>Boston Bruins</td>\n",
       "      <td>Tampa Bay Lightning</td>\n",
       "      <td>2</td>\n",
       "      <td>3</td>\n",
       "      <td>1</td>\n",
       "      <td>1.0</td>\n",
       "      <td>...</td>\n",
       "      <td>2.0</td>\n",
       "      <td>3.0</td>\n",
       "      <td>0.0</td>\n",
       "      <td>Tampa Bay Lightning</td>\n",
       "      <td>Boston Bruins</td>\n",
       "      <td>2021</td>\n",
       "      <td>13</td>\n",
       "    </tr>\n",
       "    <tr>\n",
       "      <th>320</th>\n",
       "      <td>/zapas/2897606</td>\n",
       "      <td>Tampa Bay Lightning</td>\n",
       "      <td>Boston Bruins</td>\n",
       "      <td>2</td>\n",
       "      <td>5</td>\n",
       "      <td>0</td>\n",
       "      <td>0.0</td>\n",
       "      <td>...</td>\n",
       "      <td>5.0</td>\n",
       "      <td>2.0</td>\n",
       "      <td>1.0</td>\n",
       "      <td>Tampa Bay Lightning</td>\n",
       "      <td>Boston Bruins</td>\n",
       "      <td>2021</td>\n",
       "      <td>14</td>\n",
       "    </tr>\n",
       "    <tr>\n",
       "      <th>353</th>\n",
       "      <td>/zapas/2898005</td>\n",
       "      <td>Boston Bruins</td>\n",
       "      <td>Tampa Bay Lightning</td>\n",
       "      <td>3</td>\n",
       "      <td>2</td>\n",
       "      <td>0</td>\n",
       "      <td>3.0</td>\n",
       "      <td>...</td>\n",
       "      <td>3.0</td>\n",
       "      <td>2.0</td>\n",
       "      <td>1.0</td>\n",
       "      <td>Tampa Bay Lightning</td>\n",
       "      <td>Boston Bruins</td>\n",
       "      <td>2021</td>\n",
       "      <td>15</td>\n",
       "    </tr>\n",
       "    <tr>\n",
       "      <th>360</th>\n",
       "      <td>/zapas/2898120</td>\n",
       "      <td>Tampa Bay Lightning</td>\n",
       "      <td>Boston Bruins</td>\n",
       "      <td>1</td>\n",
       "      <td>2</td>\n",
       "      <td>1</td>\n",
       "      <td>1.0</td>\n",
       "      <td>...</td>\n",
       "      <td>2.0</td>\n",
       "      <td>1.0</td>\n",
       "      <td>1.0</td>\n",
       "      <td>Tampa Bay Lightning</td>\n",
       "      <td>Boston Bruins</td>\n",
       "      <td>2021</td>\n",
       "      <td>16</td>\n",
       "    </tr>\n",
       "  </tbody>\n",
       "</table>\n",
       "<p>16 rows × 17 columns</p>\n",
       "</div>"
      ],
      "text/plain": [
       "            game_id            team_home            team_away  goals_home  \\\n",
       "22   /zapas/2526431        Boston Bruins  Tampa Bay Lightning           3   \n",
       "69   /zapas/2527156  Tampa Bay Lightning        Boston Bruins           0   \n",
       "75   /zapas/2527244        Boston Bruins  Tampa Bay Lightning           4   \n",
       "78   /zapas/2527287  Tampa Bay Lightning        Boston Bruins           4   \n",
       "109  /zapas/2647632  Tampa Bay Lightning        Boston Bruins           3   \n",
       "..              ...                  ...                  ...         ...   \n",
       "232  /zapas/2807430        Boston Bruins  Tampa Bay Lightning           3   \n",
       "310  /zapas/2897351        Boston Bruins  Tampa Bay Lightning           2   \n",
       "320  /zapas/2897606  Tampa Bay Lightning        Boston Bruins           2   \n",
       "353  /zapas/2898005        Boston Bruins  Tampa Bay Lightning           3   \n",
       "360  /zapas/2898120  Tampa Bay Lightning        Boston Bruins           1   \n",
       "\n",
       "     goals_away  OT  points_home  ...  TOI_goals_scored  TOI_goals_rec  \\\n",
       "22            2   0          3.0  ...               3.0            2.0   \n",
       "69            3   0          0.0  ...               3.0            0.0   \n",
       "75            2   0          3.0  ...               4.0            2.0   \n",
       "78            0   0          3.0  ...               0.0            4.0   \n",
       "109           2   0          3.0  ...               2.0            3.0   \n",
       "..          ...  ..          ...  ...               ...            ...   \n",
       "232           5   0          0.0  ...               3.0            5.0   \n",
       "310           3   1          1.0  ...               2.0            3.0   \n",
       "320           5   0          0.0  ...               5.0            2.0   \n",
       "353           2   0          3.0  ...               3.0            2.0   \n",
       "360           2   1          1.0  ...               2.0            1.0   \n",
       "\n",
       "     TOI_result           other_team            TOI  season match_ordr  \n",
       "22          1.0  Tampa Bay Lightning  Boston Bruins    2017          1  \n",
       "69          1.0  Tampa Bay Lightning  Boston Bruins    2017          2  \n",
       "75          1.0  Tampa Bay Lightning  Boston Bruins    2017          3  \n",
       "78          0.0  Tampa Bay Lightning  Boston Bruins    2017          4  \n",
       "109         0.0  Tampa Bay Lightning  Boston Bruins    2018          5  \n",
       "..          ...                  ...            ...     ...        ...  \n",
       "232         0.0  Tampa Bay Lightning  Boston Bruins    2019         12  \n",
       "310         0.0  Tampa Bay Lightning  Boston Bruins    2021         13  \n",
       "320         1.0  Tampa Bay Lightning  Boston Bruins    2021         14  \n",
       "353         1.0  Tampa Bay Lightning  Boston Bruins    2021         15  \n",
       "360         1.0  Tampa Bay Lightning  Boston Bruins    2021         16  \n",
       "\n",
       "[16 rows x 17 columns]"
      ]
     },
     "execution_count": 44,
     "metadata": {},
     "output_type": "execute_result"
    }
   ],
   "source": [
    "#TOI = team 1 and should be home team to reflect home team advantage\n",
    "model_2_mathes_filter = matches_team_1_pre[matches_team_1_pre.other_team == team_2].copy()\n",
    "model_2_mathes_filter['match_ordr'] = range(1, len(model_2_mathes_filter) + 1)\n",
    "model_2_mathes_filter"
   ]
  },
  {
   "cell_type": "code",
   "execution_count": 45,
   "id": "960a6040",
   "metadata": {},
   "outputs": [
    {
     "name": "stdout",
     "output_type": "stream",
     "text": [
      "Boston Bruins will win the match\n"
     ]
    }
   ],
   "source": [
    "model_2_data = sum(model_2_mathes_filter.TOI_result)/len(model_2_mathes_filter.TOI_result)\n",
    "if model_2_data >= 0.5:\n",
    "  print(team_1,\"will win the match\")\n",
    "elif model_2_data < 0.5:\n",
    "  print(team_2,\"will win the match\")\n",
    "else:\n",
    "  print(\"our model can not predict the winner as we do not have data  of\", team_1,\"facing \",team_2)"
   ]
  },
  {
   "cell_type": "markdown",
   "id": "c639b471",
   "metadata": {},
   "source": [
    "### Evaluation of the performance for the Model 2\n"
   ]
  },
  {
   "cell_type": "code",
   "execution_count": 46,
   "id": "dc99bd9c",
   "metadata": {},
   "outputs": [
    {
     "data": {
      "text/html": [
       "<div>\n",
       "<style scoped>\n",
       "    .dataframe tbody tr th:only-of-type {\n",
       "        vertical-align: middle;\n",
       "    }\n",
       "\n",
       "    .dataframe tbody tr th {\n",
       "        vertical-align: top;\n",
       "    }\n",
       "\n",
       "    .dataframe thead th {\n",
       "        text-align: right;\n",
       "    }\n",
       "</style>\n",
       "<table border=\"1\" class=\"dataframe\">\n",
       "  <thead>\n",
       "    <tr style=\"text-align: right;\">\n",
       "      <th></th>\n",
       "      <th>game_id</th>\n",
       "      <th>team_home</th>\n",
       "      <th>team_away</th>\n",
       "      <th>goals_home</th>\n",
       "      <th>goals_away</th>\n",
       "      <th>OT</th>\n",
       "      <th>points_home</th>\n",
       "      <th>...</th>\n",
       "      <th>TOI_result</th>\n",
       "      <th>other_team</th>\n",
       "      <th>TOI</th>\n",
       "      <th>season</th>\n",
       "      <th>match_ordr</th>\n",
       "      <th>wins_before_this_match</th>\n",
       "      <th>matches_before_this_match</th>\n",
       "    </tr>\n",
       "  </thead>\n",
       "  <tbody>\n",
       "    <tr>\n",
       "      <th>22</th>\n",
       "      <td>/zapas/2526431</td>\n",
       "      <td>Boston Bruins</td>\n",
       "      <td>Tampa Bay Lightning</td>\n",
       "      <td>3</td>\n",
       "      <td>2</td>\n",
       "      <td>0</td>\n",
       "      <td>3.0</td>\n",
       "      <td>...</td>\n",
       "      <td>1.0</td>\n",
       "      <td>Tampa Bay Lightning</td>\n",
       "      <td>Boston Bruins</td>\n",
       "      <td>2017</td>\n",
       "      <td>1</td>\n",
       "      <td>0.0</td>\n",
       "      <td>0</td>\n",
       "    </tr>\n",
       "    <tr>\n",
       "      <th>69</th>\n",
       "      <td>/zapas/2527156</td>\n",
       "      <td>Tampa Bay Lightning</td>\n",
       "      <td>Boston Bruins</td>\n",
       "      <td>0</td>\n",
       "      <td>3</td>\n",
       "      <td>0</td>\n",
       "      <td>0.0</td>\n",
       "      <td>...</td>\n",
       "      <td>1.0</td>\n",
       "      <td>Tampa Bay Lightning</td>\n",
       "      <td>Boston Bruins</td>\n",
       "      <td>2017</td>\n",
       "      <td>2</td>\n",
       "      <td>1.0</td>\n",
       "      <td>1</td>\n",
       "    </tr>\n",
       "    <tr>\n",
       "      <th>75</th>\n",
       "      <td>/zapas/2527244</td>\n",
       "      <td>Boston Bruins</td>\n",
       "      <td>Tampa Bay Lightning</td>\n",
       "      <td>4</td>\n",
       "      <td>2</td>\n",
       "      <td>0</td>\n",
       "      <td>3.0</td>\n",
       "      <td>...</td>\n",
       "      <td>1.0</td>\n",
       "      <td>Tampa Bay Lightning</td>\n",
       "      <td>Boston Bruins</td>\n",
       "      <td>2017</td>\n",
       "      <td>3</td>\n",
       "      <td>2.0</td>\n",
       "      <td>2</td>\n",
       "    </tr>\n",
       "    <tr>\n",
       "      <th>78</th>\n",
       "      <td>/zapas/2527287</td>\n",
       "      <td>Tampa Bay Lightning</td>\n",
       "      <td>Boston Bruins</td>\n",
       "      <td>4</td>\n",
       "      <td>0</td>\n",
       "      <td>0</td>\n",
       "      <td>3.0</td>\n",
       "      <td>...</td>\n",
       "      <td>0.0</td>\n",
       "      <td>Tampa Bay Lightning</td>\n",
       "      <td>Boston Bruins</td>\n",
       "      <td>2017</td>\n",
       "      <td>4</td>\n",
       "      <td>3.0</td>\n",
       "      <td>3</td>\n",
       "    </tr>\n",
       "    <tr>\n",
       "      <th>109</th>\n",
       "      <td>/zapas/2647632</td>\n",
       "      <td>Tampa Bay Lightning</td>\n",
       "      <td>Boston Bruins</td>\n",
       "      <td>3</td>\n",
       "      <td>2</td>\n",
       "      <td>0</td>\n",
       "      <td>3.0</td>\n",
       "      <td>...</td>\n",
       "      <td>0.0</td>\n",
       "      <td>Tampa Bay Lightning</td>\n",
       "      <td>Boston Bruins</td>\n",
       "      <td>2018</td>\n",
       "      <td>5</td>\n",
       "      <td>3.0</td>\n",
       "      <td>4</td>\n",
       "    </tr>\n",
       "    <tr>\n",
       "      <th>...</th>\n",
       "      <td>...</td>\n",
       "      <td>...</td>\n",
       "      <td>...</td>\n",
       "      <td>...</td>\n",
       "      <td>...</td>\n",
       "      <td>...</td>\n",
       "      <td>...</td>\n",
       "      <td>...</td>\n",
       "      <td>...</td>\n",
       "      <td>...</td>\n",
       "      <td>...</td>\n",
       "      <td>...</td>\n",
       "      <td>...</td>\n",
       "      <td>...</td>\n",
       "      <td>...</td>\n",
       "    </tr>\n",
       "    <tr>\n",
       "      <th>232</th>\n",
       "      <td>/zapas/2807430</td>\n",
       "      <td>Boston Bruins</td>\n",
       "      <td>Tampa Bay Lightning</td>\n",
       "      <td>3</td>\n",
       "      <td>5</td>\n",
       "      <td>0</td>\n",
       "      <td>0.0</td>\n",
       "      <td>...</td>\n",
       "      <td>0.0</td>\n",
       "      <td>Tampa Bay Lightning</td>\n",
       "      <td>Boston Bruins</td>\n",
       "      <td>2019</td>\n",
       "      <td>12</td>\n",
       "      <td>5.0</td>\n",
       "      <td>11</td>\n",
       "    </tr>\n",
       "    <tr>\n",
       "      <th>310</th>\n",
       "      <td>/zapas/2897351</td>\n",
       "      <td>Boston Bruins</td>\n",
       "      <td>Tampa Bay Lightning</td>\n",
       "      <td>2</td>\n",
       "      <td>3</td>\n",
       "      <td>1</td>\n",
       "      <td>1.0</td>\n",
       "      <td>...</td>\n",
       "      <td>0.0</td>\n",
       "      <td>Tampa Bay Lightning</td>\n",
       "      <td>Boston Bruins</td>\n",
       "      <td>2021</td>\n",
       "      <td>13</td>\n",
       "      <td>5.0</td>\n",
       "      <td>12</td>\n",
       "    </tr>\n",
       "    <tr>\n",
       "      <th>320</th>\n",
       "      <td>/zapas/2897606</td>\n",
       "      <td>Tampa Bay Lightning</td>\n",
       "      <td>Boston Bruins</td>\n",
       "      <td>2</td>\n",
       "      <td>5</td>\n",
       "      <td>0</td>\n",
       "      <td>0.0</td>\n",
       "      <td>...</td>\n",
       "      <td>1.0</td>\n",
       "      <td>Tampa Bay Lightning</td>\n",
       "      <td>Boston Bruins</td>\n",
       "      <td>2021</td>\n",
       "      <td>14</td>\n",
       "      <td>5.0</td>\n",
       "      <td>13</td>\n",
       "    </tr>\n",
       "    <tr>\n",
       "      <th>353</th>\n",
       "      <td>/zapas/2898005</td>\n",
       "      <td>Boston Bruins</td>\n",
       "      <td>Tampa Bay Lightning</td>\n",
       "      <td>3</td>\n",
       "      <td>2</td>\n",
       "      <td>0</td>\n",
       "      <td>3.0</td>\n",
       "      <td>...</td>\n",
       "      <td>1.0</td>\n",
       "      <td>Tampa Bay Lightning</td>\n",
       "      <td>Boston Bruins</td>\n",
       "      <td>2021</td>\n",
       "      <td>15</td>\n",
       "      <td>6.0</td>\n",
       "      <td>14</td>\n",
       "    </tr>\n",
       "    <tr>\n",
       "      <th>360</th>\n",
       "      <td>/zapas/2898120</td>\n",
       "      <td>Tampa Bay Lightning</td>\n",
       "      <td>Boston Bruins</td>\n",
       "      <td>1</td>\n",
       "      <td>2</td>\n",
       "      <td>1</td>\n",
       "      <td>1.0</td>\n",
       "      <td>...</td>\n",
       "      <td>1.0</td>\n",
       "      <td>Tampa Bay Lightning</td>\n",
       "      <td>Boston Bruins</td>\n",
       "      <td>2021</td>\n",
       "      <td>16</td>\n",
       "      <td>7.0</td>\n",
       "      <td>15</td>\n",
       "    </tr>\n",
       "  </tbody>\n",
       "</table>\n",
       "<p>16 rows × 19 columns</p>\n",
       "</div>"
      ],
      "text/plain": [
       "            game_id            team_home            team_away  goals_home  \\\n",
       "22   /zapas/2526431        Boston Bruins  Tampa Bay Lightning           3   \n",
       "69   /zapas/2527156  Tampa Bay Lightning        Boston Bruins           0   \n",
       "75   /zapas/2527244        Boston Bruins  Tampa Bay Lightning           4   \n",
       "78   /zapas/2527287  Tampa Bay Lightning        Boston Bruins           4   \n",
       "109  /zapas/2647632  Tampa Bay Lightning        Boston Bruins           3   \n",
       "..              ...                  ...                  ...         ...   \n",
       "232  /zapas/2807430        Boston Bruins  Tampa Bay Lightning           3   \n",
       "310  /zapas/2897351        Boston Bruins  Tampa Bay Lightning           2   \n",
       "320  /zapas/2897606  Tampa Bay Lightning        Boston Bruins           2   \n",
       "353  /zapas/2898005        Boston Bruins  Tampa Bay Lightning           3   \n",
       "360  /zapas/2898120  Tampa Bay Lightning        Boston Bruins           1   \n",
       "\n",
       "     goals_away  OT  points_home  ...  TOI_result           other_team  \\\n",
       "22            2   0          3.0  ...         1.0  Tampa Bay Lightning   \n",
       "69            3   0          0.0  ...         1.0  Tampa Bay Lightning   \n",
       "75            2   0          3.0  ...         1.0  Tampa Bay Lightning   \n",
       "78            0   0          3.0  ...         0.0  Tampa Bay Lightning   \n",
       "109           2   0          3.0  ...         0.0  Tampa Bay Lightning   \n",
       "..          ...  ..          ...  ...         ...                  ...   \n",
       "232           5   0          0.0  ...         0.0  Tampa Bay Lightning   \n",
       "310           3   1          1.0  ...         0.0  Tampa Bay Lightning   \n",
       "320           5   0          0.0  ...         1.0  Tampa Bay Lightning   \n",
       "353           2   0          3.0  ...         1.0  Tampa Bay Lightning   \n",
       "360           2   1          1.0  ...         1.0  Tampa Bay Lightning   \n",
       "\n",
       "               TOI  season  match_ordr  wins_before_this_match  \\\n",
       "22   Boston Bruins    2017           1                     0.0   \n",
       "69   Boston Bruins    2017           2                     1.0   \n",
       "75   Boston Bruins    2017           3                     2.0   \n",
       "78   Boston Bruins    2017           4                     3.0   \n",
       "109  Boston Bruins    2018           5                     3.0   \n",
       "..             ...     ...         ...                     ...   \n",
       "232  Boston Bruins    2019          12                     5.0   \n",
       "310  Boston Bruins    2021          13                     5.0   \n",
       "320  Boston Bruins    2021          14                     5.0   \n",
       "353  Boston Bruins    2021          15                     6.0   \n",
       "360  Boston Bruins    2021          16                     7.0   \n",
       "\n",
       "    matches_before_this_match  \n",
       "22                          0  \n",
       "69                          1  \n",
       "75                          2  \n",
       "78                          3  \n",
       "109                         4  \n",
       "..                        ...  \n",
       "232                        11  \n",
       "310                        12  \n",
       "320                        13  \n",
       "353                        14  \n",
       "360                        15  \n",
       "\n",
       "[16 rows x 19 columns]"
      ]
     },
     "execution_count": 46,
     "metadata": {},
     "output_type": "execute_result"
    }
   ],
   "source": [
    "wins_before_this_match = []\n",
    "matches_before_this_match = []\n",
    "for x in model_2_mathes_filter['match_ordr']:\n",
    "    wins_before_this_match.append(model_2_mathes_filter[(model_2_mathes_filter['match_ordr'] < x)]['TOI_result'].sum())\n",
    "    matches_before_this_match.append(model_2_mathes_filter[(model_2_mathes_filter['match_ordr'] < x)]['TOI_points'].count())\n",
    "\n",
    "model_2_mathes_filter['wins_before_this_match'] = wins_before_this_match\n",
    "model_2_mathes_filter['matches_before_this_match'] = matches_before_this_match\n",
    "model_2_mathes_filter"
   ]
  },
  {
   "cell_type": "code",
   "execution_count": 47,
   "id": "adef9e0a",
   "metadata": {},
   "outputs": [],
   "source": [
    "def predictions_score(row):\n",
    "    if row['wins_before_this_match'] >= row['matches_before_this_match']/2:\n",
    "        val = 1\n",
    "    else:\n",
    "        val = 0\n",
    "    return val    \n",
    "model_2_mathes_filter['Prediction_score'] = model_2_mathes_filter.apply(predictions_score, axis=1)"
   ]
  },
  {
   "cell_type": "code",
   "execution_count": 48,
   "id": "01149fc6",
   "metadata": {},
   "outputs": [],
   "source": [
    "def correctness_score(row):\n",
    "    if row['TOI_result'] == row['Prediction_score']:\n",
    "        val = 1\n",
    "    else:\n",
    "        val = 0\n",
    "    return val\n",
    "model_2_mathes_filter['correct_score'] = model_2_mathes_filter.apply(correctness_score, axis=1)"
   ]
  },
  {
   "cell_type": "code",
   "execution_count": 49,
   "id": "e0ee2df1",
   "metadata": {},
   "outputs": [],
   "source": [
    "#Remove the first row as we can not use model on it, so the result is wrong\n",
    "model_2_mathes_filtered = model_2_mathes_filter.iloc[1:].copy() "
   ]
  },
  {
   "cell_type": "code",
   "execution_count": 52,
   "id": "ae154256",
   "metadata": {},
   "outputs": [
    {
     "name": "stdout",
     "output_type": "stream",
     "text": [
      "Accuracy of model based on wins in previous duels is 40.0 %\n"
     ]
    }
   ],
   "source": [
    "accuracy_score_model = round((sum(model_2_mathes_filtered['correct_score'])/max((model_2_mathes_filtered['matches_before_this_match']))*100),2)\n",
    "if model_2_mathes_filtered.shape[0] == 0:\n",
    "    print('Can not determine accuracy of the modela as there was not enoug matches betwen',team_1, 'and', team_2)\n",
    "else:\n",
    "    print('Accuracy of model based on wins in previous duels is',accuracy_score_model,'%')"
   ]
  },
  {
   "cell_type": "code",
   "execution_count": 53,
   "id": "bcb1c392",
   "metadata": {},
   "outputs": [],
   "source": [
    "def get_accuracy(team1,team2):\n",
    "    team_1_short = teams_dict[team1]\n",
    "    matches_team_1_pre = pd.read_csv(f'teams_pre-processed/{team_1_short}_pre.csv')\n",
    "    model_2_mathes_filter = matches_team_1_pre[matches_team_1_pre.other_team == team2].copy()\n",
    "    model_2_mathes_filter['match_ordr'] = range(1, len(model_2_mathes_filter) + 1)\n",
    "    wins_before_this_match = []\n",
    "    matches_before_this_match = []\n",
    "    for x in model_2_mathes_filter['match_ordr']:\n",
    "        wins_before_this_match.append(model_2_mathes_filter[(model_2_mathes_filter['match_ordr'] < x)]['TOI_result'].sum())\n",
    "        matches_before_this_match.append(model_2_mathes_filter[(model_2_mathes_filter['match_ordr'] < x)]['TOI_points'].count())\n",
    "\n",
    "    model_2_mathes_filter['wins_before_this_match'] = wins_before_this_match\n",
    "    model_2_mathes_filter['matches_before_this_match'] = matches_before_this_match\n",
    "    \n",
    "    \n",
    "    def predictions_score(row):\n",
    "        if row['wins_before_this_match'] >= row['matches_before_this_match']/2:\n",
    "            val = 1\n",
    "        else:\n",
    "            val = 0\n",
    "        return val    \n",
    "    model_2_mathes_filter['Prediction_score'] = model_2_mathes_filter.apply(predictions_score, axis=1)\n",
    "    \n",
    "    def correctness_score(row):\n",
    "        if row['TOI_result'] == row['Prediction_score']:\n",
    "            val = 1\n",
    "        else:\n",
    "            val = 0\n",
    "        return val\n",
    "    model_2_mathes_filter['correct_score'] = model_2_mathes_filter.apply(correctness_score, axis=1)\n",
    "    \n",
    "    # Remove the first row as we can not use model on it, so the resoult is wrong\n",
    "    model_2_mathes_filtered = model_2_mathes_filter.iloc[1:].copy()\n",
    "    accuracy_score = round((sum(model_2_mathes_filtered['correct_score'])/max((model_2_mathes_filtered['matches_before_this_match']))),3)\n",
    "    return accuracy_score\n",
    "    "
   ]
  },
  {
   "cell_type": "code",
   "execution_count": 54,
   "id": "37aab71c",
   "metadata": {},
   "outputs": [],
   "source": [
    "all_permutations = list(itertools.permutations(distinct_teams, 2))"
   ]
  },
  {
   "cell_type": "code",
   "execution_count": 55,
   "id": "9e6ee644",
   "metadata": {},
   "outputs": [],
   "source": [
    "model_2_accuraccies = []\n",
    "team1_accuracies = []\n",
    "team2_accuracies = []\n",
    "for couple in all_permutations:\n",
    "    team1 = couple[0]\n",
    "    team2 = couple[1]\n",
    "    couple_accuracy = get_accuracy(team1, team2)\n",
    "    team1_accuracies.append(team1)\n",
    "    team2_accuracies.append(team2)\n",
    "    model_2_accuraccies.append(couple_accuracy)"
   ]
  },
  {
   "cell_type": "code",
   "execution_count": 56,
   "id": "7d48131e",
   "metadata": {},
   "outputs": [
    {
     "data": {
      "text/html": [
       "<div>\n",
       "<style scoped>\n",
       "    .dataframe tbody tr th:only-of-type {\n",
       "        vertical-align: middle;\n",
       "    }\n",
       "\n",
       "    .dataframe tbody tr th {\n",
       "        vertical-align: top;\n",
       "    }\n",
       "\n",
       "    .dataframe thead th {\n",
       "        text-align: right;\n",
       "    }\n",
       "</style>\n",
       "<table border=\"1\" class=\"dataframe\">\n",
       "  <thead>\n",
       "    <tr style=\"text-align: right;\">\n",
       "      <th></th>\n",
       "      <th>team1</th>\n",
       "      <th>team2</th>\n",
       "      <th>accuracy</th>\n",
       "    </tr>\n",
       "  </thead>\n",
       "  <tbody>\n",
       "    <tr>\n",
       "      <th>0</th>\n",
       "      <td>Anaheim Ducks</td>\n",
       "      <td>Arizona Coyotes</td>\n",
       "      <td>0.435</td>\n",
       "    </tr>\n",
       "    <tr>\n",
       "      <th>1</th>\n",
       "      <td>Anaheim Ducks</td>\n",
       "      <td>Boston Bruins</td>\n",
       "      <td>0.333</td>\n",
       "    </tr>\n",
       "    <tr>\n",
       "      <th>2</th>\n",
       "      <td>Anaheim Ducks</td>\n",
       "      <td>Buffalo Sabres</td>\n",
       "      <td>0.143</td>\n",
       "    </tr>\n",
       "    <tr>\n",
       "      <th>3</th>\n",
       "      <td>Anaheim Ducks</td>\n",
       "      <td>Calgary Flames</td>\n",
       "      <td>0.429</td>\n",
       "    </tr>\n",
       "    <tr>\n",
       "      <th>4</th>\n",
       "      <td>Anaheim Ducks</td>\n",
       "      <td>Carolina Hurricanes</td>\n",
       "      <td>0.571</td>\n",
       "    </tr>\n",
       "    <tr>\n",
       "      <th>...</th>\n",
       "      <td>...</td>\n",
       "      <td>...</td>\n",
       "      <td>...</td>\n",
       "    </tr>\n",
       "    <tr>\n",
       "      <th>987</th>\n",
       "      <td>Winnipeg Jets</td>\n",
       "      <td>Tampa Bay Lightning</td>\n",
       "      <td>0.429</td>\n",
       "    </tr>\n",
       "    <tr>\n",
       "      <th>988</th>\n",
       "      <td>Winnipeg Jets</td>\n",
       "      <td>Toronto Maple Leafs</td>\n",
       "      <td>0.529</td>\n",
       "    </tr>\n",
       "    <tr>\n",
       "      <th>989</th>\n",
       "      <td>Winnipeg Jets</td>\n",
       "      <td>Vancouver Canucks</td>\n",
       "      <td>0.684</td>\n",
       "    </tr>\n",
       "    <tr>\n",
       "      <th>990</th>\n",
       "      <td>Winnipeg Jets</td>\n",
       "      <td>Vegas Golden Knights</td>\n",
       "      <td>0.600</td>\n",
       "    </tr>\n",
       "    <tr>\n",
       "      <th>991</th>\n",
       "      <td>Winnipeg Jets</td>\n",
       "      <td>Washington Capitals</td>\n",
       "      <td>0.286</td>\n",
       "    </tr>\n",
       "  </tbody>\n",
       "</table>\n",
       "<p>992 rows × 3 columns</p>\n",
       "</div>"
      ],
      "text/plain": [
       "             team1                 team2  accuracy\n",
       "0    Anaheim Ducks       Arizona Coyotes     0.435\n",
       "1    Anaheim Ducks         Boston Bruins     0.333\n",
       "2    Anaheim Ducks        Buffalo Sabres     0.143\n",
       "3    Anaheim Ducks        Calgary Flames     0.429\n",
       "4    Anaheim Ducks   Carolina Hurricanes     0.571\n",
       "..             ...                   ...       ...\n",
       "987  Winnipeg Jets   Tampa Bay Lightning     0.429\n",
       "988  Winnipeg Jets   Toronto Maple Leafs     0.529\n",
       "989  Winnipeg Jets     Vancouver Canucks     0.684\n",
       "990  Winnipeg Jets  Vegas Golden Knights     0.600\n",
       "991  Winnipeg Jets   Washington Capitals     0.286\n",
       "\n",
       "[992 rows x 3 columns]"
      ]
     },
     "execution_count": 56,
     "metadata": {},
     "output_type": "execute_result"
    }
   ],
   "source": [
    "model_2_acc_df = pd.DataFrame({'team1':team1_accuracies, 'team2':team2_accuracies, 'accuracy':model_2_accuraccies})\n",
    "model_2_acc_df"
   ]
  },
  {
   "cell_type": "code",
   "execution_count": 57,
   "id": "d6e20e93",
   "metadata": {},
   "outputs": [
    {
     "name": "stdout",
     "output_type": "stream",
     "text": [
      "1.0\n",
      "0.0\n"
     ]
    },
    {
     "data": {
      "text/plain": [
       "0.535726814516129"
      ]
     },
     "execution_count": 57,
     "metadata": {},
     "output_type": "execute_result"
    }
   ],
   "source": [
    "print(max(model_2_acc_df['accuracy']))\n",
    "print(min(model_2_acc_df['accuracy']))\n",
    "mean(model_2_acc_df['accuracy'])\n"
   ]
  },
  {
   "cell_type": "code",
   "execution_count": 58,
   "id": "5efb6a85",
   "metadata": {},
   "outputs": [
    {
     "data": {
      "text/html": [
       "<div>\n",
       "<style scoped>\n",
       "    .dataframe tbody tr th:only-of-type {\n",
       "        vertical-align: middle;\n",
       "    }\n",
       "\n",
       "    .dataframe tbody tr th {\n",
       "        vertical-align: top;\n",
       "    }\n",
       "\n",
       "    .dataframe thead th {\n",
       "        text-align: right;\n",
       "    }\n",
       "</style>\n",
       "<table border=\"1\" class=\"dataframe\">\n",
       "  <thead>\n",
       "    <tr style=\"text-align: right;\">\n",
       "      <th></th>\n",
       "      <th>team1</th>\n",
       "      <th>team2</th>\n",
       "      <th>accuracy</th>\n",
       "    </tr>\n",
       "  </thead>\n",
       "  <tbody>\n",
       "    <tr>\n",
       "      <th>32</th>\n",
       "      <td>Arizona Coyotes</td>\n",
       "      <td>Boston Bruins</td>\n",
       "      <td>1.0</td>\n",
       "    </tr>\n",
       "    <tr>\n",
       "      <th>52</th>\n",
       "      <td>Arizona Coyotes</td>\n",
       "      <td>Pittsburgh Penguins</td>\n",
       "      <td>1.0</td>\n",
       "    </tr>\n",
       "    <tr>\n",
       "      <th>63</th>\n",
       "      <td>Boston Bruins</td>\n",
       "      <td>Arizona Coyotes</td>\n",
       "      <td>1.0</td>\n",
       "    </tr>\n",
       "    <tr>\n",
       "      <th>84</th>\n",
       "      <td>Boston Bruins</td>\n",
       "      <td>San Jose Sharks</td>\n",
       "      <td>1.0</td>\n",
       "    </tr>\n",
       "    <tr>\n",
       "      <th>85</th>\n",
       "      <td>Boston Bruins</td>\n",
       "      <td>Seattle Kraken</td>\n",
       "      <td>1.0</td>\n",
       "    </tr>\n",
       "    <tr>\n",
       "      <th>...</th>\n",
       "      <td>...</td>\n",
       "      <td>...</td>\n",
       "      <td>...</td>\n",
       "    </tr>\n",
       "    <tr>\n",
       "      <th>830</th>\n",
       "      <td>Tampa Bay Lightning</td>\n",
       "      <td>Seattle Kraken</td>\n",
       "      <td>1.0</td>\n",
       "    </tr>\n",
       "    <tr>\n",
       "      <th>861</th>\n",
       "      <td>Toronto Maple Leafs</td>\n",
       "      <td>Seattle Kraken</td>\n",
       "      <td>1.0</td>\n",
       "    </tr>\n",
       "    <tr>\n",
       "      <th>892</th>\n",
       "      <td>Vancouver Canucks</td>\n",
       "      <td>Seattle Kraken</td>\n",
       "      <td>1.0</td>\n",
       "    </tr>\n",
       "    <tr>\n",
       "      <th>923</th>\n",
       "      <td>Vegas Golden Knights</td>\n",
       "      <td>Seattle Kraken</td>\n",
       "      <td>1.0</td>\n",
       "    </tr>\n",
       "    <tr>\n",
       "      <th>985</th>\n",
       "      <td>Winnipeg Jets</td>\n",
       "      <td>Seattle Kraken</td>\n",
       "      <td>1.0</td>\n",
       "    </tr>\n",
       "  </tbody>\n",
       "</table>\n",
       "<p>42 rows × 3 columns</p>\n",
       "</div>"
      ],
      "text/plain": [
       "                    team1                team2  accuracy\n",
       "32        Arizona Coyotes        Boston Bruins       1.0\n",
       "52        Arizona Coyotes  Pittsburgh Penguins       1.0\n",
       "63          Boston Bruins      Arizona Coyotes       1.0\n",
       "84          Boston Bruins      San Jose Sharks       1.0\n",
       "85          Boston Bruins       Seattle Kraken       1.0\n",
       "..                    ...                  ...       ...\n",
       "830   Tampa Bay Lightning       Seattle Kraken       1.0\n",
       "861   Toronto Maple Leafs       Seattle Kraken       1.0\n",
       "892     Vancouver Canucks       Seattle Kraken       1.0\n",
       "923  Vegas Golden Knights       Seattle Kraken       1.0\n",
       "985         Winnipeg Jets       Seattle Kraken       1.0\n",
       "\n",
       "[42 rows x 3 columns]"
      ]
     },
     "execution_count": 58,
     "metadata": {},
     "output_type": "execute_result"
    }
   ],
   "source": [
    "model_2_acc_df.loc[model_2_acc_df['accuracy'] == 1]"
   ]
  },
  {
   "cell_type": "code",
   "execution_count": 59,
   "id": "9dd9c9c6",
   "metadata": {},
   "outputs": [
    {
     "data": {
      "text/html": [
       "<div>\n",
       "<style scoped>\n",
       "    .dataframe tbody tr th:only-of-type {\n",
       "        vertical-align: middle;\n",
       "    }\n",
       "\n",
       "    .dataframe tbody tr th {\n",
       "        vertical-align: top;\n",
       "    }\n",
       "\n",
       "    .dataframe thead th {\n",
       "        text-align: right;\n",
       "    }\n",
       "</style>\n",
       "<table border=\"1\" class=\"dataframe\">\n",
       "  <thead>\n",
       "    <tr style=\"text-align: right;\">\n",
       "      <th></th>\n",
       "      <th>team1</th>\n",
       "      <th>team2</th>\n",
       "      <th>accuracy</th>\n",
       "    </tr>\n",
       "  </thead>\n",
       "  <tbody>\n",
       "    <tr>\n",
       "      <th>178</th>\n",
       "      <td>Carolina Hurricanes</td>\n",
       "      <td>Seattle Kraken</td>\n",
       "      <td>0.0</td>\n",
       "    </tr>\n",
       "    <tr>\n",
       "      <th>209</th>\n",
       "      <td>Chicago Blackhawks</td>\n",
       "      <td>Seattle Kraken</td>\n",
       "      <td>0.0</td>\n",
       "    </tr>\n",
       "    <tr>\n",
       "      <th>310</th>\n",
       "      <td>Detroit Red Wings</td>\n",
       "      <td>Anaheim Ducks</td>\n",
       "      <td>0.0</td>\n",
       "    </tr>\n",
       "    <tr>\n",
       "      <th>333</th>\n",
       "      <td>Detroit Red Wings</td>\n",
       "      <td>Seattle Kraken</td>\n",
       "      <td>0.0</td>\n",
       "    </tr>\n",
       "    <tr>\n",
       "      <th>352</th>\n",
       "      <td>Edmonton Oilers</td>\n",
       "      <td>Florida Panthers</td>\n",
       "      <td>0.0</td>\n",
       "    </tr>\n",
       "    <tr>\n",
       "      <th>...</th>\n",
       "      <td>...</td>\n",
       "      <td>...</td>\n",
       "      <td>...</td>\n",
       "    </tr>\n",
       "    <tr>\n",
       "      <th>766</th>\n",
       "      <td>Seattle Kraken</td>\n",
       "      <td>Pittsburgh Penguins</td>\n",
       "      <td>0.0</td>\n",
       "    </tr>\n",
       "    <tr>\n",
       "      <th>773</th>\n",
       "      <td>Seattle Kraken</td>\n",
       "      <td>Washington Capitals</td>\n",
       "      <td>0.0</td>\n",
       "    </tr>\n",
       "    <tr>\n",
       "      <th>777</th>\n",
       "      <td>St. Louis Blues</td>\n",
       "      <td>Boston Bruins</td>\n",
       "      <td>0.0</td>\n",
       "    </tr>\n",
       "    <tr>\n",
       "      <th>836</th>\n",
       "      <td>Tampa Bay Lightning</td>\n",
       "      <td>Winnipeg Jets</td>\n",
       "      <td>0.0</td>\n",
       "    </tr>\n",
       "    <tr>\n",
       "      <th>954</th>\n",
       "      <td>Washington Capitals</td>\n",
       "      <td>Seattle Kraken</td>\n",
       "      <td>0.0</td>\n",
       "    </tr>\n",
       "  </tbody>\n",
       "</table>\n",
       "<p>24 rows × 3 columns</p>\n",
       "</div>"
      ],
      "text/plain": [
       "                   team1                team2  accuracy\n",
       "178  Carolina Hurricanes       Seattle Kraken       0.0\n",
       "209   Chicago Blackhawks       Seattle Kraken       0.0\n",
       "310    Detroit Red Wings        Anaheim Ducks       0.0\n",
       "333    Detroit Red Wings       Seattle Kraken       0.0\n",
       "352      Edmonton Oilers     Florida Panthers       0.0\n",
       "..                   ...                  ...       ...\n",
       "766       Seattle Kraken  Pittsburgh Penguins       0.0\n",
       "773       Seattle Kraken  Washington Capitals       0.0\n",
       "777      St. Louis Blues        Boston Bruins       0.0\n",
       "836  Tampa Bay Lightning        Winnipeg Jets       0.0\n",
       "954  Washington Capitals       Seattle Kraken       0.0\n",
       "\n",
       "[24 rows x 3 columns]"
      ]
     },
     "execution_count": 59,
     "metadata": {},
     "output_type": "execute_result"
    }
   ],
   "source": [
    "model_2_acc_df.loc[model_2_acc_df['accuracy'] == 0]"
   ]
  },
  {
   "cell_type": "markdown",
   "id": "72843121",
   "metadata": {},
   "source": [
    "Since Seattle Kraken only played last season it makes sense that the model perforsm poorly on them, since they did not play many matches"
   ]
  },
  {
   "cell_type": "code",
   "execution_count": 60,
   "id": "8cfb780e",
   "metadata": {},
   "outputs": [
    {
     "data": {
      "text/html": [
       "<div>\n",
       "<style scoped>\n",
       "    .dataframe tbody tr th:only-of-type {\n",
       "        vertical-align: middle;\n",
       "    }\n",
       "\n",
       "    .dataframe tbody tr th {\n",
       "        vertical-align: top;\n",
       "    }\n",
       "\n",
       "    .dataframe thead th {\n",
       "        text-align: right;\n",
       "    }\n",
       "</style>\n",
       "<table border=\"1\" class=\"dataframe\">\n",
       "  <thead>\n",
       "    <tr style=\"text-align: right;\">\n",
       "      <th></th>\n",
       "      <th>team1</th>\n",
       "      <th>team2</th>\n",
       "      <th>accuracy</th>\n",
       "    </tr>\n",
       "  </thead>\n",
       "  <tbody>\n",
       "    <tr>\n",
       "      <th>310</th>\n",
       "      <td>Detroit Red Wings</td>\n",
       "      <td>Anaheim Ducks</td>\n",
       "      <td>0.0</td>\n",
       "    </tr>\n",
       "    <tr>\n",
       "      <th>352</th>\n",
       "      <td>Edmonton Oilers</td>\n",
       "      <td>Florida Panthers</td>\n",
       "      <td>0.0</td>\n",
       "    </tr>\n",
       "    <tr>\n",
       "      <th>678</th>\n",
       "      <td>Philadelphia Flyers</td>\n",
       "      <td>Vancouver Canucks</td>\n",
       "      <td>0.0</td>\n",
       "    </tr>\n",
       "    <tr>\n",
       "      <th>777</th>\n",
       "      <td>St. Louis Blues</td>\n",
       "      <td>Boston Bruins</td>\n",
       "      <td>0.0</td>\n",
       "    </tr>\n",
       "    <tr>\n",
       "      <th>836</th>\n",
       "      <td>Tampa Bay Lightning</td>\n",
       "      <td>Winnipeg Jets</td>\n",
       "      <td>0.0</td>\n",
       "    </tr>\n",
       "  </tbody>\n",
       "</table>\n",
       "</div>"
      ],
      "text/plain": [
       "                   team1              team2  accuracy\n",
       "310    Detroit Red Wings      Anaheim Ducks       0.0\n",
       "352      Edmonton Oilers   Florida Panthers       0.0\n",
       "678  Philadelphia Flyers  Vancouver Canucks       0.0\n",
       "777      St. Louis Blues      Boston Bruins       0.0\n",
       "836  Tampa Bay Lightning      Winnipeg Jets       0.0"
      ]
     },
     "execution_count": 60,
     "metadata": {},
     "output_type": "execute_result"
    }
   ],
   "source": [
    "model_2_acc_df.loc[(model_2_acc_df['accuracy'] == 0) & (model_2_acc_df['team1'] != 'Seattle Kraken') & (model_2_acc_df['team2'] != 'Seattle Kraken')]"
   ]
  },
  {
   "cell_type": "code",
   "execution_count": 61,
   "id": "8730be65",
   "metadata": {},
   "outputs": [
    {
     "data": {
      "text/html": [
       "<div>\n",
       "<style scoped>\n",
       "    .dataframe tbody tr th:only-of-type {\n",
       "        vertical-align: middle;\n",
       "    }\n",
       "\n",
       "    .dataframe tbody tr th {\n",
       "        vertical-align: top;\n",
       "    }\n",
       "\n",
       "    .dataframe thead th {\n",
       "        text-align: right;\n",
       "    }\n",
       "</style>\n",
       "<table border=\"1\" class=\"dataframe\">\n",
       "  <thead>\n",
       "    <tr style=\"text-align: right;\">\n",
       "      <th></th>\n",
       "      <th>team1</th>\n",
       "      <th>team2</th>\n",
       "      <th>accuracy</th>\n",
       "    </tr>\n",
       "  </thead>\n",
       "  <tbody>\n",
       "    <tr>\n",
       "      <th>32</th>\n",
       "      <td>Arizona Coyotes</td>\n",
       "      <td>Boston Bruins</td>\n",
       "      <td>1.0</td>\n",
       "    </tr>\n",
       "    <tr>\n",
       "      <th>52</th>\n",
       "      <td>Arizona Coyotes</td>\n",
       "      <td>Pittsburgh Penguins</td>\n",
       "      <td>1.0</td>\n",
       "    </tr>\n",
       "    <tr>\n",
       "      <th>63</th>\n",
       "      <td>Boston Bruins</td>\n",
       "      <td>Arizona Coyotes</td>\n",
       "      <td>1.0</td>\n",
       "    </tr>\n",
       "    <tr>\n",
       "      <th>84</th>\n",
       "      <td>Boston Bruins</td>\n",
       "      <td>San Jose Sharks</td>\n",
       "      <td>1.0</td>\n",
       "    </tr>\n",
       "    <tr>\n",
       "      <th>140</th>\n",
       "      <td>Calgary Flames</td>\n",
       "      <td>New Jersey Devils</td>\n",
       "      <td>1.0</td>\n",
       "    </tr>\n",
       "    <tr>\n",
       "      <th>205</th>\n",
       "      <td>Chicago Blackhawks</td>\n",
       "      <td>Ottawa Senators</td>\n",
       "      <td>1.0</td>\n",
       "    </tr>\n",
       "    <tr>\n",
       "      <th>226</th>\n",
       "      <td>Colorado Avalanche</td>\n",
       "      <td>Detroit Red Wings</td>\n",
       "      <td>1.0</td>\n",
       "    </tr>\n",
       "    <tr>\n",
       "      <th>317</th>\n",
       "      <td>Detroit Red Wings</td>\n",
       "      <td>Colorado Avalanche</td>\n",
       "      <td>1.0</td>\n",
       "    </tr>\n",
       "    <tr>\n",
       "      <th>428</th>\n",
       "      <td>Los Angeles Kings</td>\n",
       "      <td>Tampa Bay Lightning</td>\n",
       "      <td>1.0</td>\n",
       "    </tr>\n",
       "    <tr>\n",
       "      <th>531</th>\n",
       "      <td>New Jersey Devils</td>\n",
       "      <td>Calgary Flames</td>\n",
       "      <td>1.0</td>\n",
       "    </tr>\n",
       "    <tr>\n",
       "      <th>626</th>\n",
       "      <td>Ottawa Senators</td>\n",
       "      <td>Chicago Blackhawks</td>\n",
       "      <td>1.0</td>\n",
       "    </tr>\n",
       "    <tr>\n",
       "      <th>683</th>\n",
       "      <td>Pittsburgh Penguins</td>\n",
       "      <td>Arizona Coyotes</td>\n",
       "      <td>1.0</td>\n",
       "    </tr>\n",
       "    <tr>\n",
       "      <th>715</th>\n",
       "      <td>San Jose Sharks</td>\n",
       "      <td>Boston Bruins</td>\n",
       "      <td>1.0</td>\n",
       "    </tr>\n",
       "    <tr>\n",
       "      <th>819</th>\n",
       "      <td>Tampa Bay Lightning</td>\n",
       "      <td>Los Angeles Kings</td>\n",
       "      <td>1.0</td>\n",
       "    </tr>\n",
       "  </tbody>\n",
       "</table>\n",
       "</div>"
      ],
      "text/plain": [
       "                   team1                team2  accuracy\n",
       "32       Arizona Coyotes        Boston Bruins       1.0\n",
       "52       Arizona Coyotes  Pittsburgh Penguins       1.0\n",
       "63         Boston Bruins      Arizona Coyotes       1.0\n",
       "84         Boston Bruins      San Jose Sharks       1.0\n",
       "140       Calgary Flames    New Jersey Devils       1.0\n",
       "205   Chicago Blackhawks      Ottawa Senators       1.0\n",
       "226   Colorado Avalanche    Detroit Red Wings       1.0\n",
       "317    Detroit Red Wings   Colorado Avalanche       1.0\n",
       "428    Los Angeles Kings  Tampa Bay Lightning       1.0\n",
       "531    New Jersey Devils       Calgary Flames       1.0\n",
       "626      Ottawa Senators   Chicago Blackhawks       1.0\n",
       "683  Pittsburgh Penguins      Arizona Coyotes       1.0\n",
       "715      San Jose Sharks        Boston Bruins       1.0\n",
       "819  Tampa Bay Lightning    Los Angeles Kings       1.0"
      ]
     },
     "execution_count": 61,
     "metadata": {},
     "output_type": "execute_result"
    }
   ],
   "source": [
    "model_2_acc_df.loc[(model_2_acc_df['accuracy'] == 1) & (model_2_acc_df['team1'] != 'Seattle Kraken') & (model_2_acc_df['team2'] != 'Seattle Kraken')]"
   ]
  },
  {
   "cell_type": "code",
   "execution_count": 62,
   "id": "765c9b7e",
   "metadata": {},
   "outputs": [],
   "source": [
    "model_2_acc_dff = model_2_acc_df.loc[(model_2_acc_df['team1'] != 'Seattle Kraken') & (model_2_acc_df['team2'] != 'Seattle Kraken')]"
   ]
  },
  {
   "cell_type": "code",
   "execution_count": 63,
   "id": "6cdb5b6c",
   "metadata": {},
   "outputs": [
    {
     "name": "stdout",
     "output_type": "stream",
     "text": [
      "1.0\n",
      "0.0\n"
     ]
    },
    {
     "data": {
      "text/plain": [
       "0.5325516129032258"
      ]
     },
     "execution_count": 63,
     "metadata": {},
     "output_type": "execute_result"
    }
   ],
   "source": [
    "print(max(model_2_acc_dff['accuracy']))\n",
    "print(min(model_2_acc_dff['accuracy']))\n",
    "mean(model_2_acc_dff['accuracy'])"
   ]
  },
  {
   "cell_type": "markdown",
   "id": "cbc001bb",
   "metadata": {},
   "source": [
    "It seems to be more stable when we do not take Seattle Kraken into account (accuracies hitting the values 0 and 1 less often); however the average accuracy is almost the same. "
   ]
  },
  {
   "cell_type": "markdown",
   "id": "b68e03c7",
   "metadata": {},
   "source": [
    "The second model has similary accuracy, on average, as the Logistic Regression. Many times, it can even perform better. However, it has varying accuracies, from 0% to 100% and does not appear very stable. Overall, we would not recommend it over the Logistic Regression as it is more of a gamble and the Logistic Regression seems to be performing with consistent results and more reliably."
   ]
  }
 ],
 "metadata": {
  "kernelspec": {
   "display_name": "Python 3 (ipykernel)",
   "language": "python",
   "name": "python3"
  },
  "language_info": {
   "codemirror_mode": {
    "name": "ipython",
    "version": 3
   },
   "file_extension": ".py",
   "mimetype": "text/x-python",
   "name": "python",
   "nbconvert_exporter": "python",
   "pygments_lexer": "ipython3",
   "version": "3.8.12"
  },
  "toc": {
   "base_numbering": 1,
   "nav_menu": {},
   "number_sections": true,
   "sideBar": true,
   "skip_h1_title": false,
   "title_cell": "Table of Contents",
   "title_sidebar": "Contents",
   "toc_cell": true,
   "toc_position": {},
   "toc_section_display": true,
   "toc_window_display": false
  }
 },
 "nbformat": 4,
 "nbformat_minor": 5
}
